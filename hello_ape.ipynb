{
  "cells": [
    {
      "cell_type": "code",
      "execution_count": 1,
      "id": "163d83d4",
      "metadata": {},
      "outputs": [
        {
          "name": "stdout",
          "output_type": "stream",
          "text": [
            "All packages installed\n"
          ]
        }
      ],
      "source": [
        "import pkg_resources\n",
        "try:\n",
        "    pkg_resources.require(['eth-ape','ape-alchemy','ape-etherscan','mplfinance', 'pandas', 'numpy', 'python-dotenv'])\n",
        "    print('All packages installed')\n",
        "except:\n",
        "    !pip3 install eth-ape ape-alchemy ape-etherscan mplfinance pandas numpy python-dotenv"
      ]
    },
    {
      "cell_type": "code",
      "execution_count": 2,
      "id": "b407728b",
      "metadata": {
        "id": "b407728b"
      },
      "outputs": [],
      "source": [
        "import matplotlib.pyplot as plt\n",
        "import mplfinance as mpf\n",
        "import numpy as np\n",
        "import pandas as pd\n",
        "import typing as tp\n",
        "from ape import accounts, chain, Contract, networks"
      ]
    },
    {
      "cell_type": "code",
      "execution_count": 3,
      "id": "u22HsueI9E7Y",
      "metadata": {
        "colab": {
          "base_uri": "https://localhost:8080/"
        },
        "id": "u22HsueI9E7Y",
        "outputId": "2bd1cf8a-53be-47e6-f323-b70f0f11641c"
      },
      "outputs": [
        {
          "data": {
            "text/plain": [
              "True"
            ]
          },
          "execution_count": 3,
          "metadata": {},
          "output_type": "execute_result"
        }
      ],
      "source": [
        "# manually input your keys like this\n",
        "# %env WEB3_ALCHEMY_API_KEY = xxxxxxxxxxxxxxxxxxxxxxxxxxxxxxxx\n",
        "# %env ETHERSCAN_API = xxxxxxxxxxxxxxxxxxxxxxxxxxxxxxxxxx\n",
        "\n",
        "# or load from a separate \".env\" file, which is more secure!\n",
        "from dotenv import load_dotenv\n",
        "load_dotenv()"
      ]
    },
    {
      "cell_type": "code",
      "execution_count": 4,
      "id": "e0a51bfd",
      "metadata": {
        "colab": {
          "base_uri": "https://localhost:8080/"
        },
        "id": "e0a51bfd",
        "outputId": "5687888d-896e-4455-b53c-22b2002f42f3"
      },
      "outputs": [
        {
          "name": "stdout",
          "output_type": "stream",
          "text": [
            "network_choice: ethereum:mainnet:alchemy provider_settings: None\n"
          ]
        },
        {
          "data": {
            "text/plain": [
              "<alchemy chain_id=1>"
            ]
          },
          "execution_count": 4,
          "metadata": {},
          "output_type": "execute_result"
        }
      ],
      "source": [
        "context = networks.parse_network_choice('ethereum:mainnet:alchemy')\n",
        "context.provider.config\n",
        "context.__enter__()"
      ]
    },
    {
      "cell_type": "code",
      "execution_count": 5,
      "id": "069b902c",
      "metadata": {
        "colab": {
          "base_uri": "https://localhost:8080/"
        },
        "id": "069b902c",
        "outputId": "0bda7f20-00da-4c3c-bcaa-c2ad348f8dd9"
      },
      "outputs": [
        {
          "data": {
            "text/plain": [
              "<TestAccount 0x1e59ce931B4CFea3fe4B875411e280e173cB7A9C>"
            ]
          },
          "execution_count": 5,
          "metadata": {},
          "output_type": "execute_result"
        }
      ],
      "source": [
        "# get account 0\n",
        "dev = accounts.test_accounts[0]\n",
        "dev"
      ]
    },
    {
      "cell_type": "code",
      "execution_count": 6,
      "id": "becacf57",
      "metadata": {
        "colab": {
          "base_uri": "https://localhost:8080/"
        },
        "id": "becacf57",
        "outputId": "7d328b5e-926a-480e-ee02-b2de1c40df4f"
      },
      "outputs": [
        {
          "data": {
            "text/plain": [
              "0"
            ]
          },
          "execution_count": 6,
          "metadata": {},
          "output_type": "execute_result"
        }
      ],
      "source": [
        "# get the balance of account 0\n",
        "dev.balance"
      ]
    },
    {
      "cell_type": "code",
      "execution_count": 7,
      "id": "542dac5f",
      "metadata": {
        "colab": {
          "base_uri": "https://localhost:8080/"
        },
        "id": "542dac5f",
        "outputId": "d735edfb-1e3b-4b7d-c574-0102e34c72b1"
      },
      "outputs": [
        {
          "data": {
            "text/plain": [
              "16064431"
            ]
          },
          "execution_count": 7,
          "metadata": {},
          "output_type": "execute_result"
        }
      ],
      "source": [
        "current_block = chain.blocks[-1].number\n",
        "current_block"
      ]
    },
    {
      "cell_type": "code",
      "execution_count": 8,
      "id": "f558faa8",
      "metadata": {
        "colab": {
          "base_uri": "https://localhost:8080/"
        },
        "id": "f558faa8",
        "outputId": "cb48b02b-e8f8-4feb-86f9-51eae31b5551",
        "scrolled": true
      },
      "outputs": [
        {
          "data": {
            "text/plain": [
              "15416431"
            ]
          },
          "execution_count": 8,
          "metadata": {},
          "output_type": "execute_result"
        }
      ],
      "source": [
        "# determine starting block for the query\n",
        "dblocks = int(86400*90/12) # last 180 d\n",
        "start_block = current_block - dblocks\n",
        "start_block"
      ]
    },
    {
      "cell_type": "code",
      "execution_count": 9,
      "id": "5842fa52",
      "metadata": {
        "colab": {
          "base_uri": "https://localhost:8080/"
        },
        "id": "5842fa52",
        "outputId": "23b22b4a-8365-4ff5-be39-e8d6aab458ac"
      },
      "outputs": [
        {
          "data": {
            "text/plain": [
              "<Vyper_contract 0xDC24316b9AE028F1497c275EB9192a3Ea0f67022>"
            ]
          },
          "execution_count": 9,
          "metadata": {},
          "output_type": "execute_result"
        }
      ],
      "source": [
        "curve_steth = Contract(\"0xDC24316b9AE028F1497c275EB9192a3Ea0f67022\")\n",
        "curve_steth"
      ]
    },
    {
      "cell_type": "code",
      "execution_count": 10,
      "id": "0c9c4c61",
      "metadata": {
        "colab": {
          "base_uri": "https://localhost:8080/"
        },
        "id": "0c9c4c61",
        "outputId": "138bdd8e-1015-4728-a939-915c03a4aa86"
      },
      "outputs": [
        {
          "data": {
            "text/plain": [
              "<Lido 0xae7ab96520DE3A18E5e111B5EaAb095312D7fE84>"
            ]
          },
          "execution_count": 10,
          "metadata": {},
          "output_type": "execute_result"
        }
      ],
      "source": [
        "steth = Contract(\"0xae7ab96520DE3A18E5e111B5EaAb095312D7fE84\")\n",
        "steth"
      ]
    },
    {
      "cell_type": "code",
      "execution_count": 11,
      "id": "efed5dfd",
      "metadata": {
        "id": "efed5dfd",
        "outputId": "9ee5d234-b5a8-4774-e210-33fb21b9a267"
      },
      "outputs": [
        {
          "data": {
            "text/plain": [
              "397507691272153177772598"
            ]
          },
          "execution_count": 11,
          "metadata": {},
          "output_type": "execute_result"
        }
      ],
      "source": [
        "steth.balanceOf(curve_steth)"
      ]
    },
    {
      "cell_type": "code",
      "execution_count": 12,
      "id": "7e281650",
      "metadata": {
        "colab": {
          "base_uri": "https://localhost:8080/"
        },
        "id": "7e281650",
        "outputId": "3d54375f-1834-42ce-84ca-c68ad75aea7f"
      },
      "outputs": [
        {
          "data": {
            "text/plain": [
              "TokenExchange(address indexed buyer, int128 sold_id, uint256 tokens_sold, int128 bought_id, uint256 tokens_bought)"
            ]
          },
          "execution_count": 12,
          "metadata": {},
          "output_type": "execute_result"
        }
      ],
      "source": [
        "curve_steth.TokenExchange"
      ]
    },
    {
      "cell_type": "code",
      "execution_count": 13,
      "id": "f39d35af",
      "metadata": {
        "colab": {
          "base_uri": "https://localhost:8080/"
        },
        "id": "f39d35af",
        "outputId": "b15ddcaf-0c05-472c-9462-3b0b47b202ed"
      },
      "outputs": [
        {
          "data": {
            "text/plain": [
              "ape.contracts.base.ContractEvent"
            ]
          },
          "execution_count": 13,
          "metadata": {},
          "output_type": "execute_result"
        }
      ],
      "source": [
        "type(curve_steth.TokenExchange)"
      ]
    },
    {
      "cell_type": "code",
      "execution_count": 14,
      "id": "629e5e2e",
      "metadata": {
        "colab": {
          "base_uri": "https://localhost:8080/",
          "height": 650
        },
        "id": "629e5e2e",
        "outputId": "6ca67714-d718-4393-c36a-dfee8329ce2a"
      },
      "outputs": [
        {
          "name": "stdout",
          "output_type": "stream",
          "text": [
            "INFO: Cache database has not been initialized\n",
            "CPU times: total: 31.2 ms\n",
            "Wall time: 410 ms\n"
          ]
        },
        {
          "data": {
            "text/html": [
              "<div>\n",
              "<style scoped>\n",
              "    .dataframe tbody tr th:only-of-type {\n",
              "        vertical-align: middle;\n",
              "    }\n",
              "\n",
              "    .dataframe tbody tr th {\n",
              "        vertical-align: top;\n",
              "    }\n",
              "\n",
              "    .dataframe thead th {\n",
              "        text-align: right;\n",
              "    }\n",
              "</style>\n",
              "<table border=\"1\" class=\"dataframe\">\n",
              "  <thead>\n",
              "    <tr style=\"text-align: right;\">\n",
              "      <th></th>\n",
              "      <th>event_name</th>\n",
              "      <th>contract_address</th>\n",
              "      <th>event_arguments</th>\n",
              "      <th>transaction_hash</th>\n",
              "      <th>block_number</th>\n",
              "      <th>block_hash</th>\n",
              "      <th>log_index</th>\n",
              "      <th>transaction_index</th>\n",
              "    </tr>\n",
              "  </thead>\n",
              "  <tbody>\n",
              "    <tr>\n",
              "      <th>0</th>\n",
              "      <td>TokenExchange</td>\n",
              "      <td>0xDC24316b9AE028F1497c275EB9192a3Ea0f67022</td>\n",
              "      <td>{'buyer': '0xDEF171Fe48CF0115B1d80b88dc8eAB591...</td>\n",
              "      <td>0x5d3d97db3df55d642f3893a2c402add26c740c746d10...</td>\n",
              "      <td>16061564</td>\n",
              "      <td>0xdb3841bc6b098f04d0e7b241090d880cb46ad5172d11...</td>\n",
              "      <td>124</td>\n",
              "      <td>77</td>\n",
              "    </tr>\n",
              "    <tr>\n",
              "      <th>1</th>\n",
              "      <td>TokenExchange</td>\n",
              "      <td>0xDC24316b9AE028F1497c275EB9192a3Ea0f67022</td>\n",
              "      <td>{'buyer': '0x55B916Ce078eA594c10a874ba67eCc3d6...</td>\n",
              "      <td>0x1ae675673d2538c7ae7434fddf7c075d47d493a899e0...</td>\n",
              "      <td>16061567</td>\n",
              "      <td>0xde0f0c73e09d97e94e9536d56808afdff34223509df2...</td>\n",
              "      <td>75</td>\n",
              "      <td>64</td>\n",
              "    </tr>\n",
              "    <tr>\n",
              "      <th>2</th>\n",
              "      <td>TokenExchange</td>\n",
              "      <td>0xDC24316b9AE028F1497c275EB9192a3Ea0f67022</td>\n",
              "      <td>{'buyer': '0x55B916Ce078eA594c10a874ba67eCc3d6...</td>\n",
              "      <td>0x335d9359aeba49b2b810ce581447008b48ef3ffe0bd5...</td>\n",
              "      <td>16061586</td>\n",
              "      <td>0x5f93454236e90f463215e6c46d8c5713b029119c65fa...</td>\n",
              "      <td>138</td>\n",
              "      <td>69</td>\n",
              "    </tr>\n",
              "    <tr>\n",
              "      <th>3</th>\n",
              "      <td>TokenExchange</td>\n",
              "      <td>0xDC24316b9AE028F1497c275EB9192a3Ea0f67022</td>\n",
              "      <td>{'buyer': '0xBB3bAe51EAa44Cf060Cd60e1A5149ad22...</td>\n",
              "      <td>0x58004bb9b4e6f6d8f1a294419a9c5317975d9f0fa2b7...</td>\n",
              "      <td>16061608</td>\n",
              "      <td>0x9d2f22a1dfd91bd6d894ee56522d1cb05ebf004bee43...</td>\n",
              "      <td>271</td>\n",
              "      <td>149</td>\n",
              "    </tr>\n",
              "    <tr>\n",
              "      <th>4</th>\n",
              "      <td>TokenExchange</td>\n",
              "      <td>0xDC24316b9AE028F1497c275EB9192a3Ea0f67022</td>\n",
              "      <td>{'buyer': '0x53222470CdcfB8081C0E3a50fd106f0D6...</td>\n",
              "      <td>0xba3b45e8d73764a3c469fb851bdbb26094d8175fcf25...</td>\n",
              "      <td>16061630</td>\n",
              "      <td>0x922b263911e89c0274ad4e2ddefc1c27d0f4c95942ef...</td>\n",
              "      <td>10</td>\n",
              "      <td>0</td>\n",
              "    </tr>\n",
              "    <tr>\n",
              "      <th>...</th>\n",
              "      <td>...</td>\n",
              "      <td>...</td>\n",
              "      <td>...</td>\n",
              "      <td>...</td>\n",
              "      <td>...</td>\n",
              "      <td>...</td>\n",
              "      <td>...</td>\n",
              "      <td>...</td>\n",
              "    </tr>\n",
              "    <tr>\n",
              "      <th>62</th>\n",
              "      <td>TokenExchange</td>\n",
              "      <td>0xDC24316b9AE028F1497c275EB9192a3Ea0f67022</td>\n",
              "      <td>{'buyer': '0xDEF171Fe48CF0115B1d80b88dc8eAB591...</td>\n",
              "      <td>0x6d691b802a291725ea54a8780d6a2dc385381ed4abfb...</td>\n",
              "      <td>16063860</td>\n",
              "      <td>0x21b9d0d4233fa2fad4b5d6e10546a0b90b17e56befde...</td>\n",
              "      <td>154</td>\n",
              "      <td>75</td>\n",
              "    </tr>\n",
              "    <tr>\n",
              "      <th>63</th>\n",
              "      <td>TokenExchange</td>\n",
              "      <td>0xDC24316b9AE028F1497c275EB9192a3Ea0f67022</td>\n",
              "      <td>{'buyer': '0x22F9dCF4647084d6C31b2765F6910cd85...</td>\n",
              "      <td>0x32c834dbe6d1602c2b71cdfc610fc6ffb5a1c2d149fc...</td>\n",
              "      <td>16063938</td>\n",
              "      <td>0x53a7deba9e187d07f760c165de195bad894827c33aca...</td>\n",
              "      <td>74</td>\n",
              "      <td>43</td>\n",
              "    </tr>\n",
              "    <tr>\n",
              "      <th>64</th>\n",
              "      <td>TokenExchange</td>\n",
              "      <td>0xDC24316b9AE028F1497c275EB9192a3Ea0f67022</td>\n",
              "      <td>{'buyer': '0x28F7c0614ebbFD1b83fB6803E0CA61453...</td>\n",
              "      <td>0x31263a9bdb491cf684b9d39ede747c2fceb46b145564...</td>\n",
              "      <td>16063985</td>\n",
              "      <td>0x343921860019d638ba4fc3a7f02299f727fba2580ab8...</td>\n",
              "      <td>35</td>\n",
              "      <td>21</td>\n",
              "    </tr>\n",
              "    <tr>\n",
              "      <th>65</th>\n",
              "      <td>TokenExchange</td>\n",
              "      <td>0xDC24316b9AE028F1497c275EB9192a3Ea0f67022</td>\n",
              "      <td>{'buyer': '0x58B03f7Cbf54293a426A8FF4E94d9891A...</td>\n",
              "      <td>0xaaf6ff779abe49415b2061d096cdf16dc6fce85829e0...</td>\n",
              "      <td>16064399</td>\n",
              "      <td>0x842c78b3ec1dddba998396d13e5a239e8ac59ef4e561...</td>\n",
              "      <td>49</td>\n",
              "      <td>28</td>\n",
              "    </tr>\n",
              "    <tr>\n",
              "      <th>66</th>\n",
              "      <td>TokenExchange</td>\n",
              "      <td>0xDC24316b9AE028F1497c275EB9192a3Ea0f67022</td>\n",
              "      <td>{'buyer': '0x22F9dCF4647084d6C31b2765F6910cd85...</td>\n",
              "      <td>0x24dd7efdcb582fbcad8c5bad4358083374d7ba123031...</td>\n",
              "      <td>16064430</td>\n",
              "      <td>0xf24361a5b7ab9d8dc5080994eb966109d234487d341b...</td>\n",
              "      <td>114</td>\n",
              "      <td>78</td>\n",
              "    </tr>\n",
              "  </tbody>\n",
              "</table>\n",
              "<p>67 rows × 8 columns</p>\n",
              "</div>"
            ],
            "text/plain": [
              "       event_name                            contract_address  \\\n",
              "0   TokenExchange  0xDC24316b9AE028F1497c275EB9192a3Ea0f67022   \n",
              "1   TokenExchange  0xDC24316b9AE028F1497c275EB9192a3Ea0f67022   \n",
              "2   TokenExchange  0xDC24316b9AE028F1497c275EB9192a3Ea0f67022   \n",
              "3   TokenExchange  0xDC24316b9AE028F1497c275EB9192a3Ea0f67022   \n",
              "4   TokenExchange  0xDC24316b9AE028F1497c275EB9192a3Ea0f67022   \n",
              "..            ...                                         ...   \n",
              "62  TokenExchange  0xDC24316b9AE028F1497c275EB9192a3Ea0f67022   \n",
              "63  TokenExchange  0xDC24316b9AE028F1497c275EB9192a3Ea0f67022   \n",
              "64  TokenExchange  0xDC24316b9AE028F1497c275EB9192a3Ea0f67022   \n",
              "65  TokenExchange  0xDC24316b9AE028F1497c275EB9192a3Ea0f67022   \n",
              "66  TokenExchange  0xDC24316b9AE028F1497c275EB9192a3Ea0f67022   \n",
              "\n",
              "                                      event_arguments  \\\n",
              "0   {'buyer': '0xDEF171Fe48CF0115B1d80b88dc8eAB591...   \n",
              "1   {'buyer': '0x55B916Ce078eA594c10a874ba67eCc3d6...   \n",
              "2   {'buyer': '0x55B916Ce078eA594c10a874ba67eCc3d6...   \n",
              "3   {'buyer': '0xBB3bAe51EAa44Cf060Cd60e1A5149ad22...   \n",
              "4   {'buyer': '0x53222470CdcfB8081C0E3a50fd106f0D6...   \n",
              "..                                                ...   \n",
              "62  {'buyer': '0xDEF171Fe48CF0115B1d80b88dc8eAB591...   \n",
              "63  {'buyer': '0x22F9dCF4647084d6C31b2765F6910cd85...   \n",
              "64  {'buyer': '0x28F7c0614ebbFD1b83fB6803E0CA61453...   \n",
              "65  {'buyer': '0x58B03f7Cbf54293a426A8FF4E94d9891A...   \n",
              "66  {'buyer': '0x22F9dCF4647084d6C31b2765F6910cd85...   \n",
              "\n",
              "                                     transaction_hash  block_number  \\\n",
              "0   0x5d3d97db3df55d642f3893a2c402add26c740c746d10...      16061564   \n",
              "1   0x1ae675673d2538c7ae7434fddf7c075d47d493a899e0...      16061567   \n",
              "2   0x335d9359aeba49b2b810ce581447008b48ef3ffe0bd5...      16061586   \n",
              "3   0x58004bb9b4e6f6d8f1a294419a9c5317975d9f0fa2b7...      16061608   \n",
              "4   0xba3b45e8d73764a3c469fb851bdbb26094d8175fcf25...      16061630   \n",
              "..                                                ...           ...   \n",
              "62  0x6d691b802a291725ea54a8780d6a2dc385381ed4abfb...      16063860   \n",
              "63  0x32c834dbe6d1602c2b71cdfc610fc6ffb5a1c2d149fc...      16063938   \n",
              "64  0x31263a9bdb491cf684b9d39ede747c2fceb46b145564...      16063985   \n",
              "65  0xaaf6ff779abe49415b2061d096cdf16dc6fce85829e0...      16064399   \n",
              "66  0x24dd7efdcb582fbcad8c5bad4358083374d7ba123031...      16064430   \n",
              "\n",
              "                                           block_hash  log_index  \\\n",
              "0   0xdb3841bc6b098f04d0e7b241090d880cb46ad5172d11...        124   \n",
              "1   0xde0f0c73e09d97e94e9536d56808afdff34223509df2...         75   \n",
              "2   0x5f93454236e90f463215e6c46d8c5713b029119c65fa...        138   \n",
              "3   0x9d2f22a1dfd91bd6d894ee56522d1cb05ebf004bee43...        271   \n",
              "4   0x922b263911e89c0274ad4e2ddefc1c27d0f4c95942ef...         10   \n",
              "..                                                ...        ...   \n",
              "62  0x21b9d0d4233fa2fad4b5d6e10546a0b90b17e56befde...        154   \n",
              "63  0x53a7deba9e187d07f760c165de195bad894827c33aca...         74   \n",
              "64  0x343921860019d638ba4fc3a7f02299f727fba2580ab8...         35   \n",
              "65  0x842c78b3ec1dddba998396d13e5a239e8ac59ef4e561...         49   \n",
              "66  0xf24361a5b7ab9d8dc5080994eb966109d234487d341b...        114   \n",
              "\n",
              "    transaction_index  \n",
              "0                  77  \n",
              "1                  64  \n",
              "2                  69  \n",
              "3                 149  \n",
              "4                   0  \n",
              "..                ...  \n",
              "62                 75  \n",
              "63                 43  \n",
              "64                 21  \n",
              "65                 28  \n",
              "66                 78  \n",
              "\n",
              "[67 rows x 8 columns]"
            ]
          },
          "execution_count": 14,
          "metadata": {},
          "output_type": "execute_result"
        }
      ],
      "source": [
        "%time query_swaps_recent = curve_steth.TokenExchange.query(\"*\", start_block=current_block-3000) # last 10 hr\n",
        "query_swaps_recent"
      ]
    },
    {
      "cell_type": "code",
      "execution_count": 15,
      "id": "12886651",
      "metadata": {
        "id": "12886651",
        "outputId": "50d99287-d668-4427-f540-6aa764d085e8"
      },
      "outputs": [
        {
          "data": {
            "text/plain": [
              "pandas.core.frame.DataFrame"
            ]
          },
          "execution_count": 15,
          "metadata": {},
          "output_type": "execute_result"
        }
      ],
      "source": [
        "# sweet, very cool :)\n",
        "type(query_swaps_recent)"
      ]
    },
    {
      "cell_type": "code",
      "execution_count": 16,
      "id": "61f9b0b8",
      "metadata": {
        "id": "61f9b0b8",
        "outputId": "4e0a4fd2-cb26-428b-f452-e5ba0c0b726c"
      },
      "outputs": [
        {
          "data": {
            "text/plain": [
              "0    {'buyer': '0xDEF171Fe48CF0115B1d80b88dc8eAB591...\n",
              "1    {'buyer': '0x55B916Ce078eA594c10a874ba67eCc3d6...\n",
              "2    {'buyer': '0x55B916Ce078eA594c10a874ba67eCc3d6...\n",
              "3    {'buyer': '0xBB3bAe51EAa44Cf060Cd60e1A5149ad22...\n",
              "4    {'buyer': '0x53222470CdcfB8081C0E3a50fd106f0D6...\n",
              "5    {'buyer': '0xDEF171Fe48CF0115B1d80b88dc8eAB591...\n",
              "6    {'buyer': '0x55B916Ce078eA594c10a874ba67eCc3d6...\n",
              "7    {'buyer': '0xDEF171Fe48CF0115B1d80b88dc8eAB591...\n",
              "8    {'buyer': '0x22F9dCF4647084d6C31b2765F6910cd85...\n",
              "9    {'buyer': '0x53222470CdcfB8081C0E3a50fd106f0D6...\n",
              "Name: event_arguments, dtype: object"
            ]
          },
          "execution_count": 16,
          "metadata": {},
          "output_type": "execute_result"
        }
      ],
      "source": [
        "# take a deeper dive into event arguments column. it's a pandas series\n",
        "query_swaps_recent[\"event_arguments\"][:10]"
      ]
    },
    {
      "cell_type": "code",
      "execution_count": 17,
      "id": "abffe356",
      "metadata": {
        "id": "abffe356",
        "outputId": "3212a68f-93c0-4796-c631-ba82a2674342"
      },
      "outputs": [
        {
          "data": {
            "text/plain": [
              "pandas.core.series.Series"
            ]
          },
          "execution_count": 17,
          "metadata": {},
          "output_type": "execute_result"
        }
      ],
      "source": [
        "type(query_swaps_recent[\"event_arguments\"])"
      ]
    },
    {
      "cell_type": "code",
      "execution_count": 18,
      "id": "2e5079a8",
      "metadata": {
        "id": "2e5079a8",
        "outputId": "18933181-b8a2-414d-be34-4f1829034016"
      },
      "outputs": [
        {
          "data": {
            "text/plain": [
              "{'buyer': '0x22F9dCF4647084d6C31b2765F6910cd85C178C18',\n",
              " 'sold_id': 1,\n",
              " 'tokens_sold': 1580911535521578482,\n",
              " 'bought_id': 0,\n",
              " 'tokens_bought': 1554607356879844910}"
            ]
          },
          "execution_count": 18,
          "metadata": {},
          "output_type": "execute_result"
        }
      ],
      "source": [
        "query_swaps_recent[\"event_arguments\"].iloc[-1]"
      ]
    },
    {
      "cell_type": "code",
      "execution_count": 19,
      "id": "29580294",
      "metadata": {
        "id": "29580294",
        "outputId": "20c9ebf4-9c31-4c21-ed4c-fd3a93e887d6"
      },
      "outputs": [
        {
          "name": "stdout",
          "output_type": "stream",
          "text": [
            "INFO: Alchemy compute units exceeded, retrying, attempt #1/3 in 1000 ms\n",
            "CPU times: total: 5.42 s\n",
            "Wall time: 14.8 s\n"
          ]
        },
        {
          "data": {
            "text/html": [
              "<div>\n",
              "<style scoped>\n",
              "    .dataframe tbody tr th:only-of-type {\n",
              "        vertical-align: middle;\n",
              "    }\n",
              "\n",
              "    .dataframe tbody tr th {\n",
              "        vertical-align: top;\n",
              "    }\n",
              "\n",
              "    .dataframe thead th {\n",
              "        text-align: right;\n",
              "    }\n",
              "</style>\n",
              "<table border=\"1\" class=\"dataframe\">\n",
              "  <thead>\n",
              "    <tr style=\"text-align: right;\">\n",
              "      <th></th>\n",
              "      <th>event_name</th>\n",
              "      <th>contract_address</th>\n",
              "      <th>event_arguments</th>\n",
              "      <th>transaction_hash</th>\n",
              "      <th>block_number</th>\n",
              "      <th>block_hash</th>\n",
              "      <th>log_index</th>\n",
              "      <th>transaction_index</th>\n",
              "    </tr>\n",
              "  </thead>\n",
              "  <tbody>\n",
              "    <tr>\n",
              "      <th>0</th>\n",
              "      <td>TokenExchange</td>\n",
              "      <td>0xDC24316b9AE028F1497c275EB9192a3Ea0f67022</td>\n",
              "      <td>{'buyer': '0xF2F400C138F9fb900576263af0BC7fCde...</td>\n",
              "      <td>0xa89817667ef3c4d29f466ba5d86883d1dc56210dedf5...</td>\n",
              "      <td>15416489</td>\n",
              "      <td>0x44ce4f38f4a0ea1b3c07ce9082b9ca7cfe97be853110...</td>\n",
              "      <td>71</td>\n",
              "      <td>28</td>\n",
              "    </tr>\n",
              "    <tr>\n",
              "      <th>1</th>\n",
              "      <td>TokenExchange</td>\n",
              "      <td>0xDC24316b9AE028F1497c275EB9192a3Ea0f67022</td>\n",
              "      <td>{'buyer': '0xF2F400C138F9fb900576263af0BC7fCde...</td>\n",
              "      <td>0x5c22e81ed97e21ab93b06af3215133c875ec022b629b...</td>\n",
              "      <td>15416496</td>\n",
              "      <td>0x215df2f2e8c19ff1e12646d794a0910abb13bb189728...</td>\n",
              "      <td>150</td>\n",
              "      <td>182</td>\n",
              "    </tr>\n",
              "    <tr>\n",
              "      <th>2</th>\n",
              "      <td>TokenExchange</td>\n",
              "      <td>0xDC24316b9AE028F1497c275EB9192a3Ea0f67022</td>\n",
              "      <td>{'buyer': '0xDEF171Fe48CF0115B1d80b88dc8eAB591...</td>\n",
              "      <td>0x228dda28769f26eb865d6ec35a329ba8b2b17f3d3b05...</td>\n",
              "      <td>15416522</td>\n",
              "      <td>0x2b2d0253b39f1a7b7f43c4e246a71a23854d364a3bac...</td>\n",
              "      <td>209</td>\n",
              "      <td>54</td>\n",
              "    </tr>\n",
              "    <tr>\n",
              "      <th>3</th>\n",
              "      <td>TokenExchange</td>\n",
              "      <td>0xDC24316b9AE028F1497c275EB9192a3Ea0f67022</td>\n",
              "      <td>{'buyer': '0xfA9a30350048B2BF66865ee20363067c6...</td>\n",
              "      <td>0x8bb0c70932180664566842b92957bb7d29904d056b18...</td>\n",
              "      <td>15416552</td>\n",
              "      <td>0x6caa37832b07a45bcd637867e96758dee9f09ccd07ca...</td>\n",
              "      <td>70</td>\n",
              "      <td>36</td>\n",
              "    </tr>\n",
              "    <tr>\n",
              "      <th>4</th>\n",
              "      <td>TokenExchange</td>\n",
              "      <td>0xDC24316b9AE028F1497c275EB9192a3Ea0f67022</td>\n",
              "      <td>{'buyer': '0xB85425D1988A2b8008863Fe24167847d0...</td>\n",
              "      <td>0x6c7ef16f00952810ff4682da863f1c78145a2e20a9c2...</td>\n",
              "      <td>15416798</td>\n",
              "      <td>0x1eec4f4ba55dc3423069c01ff051375161e6671c9137...</td>\n",
              "      <td>241</td>\n",
              "      <td>187</td>\n",
              "    </tr>\n",
              "    <tr>\n",
              "      <th>...</th>\n",
              "      <td>...</td>\n",
              "      <td>...</td>\n",
              "      <td>...</td>\n",
              "      <td>...</td>\n",
              "      <td>...</td>\n",
              "      <td>...</td>\n",
              "      <td>...</td>\n",
              "      <td>...</td>\n",
              "    </tr>\n",
              "    <tr>\n",
              "      <th>18786</th>\n",
              "      <td>TokenExchange</td>\n",
              "      <td>0xDC24316b9AE028F1497c275EB9192a3Ea0f67022</td>\n",
              "      <td>{'buyer': '0xDEF171Fe48CF0115B1d80b88dc8eAB591...</td>\n",
              "      <td>0x6d691b802a291725ea54a8780d6a2dc385381ed4abfb...</td>\n",
              "      <td>16063860</td>\n",
              "      <td>0x21b9d0d4233fa2fad4b5d6e10546a0b90b17e56befde...</td>\n",
              "      <td>154</td>\n",
              "      <td>75</td>\n",
              "    </tr>\n",
              "    <tr>\n",
              "      <th>18787</th>\n",
              "      <td>TokenExchange</td>\n",
              "      <td>0xDC24316b9AE028F1497c275EB9192a3Ea0f67022</td>\n",
              "      <td>{'buyer': '0x22F9dCF4647084d6C31b2765F6910cd85...</td>\n",
              "      <td>0x32c834dbe6d1602c2b71cdfc610fc6ffb5a1c2d149fc...</td>\n",
              "      <td>16063938</td>\n",
              "      <td>0x53a7deba9e187d07f760c165de195bad894827c33aca...</td>\n",
              "      <td>74</td>\n",
              "      <td>43</td>\n",
              "    </tr>\n",
              "    <tr>\n",
              "      <th>18788</th>\n",
              "      <td>TokenExchange</td>\n",
              "      <td>0xDC24316b9AE028F1497c275EB9192a3Ea0f67022</td>\n",
              "      <td>{'buyer': '0x28F7c0614ebbFD1b83fB6803E0CA61453...</td>\n",
              "      <td>0x31263a9bdb491cf684b9d39ede747c2fceb46b145564...</td>\n",
              "      <td>16063985</td>\n",
              "      <td>0x343921860019d638ba4fc3a7f02299f727fba2580ab8...</td>\n",
              "      <td>35</td>\n",
              "      <td>21</td>\n",
              "    </tr>\n",
              "    <tr>\n",
              "      <th>18789</th>\n",
              "      <td>TokenExchange</td>\n",
              "      <td>0xDC24316b9AE028F1497c275EB9192a3Ea0f67022</td>\n",
              "      <td>{'buyer': '0x58B03f7Cbf54293a426A8FF4E94d9891A...</td>\n",
              "      <td>0xaaf6ff779abe49415b2061d096cdf16dc6fce85829e0...</td>\n",
              "      <td>16064399</td>\n",
              "      <td>0x842c78b3ec1dddba998396d13e5a239e8ac59ef4e561...</td>\n",
              "      <td>49</td>\n",
              "      <td>28</td>\n",
              "    </tr>\n",
              "    <tr>\n",
              "      <th>18790</th>\n",
              "      <td>TokenExchange</td>\n",
              "      <td>0xDC24316b9AE028F1497c275EB9192a3Ea0f67022</td>\n",
              "      <td>{'buyer': '0x22F9dCF4647084d6C31b2765F6910cd85...</td>\n",
              "      <td>0x24dd7efdcb582fbcad8c5bad4358083374d7ba123031...</td>\n",
              "      <td>16064430</td>\n",
              "      <td>0xf24361a5b7ab9d8dc5080994eb966109d234487d341b...</td>\n",
              "      <td>114</td>\n",
              "      <td>78</td>\n",
              "    </tr>\n",
              "  </tbody>\n",
              "</table>\n",
              "<p>18791 rows × 8 columns</p>\n",
              "</div>"
            ],
            "text/plain": [
              "          event_name                            contract_address  \\\n",
              "0      TokenExchange  0xDC24316b9AE028F1497c275EB9192a3Ea0f67022   \n",
              "1      TokenExchange  0xDC24316b9AE028F1497c275EB9192a3Ea0f67022   \n",
              "2      TokenExchange  0xDC24316b9AE028F1497c275EB9192a3Ea0f67022   \n",
              "3      TokenExchange  0xDC24316b9AE028F1497c275EB9192a3Ea0f67022   \n",
              "4      TokenExchange  0xDC24316b9AE028F1497c275EB9192a3Ea0f67022   \n",
              "...              ...                                         ...   \n",
              "18786  TokenExchange  0xDC24316b9AE028F1497c275EB9192a3Ea0f67022   \n",
              "18787  TokenExchange  0xDC24316b9AE028F1497c275EB9192a3Ea0f67022   \n",
              "18788  TokenExchange  0xDC24316b9AE028F1497c275EB9192a3Ea0f67022   \n",
              "18789  TokenExchange  0xDC24316b9AE028F1497c275EB9192a3Ea0f67022   \n",
              "18790  TokenExchange  0xDC24316b9AE028F1497c275EB9192a3Ea0f67022   \n",
              "\n",
              "                                         event_arguments  \\\n",
              "0      {'buyer': '0xF2F400C138F9fb900576263af0BC7fCde...   \n",
              "1      {'buyer': '0xF2F400C138F9fb900576263af0BC7fCde...   \n",
              "2      {'buyer': '0xDEF171Fe48CF0115B1d80b88dc8eAB591...   \n",
              "3      {'buyer': '0xfA9a30350048B2BF66865ee20363067c6...   \n",
              "4      {'buyer': '0xB85425D1988A2b8008863Fe24167847d0...   \n",
              "...                                                  ...   \n",
              "18786  {'buyer': '0xDEF171Fe48CF0115B1d80b88dc8eAB591...   \n",
              "18787  {'buyer': '0x22F9dCF4647084d6C31b2765F6910cd85...   \n",
              "18788  {'buyer': '0x28F7c0614ebbFD1b83fB6803E0CA61453...   \n",
              "18789  {'buyer': '0x58B03f7Cbf54293a426A8FF4E94d9891A...   \n",
              "18790  {'buyer': '0x22F9dCF4647084d6C31b2765F6910cd85...   \n",
              "\n",
              "                                        transaction_hash  block_number  \\\n",
              "0      0xa89817667ef3c4d29f466ba5d86883d1dc56210dedf5...      15416489   \n",
              "1      0x5c22e81ed97e21ab93b06af3215133c875ec022b629b...      15416496   \n",
              "2      0x228dda28769f26eb865d6ec35a329ba8b2b17f3d3b05...      15416522   \n",
              "3      0x8bb0c70932180664566842b92957bb7d29904d056b18...      15416552   \n",
              "4      0x6c7ef16f00952810ff4682da863f1c78145a2e20a9c2...      15416798   \n",
              "...                                                  ...           ...   \n",
              "18786  0x6d691b802a291725ea54a8780d6a2dc385381ed4abfb...      16063860   \n",
              "18787  0x32c834dbe6d1602c2b71cdfc610fc6ffb5a1c2d149fc...      16063938   \n",
              "18788  0x31263a9bdb491cf684b9d39ede747c2fceb46b145564...      16063985   \n",
              "18789  0xaaf6ff779abe49415b2061d096cdf16dc6fce85829e0...      16064399   \n",
              "18790  0x24dd7efdcb582fbcad8c5bad4358083374d7ba123031...      16064430   \n",
              "\n",
              "                                              block_hash  log_index  \\\n",
              "0      0x44ce4f38f4a0ea1b3c07ce9082b9ca7cfe97be853110...         71   \n",
              "1      0x215df2f2e8c19ff1e12646d794a0910abb13bb189728...        150   \n",
              "2      0x2b2d0253b39f1a7b7f43c4e246a71a23854d364a3bac...        209   \n",
              "3      0x6caa37832b07a45bcd637867e96758dee9f09ccd07ca...         70   \n",
              "4      0x1eec4f4ba55dc3423069c01ff051375161e6671c9137...        241   \n",
              "...                                                  ...        ...   \n",
              "18786  0x21b9d0d4233fa2fad4b5d6e10546a0b90b17e56befde...        154   \n",
              "18787  0x53a7deba9e187d07f760c165de195bad894827c33aca...         74   \n",
              "18788  0x343921860019d638ba4fc3a7f02299f727fba2580ab8...         35   \n",
              "18789  0x842c78b3ec1dddba998396d13e5a239e8ac59ef4e561...         49   \n",
              "18790  0xf24361a5b7ab9d8dc5080994eb966109d234487d341b...        114   \n",
              "\n",
              "       transaction_index  \n",
              "0                     28  \n",
              "1                    182  \n",
              "2                     54  \n",
              "3                     36  \n",
              "4                    187  \n",
              "...                  ...  \n",
              "18786                 75  \n",
              "18787                 43  \n",
              "18788                 21  \n",
              "18789                 28  \n",
              "18790                 78  \n",
              "\n",
              "[18791 rows x 8 columns]"
            ]
          },
          "execution_count": 19,
          "metadata": {},
          "output_type": "execute_result"
        }
      ],
      "source": [
        "# ok great. let's look a bit further into the past to start_block from above. see how long it takes\n",
        "%time query_swaps_original = curve_steth.TokenExchange.query(\"*\", start_block=start_block)\n",
        "query_swaps_original"
      ]
    },
    {
      "cell_type": "code",
      "execution_count": 20,
      "id": "a09591e3",
      "metadata": {
        "id": "a09591e3"
      },
      "outputs": [],
      "source": [
        "query_swaps = query_swaps_original.copy()"
      ]
    },
    {
      "cell_type": "code",
      "execution_count": 21,
      "id": "11b8e5ca",
      "metadata": {
        "id": "11b8e5ca",
        "outputId": "c8ad66ce-4517-45af-e8fe-29d059cadbd2"
      },
      "outputs": [
        {
          "data": {
            "text/plain": [
              "['0xEeeeeEeeeEeEeeEeEeEeeEEEeeeeEeeeeeeeEEeE',\n",
              " '0xae7ab96520DE3A18E5e111B5EaAb095312D7fE84']"
            ]
          },
          "execution_count": 21,
          "metadata": {},
          "output_type": "execute_result"
        }
      ],
      "source": [
        "# get coin indices:\n",
        "#  - 0 = ETH (native)\n",
        "#  - 1 = stETH\n",
        "coin_indices = [curve_steth.coins(i) for i in range(2)]\n",
        "coin_indices"
      ]
    },
    {
      "cell_type": "code",
      "execution_count": 22,
      "id": "65b54df5",
      "metadata": {
        "id": "65b54df5",
        "outputId": "7f11c1f7-98df-4038-a657-52045e22a692"
      },
      "outputs": [
        {
          "data": {
            "text/plain": [
              "True"
            ]
          },
          "execution_count": 22,
          "metadata": {},
          "output_type": "execute_result"
        }
      ],
      "source": [
        "steth.address == coin_indices[-1]"
      ]
    },
    {
      "cell_type": "code",
      "execution_count": 23,
      "id": "a1801ec8",
      "metadata": {
        "id": "a1801ec8",
        "outputId": "f051e810-5af7-4479-c712-928141bbeba1"
      },
      "outputs": [
        {
          "data": {
            "text/plain": [
              "0.0004"
            ]
          },
          "execution_count": 23,
          "metadata": {},
          "output_type": "execute_result"
        }
      ],
      "source": [
        "# cache the fee to calculate associated price correctly (prior to fees applied)\n",
        "curve_steth_fee = curve_steth.fee() / 1e10  # fee denom is 1e10\n",
        "curve_steth_fee"
      ]
    },
    {
      "cell_type": "code",
      "execution_count": 24,
      "id": "9db01db2",
      "metadata": {
        "id": "9db01db2",
        "outputId": "6d115ba4-cd75-449d-e995-bec06e224a2f"
      },
      "outputs": [
        {
          "name": "stdout",
          "output_type": "stream",
          "text": [
            "last swap event: {'buyer': '0x22F9dCF4647084d6C31b2765F6910cd85C178C18', 'sold_id': 1, 'tokens_sold': 1580911535521578482, 'bought_id': 0, 'tokens_bought': 1554607356879844910}\n",
            "price: 0.9837547293938186\n"
          ]
        }
      ],
      "source": [
        "# if sold_id == 1, then selling stETH for ETH, which is price wanted\n",
        "#  i.e. quote = <ETH>, base = <stETH>\n",
        "last_swap = query_swaps[\"event_arguments\"].iloc[-1]\n",
        "print('last swap event:', last_swap)\n",
        "\n",
        "last_price = last_swap['tokens_bought'] * (1+curve_steth_fee) / last_swap['tokens_sold']\n",
        "if last_swap['sold_id'] == 0:\n",
        "    last_price = 1 / last_price\n",
        "print('price:', last_price)"
      ]
    },
    {
      "cell_type": "code",
      "execution_count": 25,
      "id": "05daceae",
      "metadata": {
        "id": "05daceae"
      },
      "outputs": [],
      "source": [
        "# write a function that iterates over event_arguments to calculate marginal price from last token swap\n",
        "def get_price(event_args: dict) -> float:\n",
        "    price = event_args['tokens_bought'] * (1+curve_steth_fee) / event_args['tokens_sold']\n",
        "    if event_args['sold_id'] == 0:\n",
        "        price = 1 / price\n",
        "    return price"
      ]
    },
    {
      "cell_type": "code",
      "execution_count": 26,
      "id": "8f06306a",
      "metadata": {
        "id": "8f06306a",
        "outputId": "3f5df51d-f7ca-40ec-9832-3127e7504d14"
      },
      "outputs": [
        {
          "data": {
            "text/plain": [
              "True"
            ]
          },
          "execution_count": 26,
          "metadata": {},
          "output_type": "execute_result"
        }
      ],
      "source": [
        "# validate with logic in cell above for last price\n",
        "get_price(query_swaps[\"event_arguments\"].iloc[-1]) == last_price"
      ]
    },
    {
      "cell_type": "code",
      "execution_count": 27,
      "id": "18eede99",
      "metadata": {
        "id": "18eede99",
        "outputId": "93da2148-fed2-4df1-9191-52902d44b568"
      },
      "outputs": [
        {
          "data": {
            "text/html": [
              "<div>\n",
              "<style scoped>\n",
              "    .dataframe tbody tr th:only-of-type {\n",
              "        vertical-align: middle;\n",
              "    }\n",
              "\n",
              "    .dataframe tbody tr th {\n",
              "        vertical-align: top;\n",
              "    }\n",
              "\n",
              "    .dataframe thead th {\n",
              "        text-align: right;\n",
              "    }\n",
              "</style>\n",
              "<table border=\"1\" class=\"dataframe\">\n",
              "  <thead>\n",
              "    <tr style=\"text-align: right;\">\n",
              "      <th></th>\n",
              "      <th>event_name</th>\n",
              "      <th>contract_address</th>\n",
              "      <th>event_arguments</th>\n",
              "      <th>transaction_hash</th>\n",
              "      <th>block_number</th>\n",
              "      <th>block_hash</th>\n",
              "      <th>log_index</th>\n",
              "      <th>transaction_index</th>\n",
              "      <th>price (STETH/ETH)</th>\n",
              "    </tr>\n",
              "  </thead>\n",
              "  <tbody>\n",
              "    <tr>\n",
              "      <th>0</th>\n",
              "      <td>TokenExchange</td>\n",
              "      <td>0xDC24316b9AE028F1497c275EB9192a3Ea0f67022</td>\n",
              "      <td>{'buyer': '0xF2F400C138F9fb900576263af0BC7fCde...</td>\n",
              "      <td>0xa89817667ef3c4d29f466ba5d86883d1dc56210dedf5...</td>\n",
              "      <td>15416489</td>\n",
              "      <td>0x44ce4f38f4a0ea1b3c07ce9082b9ca7cfe97be853110...</td>\n",
              "      <td>71</td>\n",
              "      <td>28</td>\n",
              "      <td>0.970744</td>\n",
              "    </tr>\n",
              "    <tr>\n",
              "      <th>1</th>\n",
              "      <td>TokenExchange</td>\n",
              "      <td>0xDC24316b9AE028F1497c275EB9192a3Ea0f67022</td>\n",
              "      <td>{'buyer': '0xF2F400C138F9fb900576263af0BC7fCde...</td>\n",
              "      <td>0x5c22e81ed97e21ab93b06af3215133c875ec022b629b...</td>\n",
              "      <td>15416496</td>\n",
              "      <td>0x215df2f2e8c19ff1e12646d794a0910abb13bb189728...</td>\n",
              "      <td>150</td>\n",
              "      <td>182</td>\n",
              "      <td>0.970742</td>\n",
              "    </tr>\n",
              "    <tr>\n",
              "      <th>2</th>\n",
              "      <td>TokenExchange</td>\n",
              "      <td>0xDC24316b9AE028F1497c275EB9192a3Ea0f67022</td>\n",
              "      <td>{'buyer': '0xDEF171Fe48CF0115B1d80b88dc8eAB591...</td>\n",
              "      <td>0x228dda28769f26eb865d6ec35a329ba8b2b17f3d3b05...</td>\n",
              "      <td>15416522</td>\n",
              "      <td>0x2b2d0253b39f1a7b7f43c4e246a71a23854d364a3bac...</td>\n",
              "      <td>209</td>\n",
              "      <td>54</td>\n",
              "      <td>0.970576</td>\n",
              "    </tr>\n",
              "    <tr>\n",
              "      <th>3</th>\n",
              "      <td>TokenExchange</td>\n",
              "      <td>0xDC24316b9AE028F1497c275EB9192a3Ea0f67022</td>\n",
              "      <td>{'buyer': '0xfA9a30350048B2BF66865ee20363067c6...</td>\n",
              "      <td>0x8bb0c70932180664566842b92957bb7d29904d056b18...</td>\n",
              "      <td>15416552</td>\n",
              "      <td>0x6caa37832b07a45bcd637867e96758dee9f09ccd07ca...</td>\n",
              "      <td>70</td>\n",
              "      <td>36</td>\n",
              "      <td>0.970576</td>\n",
              "    </tr>\n",
              "    <tr>\n",
              "      <th>4</th>\n",
              "      <td>TokenExchange</td>\n",
              "      <td>0xDC24316b9AE028F1497c275EB9192a3Ea0f67022</td>\n",
              "      <td>{'buyer': '0xB85425D1988A2b8008863Fe24167847d0...</td>\n",
              "      <td>0x6c7ef16f00952810ff4682da863f1c78145a2e20a9c2...</td>\n",
              "      <td>15416798</td>\n",
              "      <td>0x1eec4f4ba55dc3423069c01ff051375161e6671c9137...</td>\n",
              "      <td>241</td>\n",
              "      <td>187</td>\n",
              "      <td>0.970542</td>\n",
              "    </tr>\n",
              "    <tr>\n",
              "      <th>...</th>\n",
              "      <td>...</td>\n",
              "      <td>...</td>\n",
              "      <td>...</td>\n",
              "      <td>...</td>\n",
              "      <td>...</td>\n",
              "      <td>...</td>\n",
              "      <td>...</td>\n",
              "      <td>...</td>\n",
              "      <td>...</td>\n",
              "    </tr>\n",
              "    <tr>\n",
              "      <th>18786</th>\n",
              "      <td>TokenExchange</td>\n",
              "      <td>0xDC24316b9AE028F1497c275EB9192a3Ea0f67022</td>\n",
              "      <td>{'buyer': '0xDEF171Fe48CF0115B1d80b88dc8eAB591...</td>\n",
              "      <td>0x6d691b802a291725ea54a8780d6a2dc385381ed4abfb...</td>\n",
              "      <td>16063860</td>\n",
              "      <td>0x21b9d0d4233fa2fad4b5d6e10546a0b90b17e56befde...</td>\n",
              "      <td>154</td>\n",
              "      <td>75</td>\n",
              "      <td>0.983758</td>\n",
              "    </tr>\n",
              "    <tr>\n",
              "      <th>18787</th>\n",
              "      <td>TokenExchange</td>\n",
              "      <td>0xDC24316b9AE028F1497c275EB9192a3Ea0f67022</td>\n",
              "      <td>{'buyer': '0x22F9dCF4647084d6C31b2765F6910cd85...</td>\n",
              "      <td>0x32c834dbe6d1602c2b71cdfc610fc6ffb5a1c2d149fc...</td>\n",
              "      <td>16063938</td>\n",
              "      <td>0x53a7deba9e187d07f760c165de195bad894827c33aca...</td>\n",
              "      <td>74</td>\n",
              "      <td>43</td>\n",
              "      <td>0.983749</td>\n",
              "    </tr>\n",
              "    <tr>\n",
              "      <th>18788</th>\n",
              "      <td>TokenExchange</td>\n",
              "      <td>0xDC24316b9AE028F1497c275EB9192a3Ea0f67022</td>\n",
              "      <td>{'buyer': '0x28F7c0614ebbFD1b83fB6803E0CA61453...</td>\n",
              "      <td>0x31263a9bdb491cf684b9d39ede747c2fceb46b145564...</td>\n",
              "      <td>16063985</td>\n",
              "      <td>0x343921860019d638ba4fc3a7f02299f727fba2580ab8...</td>\n",
              "      <td>35</td>\n",
              "      <td>21</td>\n",
              "      <td>0.983756</td>\n",
              "    </tr>\n",
              "    <tr>\n",
              "      <th>18789</th>\n",
              "      <td>TokenExchange</td>\n",
              "      <td>0xDC24316b9AE028F1497c275EB9192a3Ea0f67022</td>\n",
              "      <td>{'buyer': '0x58B03f7Cbf54293a426A8FF4E94d9891A...</td>\n",
              "      <td>0xaaf6ff779abe49415b2061d096cdf16dc6fce85829e0...</td>\n",
              "      <td>16064399</td>\n",
              "      <td>0x842c78b3ec1dddba998396d13e5a239e8ac59ef4e561...</td>\n",
              "      <td>49</td>\n",
              "      <td>28</td>\n",
              "      <td>0.983755</td>\n",
              "    </tr>\n",
              "    <tr>\n",
              "      <th>18790</th>\n",
              "      <td>TokenExchange</td>\n",
              "      <td>0xDC24316b9AE028F1497c275EB9192a3Ea0f67022</td>\n",
              "      <td>{'buyer': '0x22F9dCF4647084d6C31b2765F6910cd85...</td>\n",
              "      <td>0x24dd7efdcb582fbcad8c5bad4358083374d7ba123031...</td>\n",
              "      <td>16064430</td>\n",
              "      <td>0xf24361a5b7ab9d8dc5080994eb966109d234487d341b...</td>\n",
              "      <td>114</td>\n",
              "      <td>78</td>\n",
              "      <td>0.983755</td>\n",
              "    </tr>\n",
              "  </tbody>\n",
              "</table>\n",
              "<p>18791 rows × 9 columns</p>\n",
              "</div>"
            ],
            "text/plain": [
              "          event_name                            contract_address  \\\n",
              "0      TokenExchange  0xDC24316b9AE028F1497c275EB9192a3Ea0f67022   \n",
              "1      TokenExchange  0xDC24316b9AE028F1497c275EB9192a3Ea0f67022   \n",
              "2      TokenExchange  0xDC24316b9AE028F1497c275EB9192a3Ea0f67022   \n",
              "3      TokenExchange  0xDC24316b9AE028F1497c275EB9192a3Ea0f67022   \n",
              "4      TokenExchange  0xDC24316b9AE028F1497c275EB9192a3Ea0f67022   \n",
              "...              ...                                         ...   \n",
              "18786  TokenExchange  0xDC24316b9AE028F1497c275EB9192a3Ea0f67022   \n",
              "18787  TokenExchange  0xDC24316b9AE028F1497c275EB9192a3Ea0f67022   \n",
              "18788  TokenExchange  0xDC24316b9AE028F1497c275EB9192a3Ea0f67022   \n",
              "18789  TokenExchange  0xDC24316b9AE028F1497c275EB9192a3Ea0f67022   \n",
              "18790  TokenExchange  0xDC24316b9AE028F1497c275EB9192a3Ea0f67022   \n",
              "\n",
              "                                         event_arguments  \\\n",
              "0      {'buyer': '0xF2F400C138F9fb900576263af0BC7fCde...   \n",
              "1      {'buyer': '0xF2F400C138F9fb900576263af0BC7fCde...   \n",
              "2      {'buyer': '0xDEF171Fe48CF0115B1d80b88dc8eAB591...   \n",
              "3      {'buyer': '0xfA9a30350048B2BF66865ee20363067c6...   \n",
              "4      {'buyer': '0xB85425D1988A2b8008863Fe24167847d0...   \n",
              "...                                                  ...   \n",
              "18786  {'buyer': '0xDEF171Fe48CF0115B1d80b88dc8eAB591...   \n",
              "18787  {'buyer': '0x22F9dCF4647084d6C31b2765F6910cd85...   \n",
              "18788  {'buyer': '0x28F7c0614ebbFD1b83fB6803E0CA61453...   \n",
              "18789  {'buyer': '0x58B03f7Cbf54293a426A8FF4E94d9891A...   \n",
              "18790  {'buyer': '0x22F9dCF4647084d6C31b2765F6910cd85...   \n",
              "\n",
              "                                        transaction_hash  block_number  \\\n",
              "0      0xa89817667ef3c4d29f466ba5d86883d1dc56210dedf5...      15416489   \n",
              "1      0x5c22e81ed97e21ab93b06af3215133c875ec022b629b...      15416496   \n",
              "2      0x228dda28769f26eb865d6ec35a329ba8b2b17f3d3b05...      15416522   \n",
              "3      0x8bb0c70932180664566842b92957bb7d29904d056b18...      15416552   \n",
              "4      0x6c7ef16f00952810ff4682da863f1c78145a2e20a9c2...      15416798   \n",
              "...                                                  ...           ...   \n",
              "18786  0x6d691b802a291725ea54a8780d6a2dc385381ed4abfb...      16063860   \n",
              "18787  0x32c834dbe6d1602c2b71cdfc610fc6ffb5a1c2d149fc...      16063938   \n",
              "18788  0x31263a9bdb491cf684b9d39ede747c2fceb46b145564...      16063985   \n",
              "18789  0xaaf6ff779abe49415b2061d096cdf16dc6fce85829e0...      16064399   \n",
              "18790  0x24dd7efdcb582fbcad8c5bad4358083374d7ba123031...      16064430   \n",
              "\n",
              "                                              block_hash  log_index  \\\n",
              "0      0x44ce4f38f4a0ea1b3c07ce9082b9ca7cfe97be853110...         71   \n",
              "1      0x215df2f2e8c19ff1e12646d794a0910abb13bb189728...        150   \n",
              "2      0x2b2d0253b39f1a7b7f43c4e246a71a23854d364a3bac...        209   \n",
              "3      0x6caa37832b07a45bcd637867e96758dee9f09ccd07ca...         70   \n",
              "4      0x1eec4f4ba55dc3423069c01ff051375161e6671c9137...        241   \n",
              "...                                                  ...        ...   \n",
              "18786  0x21b9d0d4233fa2fad4b5d6e10546a0b90b17e56befde...        154   \n",
              "18787  0x53a7deba9e187d07f760c165de195bad894827c33aca...         74   \n",
              "18788  0x343921860019d638ba4fc3a7f02299f727fba2580ab8...         35   \n",
              "18789  0x842c78b3ec1dddba998396d13e5a239e8ac59ef4e561...         49   \n",
              "18790  0xf24361a5b7ab9d8dc5080994eb966109d234487d341b...        114   \n",
              "\n",
              "       transaction_index  price (STETH/ETH)  \n",
              "0                     28           0.970744  \n",
              "1                    182           0.970742  \n",
              "2                     54           0.970576  \n",
              "3                     36           0.970576  \n",
              "4                    187           0.970542  \n",
              "...                  ...                ...  \n",
              "18786                 75           0.983758  \n",
              "18787                 43           0.983749  \n",
              "18788                 21           0.983756  \n",
              "18789                 28           0.983755  \n",
              "18790                 78           0.983755  \n",
              "\n",
              "[18791 rows x 9 columns]"
            ]
          },
          "execution_count": 27,
          "metadata": {},
          "output_type": "execute_result"
        }
      ],
      "source": [
        "# create new column with marginal price (stETH as base and ETH as quote, so should be at a discount)\n",
        "query_swaps['price (STETH/ETH)'] = query_swaps['event_arguments'].apply(get_price)\n",
        "query_swaps"
      ]
    },
    {
      "cell_type": "code",
      "execution_count": 28,
      "id": "c7301a74",
      "metadata": {
        "id": "c7301a74",
        "outputId": "8d57508d-a764-499a-8ed5-1906b2221983"
      },
      "outputs": [
        {
          "data": {
            "text/plain": [
              "<AxesSubplot:xlabel='block_number'>"
            ]
          },
          "execution_count": 28,
          "metadata": {},
          "output_type": "execute_result"
        },
        {
          "data": {
            "image/png": "[encoded data removed]",
            "text/plain": [
              "<Figure size 432x288 with 1 Axes>"
            ]
          },
          "metadata": {
            "needs_background": "light"
          },
          "output_type": "display_data"
        }
      ],
      "source": [
        "query_swaps.plot(x='block_number', y='price (STETH/ETH)')"
      ]
    },
    {
      "cell_type": "code",
      "execution_count": 29,
      "id": "d4ae9127",
      "metadata": {
        "id": "d4ae9127",
        "outputId": "4cf5cc6c-c872-4e4a-abac-4bcc2384eafd"
      },
      "outputs": [
        {
          "data": {
            "text/plain": [
              "<AxesSubplot:xlabel='block_number'>"
            ]
          },
          "execution_count": 29,
          "metadata": {},
          "output_type": "execute_result"
        },
        {
          "data": {
            "image/png": "[encoded data removed]",
            "text/plain": [
              "<Figure size 432x288 with 1 Axes>"
            ]
          },
          "metadata": {
            "needs_background": "light"
          },
          "output_type": "display_data"
        }
      ],
      "source": [
        "# well those are weird dips and spikes. look at smooth parts\n",
        "query_swaps[(query_swaps['block_number'] > 15100000) & (query_swaps['block_number'] < 15200000)].plot(x='block_number', y='price (STETH/ETH)')"
      ]
    },
    {
      "cell_type": "code",
      "execution_count": 30,
      "id": "0cdc144e",
      "metadata": {
        "id": "0cdc144e",
        "outputId": "1d89b980-e8a3-435a-935d-98deda4c1d4b"
      },
      "outputs": [
        {
          "data": {
            "text/plain": [
              "<AxesSubplot:xlabel='block_number'>"
            ]
          },
          "execution_count": 30,
          "metadata": {},
          "output_type": "execute_result"
        },
        {
          "data": {
            "image/png": "[encoded data removed]",
            "text/plain": [
              "<Figure size 432x288 with 1 Axes>"
            ]
          },
          "metadata": {
            "needs_background": "light"
          },
          "output_type": "display_data"
        }
      ],
      "source": [
        "# weird spike for swaps back to 1.000 exchange rate. should look at this in event df\n",
        "query_swaps[(query_swaps['block_number'] > 15131500) & (query_swaps['block_number'] < 15133000)].plot(x='block_number', y='price (STETH/ETH)')"
      ]
    },
    {
      "cell_type": "code",
      "execution_count": 31,
      "id": "fefbc986",
      "metadata": {
        "id": "fefbc986"
      },
      "outputs": [],
      "source": [
        "# first, unfold event arguments into separate columns\n",
        "def unfold_event_args(key: str, event_args: dict):\n",
        "    return event_args[key]\n",
        "\n",
        "for key in query_swaps.iloc[-1]['event_arguments'].keys():\n",
        "    query_swaps[key] = query_swaps['event_arguments'].apply(lambda ev: unfold_event_args(key, ev))"
      ]
    },
    {
      "cell_type": "code",
      "execution_count": 32,
      "id": "9dc5f51e",
      "metadata": {
        "id": "9dc5f51e",
        "outputId": "5b7bf676-d3a5-4cfa-a73c-e2dca0fea40f"
      },
      "outputs": [
        {
          "data": {
            "text/html": [
              "<div>\n",
              "<style scoped>\n",
              "    .dataframe tbody tr th:only-of-type {\n",
              "        vertical-align: middle;\n",
              "    }\n",
              "\n",
              "    .dataframe tbody tr th {\n",
              "        vertical-align: top;\n",
              "    }\n",
              "\n",
              "    .dataframe thead th {\n",
              "        text-align: right;\n",
              "    }\n",
              "</style>\n",
              "<table border=\"1\" class=\"dataframe\">\n",
              "  <thead>\n",
              "    <tr style=\"text-align: right;\">\n",
              "      <th></th>\n",
              "      <th>event_name</th>\n",
              "      <th>contract_address</th>\n",
              "      <th>event_arguments</th>\n",
              "      <th>transaction_hash</th>\n",
              "      <th>block_number</th>\n",
              "      <th>block_hash</th>\n",
              "      <th>log_index</th>\n",
              "      <th>transaction_index</th>\n",
              "      <th>price (STETH/ETH)</th>\n",
              "      <th>buyer</th>\n",
              "      <th>sold_id</th>\n",
              "      <th>tokens_sold</th>\n",
              "      <th>bought_id</th>\n",
              "      <th>tokens_bought</th>\n",
              "    </tr>\n",
              "  </thead>\n",
              "  <tbody>\n",
              "    <tr>\n",
              "      <th>0</th>\n",
              "      <td>TokenExchange</td>\n",
              "      <td>0xDC24316b9AE028F1497c275EB9192a3Ea0f67022</td>\n",
              "      <td>{'buyer': '0xF2F400C138F9fb900576263af0BC7fCde...</td>\n",
              "      <td>0xa89817667ef3c4d29f466ba5d86883d1dc56210dedf5...</td>\n",
              "      <td>15416489</td>\n",
              "      <td>0x44ce4f38f4a0ea1b3c07ce9082b9ca7cfe97be853110...</td>\n",
              "      <td>71</td>\n",
              "      <td>28</td>\n",
              "      <td>0.970744</td>\n",
              "      <td>0xF2F400C138F9fb900576263af0BC7fCde2B1b8a8</td>\n",
              "      <td>1</td>\n",
              "      <td>1000000000000000000</td>\n",
              "      <td>0</td>\n",
              "      <td>970356027731068435</td>\n",
              "    </tr>\n",
              "    <tr>\n",
              "      <th>1</th>\n",
              "      <td>TokenExchange</td>\n",
              "      <td>0xDC24316b9AE028F1497c275EB9192a3Ea0f67022</td>\n",
              "      <td>{'buyer': '0xF2F400C138F9fb900576263af0BC7fCde...</td>\n",
              "      <td>0x5c22e81ed97e21ab93b06af3215133c875ec022b629b...</td>\n",
              "      <td>15416496</td>\n",
              "      <td>0x215df2f2e8c19ff1e12646d794a0910abb13bb189728...</td>\n",
              "      <td>150</td>\n",
              "      <td>182</td>\n",
              "      <td>0.970742</td>\n",
              "      <td>0xF2F400C138F9fb900576263af0BC7fCde2B1b8a8</td>\n",
              "      <td>1</td>\n",
              "      <td>568987440689300166</td>\n",
              "      <td>0</td>\n",
              "      <td>552118922905163807</td>\n",
              "    </tr>\n",
              "    <tr>\n",
              "      <th>2</th>\n",
              "      <td>TokenExchange</td>\n",
              "      <td>0xDC24316b9AE028F1497c275EB9192a3Ea0f67022</td>\n",
              "      <td>{'buyer': '0xDEF171Fe48CF0115B1d80b88dc8eAB591...</td>\n",
              "      <td>0x228dda28769f26eb865d6ec35a329ba8b2b17f3d3b05...</td>\n",
              "      <td>15416522</td>\n",
              "      <td>0x2b2d0253b39f1a7b7f43c4e246a71a23854d364a3bac...</td>\n",
              "      <td>209</td>\n",
              "      <td>54</td>\n",
              "      <td>0.970576</td>\n",
              "      <td>0xDEF171Fe48CF0115B1d80b88dc8eAB59176FEe57</td>\n",
              "      <td>1</td>\n",
              "      <td>1043552394419972378</td>\n",
              "      <td>0</td>\n",
              "      <td>1012442215896741785</td>\n",
              "    </tr>\n",
              "    <tr>\n",
              "      <th>3</th>\n",
              "      <td>TokenExchange</td>\n",
              "      <td>0xDC24316b9AE028F1497c275EB9192a3Ea0f67022</td>\n",
              "      <td>{'buyer': '0xfA9a30350048B2BF66865ee20363067c6...</td>\n",
              "      <td>0x8bb0c70932180664566842b92957bb7d29904d056b18...</td>\n",
              "      <td>15416552</td>\n",
              "      <td>0x6caa37832b07a45bcd637867e96758dee9f09ccd07ca...</td>\n",
              "      <td>70</td>\n",
              "      <td>36</td>\n",
              "      <td>0.970576</td>\n",
              "      <td>0xfA9a30350048B2BF66865ee20363067c66f67e58</td>\n",
              "      <td>1</td>\n",
              "      <td>1009912983842024676</td>\n",
              "      <td>0</td>\n",
              "      <td>979805332306035750</td>\n",
              "    </tr>\n",
              "    <tr>\n",
              "      <th>4</th>\n",
              "      <td>TokenExchange</td>\n",
              "      <td>0xDC24316b9AE028F1497c275EB9192a3Ea0f67022</td>\n",
              "      <td>{'buyer': '0xB85425D1988A2b8008863Fe24167847d0...</td>\n",
              "      <td>0x6c7ef16f00952810ff4682da863f1c78145a2e20a9c2...</td>\n",
              "      <td>15416798</td>\n",
              "      <td>0x1eec4f4ba55dc3423069c01ff051375161e6671c9137...</td>\n",
              "      <td>241</td>\n",
              "      <td>187</td>\n",
              "      <td>0.970542</td>\n",
              "      <td>0xB85425D1988A2b8008863Fe24167847d0350981a</td>\n",
              "      <td>1</td>\n",
              "      <td>212843572202833648204</td>\n",
              "      <td>0</td>\n",
              "      <td>206491123822738232084</td>\n",
              "    </tr>\n",
              "    <tr>\n",
              "      <th>...</th>\n",
              "      <td>...</td>\n",
              "      <td>...</td>\n",
              "      <td>...</td>\n",
              "      <td>...</td>\n",
              "      <td>...</td>\n",
              "      <td>...</td>\n",
              "      <td>...</td>\n",
              "      <td>...</td>\n",
              "      <td>...</td>\n",
              "      <td>...</td>\n",
              "      <td>...</td>\n",
              "      <td>...</td>\n",
              "      <td>...</td>\n",
              "      <td>...</td>\n",
              "    </tr>\n",
              "    <tr>\n",
              "      <th>18786</th>\n",
              "      <td>TokenExchange</td>\n",
              "      <td>0xDC24316b9AE028F1497c275EB9192a3Ea0f67022</td>\n",
              "      <td>{'buyer': '0xDEF171Fe48CF0115B1d80b88dc8eAB591...</td>\n",
              "      <td>0x6d691b802a291725ea54a8780d6a2dc385381ed4abfb...</td>\n",
              "      <td>16063860</td>\n",
              "      <td>0x21b9d0d4233fa2fad4b5d6e10546a0b90b17e56befde...</td>\n",
              "      <td>154</td>\n",
              "      <td>75</td>\n",
              "      <td>0.983758</td>\n",
              "      <td>0xDEF171Fe48CF0115B1d80b88dc8eAB59176FEe57</td>\n",
              "      <td>0</td>\n",
              "      <td>1986824539956647600</td>\n",
              "      <td>1</td>\n",
              "      <td>2018820130487909105</td>\n",
              "    </tr>\n",
              "    <tr>\n",
              "      <th>18787</th>\n",
              "      <td>TokenExchange</td>\n",
              "      <td>0xDC24316b9AE028F1497c275EB9192a3Ea0f67022</td>\n",
              "      <td>{'buyer': '0x22F9dCF4647084d6C31b2765F6910cd85...</td>\n",
              "      <td>0x32c834dbe6d1602c2b71cdfc610fc6ffb5a1c2d149fc...</td>\n",
              "      <td>16063938</td>\n",
              "      <td>0x53a7deba9e187d07f760c165de195bad894827c33aca...</td>\n",
              "      <td>74</td>\n",
              "      <td>43</td>\n",
              "      <td>0.983749</td>\n",
              "      <td>0x22F9dCF4647084d6C31b2765F6910cd85C178C18</td>\n",
              "      <td>0</td>\n",
              "      <td>2854153967809427</td>\n",
              "      <td>1</td>\n",
              "      <td>2900143422520130</td>\n",
              "    </tr>\n",
              "    <tr>\n",
              "      <th>18788</th>\n",
              "      <td>TokenExchange</td>\n",
              "      <td>0xDC24316b9AE028F1497c275EB9192a3Ea0f67022</td>\n",
              "      <td>{'buyer': '0x28F7c0614ebbFD1b83fB6803E0CA61453...</td>\n",
              "      <td>0x31263a9bdb491cf684b9d39ede747c2fceb46b145564...</td>\n",
              "      <td>16063985</td>\n",
              "      <td>0x343921860019d638ba4fc3a7f02299f727fba2580ab8...</td>\n",
              "      <td>35</td>\n",
              "      <td>21</td>\n",
              "      <td>0.983756</td>\n",
              "      <td>0x28F7c0614ebbFD1b83fB6803E0CA61453D3E32B9</td>\n",
              "      <td>1</td>\n",
              "      <td>1000000000000000000</td>\n",
              "      <td>0</td>\n",
              "      <td>983362439515918813</td>\n",
              "    </tr>\n",
              "    <tr>\n",
              "      <th>18789</th>\n",
              "      <td>TokenExchange</td>\n",
              "      <td>0xDC24316b9AE028F1497c275EB9192a3Ea0f67022</td>\n",
              "      <td>{'buyer': '0x58B03f7Cbf54293a426A8FF4E94d9891A...</td>\n",
              "      <td>0xaaf6ff779abe49415b2061d096cdf16dc6fce85829e0...</td>\n",
              "      <td>16064399</td>\n",
              "      <td>0x842c78b3ec1dddba998396d13e5a239e8ac59ef4e561...</td>\n",
              "      <td>49</td>\n",
              "      <td>28</td>\n",
              "      <td>0.983755</td>\n",
              "      <td>0x58B03f7Cbf54293a426A8FF4E94d9891AFDE7b69</td>\n",
              "      <td>1</td>\n",
              "      <td>3194958453078403806</td>\n",
              "      <td>0</td>\n",
              "      <td>3141800578587178741</td>\n",
              "    </tr>\n",
              "    <tr>\n",
              "      <th>18790</th>\n",
              "      <td>TokenExchange</td>\n",
              "      <td>0xDC24316b9AE028F1497c275EB9192a3Ea0f67022</td>\n",
              "      <td>{'buyer': '0x22F9dCF4647084d6C31b2765F6910cd85...</td>\n",
              "      <td>0x24dd7efdcb582fbcad8c5bad4358083374d7ba123031...</td>\n",
              "      <td>16064430</td>\n",
              "      <td>0xf24361a5b7ab9d8dc5080994eb966109d234487d341b...</td>\n",
              "      <td>114</td>\n",
              "      <td>78</td>\n",
              "      <td>0.983755</td>\n",
              "      <td>0x22F9dCF4647084d6C31b2765F6910cd85C178C18</td>\n",
              "      <td>1</td>\n",
              "      <td>1580911535521578482</td>\n",
              "      <td>0</td>\n",
              "      <td>1554607356879844910</td>\n",
              "    </tr>\n",
              "  </tbody>\n",
              "</table>\n",
              "<p>18791 rows × 14 columns</p>\n",
              "</div>"
            ],
            "text/plain": [
              "          event_name                            contract_address  \\\n",
              "0      TokenExchange  0xDC24316b9AE028F1497c275EB9192a3Ea0f67022   \n",
              "1      TokenExchange  0xDC24316b9AE028F1497c275EB9192a3Ea0f67022   \n",
              "2      TokenExchange  0xDC24316b9AE028F1497c275EB9192a3Ea0f67022   \n",
              "3      TokenExchange  0xDC24316b9AE028F1497c275EB9192a3Ea0f67022   \n",
              "4      TokenExchange  0xDC24316b9AE028F1497c275EB9192a3Ea0f67022   \n",
              "...              ...                                         ...   \n",
              "18786  TokenExchange  0xDC24316b9AE028F1497c275EB9192a3Ea0f67022   \n",
              "18787  TokenExchange  0xDC24316b9AE028F1497c275EB9192a3Ea0f67022   \n",
              "18788  TokenExchange  0xDC24316b9AE028F1497c275EB9192a3Ea0f67022   \n",
              "18789  TokenExchange  0xDC24316b9AE028F1497c275EB9192a3Ea0f67022   \n",
              "18790  TokenExchange  0xDC24316b9AE028F1497c275EB9192a3Ea0f67022   \n",
              "\n",
              "                                         event_arguments  \\\n",
              "0      {'buyer': '0xF2F400C138F9fb900576263af0BC7fCde...   \n",
              "1      {'buyer': '0xF2F400C138F9fb900576263af0BC7fCde...   \n",
              "2      {'buyer': '0xDEF171Fe48CF0115B1d80b88dc8eAB591...   \n",
              "3      {'buyer': '0xfA9a30350048B2BF66865ee20363067c6...   \n",
              "4      {'buyer': '0xB85425D1988A2b8008863Fe24167847d0...   \n",
              "...                                                  ...   \n",
              "18786  {'buyer': '0xDEF171Fe48CF0115B1d80b88dc8eAB591...   \n",
              "18787  {'buyer': '0x22F9dCF4647084d6C31b2765F6910cd85...   \n",
              "18788  {'buyer': '0x28F7c0614ebbFD1b83fB6803E0CA61453...   \n",
              "18789  {'buyer': '0x58B03f7Cbf54293a426A8FF4E94d9891A...   \n",
              "18790  {'buyer': '0x22F9dCF4647084d6C31b2765F6910cd85...   \n",
              "\n",
              "                                        transaction_hash  block_number  \\\n",
              "0      0xa89817667ef3c4d29f466ba5d86883d1dc56210dedf5...      15416489   \n",
              "1      0x5c22e81ed97e21ab93b06af3215133c875ec022b629b...      15416496   \n",
              "2      0x228dda28769f26eb865d6ec35a329ba8b2b17f3d3b05...      15416522   \n",
              "3      0x8bb0c70932180664566842b92957bb7d29904d056b18...      15416552   \n",
              "4      0x6c7ef16f00952810ff4682da863f1c78145a2e20a9c2...      15416798   \n",
              "...                                                  ...           ...   \n",
              "18786  0x6d691b802a291725ea54a8780d6a2dc385381ed4abfb...      16063860   \n",
              "18787  0x32c834dbe6d1602c2b71cdfc610fc6ffb5a1c2d149fc...      16063938   \n",
              "18788  0x31263a9bdb491cf684b9d39ede747c2fceb46b145564...      16063985   \n",
              "18789  0xaaf6ff779abe49415b2061d096cdf16dc6fce85829e0...      16064399   \n",
              "18790  0x24dd7efdcb582fbcad8c5bad4358083374d7ba123031...      16064430   \n",
              "\n",
              "                                              block_hash  log_index  \\\n",
              "0      0x44ce4f38f4a0ea1b3c07ce9082b9ca7cfe97be853110...         71   \n",
              "1      0x215df2f2e8c19ff1e12646d794a0910abb13bb189728...        150   \n",
              "2      0x2b2d0253b39f1a7b7f43c4e246a71a23854d364a3bac...        209   \n",
              "3      0x6caa37832b07a45bcd637867e96758dee9f09ccd07ca...         70   \n",
              "4      0x1eec4f4ba55dc3423069c01ff051375161e6671c9137...        241   \n",
              "...                                                  ...        ...   \n",
              "18786  0x21b9d0d4233fa2fad4b5d6e10546a0b90b17e56befde...        154   \n",
              "18787  0x53a7deba9e187d07f760c165de195bad894827c33aca...         74   \n",
              "18788  0x343921860019d638ba4fc3a7f02299f727fba2580ab8...         35   \n",
              "18789  0x842c78b3ec1dddba998396d13e5a239e8ac59ef4e561...         49   \n",
              "18790  0xf24361a5b7ab9d8dc5080994eb966109d234487d341b...        114   \n",
              "\n",
              "       transaction_index  price (STETH/ETH)  \\\n",
              "0                     28           0.970744   \n",
              "1                    182           0.970742   \n",
              "2                     54           0.970576   \n",
              "3                     36           0.970576   \n",
              "4                    187           0.970542   \n",
              "...                  ...                ...   \n",
              "18786                 75           0.983758   \n",
              "18787                 43           0.983749   \n",
              "18788                 21           0.983756   \n",
              "18789                 28           0.983755   \n",
              "18790                 78           0.983755   \n",
              "\n",
              "                                            buyer  sold_id  \\\n",
              "0      0xF2F400C138F9fb900576263af0BC7fCde2B1b8a8        1   \n",
              "1      0xF2F400C138F9fb900576263af0BC7fCde2B1b8a8        1   \n",
              "2      0xDEF171Fe48CF0115B1d80b88dc8eAB59176FEe57        1   \n",
              "3      0xfA9a30350048B2BF66865ee20363067c66f67e58        1   \n",
              "4      0xB85425D1988A2b8008863Fe24167847d0350981a        1   \n",
              "...                                           ...      ...   \n",
              "18786  0xDEF171Fe48CF0115B1d80b88dc8eAB59176FEe57        0   \n",
              "18787  0x22F9dCF4647084d6C31b2765F6910cd85C178C18        0   \n",
              "18788  0x28F7c0614ebbFD1b83fB6803E0CA61453D3E32B9        1   \n",
              "18789  0x58B03f7Cbf54293a426A8FF4E94d9891AFDE7b69        1   \n",
              "18790  0x22F9dCF4647084d6C31b2765F6910cd85C178C18        1   \n",
              "\n",
              "                 tokens_sold  bought_id          tokens_bought  \n",
              "0        1000000000000000000          0     970356027731068435  \n",
              "1         568987440689300166          0     552118922905163807  \n",
              "2        1043552394419972378          0    1012442215896741785  \n",
              "3        1009912983842024676          0     979805332306035750  \n",
              "4      212843572202833648204          0  206491123822738232084  \n",
              "...                      ...        ...                    ...  \n",
              "18786    1986824539956647600          1    2018820130487909105  \n",
              "18787       2854153967809427          1       2900143422520130  \n",
              "18788    1000000000000000000          0     983362439515918813  \n",
              "18789    3194958453078403806          0    3141800578587178741  \n",
              "18790    1580911535521578482          0    1554607356879844910  \n",
              "\n",
              "[18791 rows x 14 columns]"
            ]
          },
          "execution_count": 32,
          "metadata": {},
          "output_type": "execute_result"
        }
      ],
      "source": [
        "query_swaps"
      ]
    },
    {
      "cell_type": "code",
      "execution_count": 33,
      "id": "d175028b",
      "metadata": {
        "id": "d175028b",
        "outputId": "744a518b-52d4-47f9-8e91-c6223b467eb1"
      },
      "outputs": [
        {
          "data": {
            "text/html": [
              "<div>\n",
              "<style scoped>\n",
              "    .dataframe tbody tr th:only-of-type {\n",
              "        vertical-align: middle;\n",
              "    }\n",
              "\n",
              "    .dataframe tbody tr th {\n",
              "        vertical-align: top;\n",
              "    }\n",
              "\n",
              "    .dataframe thead th {\n",
              "        text-align: right;\n",
              "    }\n",
              "</style>\n",
              "<table border=\"1\" class=\"dataframe\">\n",
              "  <thead>\n",
              "    <tr style=\"text-align: right;\">\n",
              "      <th></th>\n",
              "      <th>event_name</th>\n",
              "      <th>contract_address</th>\n",
              "      <th>event_arguments</th>\n",
              "      <th>transaction_hash</th>\n",
              "      <th>block_number</th>\n",
              "      <th>block_hash</th>\n",
              "      <th>log_index</th>\n",
              "      <th>transaction_index</th>\n",
              "      <th>price (STETH/ETH)</th>\n",
              "      <th>buyer</th>\n",
              "      <th>sold_id</th>\n",
              "      <th>tokens_sold</th>\n",
              "      <th>bought_id</th>\n",
              "      <th>tokens_bought</th>\n",
              "    </tr>\n",
              "  </thead>\n",
              "  <tbody>\n",
              "  </tbody>\n",
              "</table>\n",
              "</div>"
            ],
            "text/plain": [
              "Empty DataFrame\n",
              "Columns: [event_name, contract_address, event_arguments, transaction_hash, block_number, block_hash, log_index, transaction_index, price (STETH/ETH), buyer, sold_id, tokens_sold, bought_id, tokens_bought]\n",
              "Index: []"
            ]
          },
          "execution_count": 33,
          "metadata": {},
          "output_type": "execute_result"
        }
      ],
      "source": [
        "# now, check swaps where price spikes up to 1 between blocks 15132100 and 15132400\n",
        "query_swaps[(query_swaps['block_number'] > 15132100) & (query_swaps['block_number'] < 15132400)]"
      ]
    },
    {
      "cell_type": "code",
      "execution_count": 34,
      "id": "e4b90a3c",
      "metadata": {
        "id": "e4b90a3c"
      },
      "outputs": [],
      "source": [
        "# ahh, ok :) .. someones selling 1 wei into the pool (see e.g. block 15132225)\n",
        "# which is causing rounding issues for price calc"
      ]
    },
    {
      "cell_type": "code",
      "execution_count": 35,
      "id": "20aa3340",
      "metadata": {
        "id": "20aa3340",
        "outputId": "ed9d6d9b-552f-4b76-c450-6492c3a8f975"
      },
      "outputs": [
        {
          "data": {
            "text/plain": [
              "<AxesSubplot:xlabel='block_number'>"
            ]
          },
          "execution_count": 35,
          "metadata": {},
          "output_type": "execute_result"
        },
        {
          "data": {
            "image/png": "[encoded data removed]",
            "text/plain": [
              "<Figure size 432x288 with 1 Axes>"
            ]
          },
          "metadata": {
            "needs_background": "light"
          },
          "output_type": "display_data"
        }
      ],
      "source": [
        "# are the dusting rounding issues also causing those spikes down to zero?\n",
        "# look at first spike down to 0\n",
        "query_swaps[(query_swaps['block_number'] > 14824600) & (query_swaps['block_number'] < 14825000)].plot(x='block_number', y='price (STETH/ETH)')"
      ]
    },
    {
      "cell_type": "code",
      "execution_count": 36,
      "id": "fb6fb625",
      "metadata": {
        "id": "fb6fb625",
        "outputId": "a18a8e86-6598-4d99-cada-5a74a56108b3"
      },
      "outputs": [
        {
          "data": {
            "text/html": [
              "<div>\n",
              "<style scoped>\n",
              "    .dataframe tbody tr th:only-of-type {\n",
              "        vertical-align: middle;\n",
              "    }\n",
              "\n",
              "    .dataframe tbody tr th {\n",
              "        vertical-align: top;\n",
              "    }\n",
              "\n",
              "    .dataframe thead th {\n",
              "        text-align: right;\n",
              "    }\n",
              "</style>\n",
              "<table border=\"1\" class=\"dataframe\">\n",
              "  <thead>\n",
              "    <tr style=\"text-align: right;\">\n",
              "      <th></th>\n",
              "      <th>event_name</th>\n",
              "      <th>contract_address</th>\n",
              "      <th>event_arguments</th>\n",
              "      <th>transaction_hash</th>\n",
              "      <th>block_number</th>\n",
              "      <th>block_hash</th>\n",
              "      <th>log_index</th>\n",
              "      <th>transaction_index</th>\n",
              "      <th>price (STETH/ETH)</th>\n",
              "      <th>buyer</th>\n",
              "      <th>sold_id</th>\n",
              "      <th>tokens_sold</th>\n",
              "      <th>bought_id</th>\n",
              "      <th>tokens_bought</th>\n",
              "    </tr>\n",
              "  </thead>\n",
              "  <tbody>\n",
              "  </tbody>\n",
              "</table>\n",
              "</div>"
            ],
            "text/plain": [
              "Empty DataFrame\n",
              "Columns: [event_name, contract_address, event_arguments, transaction_hash, block_number, block_hash, log_index, transaction_index, price (STETH/ETH), buyer, sold_id, tokens_sold, bought_id, tokens_bought]\n",
              "Index: []"
            ]
          },
          "execution_count": 36,
          "metadata": {},
          "output_type": "execute_result"
        }
      ],
      "source": [
        "# looks like it (see swap at block 14824840); similar rounding issues except rounded down to zero here\n",
        "query_swaps[(query_swaps['block_number'] > 14824600) & (query_swaps['block_number'] < 14825000)]"
      ]
    },
    {
      "cell_type": "code",
      "execution_count": 37,
      "id": "3bdb0eef",
      "metadata": {
        "id": "3bdb0eef"
      },
      "outputs": [],
      "source": [
        "# apply min size to swaps we care about to ignore the dustings\n",
        "min_bought = 0.0001 * 1e18  # trade size must be > 0.0001 ETH \n",
        "query_swaps = query_swaps[query_swaps['tokens_bought'] > min_bought]"
      ]
    },
    {
      "cell_type": "code",
      "execution_count": 38,
      "id": "2103c9da",
      "metadata": {
        "id": "2103c9da",
        "outputId": "c1f8b6bd-5c14-4d22-af0e-dd372d8fd429"
      },
      "outputs": [
        {
          "data": {
            "text/plain": [
              "<AxesSubplot:xlabel='block_number'>"
            ]
          },
          "execution_count": 38,
          "metadata": {},
          "output_type": "execute_result"
        },
        {
          "data": {
            "image/png": "[encoded data removed]",
            "text/plain": [
              "<Figure size 432x288 with 1 Axes>"
            ]
          },
          "metadata": {
            "needs_background": "light"
          },
          "output_type": "display_data"
        }
      ],
      "source": [
        "# nice! way better\n",
        "query_swaps.plot(x='block_number', y='price (STETH/ETH)')"
      ]
    },
    {
      "cell_type": "code",
      "execution_count": 39,
      "id": "b7e9c553",
      "metadata": {
        "id": "b7e9c553"
      },
      "outputs": [],
      "source": [
        "# should smooth the price data out so not so jittery by averaging over 1h for hourly candles.\n",
        "# keep the volumes numbers as well, so make some slight changes to the (tokens_bought, tokens_sold)\n",
        "# columns to instead track (volume_coin0, volume_coin1) at each swap"
      ]
    },
    {
      "cell_type": "code",
      "execution_count": 40,
      "id": "1e4b633a",
      "metadata": {
        "id": "1e4b633a"
      },
      "outputs": [],
      "source": [
        "# write a function that returns volume on coin indices for a swap (normalized by 1e18 for decimals)\n",
        "def get_volume(coin_index: int, x: pd.Series) -> (float, float):\n",
        "    volume = x['tokens_sold'] if x['sold_id'] == coin_index else x['tokens_bought']\n",
        "    volume = volume / 1e18\n",
        "    return volume"
      ]
    },
    {
      "cell_type": "code",
      "execution_count": 41,
      "id": "22a96898",
      "metadata": {
        "id": "22a96898"
      },
      "outputs": [],
      "source": [
        "%%capture\n",
        "for coin_index in range(2):\n",
        "    key = f'volume_coin{coin_index}'\n",
        "    query_swaps[key] = query_swaps.apply(lambda x: get_volume(coin_index, x), axis=1)"
      ]
    },
    {
      "cell_type": "code",
      "execution_count": 42,
      "id": "7420b5bb",
      "metadata": {
        "id": "7420b5bb",
        "outputId": "44b34021-0521-47f1-ad35-b410848ad3c1"
      },
      "outputs": [
        {
          "data": {
            "text/html": [
              "<div>\n",
              "<style scoped>\n",
              "    .dataframe tbody tr th:only-of-type {\n",
              "        vertical-align: middle;\n",
              "    }\n",
              "\n",
              "    .dataframe tbody tr th {\n",
              "        vertical-align: top;\n",
              "    }\n",
              "\n",
              "    .dataframe thead th {\n",
              "        text-align: right;\n",
              "    }\n",
              "</style>\n",
              "<table border=\"1\" class=\"dataframe\">\n",
              "  <thead>\n",
              "    <tr style=\"text-align: right;\">\n",
              "      <th></th>\n",
              "      <th>event_name</th>\n",
              "      <th>contract_address</th>\n",
              "      <th>event_arguments</th>\n",
              "      <th>transaction_hash</th>\n",
              "      <th>block_number</th>\n",
              "      <th>block_hash</th>\n",
              "      <th>log_index</th>\n",
              "      <th>transaction_index</th>\n",
              "      <th>price (STETH/ETH)</th>\n",
              "      <th>buyer</th>\n",
              "      <th>sold_id</th>\n",
              "      <th>tokens_sold</th>\n",
              "      <th>bought_id</th>\n",
              "      <th>tokens_bought</th>\n",
              "      <th>volume_coin0</th>\n",
              "      <th>volume_coin1</th>\n",
              "    </tr>\n",
              "  </thead>\n",
              "  <tbody>\n",
              "    <tr>\n",
              "      <th>0</th>\n",
              "      <td>TokenExchange</td>\n",
              "      <td>0xDC24316b9AE028F1497c275EB9192a3Ea0f67022</td>\n",
              "      <td>{'buyer': '0xF2F400C138F9fb900576263af0BC7fCde...</td>\n",
              "      <td>0xa89817667ef3c4d29f466ba5d86883d1dc56210dedf5...</td>\n",
              "      <td>15416489</td>\n",
              "      <td>0x44ce4f38f4a0ea1b3c07ce9082b9ca7cfe97be853110...</td>\n",
              "      <td>71</td>\n",
              "      <td>28</td>\n",
              "      <td>0.970744</td>\n",
              "      <td>0xF2F400C138F9fb900576263af0BC7fCde2B1b8a8</td>\n",
              "      <td>1</td>\n",
              "      <td>1000000000000000000</td>\n",
              "      <td>0</td>\n",
              "      <td>970356027731068435</td>\n",
              "      <td>0.970356</td>\n",
              "      <td>1.000000</td>\n",
              "    </tr>\n",
              "    <tr>\n",
              "      <th>1</th>\n",
              "      <td>TokenExchange</td>\n",
              "      <td>0xDC24316b9AE028F1497c275EB9192a3Ea0f67022</td>\n",
              "      <td>{'buyer': '0xF2F400C138F9fb900576263af0BC7fCde...</td>\n",
              "      <td>0x5c22e81ed97e21ab93b06af3215133c875ec022b629b...</td>\n",
              "      <td>15416496</td>\n",
              "      <td>0x215df2f2e8c19ff1e12646d794a0910abb13bb189728...</td>\n",
              "      <td>150</td>\n",
              "      <td>182</td>\n",
              "      <td>0.970742</td>\n",
              "      <td>0xF2F400C138F9fb900576263af0BC7fCde2B1b8a8</td>\n",
              "      <td>1</td>\n",
              "      <td>568987440689300166</td>\n",
              "      <td>0</td>\n",
              "      <td>552118922905163807</td>\n",
              "      <td>0.552119</td>\n",
              "      <td>0.568987</td>\n",
              "    </tr>\n",
              "    <tr>\n",
              "      <th>2</th>\n",
              "      <td>TokenExchange</td>\n",
              "      <td>0xDC24316b9AE028F1497c275EB9192a3Ea0f67022</td>\n",
              "      <td>{'buyer': '0xDEF171Fe48CF0115B1d80b88dc8eAB591...</td>\n",
              "      <td>0x228dda28769f26eb865d6ec35a329ba8b2b17f3d3b05...</td>\n",
              "      <td>15416522</td>\n",
              "      <td>0x2b2d0253b39f1a7b7f43c4e246a71a23854d364a3bac...</td>\n",
              "      <td>209</td>\n",
              "      <td>54</td>\n",
              "      <td>0.970576</td>\n",
              "      <td>0xDEF171Fe48CF0115B1d80b88dc8eAB59176FEe57</td>\n",
              "      <td>1</td>\n",
              "      <td>1043552394419972378</td>\n",
              "      <td>0</td>\n",
              "      <td>1012442215896741785</td>\n",
              "      <td>1.012442</td>\n",
              "      <td>1.043552</td>\n",
              "    </tr>\n",
              "    <tr>\n",
              "      <th>3</th>\n",
              "      <td>TokenExchange</td>\n",
              "      <td>0xDC24316b9AE028F1497c275EB9192a3Ea0f67022</td>\n",
              "      <td>{'buyer': '0xfA9a30350048B2BF66865ee20363067c6...</td>\n",
              "      <td>0x8bb0c70932180664566842b92957bb7d29904d056b18...</td>\n",
              "      <td>15416552</td>\n",
              "      <td>0x6caa37832b07a45bcd637867e96758dee9f09ccd07ca...</td>\n",
              "      <td>70</td>\n",
              "      <td>36</td>\n",
              "      <td>0.970576</td>\n",
              "      <td>0xfA9a30350048B2BF66865ee20363067c66f67e58</td>\n",
              "      <td>1</td>\n",
              "      <td>1009912983842024676</td>\n",
              "      <td>0</td>\n",
              "      <td>979805332306035750</td>\n",
              "      <td>0.979805</td>\n",
              "      <td>1.009913</td>\n",
              "    </tr>\n",
              "    <tr>\n",
              "      <th>4</th>\n",
              "      <td>TokenExchange</td>\n",
              "      <td>0xDC24316b9AE028F1497c275EB9192a3Ea0f67022</td>\n",
              "      <td>{'buyer': '0xB85425D1988A2b8008863Fe24167847d0...</td>\n",
              "      <td>0x6c7ef16f00952810ff4682da863f1c78145a2e20a9c2...</td>\n",
              "      <td>15416798</td>\n",
              "      <td>0x1eec4f4ba55dc3423069c01ff051375161e6671c9137...</td>\n",
              "      <td>241</td>\n",
              "      <td>187</td>\n",
              "      <td>0.970542</td>\n",
              "      <td>0xB85425D1988A2b8008863Fe24167847d0350981a</td>\n",
              "      <td>1</td>\n",
              "      <td>212843572202833648204</td>\n",
              "      <td>0</td>\n",
              "      <td>206491123822738232084</td>\n",
              "      <td>206.491124</td>\n",
              "      <td>212.843572</td>\n",
              "    </tr>\n",
              "    <tr>\n",
              "      <th>...</th>\n",
              "      <td>...</td>\n",
              "      <td>...</td>\n",
              "      <td>...</td>\n",
              "      <td>...</td>\n",
              "      <td>...</td>\n",
              "      <td>...</td>\n",
              "      <td>...</td>\n",
              "      <td>...</td>\n",
              "      <td>...</td>\n",
              "      <td>...</td>\n",
              "      <td>...</td>\n",
              "      <td>...</td>\n",
              "      <td>...</td>\n",
              "      <td>...</td>\n",
              "      <td>...</td>\n",
              "      <td>...</td>\n",
              "    </tr>\n",
              "    <tr>\n",
              "      <th>18786</th>\n",
              "      <td>TokenExchange</td>\n",
              "      <td>0xDC24316b9AE028F1497c275EB9192a3Ea0f67022</td>\n",
              "      <td>{'buyer': '0xDEF171Fe48CF0115B1d80b88dc8eAB591...</td>\n",
              "      <td>0x6d691b802a291725ea54a8780d6a2dc385381ed4abfb...</td>\n",
              "      <td>16063860</td>\n",
              "      <td>0x21b9d0d4233fa2fad4b5d6e10546a0b90b17e56befde...</td>\n",
              "      <td>154</td>\n",
              "      <td>75</td>\n",
              "      <td>0.983758</td>\n",
              "      <td>0xDEF171Fe48CF0115B1d80b88dc8eAB59176FEe57</td>\n",
              "      <td>0</td>\n",
              "      <td>1986824539956647600</td>\n",
              "      <td>1</td>\n",
              "      <td>2018820130487909105</td>\n",
              "      <td>1.986825</td>\n",
              "      <td>2.018820</td>\n",
              "    </tr>\n",
              "    <tr>\n",
              "      <th>18787</th>\n",
              "      <td>TokenExchange</td>\n",
              "      <td>0xDC24316b9AE028F1497c275EB9192a3Ea0f67022</td>\n",
              "      <td>{'buyer': '0x22F9dCF4647084d6C31b2765F6910cd85...</td>\n",
              "      <td>0x32c834dbe6d1602c2b71cdfc610fc6ffb5a1c2d149fc...</td>\n",
              "      <td>16063938</td>\n",
              "      <td>0x53a7deba9e187d07f760c165de195bad894827c33aca...</td>\n",
              "      <td>74</td>\n",
              "      <td>43</td>\n",
              "      <td>0.983749</td>\n",
              "      <td>0x22F9dCF4647084d6C31b2765F6910cd85C178C18</td>\n",
              "      <td>0</td>\n",
              "      <td>2854153967809427</td>\n",
              "      <td>1</td>\n",
              "      <td>2900143422520130</td>\n",
              "      <td>0.002854</td>\n",
              "      <td>0.002900</td>\n",
              "    </tr>\n",
              "    <tr>\n",
              "      <th>18788</th>\n",
              "      <td>TokenExchange</td>\n",
              "      <td>0xDC24316b9AE028F1497c275EB9192a3Ea0f67022</td>\n",
              "      <td>{'buyer': '0x28F7c0614ebbFD1b83fB6803E0CA61453...</td>\n",
              "      <td>0x31263a9bdb491cf684b9d39ede747c2fceb46b145564...</td>\n",
              "      <td>16063985</td>\n",
              "      <td>0x343921860019d638ba4fc3a7f02299f727fba2580ab8...</td>\n",
              "      <td>35</td>\n",
              "      <td>21</td>\n",
              "      <td>0.983756</td>\n",
              "      <td>0x28F7c0614ebbFD1b83fB6803E0CA61453D3E32B9</td>\n",
              "      <td>1</td>\n",
              "      <td>1000000000000000000</td>\n",
              "      <td>0</td>\n",
              "      <td>983362439515918813</td>\n",
              "      <td>0.983362</td>\n",
              "      <td>1.000000</td>\n",
              "    </tr>\n",
              "    <tr>\n",
              "      <th>18789</th>\n",
              "      <td>TokenExchange</td>\n",
              "      <td>0xDC24316b9AE028F1497c275EB9192a3Ea0f67022</td>\n",
              "      <td>{'buyer': '0x58B03f7Cbf54293a426A8FF4E94d9891A...</td>\n",
              "      <td>0xaaf6ff779abe49415b2061d096cdf16dc6fce85829e0...</td>\n",
              "      <td>16064399</td>\n",
              "      <td>0x842c78b3ec1dddba998396d13e5a239e8ac59ef4e561...</td>\n",
              "      <td>49</td>\n",
              "      <td>28</td>\n",
              "      <td>0.983755</td>\n",
              "      <td>0x58B03f7Cbf54293a426A8FF4E94d9891AFDE7b69</td>\n",
              "      <td>1</td>\n",
              "      <td>3194958453078403806</td>\n",
              "      <td>0</td>\n",
              "      <td>3141800578587178741</td>\n",
              "      <td>3.141801</td>\n",
              "      <td>3.194958</td>\n",
              "    </tr>\n",
              "    <tr>\n",
              "      <th>18790</th>\n",
              "      <td>TokenExchange</td>\n",
              "      <td>0xDC24316b9AE028F1497c275EB9192a3Ea0f67022</td>\n",
              "      <td>{'buyer': '0x22F9dCF4647084d6C31b2765F6910cd85...</td>\n",
              "      <td>0x24dd7efdcb582fbcad8c5bad4358083374d7ba123031...</td>\n",
              "      <td>16064430</td>\n",
              "      <td>0xf24361a5b7ab9d8dc5080994eb966109d234487d341b...</td>\n",
              "      <td>114</td>\n",
              "      <td>78</td>\n",
              "      <td>0.983755</td>\n",
              "      <td>0x22F9dCF4647084d6C31b2765F6910cd85C178C18</td>\n",
              "      <td>1</td>\n",
              "      <td>1580911535521578482</td>\n",
              "      <td>0</td>\n",
              "      <td>1554607356879844910</td>\n",
              "      <td>1.554607</td>\n",
              "      <td>1.580912</td>\n",
              "    </tr>\n",
              "  </tbody>\n",
              "</table>\n",
              "<p>18679 rows × 16 columns</p>\n",
              "</div>"
            ],
            "text/plain": [
              "          event_name                            contract_address  \\\n",
              "0      TokenExchange  0xDC24316b9AE028F1497c275EB9192a3Ea0f67022   \n",
              "1      TokenExchange  0xDC24316b9AE028F1497c275EB9192a3Ea0f67022   \n",
              "2      TokenExchange  0xDC24316b9AE028F1497c275EB9192a3Ea0f67022   \n",
              "3      TokenExchange  0xDC24316b9AE028F1497c275EB9192a3Ea0f67022   \n",
              "4      TokenExchange  0xDC24316b9AE028F1497c275EB9192a3Ea0f67022   \n",
              "...              ...                                         ...   \n",
              "18786  TokenExchange  0xDC24316b9AE028F1497c275EB9192a3Ea0f67022   \n",
              "18787  TokenExchange  0xDC24316b9AE028F1497c275EB9192a3Ea0f67022   \n",
              "18788  TokenExchange  0xDC24316b9AE028F1497c275EB9192a3Ea0f67022   \n",
              "18789  TokenExchange  0xDC24316b9AE028F1497c275EB9192a3Ea0f67022   \n",
              "18790  TokenExchange  0xDC24316b9AE028F1497c275EB9192a3Ea0f67022   \n",
              "\n",
              "                                         event_arguments  \\\n",
              "0      {'buyer': '0xF2F400C138F9fb900576263af0BC7fCde...   \n",
              "1      {'buyer': '0xF2F400C138F9fb900576263af0BC7fCde...   \n",
              "2      {'buyer': '0xDEF171Fe48CF0115B1d80b88dc8eAB591...   \n",
              "3      {'buyer': '0xfA9a30350048B2BF66865ee20363067c6...   \n",
              "4      {'buyer': '0xB85425D1988A2b8008863Fe24167847d0...   \n",
              "...                                                  ...   \n",
              "18786  {'buyer': '0xDEF171Fe48CF0115B1d80b88dc8eAB591...   \n",
              "18787  {'buyer': '0x22F9dCF4647084d6C31b2765F6910cd85...   \n",
              "18788  {'buyer': '0x28F7c0614ebbFD1b83fB6803E0CA61453...   \n",
              "18789  {'buyer': '0x58B03f7Cbf54293a426A8FF4E94d9891A...   \n",
              "18790  {'buyer': '0x22F9dCF4647084d6C31b2765F6910cd85...   \n",
              "\n",
              "                                        transaction_hash  block_number  \\\n",
              "0      0xa89817667ef3c4d29f466ba5d86883d1dc56210dedf5...      15416489   \n",
              "1      0x5c22e81ed97e21ab93b06af3215133c875ec022b629b...      15416496   \n",
              "2      0x228dda28769f26eb865d6ec35a329ba8b2b17f3d3b05...      15416522   \n",
              "3      0x8bb0c70932180664566842b92957bb7d29904d056b18...      15416552   \n",
              "4      0x6c7ef16f00952810ff4682da863f1c78145a2e20a9c2...      15416798   \n",
              "...                                                  ...           ...   \n",
              "18786  0x6d691b802a291725ea54a8780d6a2dc385381ed4abfb...      16063860   \n",
              "18787  0x32c834dbe6d1602c2b71cdfc610fc6ffb5a1c2d149fc...      16063938   \n",
              "18788  0x31263a9bdb491cf684b9d39ede747c2fceb46b145564...      16063985   \n",
              "18789  0xaaf6ff779abe49415b2061d096cdf16dc6fce85829e0...      16064399   \n",
              "18790  0x24dd7efdcb582fbcad8c5bad4358083374d7ba123031...      16064430   \n",
              "\n",
              "                                              block_hash  log_index  \\\n",
              "0      0x44ce4f38f4a0ea1b3c07ce9082b9ca7cfe97be853110...         71   \n",
              "1      0x215df2f2e8c19ff1e12646d794a0910abb13bb189728...        150   \n",
              "2      0x2b2d0253b39f1a7b7f43c4e246a71a23854d364a3bac...        209   \n",
              "3      0x6caa37832b07a45bcd637867e96758dee9f09ccd07ca...         70   \n",
              "4      0x1eec4f4ba55dc3423069c01ff051375161e6671c9137...        241   \n",
              "...                                                  ...        ...   \n",
              "18786  0x21b9d0d4233fa2fad4b5d6e10546a0b90b17e56befde...        154   \n",
              "18787  0x53a7deba9e187d07f760c165de195bad894827c33aca...         74   \n",
              "18788  0x343921860019d638ba4fc3a7f02299f727fba2580ab8...         35   \n",
              "18789  0x842c78b3ec1dddba998396d13e5a239e8ac59ef4e561...         49   \n",
              "18790  0xf24361a5b7ab9d8dc5080994eb966109d234487d341b...        114   \n",
              "\n",
              "       transaction_index  price (STETH/ETH)  \\\n",
              "0                     28           0.970744   \n",
              "1                    182           0.970742   \n",
              "2                     54           0.970576   \n",
              "3                     36           0.970576   \n",
              "4                    187           0.970542   \n",
              "...                  ...                ...   \n",
              "18786                 75           0.983758   \n",
              "18787                 43           0.983749   \n",
              "18788                 21           0.983756   \n",
              "18789                 28           0.983755   \n",
              "18790                 78           0.983755   \n",
              "\n",
              "                                            buyer  sold_id  \\\n",
              "0      0xF2F400C138F9fb900576263af0BC7fCde2B1b8a8        1   \n",
              "1      0xF2F400C138F9fb900576263af0BC7fCde2B1b8a8        1   \n",
              "2      0xDEF171Fe48CF0115B1d80b88dc8eAB59176FEe57        1   \n",
              "3      0xfA9a30350048B2BF66865ee20363067c66f67e58        1   \n",
              "4      0xB85425D1988A2b8008863Fe24167847d0350981a        1   \n",
              "...                                           ...      ...   \n",
              "18786  0xDEF171Fe48CF0115B1d80b88dc8eAB59176FEe57        0   \n",
              "18787  0x22F9dCF4647084d6C31b2765F6910cd85C178C18        0   \n",
              "18788  0x28F7c0614ebbFD1b83fB6803E0CA61453D3E32B9        1   \n",
              "18789  0x58B03f7Cbf54293a426A8FF4E94d9891AFDE7b69        1   \n",
              "18790  0x22F9dCF4647084d6C31b2765F6910cd85C178C18        1   \n",
              "\n",
              "                 tokens_sold  bought_id          tokens_bought  volume_coin0  \\\n",
              "0        1000000000000000000          0     970356027731068435      0.970356   \n",
              "1         568987440689300166          0     552118922905163807      0.552119   \n",
              "2        1043552394419972378          0    1012442215896741785      1.012442   \n",
              "3        1009912983842024676          0     979805332306035750      0.979805   \n",
              "4      212843572202833648204          0  206491123822738232084    206.491124   \n",
              "...                      ...        ...                    ...           ...   \n",
              "18786    1986824539956647600          1    2018820130487909105      1.986825   \n",
              "18787       2854153967809427          1       2900143422520130      0.002854   \n",
              "18788    1000000000000000000          0     983362439515918813      0.983362   \n",
              "18789    3194958453078403806          0    3141800578587178741      3.141801   \n",
              "18790    1580911535521578482          0    1554607356879844910      1.554607   \n",
              "\n",
              "       volume_coin1  \n",
              "0          1.000000  \n",
              "1          0.568987  \n",
              "2          1.043552  \n",
              "3          1.009913  \n",
              "4        212.843572  \n",
              "...             ...  \n",
              "18786      2.018820  \n",
              "18787      0.002900  \n",
              "18788      1.000000  \n",
              "18789      3.194958  \n",
              "18790      1.580912  \n",
              "\n",
              "[18679 rows x 16 columns]"
            ]
          },
          "execution_count": 42,
          "metadata": {},
          "output_type": "execute_result"
        }
      ],
      "source": [
        "query_swaps"
      ]
    },
    {
      "cell_type": "code",
      "execution_count": 43,
      "id": "8d21ac2c",
      "metadata": {
        "id": "8d21ac2c"
      },
      "outputs": [],
      "source": [
        "# prep for smoothing by setting index to block number (choose last swap in block to represent price at block)\n",
        "query_swaps_filtered = query_swaps.filter(['block_number', 'price (STETH/ETH)', 'volume_coin0', 'volume_coin1']).drop_duplicates('block_number', keep='last')\n",
        "query_swaps_filtered = query_swaps_filtered.set_index('block_number')"
      ]
    },
    {
      "cell_type": "code",
      "execution_count": 44,
      "id": "09a61518",
      "metadata": {
        "id": "09a61518"
      },
      "outputs": [],
      "source": [
        "# reindex by block number (1 block steps) and ffill price values \n",
        "new_index = range(query_swaps_filtered.index.min(), query_swaps_filtered.index.max()+1)\n",
        "query_swaps_filtered = query_swaps_filtered.reindex(new_index).ffill()"
      ]
    },
    {
      "cell_type": "code",
      "execution_count": 45,
      "id": "f175d460",
      "metadata": {
        "id": "f175d460"
      },
      "outputs": [],
      "source": [
        "# separate data into windows of 260 blocks (~ 1h)\n",
        "# remove first (last_block - first_block) % window rows so even candle windows\n",
        "window = 260\n",
        "first_index = (query_swaps_filtered.index[-1] - query_swaps_filtered.index[0]) % window\n",
        "query_swaps_filtered = query_swaps_filtered[first_index:]"
      ]
    },
    {
      "cell_type": "code",
      "execution_count": 46,
      "id": "60225e2c",
      "metadata": {
        "id": "60225e2c",
        "outputId": "1b4f918d-03ce-439d-9b16-eb666e71e303"
      },
      "outputs": [
        {
          "data": {
            "text/html": [
              "<div>\n",
              "<style scoped>\n",
              "    .dataframe tbody tr th:only-of-type {\n",
              "        vertical-align: middle;\n",
              "    }\n",
              "\n",
              "    .dataframe tbody tr th {\n",
              "        vertical-align: top;\n",
              "    }\n",
              "\n",
              "    .dataframe thead tr th {\n",
              "        text-align: left;\n",
              "    }\n",
              "\n",
              "    .dataframe thead tr:last-of-type th {\n",
              "        text-align: right;\n",
              "    }\n",
              "</style>\n",
              "<table border=\"1\" class=\"dataframe\">\n",
              "  <thead>\n",
              "    <tr>\n",
              "      <th></th>\n",
              "      <th colspan=\"5\" halign=\"left\">price (STETH/ETH)</th>\n",
              "      <th>volume_coin0</th>\n",
              "      <th>volume_coin1</th>\n",
              "    </tr>\n",
              "    <tr>\n",
              "      <th></th>\n",
              "      <th>first</th>\n",
              "      <th>max</th>\n",
              "      <th>min</th>\n",
              "      <th>last</th>\n",
              "      <th>mean</th>\n",
              "      <th>sum</th>\n",
              "      <th>sum</th>\n",
              "    </tr>\n",
              "    <tr>\n",
              "      <th>block_number</th>\n",
              "      <th></th>\n",
              "      <th></th>\n",
              "      <th></th>\n",
              "      <th></th>\n",
              "      <th></th>\n",
              "      <th></th>\n",
              "      <th></th>\n",
              "    </tr>\n",
              "  </thead>\n",
              "  <tbody>\n",
              "    <tr>\n",
              "      <th>15416510</th>\n",
              "      <td>0.970742</td>\n",
              "      <td>0.970742</td>\n",
              "      <td>0.970576</td>\n",
              "      <td>0.970576</td>\n",
              "      <td>0.970586</td>\n",
              "      <td>182.009883</td>\n",
              "      <td>187.601543</td>\n",
              "    </tr>\n",
              "    <tr>\n",
              "      <th>15416770</th>\n",
              "      <td>0.970576</td>\n",
              "      <td>0.970576</td>\n",
              "      <td>0.970453</td>\n",
              "      <td>0.970474</td>\n",
              "      <td>0.970511</td>\n",
              "      <td>4276.737389</td>\n",
              "      <td>4407.607879</td>\n",
              "    </tr>\n",
              "    <tr>\n",
              "      <th>15417030</th>\n",
              "      <td>0.970474</td>\n",
              "      <td>0.970560</td>\n",
              "      <td>0.970474</td>\n",
              "      <td>0.970560</td>\n",
              "      <td>0.970511</td>\n",
              "      <td>3824.591525</td>\n",
              "      <td>3939.235397</td>\n",
              "    </tr>\n",
              "    <tr>\n",
              "      <th>15417290</th>\n",
              "      <td>0.970560</td>\n",
              "      <td>0.970565</td>\n",
              "      <td>0.970482</td>\n",
              "      <td>0.970482</td>\n",
              "      <td>0.970541</td>\n",
              "      <td>5741.830617</td>\n",
              "      <td>5918.040179</td>\n",
              "    </tr>\n",
              "    <tr>\n",
              "      <th>15417550</th>\n",
              "      <td>0.970482</td>\n",
              "      <td>0.970482</td>\n",
              "      <td>0.970482</td>\n",
              "      <td>0.970482</td>\n",
              "      <td>0.970482</td>\n",
              "      <td>203.718975</td>\n",
              "      <td>209.888565</td>\n",
              "    </tr>\n",
              "    <tr>\n",
              "      <th>...</th>\n",
              "      <td>...</td>\n",
              "      <td>...</td>\n",
              "      <td>...</td>\n",
              "      <td>...</td>\n",
              "      <td>...</td>\n",
              "      <td>...</td>\n",
              "      <td>...</td>\n",
              "    </tr>\n",
              "    <tr>\n",
              "      <th>16063390</th>\n",
              "      <td>0.983610</td>\n",
              "      <td>0.983611</td>\n",
              "      <td>0.983610</td>\n",
              "      <td>0.983611</td>\n",
              "      <td>0.983610</td>\n",
              "      <td>145.161982</td>\n",
              "      <td>147.555331</td>\n",
              "    </tr>\n",
              "    <tr>\n",
              "      <th>16063650</th>\n",
              "      <td>0.983611</td>\n",
              "      <td>0.983759</td>\n",
              "      <td>0.983611</td>\n",
              "      <td>0.983758</td>\n",
              "      <td>0.983733</td>\n",
              "      <td>36398.597003</td>\n",
              "      <td>36987.950404</td>\n",
              "    </tr>\n",
              "    <tr>\n",
              "      <th>16063910</th>\n",
              "      <td>0.983758</td>\n",
              "      <td>0.983758</td>\n",
              "      <td>0.983749</td>\n",
              "      <td>0.983756</td>\n",
              "      <td>0.983755</td>\n",
              "      <td>347.816886</td>\n",
              "      <td>353.575013</td>\n",
              "    </tr>\n",
              "    <tr>\n",
              "      <th>16064170</th>\n",
              "      <td>0.983756</td>\n",
              "      <td>0.983756</td>\n",
              "      <td>0.983756</td>\n",
              "      <td>0.983756</td>\n",
              "      <td>0.983756</td>\n",
              "      <td>255.674234</td>\n",
              "      <td>260.000000</td>\n",
              "    </tr>\n",
              "    <tr>\n",
              "      <th>16064430</th>\n",
              "      <td>0.983756</td>\n",
              "      <td>0.983756</td>\n",
              "      <td>0.983755</td>\n",
              "      <td>0.983755</td>\n",
              "      <td>0.983756</td>\n",
              "      <td>137.301560</td>\n",
              "      <td>139.624624</td>\n",
              "    </tr>\n",
              "  </tbody>\n",
              "</table>\n",
              "<p>2493 rows × 7 columns</p>\n",
              "</div>"
            ],
            "text/plain": [
              "             price (STETH/ETH)                                          \\\n",
              "                         first       max       min      last      mean   \n",
              "block_number                                                             \n",
              "15416510              0.970742  0.970742  0.970576  0.970576  0.970586   \n",
              "15416770              0.970576  0.970576  0.970453  0.970474  0.970511   \n",
              "15417030              0.970474  0.970560  0.970474  0.970560  0.970511   \n",
              "15417290              0.970560  0.970565  0.970482  0.970482  0.970541   \n",
              "15417550              0.970482  0.970482  0.970482  0.970482  0.970482   \n",
              "...                        ...       ...       ...       ...       ...   \n",
              "16063390              0.983610  0.983611  0.983610  0.983611  0.983610   \n",
              "16063650              0.983611  0.983759  0.983611  0.983758  0.983733   \n",
              "16063910              0.983758  0.983758  0.983749  0.983756  0.983755   \n",
              "16064170              0.983756  0.983756  0.983756  0.983756  0.983756   \n",
              "16064430              0.983756  0.983756  0.983755  0.983755  0.983756   \n",
              "\n",
              "              volume_coin0  volume_coin1  \n",
              "                       sum           sum  \n",
              "block_number                              \n",
              "15416510        182.009883    187.601543  \n",
              "15416770       4276.737389   4407.607879  \n",
              "15417030       3824.591525   3939.235397  \n",
              "15417290       5741.830617   5918.040179  \n",
              "15417550        203.718975    209.888565  \n",
              "...                    ...           ...  \n",
              "16063390        145.161982    147.555331  \n",
              "16063650      36398.597003  36987.950404  \n",
              "16063910        347.816886    353.575013  \n",
              "16064170        255.674234    260.000000  \n",
              "16064430        137.301560    139.624624  \n",
              "\n",
              "[2493 rows x 7 columns]"
            ]
          },
          "execution_count": 46,
          "metadata": {},
          "output_type": "execute_result"
        }
      ],
      "source": [
        "# smooth data using mean over 260 blocks for ~ 1h candles\n",
        "s = (query_swaps_filtered.index.to_series() / window).astype(int)\n",
        "query_swaps_candled = query_swaps_filtered.groupby(s).agg({'price (STETH/ETH)': ['first', 'max', 'min', 'last', 'mean'], 'volume_coin0': 'sum', 'volume_coin1': 'sum'}).set_index(s.index[::window])\n",
        "query_swaps_candled"
      ]
    },
    {
      "cell_type": "code",
      "execution_count": 47,
      "id": "4d2cba1d",
      "metadata": {
        "id": "4d2cba1d",
        "outputId": "4494b923-699f-47b3-9db0-0b49290b5109"
      },
      "outputs": [
        {
          "data": {
            "text/plain": [
              "<AxesSubplot:xlabel='block_number'>"
            ]
          },
          "execution_count": 47,
          "metadata": {},
          "output_type": "execute_result"
        },
        {
          "data": {
            "image/png": "[encoded data removed]",
            "text/plain": [
              "<Figure size 432x288 with 2 Axes>"
            ]
          },
          "metadata": {
            "needs_background": "light"
          },
          "output_type": "display_data"
        }
      ],
      "source": [
        "# make some fancy plots w subplots ...\n",
        "fig, ax = plt.subplots(2, 1)\n",
        "query_swaps.plot(x='block_number', y='price (STETH/ETH)', ax=ax[0])\n",
        "query_swaps_candled['price (STETH/ETH)'].plot(y='mean', ax=ax[0], label='price (STETH/ETH) - 1H mean')\n",
        "query_swaps_candled['volume_coin0'].plot(y='sum', color='g', ax=ax[1], label='volume (ETH)')"
      ]
    },
    {
      "cell_type": "code",
      "execution_count": 48,
      "id": "13db0817",
      "metadata": {
        "id": "13db0817"
      },
      "outputs": [],
      "source": [
        "# plot the candles since that's dope :o"
      ]
    },
    {
      "cell_type": "code",
      "execution_count": 49,
      "id": "e0e2664d",
      "metadata": {
        "id": "e0e2664d"
      },
      "outputs": [],
      "source": [
        "# get the timestamps every 24 candles (~ 24h) and interpolate the rest (SEE banteg gist again)\n",
        "# NOTE: include last block in index for interp to work properly\n",
        "T = 24\n",
        "blocks = query_swaps_candled.index[::24].to_list() + [query_swaps_candled.index[-1]]"
      ]
    },
    {
      "cell_type": "code",
      "execution_count": 50,
      "id": "1fd0e66e",
      "metadata": {
        "id": "1fd0e66e",
        "outputId": "d3c8546f-847e-41c2-9543-5657bb955af3"
      },
      "outputs": [
        {
          "name": "stdout",
          "output_type": "stream",
          "text": [
            "CPU times: total: 406 ms\n",
            "Wall time: 5.49 s\n"
          ]
        }
      ],
      "source": [
        "%time timestamps = [ chain.blocks[i].timestamp for i in blocks ]"
      ]
    },
    {
      "cell_type": "code",
      "execution_count": 51,
      "id": "002a577e",
      "metadata": {
        "id": "002a577e",
        "outputId": "71de742f-29cd-4d15-f2f8-699ba22cfff4"
      },
      "outputs": [
        {
          "data": {
            "text/html": [
              "<div>\n",
              "<style scoped>\n",
              "    .dataframe tbody tr th:only-of-type {\n",
              "        vertical-align: middle;\n",
              "    }\n",
              "\n",
              "    .dataframe tbody tr th {\n",
              "        vertical-align: top;\n",
              "    }\n",
              "\n",
              "    .dataframe thead tr th {\n",
              "        text-align: left;\n",
              "    }\n",
              "\n",
              "    .dataframe thead tr:last-of-type th {\n",
              "        text-align: right;\n",
              "    }\n",
              "</style>\n",
              "<table border=\"1\" class=\"dataframe\">\n",
              "  <thead>\n",
              "    <tr>\n",
              "      <th></th>\n",
              "      <th colspan=\"5\" halign=\"left\">price (STETH/ETH)</th>\n",
              "      <th>volume_coin0</th>\n",
              "      <th>volume_coin1</th>\n",
              "      <th>timestamp</th>\n",
              "    </tr>\n",
              "    <tr>\n",
              "      <th></th>\n",
              "      <th>first</th>\n",
              "      <th>max</th>\n",
              "      <th>min</th>\n",
              "      <th>last</th>\n",
              "      <th>mean</th>\n",
              "      <th>sum</th>\n",
              "      <th>sum</th>\n",
              "      <th></th>\n",
              "    </tr>\n",
              "    <tr>\n",
              "      <th>block_number</th>\n",
              "      <th></th>\n",
              "      <th></th>\n",
              "      <th></th>\n",
              "      <th></th>\n",
              "      <th></th>\n",
              "      <th></th>\n",
              "      <th></th>\n",
              "      <th></th>\n",
              "    </tr>\n",
              "  </thead>\n",
              "  <tbody>\n",
              "    <tr>\n",
              "      <th>15416510</th>\n",
              "      <td>0.970742</td>\n",
              "      <td>0.970742</td>\n",
              "      <td>0.970576</td>\n",
              "      <td>0.970576</td>\n",
              "      <td>0.970586</td>\n",
              "      <td>182.009883</td>\n",
              "      <td>187.601543</td>\n",
              "      <td>2022-08-26 16:49:37.000000000</td>\n",
              "    </tr>\n",
              "    <tr>\n",
              "      <th>15416770</th>\n",
              "      <td>0.970576</td>\n",
              "      <td>0.970576</td>\n",
              "      <td>0.970453</td>\n",
              "      <td>0.970474</td>\n",
              "      <td>0.970511</td>\n",
              "      <td>4276.737389</td>\n",
              "      <td>4407.607879</td>\n",
              "      <td>2022-08-26 17:49:41.333333248</td>\n",
              "    </tr>\n",
              "    <tr>\n",
              "      <th>15417030</th>\n",
              "      <td>0.970474</td>\n",
              "      <td>0.970560</td>\n",
              "      <td>0.970474</td>\n",
              "      <td>0.970560</td>\n",
              "      <td>0.970511</td>\n",
              "      <td>3824.591525</td>\n",
              "      <td>3939.235397</td>\n",
              "      <td>2022-08-26 18:49:45.666666752</td>\n",
              "    </tr>\n",
              "    <tr>\n",
              "      <th>15417290</th>\n",
              "      <td>0.970560</td>\n",
              "      <td>0.970565</td>\n",
              "      <td>0.970482</td>\n",
              "      <td>0.970482</td>\n",
              "      <td>0.970541</td>\n",
              "      <td>5741.830617</td>\n",
              "      <td>5918.040179</td>\n",
              "      <td>2022-08-26 19:49:50.000000000</td>\n",
              "    </tr>\n",
              "    <tr>\n",
              "      <th>15417550</th>\n",
              "      <td>0.970482</td>\n",
              "      <td>0.970482</td>\n",
              "      <td>0.970482</td>\n",
              "      <td>0.970482</td>\n",
              "      <td>0.970482</td>\n",
              "      <td>203.718975</td>\n",
              "      <td>209.888565</td>\n",
              "      <td>2022-08-26 20:49:54.333333248</td>\n",
              "    </tr>\n",
              "    <tr>\n",
              "      <th>...</th>\n",
              "      <td>...</td>\n",
              "      <td>...</td>\n",
              "      <td>...</td>\n",
              "      <td>...</td>\n",
              "      <td>...</td>\n",
              "      <td>...</td>\n",
              "      <td>...</td>\n",
              "      <td>...</td>\n",
              "    </tr>\n",
              "    <tr>\n",
              "      <th>16063390</th>\n",
              "      <td>0.983610</td>\n",
              "      <td>0.983611</td>\n",
              "      <td>0.983610</td>\n",
              "      <td>0.983611</td>\n",
              "      <td>0.983610</td>\n",
              "      <td>145.161982</td>\n",
              "      <td>147.555331</td>\n",
              "      <td>2022-11-27 19:24:59.000000000</td>\n",
              "    </tr>\n",
              "    <tr>\n",
              "      <th>16063650</th>\n",
              "      <td>0.983611</td>\n",
              "      <td>0.983759</td>\n",
              "      <td>0.983611</td>\n",
              "      <td>0.983758</td>\n",
              "      <td>0.983733</td>\n",
              "      <td>36398.597003</td>\n",
              "      <td>36987.950404</td>\n",
              "      <td>2022-11-27 20:17:17.000000000</td>\n",
              "    </tr>\n",
              "    <tr>\n",
              "      <th>16063910</th>\n",
              "      <td>0.983758</td>\n",
              "      <td>0.983758</td>\n",
              "      <td>0.983749</td>\n",
              "      <td>0.983756</td>\n",
              "      <td>0.983755</td>\n",
              "      <td>347.816886</td>\n",
              "      <td>353.575013</td>\n",
              "      <td>2022-11-27 21:09:35.000000000</td>\n",
              "    </tr>\n",
              "    <tr>\n",
              "      <th>16064170</th>\n",
              "      <td>0.983756</td>\n",
              "      <td>0.983756</td>\n",
              "      <td>0.983756</td>\n",
              "      <td>0.983756</td>\n",
              "      <td>0.983756</td>\n",
              "      <td>255.674234</td>\n",
              "      <td>260.000000</td>\n",
              "      <td>2022-11-27 22:01:53.000000000</td>\n",
              "    </tr>\n",
              "    <tr>\n",
              "      <th>16064430</th>\n",
              "      <td>0.983756</td>\n",
              "      <td>0.983756</td>\n",
              "      <td>0.983755</td>\n",
              "      <td>0.983755</td>\n",
              "      <td>0.983756</td>\n",
              "      <td>137.301560</td>\n",
              "      <td>139.624624</td>\n",
              "      <td>2022-11-27 22:54:11.000000000</td>\n",
              "    </tr>\n",
              "  </tbody>\n",
              "</table>\n",
              "<p>2493 rows × 8 columns</p>\n",
              "</div>"
            ],
            "text/plain": [
              "             price (STETH/ETH)                                          \\\n",
              "                         first       max       min      last      mean   \n",
              "block_number                                                             \n",
              "15416510              0.970742  0.970742  0.970576  0.970576  0.970586   \n",
              "15416770              0.970576  0.970576  0.970453  0.970474  0.970511   \n",
              "15417030              0.970474  0.970560  0.970474  0.970560  0.970511   \n",
              "15417290              0.970560  0.970565  0.970482  0.970482  0.970541   \n",
              "15417550              0.970482  0.970482  0.970482  0.970482  0.970482   \n",
              "...                        ...       ...       ...       ...       ...   \n",
              "16063390              0.983610  0.983611  0.983610  0.983611  0.983610   \n",
              "16063650              0.983611  0.983759  0.983611  0.983758  0.983733   \n",
              "16063910              0.983758  0.983758  0.983749  0.983756  0.983755   \n",
              "16064170              0.983756  0.983756  0.983756  0.983756  0.983756   \n",
              "16064430              0.983756  0.983756  0.983755  0.983755  0.983756   \n",
              "\n",
              "              volume_coin0  volume_coin1                     timestamp  \n",
              "                       sum           sum                                \n",
              "block_number                                                            \n",
              "15416510        182.009883    187.601543 2022-08-26 16:49:37.000000000  \n",
              "15416770       4276.737389   4407.607879 2022-08-26 17:49:41.333333248  \n",
              "15417030       3824.591525   3939.235397 2022-08-26 18:49:45.666666752  \n",
              "15417290       5741.830617   5918.040179 2022-08-26 19:49:50.000000000  \n",
              "15417550        203.718975    209.888565 2022-08-26 20:49:54.333333248  \n",
              "...                    ...           ...                           ...  \n",
              "16063390        145.161982    147.555331 2022-11-27 19:24:59.000000000  \n",
              "16063650      36398.597003  36987.950404 2022-11-27 20:17:17.000000000  \n",
              "16063910        347.816886    353.575013 2022-11-27 21:09:35.000000000  \n",
              "16064170        255.674234    260.000000 2022-11-27 22:01:53.000000000  \n",
              "16064430        137.301560    139.624624 2022-11-27 22:54:11.000000000  \n",
              "\n",
              "[2493 rows x 8 columns]"
            ]
          },
          "execution_count": 51,
          "metadata": {},
          "output_type": "execute_result"
        }
      ],
      "source": [
        "query_swaps_candled['timestamp'] = pd.to_datetime(np.interp(query_swaps_candled.index, blocks, timestamps) * 1e9)\n",
        "query_swaps_candled"
      ]
    },
    {
      "cell_type": "code",
      "execution_count": 52,
      "id": "48b85378",
      "metadata": {
        "id": "48b85378",
        "outputId": "ad0a638a-4be3-4b8d-c88e-85a572eacdc9"
      },
      "outputs": [
        {
          "data": {
            "text/html": [
              "<div>\n",
              "<style scoped>\n",
              "    .dataframe tbody tr th:only-of-type {\n",
              "        vertical-align: middle;\n",
              "    }\n",
              "\n",
              "    .dataframe tbody tr th {\n",
              "        vertical-align: top;\n",
              "    }\n",
              "\n",
              "    .dataframe thead th {\n",
              "        text-align: right;\n",
              "    }\n",
              "</style>\n",
              "<table border=\"1\" class=\"dataframe\">\n",
              "  <thead>\n",
              "    <tr style=\"text-align: right;\">\n",
              "      <th></th>\n",
              "      <th>Open</th>\n",
              "      <th>High</th>\n",
              "      <th>Low</th>\n",
              "      <th>Close</th>\n",
              "      <th>Volume</th>\n",
              "    </tr>\n",
              "    <tr>\n",
              "      <th>Date</th>\n",
              "      <th></th>\n",
              "      <th></th>\n",
              "      <th></th>\n",
              "      <th></th>\n",
              "      <th></th>\n",
              "    </tr>\n",
              "  </thead>\n",
              "  <tbody>\n",
              "    <tr>\n",
              "      <th>2022-08-26 16:49:37.000000000</th>\n",
              "      <td>0.970742</td>\n",
              "      <td>0.970742</td>\n",
              "      <td>0.970576</td>\n",
              "      <td>0.970576</td>\n",
              "      <td>182.009883</td>\n",
              "    </tr>\n",
              "    <tr>\n",
              "      <th>2022-08-26 17:49:41.333333248</th>\n",
              "      <td>0.970576</td>\n",
              "      <td>0.970576</td>\n",
              "      <td>0.970453</td>\n",
              "      <td>0.970474</td>\n",
              "      <td>4276.737389</td>\n",
              "    </tr>\n",
              "    <tr>\n",
              "      <th>2022-08-26 18:49:45.666666752</th>\n",
              "      <td>0.970474</td>\n",
              "      <td>0.970560</td>\n",
              "      <td>0.970474</td>\n",
              "      <td>0.970560</td>\n",
              "      <td>3824.591525</td>\n",
              "    </tr>\n",
              "    <tr>\n",
              "      <th>2022-08-26 19:49:50.000000000</th>\n",
              "      <td>0.970560</td>\n",
              "      <td>0.970565</td>\n",
              "      <td>0.970482</td>\n",
              "      <td>0.970482</td>\n",
              "      <td>5741.830617</td>\n",
              "    </tr>\n",
              "    <tr>\n",
              "      <th>2022-08-26 20:49:54.333333248</th>\n",
              "      <td>0.970482</td>\n",
              "      <td>0.970482</td>\n",
              "      <td>0.970482</td>\n",
              "      <td>0.970482</td>\n",
              "      <td>203.718975</td>\n",
              "    </tr>\n",
              "    <tr>\n",
              "      <th>...</th>\n",
              "      <td>...</td>\n",
              "      <td>...</td>\n",
              "      <td>...</td>\n",
              "      <td>...</td>\n",
              "      <td>...</td>\n",
              "    </tr>\n",
              "    <tr>\n",
              "      <th>2022-11-27 19:24:59.000000000</th>\n",
              "      <td>0.983610</td>\n",
              "      <td>0.983611</td>\n",
              "      <td>0.983610</td>\n",
              "      <td>0.983611</td>\n",
              "      <td>145.161982</td>\n",
              "    </tr>\n",
              "    <tr>\n",
              "      <th>2022-11-27 20:17:17.000000000</th>\n",
              "      <td>0.983611</td>\n",
              "      <td>0.983759</td>\n",
              "      <td>0.983611</td>\n",
              "      <td>0.983758</td>\n",
              "      <td>36398.597003</td>\n",
              "    </tr>\n",
              "    <tr>\n",
              "      <th>2022-11-27 21:09:35.000000000</th>\n",
              "      <td>0.983758</td>\n",
              "      <td>0.983758</td>\n",
              "      <td>0.983749</td>\n",
              "      <td>0.983756</td>\n",
              "      <td>347.816886</td>\n",
              "    </tr>\n",
              "    <tr>\n",
              "      <th>2022-11-27 22:01:53.000000000</th>\n",
              "      <td>0.983756</td>\n",
              "      <td>0.983756</td>\n",
              "      <td>0.983756</td>\n",
              "      <td>0.983756</td>\n",
              "      <td>255.674234</td>\n",
              "    </tr>\n",
              "    <tr>\n",
              "      <th>2022-11-27 22:54:11.000000000</th>\n",
              "      <td>0.983756</td>\n",
              "      <td>0.983756</td>\n",
              "      <td>0.983755</td>\n",
              "      <td>0.983755</td>\n",
              "      <td>137.301560</td>\n",
              "    </tr>\n",
              "  </tbody>\n",
              "</table>\n",
              "<p>2493 rows × 5 columns</p>\n",
              "</div>"
            ],
            "text/plain": [
              "                                   Open      High       Low     Close  \\\n",
              "Date                                                                    \n",
              "2022-08-26 16:49:37.000000000  0.970742  0.970742  0.970576  0.970576   \n",
              "2022-08-26 17:49:41.333333248  0.970576  0.970576  0.970453  0.970474   \n",
              "2022-08-26 18:49:45.666666752  0.970474  0.970560  0.970474  0.970560   \n",
              "2022-08-26 19:49:50.000000000  0.970560  0.970565  0.970482  0.970482   \n",
              "2022-08-26 20:49:54.333333248  0.970482  0.970482  0.970482  0.970482   \n",
              "...                                 ...       ...       ...       ...   \n",
              "2022-11-27 19:24:59.000000000  0.983610  0.983611  0.983610  0.983611   \n",
              "2022-11-27 20:17:17.000000000  0.983611  0.983759  0.983611  0.983758   \n",
              "2022-11-27 21:09:35.000000000  0.983758  0.983758  0.983749  0.983756   \n",
              "2022-11-27 22:01:53.000000000  0.983756  0.983756  0.983756  0.983756   \n",
              "2022-11-27 22:54:11.000000000  0.983756  0.983756  0.983755  0.983755   \n",
              "\n",
              "                                     Volume  \n",
              "Date                                         \n",
              "2022-08-26 16:49:37.000000000    182.009883  \n",
              "2022-08-26 17:49:41.333333248   4276.737389  \n",
              "2022-08-26 18:49:45.666666752   3824.591525  \n",
              "2022-08-26 19:49:50.000000000   5741.830617  \n",
              "2022-08-26 20:49:54.333333248    203.718975  \n",
              "...                                     ...  \n",
              "2022-11-27 19:24:59.000000000    145.161982  \n",
              "2022-11-27 20:17:17.000000000  36398.597003  \n",
              "2022-11-27 21:09:35.000000000    347.816886  \n",
              "2022-11-27 22:01:53.000000000    255.674234  \n",
              "2022-11-27 22:54:11.000000000    137.301560  \n",
              "\n",
              "[2493 rows x 5 columns]"
            ]
          },
          "execution_count": 52,
          "metadata": {},
          "output_type": "execute_result"
        }
      ],
      "source": [
        "# put data into new df for ohlcv with 1h candles\n",
        "query_swaps_ohlcv = pd.DataFrame({\n",
        "    'Open': query_swaps_candled['price (STETH/ETH)']['first'],\n",
        "    'High': query_swaps_candled['price (STETH/ETH)']['max'],\n",
        "    'Low': query_swaps_candled['price (STETH/ETH)']['min'],\n",
        "    'Close': query_swaps_candled['price (STETH/ETH)']['last'],\n",
        "    'Volume': query_swaps_candled['volume_coin0']['sum'],\n",
        "    'Date': query_swaps_candled['timestamp']\n",
        "})\n",
        "query_swaps_ohlcv = query_swaps_ohlcv.set_index('Date')\n",
        "query_swaps_ohlcv"
      ]
    },
    {
      "cell_type": "code",
      "execution_count": 53,
      "id": "9e2027a5",
      "metadata": {
        "id": "9e2027a5",
        "outputId": "359efe65-c77f-4c41-bcc6-fd623ce28550"
      },
      "outputs": [
        {
          "data": {
            "image/png": "[encoded data removed]",
            "text/plain": [
              "<Figure size 800x575 with 4 Axes>"
            ]
          },
          "metadata": {},
          "output_type": "display_data"
        }
      ],
      "source": [
        "# oooooo fancy :)\n",
        "def fancy_plot(\n",
        "    data,\n",
        "    mav=(10, 50),\n",
        "    plt_type='candle',\n",
        "    volume=True,\n",
        "    datetime_format='%b%d',\n",
        "    xrotation=0,\n",
        "    tight_layout=True,\n",
        "    style='mike', # mpf.available_styles() to pick your fav\n",
        "    **kwargs\n",
        "):\n",
        "    mpf.plot(\n",
        "        data,\n",
        "        warn_too_much_data=2500,\n",
        "        mav=mav,\n",
        "        type=plt_type,\n",
        "        volume=volume,\n",
        "        datetime_format=datetime_format,\n",
        "        xrotation=xrotation,\n",
        "        tight_layout=tight_layout,\n",
        "        style=style,\n",
        "        **kwargs\n",
        "    )\n",
        "\n",
        "title=\"STETH/ETH\"\n",
        "fancy_plot(query_swaps_ohlcv, mav=(10, 50, 200), title=title)\n"
      ]
    },
    {
      "cell_type": "code",
      "execution_count": 54,
      "id": "2235e778",
      "metadata": {},
      "outputs": [
        {
          "data": {
            "image/png": "[encoded data removed]",
            "text/plain": [
              "<Figure size 800x575 with 4 Axes>"
            ]
          },
          "metadata": {},
          "output_type": "display_data"
        },
        {
          "data": {
            "image/png": "[encoded data removed]",
            "text/plain": [
              "<Figure size 800x575 with 4 Axes>"
            ]
          },
          "metadata": {},
          "output_type": "display_data"
        }
      ],
      "source": [
        "def plot_last_n_days(data, num_days_back=100, **kwargs):\n",
        "    endPeriod = query_swaps_ohlcv.index[-1]\n",
        "    startPeriod = endPeriod - pd.Timedelta(days=num_days_back)\n",
        "    dataToPlot = data.loc[(data.index > startPeriod) & (data.index < endPeriod),:]\n",
        "    title=f\"STETH/ETH last {num_days_back} days\"\n",
        "    title+=f\"({startPeriod:%b%d}-{endPeriod:%b%d})\" if startPeriod.month != endPeriod.month else f\"({startPeriod:%b%d}-{endPeriod:%d})\"\n",
        "    mav = [10]\n",
        "    if num_days_back > 3:\n",
        "        mav.append(50)\n",
        "    if num_days_back > 10:\n",
        "        mav.append(100)\n",
        "    fancy_plot(dataToPlot, mav=mav, title=title)\n",
        "\n",
        "plot_last_n_days(query_swaps_ohlcv, num_days_back=8)\n",
        "plot_last_n_days(query_swaps_ohlcv, num_days_back=3)\n"
      ]
    },
    {
      "cell_type": "code",
      "execution_count": null,
      "id": "9b7c73ef",
      "metadata": {
        "id": "9b7c73ef"
      },
      "outputs": [],
      "source": []
    }
  ],
  "metadata": {
    "colab": {
      "provenance": []
    },
    "kernelspec": {
      "display_name": "Python 3.10.6 64-bit",
      "language": "python",
      "name": "python3"
    },
    "language_info": {
      "codemirror_mode": {
        "name": "ipython",
        "version": 3
      },
      "file_extension": ".py",
      "mimetype": "text/x-python",
      "name": "python",
      "nbconvert_exporter": "python",
      "pygments_lexer": "ipython3",
      "version": "3.10.6"
    },
    "vscode": {
      "interpreter": {
        "hash": "369f2c481f4da34e4445cda3fffd2e751bd1c4d706f27375911949ba6bb62e1c"
      }
    }
  },
  "nbformat": 4,
  "nbformat_minor": 5
}

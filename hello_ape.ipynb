{
  "cells": [
    {
      "cell_type": "code",
      "execution_count": 1,
      "id": "163d83d4",
      "metadata": {},
      "outputs": [
        {
          "name": "stdout",
          "output_type": "stream",
          "text": [
            "Requirement already satisfied: eth-ape in /Users/handu/opt/anaconda3/envs/crypto/lib/python3.10/site-packages (0.6.8)\n",
            "Collecting ape-alchemy\n",
            "  Downloading ape_alchemy-0.6.1-py3-none-any.whl (10 kB)\n",
            "Collecting ape-etherscan\n",
            "  Downloading ape_etherscan-0.6.3-py3-none-any.whl (19 kB)\n",
            "Collecting mplfinance\n",
            "  Downloading mplfinance-0.12.9b7-py3-none-any.whl (73 kB)\n",
            "\u001b[2K     \u001b[90m━━━━━━━━━━━━━━━━━━━━━━━━━━━━━━━━━━━━━━━━\u001b[0m \u001b[32m73.1/73.1 kB\u001b[0m \u001b[31m4.7 MB/s\u001b[0m eta \u001b[36m0:00:00\u001b[0m\n",
            "\u001b[?25hRequirement already satisfied: pandas in /Users/handu/opt/anaconda3/envs/crypto/lib/python3.10/site-packages (1.5.3)\n",
            "Requirement already satisfied: numpy in /Users/handu/opt/anaconda3/envs/crypto/lib/python3.10/site-packages (1.24.2)\n",
            "Collecting python-dotenv\n",
            "  Downloading python_dotenv-1.0.0-py3-none-any.whl (19 kB)\n",
            "Requirement already satisfied: traitlets>=5.3.0 in /Users/handu/opt/anaconda3/envs/crypto/lib/python3.10/site-packages (from eth-ape) (5.9.0)\n",
            "Requirement already satisfied: eip712<0.3,>=0.2.1 in /Users/handu/opt/anaconda3/envs/crypto/lib/python3.10/site-packages (from eth-ape) (0.2.1)\n",
            "Requirement already satisfied: evm-trace>=0.1.0a17 in /Users/handu/opt/anaconda3/envs/crypto/lib/python3.10/site-packages (from eth-ape) (0.1.0a17)\n",
            "Requirement already satisfied: importlib-metadata in /Users/handu/opt/anaconda3/envs/crypto/lib/python3.10/site-packages (from eth-ape) (6.4.1)\n",
            "Requirement already satisfied: click<9,>=8.1.3 in /Users/handu/opt/anaconda3/envs/crypto/lib/python3.10/site-packages (from eth-ape) (8.1.3)\n",
            "Requirement already satisfied: eth-utils<3,>=2.0.0 in /Users/handu/opt/anaconda3/envs/crypto/lib/python3.10/site-packages (from eth-ape) (2.1.0)\n",
            "Requirement already satisfied: pydantic<2,>=1.9.2 in /Users/handu/opt/anaconda3/envs/crypto/lib/python3.10/site-packages (from eth-ape) (1.10.7)\n",
            "Requirement already satisfied: ipython<9,>=8.5.0 in /Users/handu/opt/anaconda3/envs/crypto/lib/python3.10/site-packages (from eth-ape) (8.12.0)\n",
            "Requirement already satisfied: tqdm<5.0,>=4.62.3 in /Users/handu/opt/anaconda3/envs/crypto/lib/python3.10/site-packages (from eth-ape) (4.65.0)\n",
            "Requirement already satisfied: packaging<24,>=23.0 in /Users/handu/opt/anaconda3/envs/crypto/lib/python3.10/site-packages (from eth-ape) (23.1)\n",
            "Requirement already satisfied: ethpm-types<0.5,>=0.4.3 in /Users/handu/opt/anaconda3/envs/crypto/lib/python3.10/site-packages (from eth-ape) (0.4.3)\n",
            "Requirement already satisfied: eth-abi<5,>=4.0.0 in /Users/handu/opt/anaconda3/envs/crypto/lib/python3.10/site-packages (from eth-ape) (4.0.0)\n",
            "Requirement already satisfied: web3[tester]<7,>=6.0.0 in /Users/handu/opt/anaconda3/envs/crypto/lib/python3.10/site-packages (from eth-ape) (6.2.0)\n",
            "Requirement already satisfied: PyGithub<2,>=1.54 in /Users/handu/opt/anaconda3/envs/crypto/lib/python3.10/site-packages (from eth-ape) (1.58.1)\n",
            "Requirement already satisfied: pluggy<2,>=0.12 in /Users/handu/opt/anaconda3/envs/crypto/lib/python3.10/site-packages (from eth-ape) (1.0.0)\n",
            "Requirement already satisfied: pyyaml<7,>=6.0 in /Users/handu/opt/anaconda3/envs/crypto/lib/python3.10/site-packages (from eth-ape) (6.0)\n",
            "Requirement already satisfied: requests<3,>=2.28.1 in /Users/handu/opt/anaconda3/envs/crypto/lib/python3.10/site-packages (from eth-ape) (2.28.2)\n",
            "Requirement already satisfied: py-geth<4,>=3.12.0 in /Users/handu/opt/anaconda3/envs/crypto/lib/python3.10/site-packages (from eth-ape) (3.12.0)\n",
            "Requirement already satisfied: pytest<8.0,>=6.0 in /Users/handu/opt/anaconda3/envs/crypto/lib/python3.10/site-packages (from eth-ape) (7.3.1)\n",
            "Requirement already satisfied: eth-typing<4,>=3.1 in /Users/handu/opt/anaconda3/envs/crypto/lib/python3.10/site-packages (from eth-ape) (3.3.0)\n",
            "Requirement already satisfied: hexbytes<1,>=0.2.3 in /Users/handu/opt/anaconda3/envs/crypto/lib/python3.10/site-packages (from eth-ape) (0.3.0)\n",
            "Requirement already satisfied: eth-account<0.9,>=0.8 in /Users/handu/opt/anaconda3/envs/crypto/lib/python3.10/site-packages (from eth-ape) (0.8.0)\n",
            "Requirement already satisfied: ijson<4,>=3.1.4 in /Users/handu/opt/anaconda3/envs/crypto/lib/python3.10/site-packages (from eth-ape) (3.2.0.post0)\n",
            "Requirement already satisfied: rich<13,>=12.5.1 in /Users/handu/opt/anaconda3/envs/crypto/lib/python3.10/site-packages (from eth-ape) (12.6.0)\n",
            "Requirement already satisfied: watchdog<3.0,>=2.1.9 in /Users/handu/opt/anaconda3/envs/crypto/lib/python3.10/site-packages (from eth-ape) (2.3.1)\n",
            "Requirement already satisfied: SQLAlchemy>=1.4.35 in /Users/handu/opt/anaconda3/envs/crypto/lib/python3.10/site-packages (from eth-ape) (2.0.9)\n",
            "Requirement already satisfied: python-dateutil<3,>=2.8.2 in /Users/handu/opt/anaconda3/envs/crypto/lib/python3.10/site-packages (from eth-ape) (2.8.2)\n",
            "Collecting matplotlib\n",
            "  Downloading matplotlib-3.7.1-cp310-cp310-macosx_10_12_x86_64.whl (7.4 MB)\n",
            "\u001b[2K     \u001b[90m━━━━━━━━━━━━━━━━━━━━━━━━━━━━━━━━━━━━━━━━\u001b[0m \u001b[32m7.4/7.4 MB\u001b[0m \u001b[31m21.8 MB/s\u001b[0m eta \u001b[36m0:00:00\u001b[0m00:01\u001b[0m00:01\u001b[0m\n",
            "\u001b[?25hRequirement already satisfied: pytz>=2020.1 in /Users/handu/opt/anaconda3/envs/crypto/lib/python3.10/site-packages (from pandas) (2023.3)\n",
            "Requirement already satisfied: dataclassy<1,>=0.8.2 in /Users/handu/opt/anaconda3/envs/crypto/lib/python3.10/site-packages (from eip712<0.3,>=0.2.1->eth-ape) (0.11.1)\n",
            "Requirement already satisfied: eth-hash[pycryptodome] in /Users/handu/opt/anaconda3/envs/crypto/lib/python3.10/site-packages (from eip712<0.3,>=0.2.1->eth-ape) (0.5.1)\n",
            "Requirement already satisfied: parsimonious<0.10.0,>=0.9.0 in /Users/handu/opt/anaconda3/envs/crypto/lib/python3.10/site-packages (from eth-abi<5,>=4.0.0->eth-ape) (0.9.0)\n",
            "Requirement already satisfied: bitarray<3,>=2.4.0 in /Users/handu/opt/anaconda3/envs/crypto/lib/python3.10/site-packages (from eth-account<0.9,>=0.8->eth-ape) (2.7.3)\n",
            "Requirement already satisfied: eth-rlp<1,>=0.3.0 in /Users/handu/opt/anaconda3/envs/crypto/lib/python3.10/site-packages (from eth-account<0.9,>=0.8->eth-ape) (0.3.0)\n",
            "Requirement already satisfied: eth-keys<0.5,>=0.4.0 in /Users/handu/opt/anaconda3/envs/crypto/lib/python3.10/site-packages (from eth-account<0.9,>=0.8->eth-ape) (0.4.0)\n",
            "Requirement already satisfied: rlp<4,>=1.0.0 in /Users/handu/opt/anaconda3/envs/crypto/lib/python3.10/site-packages (from eth-account<0.9,>=0.8->eth-ape) (3.0.0)\n",
            "Requirement already satisfied: eth-keyfile<0.7.0,>=0.6.0 in /Users/handu/opt/anaconda3/envs/crypto/lib/python3.10/site-packages (from eth-account<0.9,>=0.8->eth-ape) (0.6.1)\n",
            "Requirement already satisfied: cytoolz>=0.10.1 in /Users/handu/opt/anaconda3/envs/crypto/lib/python3.10/site-packages (from eth-utils<3,>=2.0.0->eth-ape) (0.12.1)\n",
            "Requirement already satisfied: py-cid<0.4,>=0.3.0 in /Users/handu/opt/anaconda3/envs/crypto/lib/python3.10/site-packages (from ethpm-types<0.5,>=0.4.3->eth-ape) (0.3.0)\n",
            "Requirement already satisfied: py-evm>=0.6.0a1 in /Users/handu/opt/anaconda3/envs/crypto/lib/python3.10/site-packages (from evm-trace>=0.1.0a17->eth-ape) (0.6.1a2)\n",
            "Requirement already satisfied: msgspec>=0.8 in /Users/handu/opt/anaconda3/envs/crypto/lib/python3.10/site-packages (from evm-trace>=0.1.0a17->eth-ape) (0.14.1)\n",
            "Requirement already satisfied: appnope in /Users/handu/opt/anaconda3/envs/crypto/lib/python3.10/site-packages (from ipython<9,>=8.5.0->eth-ape) (0.1.3)\n",
            "Requirement already satisfied: matplotlib-inline in /Users/handu/opt/anaconda3/envs/crypto/lib/python3.10/site-packages (from ipython<9,>=8.5.0->eth-ape) (0.1.6)\n",
            "Requirement already satisfied: decorator in /Users/handu/opt/anaconda3/envs/crypto/lib/python3.10/site-packages (from ipython<9,>=8.5.0->eth-ape) (5.1.1)\n",
            "Requirement already satisfied: jedi>=0.16 in /Users/handu/opt/anaconda3/envs/crypto/lib/python3.10/site-packages (from ipython<9,>=8.5.0->eth-ape) (0.18.2)\n",
            "Requirement already satisfied: pickleshare in /Users/handu/opt/anaconda3/envs/crypto/lib/python3.10/site-packages (from ipython<9,>=8.5.0->eth-ape) (0.7.5)\n",
            "Requirement already satisfied: pexpect>4.3 in /Users/handu/opt/anaconda3/envs/crypto/lib/python3.10/site-packages (from ipython<9,>=8.5.0->eth-ape) (4.8.0)\n",
            "Requirement already satisfied: stack-data in /Users/handu/opt/anaconda3/envs/crypto/lib/python3.10/site-packages (from ipython<9,>=8.5.0->eth-ape) (0.6.2)\n",
            "Requirement already satisfied: pygments>=2.4.0 in /Users/handu/opt/anaconda3/envs/crypto/lib/python3.10/site-packages (from ipython<9,>=8.5.0->eth-ape) (2.15.0)\n",
            "Requirement already satisfied: prompt-toolkit!=3.0.37,<3.1.0,>=3.0.30 in /Users/handu/opt/anaconda3/envs/crypto/lib/python3.10/site-packages (from ipython<9,>=8.5.0->eth-ape) (3.0.38)\n",
            "Requirement already satisfied: backcall in /Users/handu/opt/anaconda3/envs/crypto/lib/python3.10/site-packages (from ipython<9,>=8.5.0->eth-ape) (0.2.0)\n",
            "Requirement already satisfied: semantic-version>=2.6.0 in /Users/handu/opt/anaconda3/envs/crypto/lib/python3.10/site-packages (from py-geth<4,>=3.12.0->eth-ape) (2.10.0)\n",
            "Requirement already satisfied: typing-extensions>=4.2.0 in /Users/handu/opt/anaconda3/envs/crypto/lib/python3.10/site-packages (from pydantic<2,>=1.9.2->eth-ape) (4.5.0)\n",
            "Requirement already satisfied: pyjwt[crypto]>=2.4.0 in /Users/handu/opt/anaconda3/envs/crypto/lib/python3.10/site-packages (from PyGithub<2,>=1.54->eth-ape) (2.6.0)\n",
            "Requirement already satisfied: pynacl>=1.4.0 in /Users/handu/opt/anaconda3/envs/crypto/lib/python3.10/site-packages (from PyGithub<2,>=1.54->eth-ape) (1.5.0)\n",
            "Requirement already satisfied: deprecated in /Users/handu/opt/anaconda3/envs/crypto/lib/python3.10/site-packages (from PyGithub<2,>=1.54->eth-ape) (1.2.13)\n",
            "Requirement already satisfied: tomli>=1.0.0 in /Users/handu/opt/anaconda3/envs/crypto/lib/python3.10/site-packages (from pytest<8.0,>=6.0->eth-ape) (2.0.1)\n",
            "Requirement already satisfied: exceptiongroup>=1.0.0rc8 in /Users/handu/opt/anaconda3/envs/crypto/lib/python3.10/site-packages (from pytest<8.0,>=6.0->eth-ape) (1.1.1)\n",
            "Requirement already satisfied: iniconfig in /Users/handu/opt/anaconda3/envs/crypto/lib/python3.10/site-packages (from pytest<8.0,>=6.0->eth-ape) (2.0.0)\n",
            "Requirement already satisfied: six>=1.5 in /Users/handu/opt/anaconda3/envs/crypto/lib/python3.10/site-packages (from python-dateutil<3,>=2.8.2->eth-ape) (1.16.0)\n",
            "Requirement already satisfied: idna<4,>=2.5 in /Users/handu/opt/anaconda3/envs/crypto/lib/python3.10/site-packages (from requests<3,>=2.28.1->eth-ape) (3.4)\n",
            "Requirement already satisfied: charset-normalizer<4,>=2 in /Users/handu/opt/anaconda3/envs/crypto/lib/python3.10/site-packages (from requests<3,>=2.28.1->eth-ape) (3.1.0)\n",
            "Requirement already satisfied: certifi>=2017.4.17 in /Users/handu/opt/anaconda3/envs/crypto/lib/python3.10/site-packages (from requests<3,>=2.28.1->eth-ape) (2022.12.7)\n",
            "Requirement already satisfied: urllib3<1.27,>=1.21.1 in /Users/handu/opt/anaconda3/envs/crypto/lib/python3.10/site-packages (from requests<3,>=2.28.1->eth-ape) (1.26.15)\n",
            "Requirement already satisfied: commonmark<0.10.0,>=0.9.0 in /Users/handu/opt/anaconda3/envs/crypto/lib/python3.10/site-packages (from rich<13,>=12.5.1->eth-ape) (0.9.1)\n",
            "Requirement already satisfied: greenlet!=0.4.17 in /Users/handu/opt/anaconda3/envs/crypto/lib/python3.10/site-packages (from SQLAlchemy>=1.4.35->eth-ape) (2.0.2)\n",
            "Requirement already satisfied: jsonschema>=4.0.0 in /Users/handu/opt/anaconda3/envs/crypto/lib/python3.10/site-packages (from web3[tester]<7,>=6.0.0->eth-ape) (4.17.3)\n",
            "Requirement already satisfied: aiohttp>=3.7.4.post0 in /Users/handu/opt/anaconda3/envs/crypto/lib/python3.10/site-packages (from web3[tester]<7,>=6.0.0->eth-ape) (3.8.4)\n",
            "Requirement already satisfied: protobuf>=4.21.6 in /Users/handu/opt/anaconda3/envs/crypto/lib/python3.10/site-packages (from web3[tester]<7,>=6.0.0->eth-ape) (4.22.3)\n",
            "Requirement already satisfied: lru-dict>=1.1.6 in /Users/handu/opt/anaconda3/envs/crypto/lib/python3.10/site-packages (from web3[tester]<7,>=6.0.0->eth-ape) (1.1.8)\n",
            "Requirement already satisfied: websockets>=10.0.0 in /Users/handu/opt/anaconda3/envs/crypto/lib/python3.10/site-packages (from web3[tester]<7,>=6.0.0->eth-ape) (11.0.1)\n",
            "Requirement already satisfied: eth-tester[py-evm]==v0.8.0-b.3 in /Users/handu/opt/anaconda3/envs/crypto/lib/python3.10/site-packages (from web3[tester]<7,>=6.0.0->eth-ape) (0.8.0b3)\n",
            "Requirement already satisfied: cached-property<2,>=1.5.1 in /Users/handu/opt/anaconda3/envs/crypto/lib/python3.10/site-packages (from py-evm>=0.6.0a1->evm-trace>=0.1.0a17->eth-ape) (1.5.2)\n",
            "Requirement already satisfied: py-ecc<7.0.0,>=1.4.7 in /Users/handu/opt/anaconda3/envs/crypto/lib/python3.10/site-packages (from py-evm>=0.6.0a1->evm-trace>=0.1.0a17->eth-ape) (6.0.0)\n",
            "Requirement already satisfied: mypy-extensions<1.0.0,>=0.4.1 in /Users/handu/opt/anaconda3/envs/crypto/lib/python3.10/site-packages (from py-evm>=0.6.0a1->evm-trace>=0.1.0a17->eth-ape) (0.4.4)\n",
            "Requirement already satisfied: pyethash<1.0.0,>=0.1.27 in /Users/handu/opt/anaconda3/envs/crypto/lib/python3.10/site-packages (from py-evm>=0.6.0a1->evm-trace>=0.1.0a17->eth-ape) (0.1.27)\n",
            "Requirement already satisfied: trie<3,>=2.0.0 in /Users/handu/opt/anaconda3/envs/crypto/lib/python3.10/site-packages (from py-evm>=0.6.0a1->evm-trace>=0.1.0a17->eth-ape) (2.1.0)\n",
            "Requirement already satisfied: eth-bloom>=1.0.3 in /Users/handu/opt/anaconda3/envs/crypto/lib/python3.10/site-packages (from py-evm>=0.6.0a1->evm-trace>=0.1.0a17->eth-ape) (2.0.0)\n",
            "Requirement already satisfied: zipp>=0.5 in /Users/handu/opt/anaconda3/envs/crypto/lib/python3.10/site-packages (from importlib-metadata->eth-ape) (3.15.0)\n",
            "Collecting pillow>=6.2.0\n",
            "  Downloading Pillow-9.5.0-cp310-cp310-macosx_10_10_x86_64.whl (3.4 MB)\n",
            "\u001b[2K     \u001b[90m━━━━━━━━━━━━━━━━━━━━━━━━━━━━━━━━━━━━━━━━\u001b[0m \u001b[32m3.4/3.4 MB\u001b[0m \u001b[31m27.9 MB/s\u001b[0m eta \u001b[36m0:00:00\u001b[0m00:01\u001b[0m00:01\u001b[0m\n",
            "\u001b[?25hCollecting contourpy>=1.0.1\n",
            "  Downloading contourpy-1.0.7-cp310-cp310-macosx_10_9_x86_64.whl (244 kB)\n",
            "\u001b[2K     \u001b[90m━━━━━━━━━━━━━━━━━━━━━━━━━━━━━━━━━━━━━━\u001b[0m \u001b[32m244.2/244.2 kB\u001b[0m \u001b[31m20.0 MB/s\u001b[0m eta \u001b[36m0:00:00\u001b[0m\n",
            "\u001b[?25hCollecting kiwisolver>=1.0.1\n",
            "  Downloading kiwisolver-1.4.4-cp310-cp310-macosx_10_9_x86_64.whl (65 kB)\n",
            "\u001b[2K     \u001b[90m━━━━━━━━━━━━━━━━━━━━━━━━━━━━━━━━━━━━━━━━\u001b[0m \u001b[32m65.5/65.5 kB\u001b[0m \u001b[31m6.1 MB/s\u001b[0m eta \u001b[36m0:00:00\u001b[0m\n",
            "\u001b[?25hCollecting pyparsing>=2.3.1\n",
            "  Downloading pyparsing-3.0.9-py3-none-any.whl (98 kB)\n",
            "\u001b[2K     \u001b[90m━━━━━━━━━━━━━━━━━━━━━━━━━━━━━━━━━━━━━━━━\u001b[0m \u001b[32m98.3/98.3 kB\u001b[0m \u001b[31m8.4 MB/s\u001b[0m eta \u001b[36m0:00:00\u001b[0m\n",
            "\u001b[?25hCollecting fonttools>=4.22.0\n",
            "  Downloading fonttools-4.39.3-py3-none-any.whl (1.0 MB)\n",
            "\u001b[2K     \u001b[90m━━━━━━━━━━━━━━━━━━━━━━━━━━━━━━━━━━━━━━━━\u001b[0m \u001b[32m1.0/1.0 MB\u001b[0m \u001b[31m32.7 MB/s\u001b[0m eta \u001b[36m0:00:00\u001b[0m\n",
            "\u001b[?25hCollecting cycler>=0.10\n",
            "  Downloading cycler-0.11.0-py3-none-any.whl (6.4 kB)\n",
            "Requirement already satisfied: multidict<7.0,>=4.5 in /Users/handu/opt/anaconda3/envs/crypto/lib/python3.10/site-packages (from aiohttp>=3.7.4.post0->web3[tester]<7,>=6.0.0->eth-ape) (6.0.4)\n",
            "Requirement already satisfied: aiosignal>=1.1.2 in /Users/handu/opt/anaconda3/envs/crypto/lib/python3.10/site-packages (from aiohttp>=3.7.4.post0->web3[tester]<7,>=6.0.0->eth-ape) (1.3.1)\n",
            "Requirement already satisfied: async-timeout<5.0,>=4.0.0a3 in /Users/handu/opt/anaconda3/envs/crypto/lib/python3.10/site-packages (from aiohttp>=3.7.4.post0->web3[tester]<7,>=6.0.0->eth-ape) (4.0.2)\n",
            "Requirement already satisfied: frozenlist>=1.1.1 in /Users/handu/opt/anaconda3/envs/crypto/lib/python3.10/site-packages (from aiohttp>=3.7.4.post0->web3[tester]<7,>=6.0.0->eth-ape) (1.3.3)\n",
            "Requirement already satisfied: yarl<2.0,>=1.0 in /Users/handu/opt/anaconda3/envs/crypto/lib/python3.10/site-packages (from aiohttp>=3.7.4.post0->web3[tester]<7,>=6.0.0->eth-ape) (1.8.2)\n",
            "Requirement already satisfied: attrs>=17.3.0 in /Users/handu/opt/anaconda3/envs/crypto/lib/python3.10/site-packages (from aiohttp>=3.7.4.post0->web3[tester]<7,>=6.0.0->eth-ape) (23.1.0)\n",
            "Requirement already satisfied: toolz>=0.8.0 in /Users/handu/opt/anaconda3/envs/crypto/lib/python3.10/site-packages (from cytoolz>=0.10.1->eth-utils<3,>=2.0.0->eth-ape) (0.12.0)\n",
            "Requirement already satisfied: pycryptodome<4,>=3.6.6 in /Users/handu/opt/anaconda3/envs/crypto/lib/python3.10/site-packages (from eth-hash[pycryptodome]->eip712<0.3,>=0.2.1->eth-ape) (3.17)\n",
            "Requirement already satisfied: parso<0.9.0,>=0.8.0 in /Users/handu/opt/anaconda3/envs/crypto/lib/python3.10/site-packages (from jedi>=0.16->ipython<9,>=8.5.0->eth-ape) (0.8.3)\n",
            "Requirement already satisfied: pyrsistent!=0.17.0,!=0.17.1,!=0.17.2,>=0.14.0 in /Users/handu/opt/anaconda3/envs/crypto/lib/python3.10/site-packages (from jsonschema>=4.0.0->web3[tester]<7,>=6.0.0->eth-ape) (0.19.3)\n",
            "Requirement already satisfied: regex>=2022.3.15 in /Users/handu/opt/anaconda3/envs/crypto/lib/python3.10/site-packages (from parsimonious<0.10.0,>=0.9.0->eth-abi<5,>=4.0.0->eth-ape) (2023.3.23)\n",
            "Requirement already satisfied: ptyprocess>=0.5 in /Users/handu/opt/anaconda3/envs/crypto/lib/python3.10/site-packages (from pexpect>4.3->ipython<9,>=8.5.0->eth-ape) (0.7.0)\n",
            "Requirement already satisfied: wcwidth in /Users/handu/opt/anaconda3/envs/crypto/lib/python3.10/site-packages (from prompt-toolkit!=3.0.37,<3.1.0,>=3.0.30->ipython<9,>=8.5.0->eth-ape) (0.2.6)\n",
            "Requirement already satisfied: py-multibase<2.0.0,>=1.0.0 in /Users/handu/opt/anaconda3/envs/crypto/lib/python3.10/site-packages (from py-cid<0.4,>=0.3.0->ethpm-types<0.5,>=0.4.3->eth-ape) (1.0.3)\n",
            "Requirement already satisfied: py-multicodec<0.3.0 in /Users/handu/opt/anaconda3/envs/crypto/lib/python3.10/site-packages (from py-cid<0.4,>=0.3.0->ethpm-types<0.5,>=0.4.3->eth-ape) (0.2.1)\n",
            "Requirement already satisfied: base58<2.0,>=1.0.2 in /Users/handu/opt/anaconda3/envs/crypto/lib/python3.10/site-packages (from py-cid<0.4,>=0.3.0->ethpm-types<0.5,>=0.4.3->eth-ape) (1.0.3)\n",
            "Requirement already satisfied: py-multihash<1.0.0,>=0.2.0 in /Users/handu/opt/anaconda3/envs/crypto/lib/python3.10/site-packages (from py-cid<0.4,>=0.3.0->ethpm-types<0.5,>=0.4.3->eth-ape) (0.2.3)\n",
            "Requirement already satisfied: morphys<2.0,>=1.0 in /Users/handu/opt/anaconda3/envs/crypto/lib/python3.10/site-packages (from py-cid<0.4,>=0.3.0->ethpm-types<0.5,>=0.4.3->eth-ape) (1.0)\n",
            "Requirement already satisfied: cryptography>=3.4.0 in /Users/handu/opt/anaconda3/envs/crypto/lib/python3.10/site-packages (from pyjwt[crypto]>=2.4.0->PyGithub<2,>=1.54->eth-ape) (40.0.2)\n",
            "Requirement already satisfied: cffi>=1.4.1 in /Users/handu/opt/anaconda3/envs/crypto/lib/python3.10/site-packages (from pynacl>=1.4.0->PyGithub<2,>=1.54->eth-ape) (1.15.1)\n",
            "Requirement already satisfied: wrapt<2,>=1.10 in /Users/handu/opt/anaconda3/envs/crypto/lib/python3.10/site-packages (from deprecated->PyGithub<2,>=1.54->eth-ape) (1.15.0)\n",
            "Requirement already satisfied: executing>=1.2.0 in /Users/handu/opt/anaconda3/envs/crypto/lib/python3.10/site-packages (from stack-data->ipython<9,>=8.5.0->eth-ape) (1.2.0)\n",
            "Requirement already satisfied: pure-eval in /Users/handu/opt/anaconda3/envs/crypto/lib/python3.10/site-packages (from stack-data->ipython<9,>=8.5.0->eth-ape) (0.2.2)\n",
            "Requirement already satisfied: asttokens>=2.1.0 in /Users/handu/opt/anaconda3/envs/crypto/lib/python3.10/site-packages (from stack-data->ipython<9,>=8.5.0->eth-ape) (2.2.1)\n",
            "Requirement already satisfied: pycparser in /Users/handu/opt/anaconda3/envs/crypto/lib/python3.10/site-packages (from cffi>=1.4.1->pynacl>=1.4.0->PyGithub<2,>=1.54->eth-ape) (2.21)\n",
            "Requirement already satisfied: safe-pysha3>=1.0.0 in /Users/handu/opt/anaconda3/envs/crypto/lib/python3.10/site-packages (from eth-hash[pycryptodome]->eip712<0.3,>=0.2.1->eth-ape) (1.0.3)\n",
            "Requirement already satisfied: python-baseconv<2.0,>=1.2.0 in /Users/handu/opt/anaconda3/envs/crypto/lib/python3.10/site-packages (from py-multibase<2.0.0,>=1.0.0->py-cid<0.4,>=0.3.0->ethpm-types<0.5,>=0.4.3->eth-ape) (1.2.2)\n",
            "Requirement already satisfied: varint<2.0.0,>=1.0.2 in /Users/handu/opt/anaconda3/envs/crypto/lib/python3.10/site-packages (from py-multicodec<0.3.0->py-cid<0.4,>=0.3.0->ethpm-types<0.5,>=0.4.3->eth-ape) (1.0.2)\n",
            "Requirement already satisfied: sortedcontainers<3,>=2.1.0 in /Users/handu/opt/anaconda3/envs/crypto/lib/python3.10/site-packages (from trie<3,>=2.0.0->py-evm>=0.6.0a1->evm-trace>=0.1.0a17->eth-ape) (2.4.0)\n",
            "Installing collected packages: python-dotenv, pyparsing, pillow, kiwisolver, fonttools, cycler, contourpy, matplotlib, mplfinance, ape-etherscan, ape-alchemy\n",
            "Successfully installed ape-alchemy-0.6.1 ape-etherscan-0.6.3 contourpy-1.0.7 cycler-0.11.0 fonttools-4.39.3 kiwisolver-1.4.4 matplotlib-3.7.1 mplfinance-0.12.9b7 pillow-9.5.0 pyparsing-3.0.9 python-dotenv-1.0.0\n"
          ]
        }
      ],
      "source": [
        "import pkg_resources\n",
        "try:\n",
        "    pkg_resources.require(['eth-ape','ape-alchemy','ape-etherscan','mplfinance', 'pandas', 'numpy', 'python-dotenv'])\n",
        "    print('All packages installed')\n",
        "except:\n",
        "    !pip3 install eth-ape ape-alchemy ape-etherscan mplfinance pandas numpy python-dotenv"
      ]
    },
    {
      "cell_type": "code",
      "execution_count": 2,
      "id": "b407728b",
      "metadata": {
        "id": "b407728b"
      },
      "outputs": [
        {
          "name": "stderr",
          "output_type": "stream",
          "text": [
            "/Users/handu/opt/anaconda3/envs/crypto/lib/python3.10/site-packages/tqdm/auto.py:21: TqdmWarning: IProgress not found. Please update jupyter and ipywidgets. See https://ipywidgets.readthedocs.io/en/stable/user_install.html\n",
            "  from .autonotebook import tqdm as notebook_tqdm\n"
          ]
        }
      ],
      "source": [
        "import matplotlib.pyplot as plt\n",
        "import mplfinance as mpf\n",
        "import numpy as np\n",
        "import pandas as pd\n",
        "import typing as tp\n",
        "from ape import accounts, chain, Contract, networks"
      ]
    },
    {
      "cell_type": "code",
      "execution_count": 16,
      "id": "u22HsueI9E7Y",
      "metadata": {
        "colab": {
          "base_uri": "https://localhost:8080/"
        },
        "id": "u22HsueI9E7Y",
        "outputId": "2bd1cf8a-53be-47e6-f323-b70f0f11641c"
      },
      "outputs": [
        {
          "data": {
            "text/plain": [
              "True"
            ]
          },
          "execution_count": 16,
          "metadata": {},
          "output_type": "execute_result"
        }
      ],
      "source": [
        "# manually input your keys like this\n",
        "# %env WEB3_ALCHEMY_API_KEY = xxxxxxxxxxxxxxxxxxxxxxxxxxxxxxxx\n",
        "# %env ETHERSCAN_API = xxxxxxxxxxxxxxxxxxxxxxxxxxxxxxxxxx\n",
        "\n",
        "# or load from a separate \".env\" file, which is more secure!\n",
        "from dotenv import load_dotenv\n",
        "load_dotenv()"
      ]
    },
    {
      "cell_type": "code",
      "execution_count": 29,
      "id": "e0a51bfd",
      "metadata": {
        "colab": {
          "base_uri": "https://localhost:8080/"
        },
        "id": "e0a51bfd",
        "outputId": "5687888d-896e-4455-b53c-22b2002f42f3"
      },
      "outputs": [
        {
          "name": "stdout",
          "output_type": "stream",
          "text": [
            "INFO: Connecting to existing Geth node at  https://mainnet.infura.io/v3/a00555d697a0423785aa7a966d88701a.\n",
            "ape version: 0.6.8\n",
            "provider.config of type=<class 'ape_geth.provider.GethConfig'>\n",
            " extra = allow\n"
          ]
        }
      ],
      "source": [
        "context = networks.parse_network_choice('ethereum:mainnet:https://mainnet.infura.io/v3/a00555d697a0423785aa7a966d88701a')\n",
        "context.__enter__()\n",
        "print(f\"ape version: {pkg_resources.get_distribution('eth-ape').version}\")\n",
        "print(f\"provider.config of type={type(context.provider.config)}\")\n",
        "for k,v in context.provider.config.Config.__dict__.items():\n",
        "    if not k.startswith('__'):\n",
        "        print(f\" {k} = {v}\")\n"
      ]
    },
    {
      "cell_type": "code",
      "execution_count": 30,
      "id": "01fd094e",
      "metadata": {},
      "outputs": [
        {
          "name": "stdout",
          "output_type": "stream",
          "text": [
            "plugin_name=alchemy, ecosystem_class=('ethereum', 'mainnet', <class 'ape_alchemy.provider.Alchemy'>)\n",
            "plugin_name=alchemy, ecosystem_class=('ethereum', 'goerli', <class 'ape_alchemy.provider.Alchemy'>)\n",
            "plugin_name=alchemy, ecosystem_class=('ethereum', 'sepolia', <class 'ape_alchemy.provider.Alchemy'>)\n",
            "plugin_name=alchemy, ecosystem_class=('arbitrum', 'mainnet', <class 'ape_alchemy.provider.Alchemy'>)\n",
            "plugin_name=alchemy, ecosystem_class=('arbitrum', 'goerli', <class 'ape_alchemy.provider.Alchemy'>)\n",
            "plugin_name=alchemy, ecosystem_class=('optimism', 'mainnet', <class 'ape_alchemy.provider.Alchemy'>)\n",
            "plugin_name=alchemy, ecosystem_class=('optimism', 'goerli', <class 'ape_alchemy.provider.Alchemy'>)\n",
            "plugin_name=alchemy, ecosystem_class=('polygon', 'mainnet', <class 'ape_alchemy.provider.Alchemy'>)\n",
            "plugin_name=alchemy, ecosystem_class=('polygon', 'mumbai', <class 'ape_alchemy.provider.Alchemy'>)\n",
            "plugin_name=test, ecosystem_class=('ethereum', 'local', <class 'ape_test.provider.LocalProvider'>)\n",
            "plugin_name=geth, ecosystem_class=('ethereum', 'mainnet', <class 'ape_geth.provider.Geth'>)\n",
            "plugin_name=geth, ecosystem_class=('ethereum', 'goerli', <class 'ape_geth.provider.Geth'>)\n",
            "plugin_name=geth, ecosystem_class=('ethereum', 'sepolia', <class 'ape_geth.provider.Geth'>)\n",
            "plugin_name=geth, ecosystem_class=('ethereum', 'local', <class 'ape_geth.provider.GethDev'>)\n"
          ]
        }
      ],
      "source": [
        "for plugin_name, ecosystem_class in context.plugin_manager.providers:\n",
        "    print(f\"plugin_name={plugin_name}, ecosystem_class={ecosystem_class}\")"
      ]
    },
    {
      "cell_type": "code",
      "execution_count": 31,
      "id": "069b902c",
      "metadata": {
        "colab": {
          "base_uri": "https://localhost:8080/"
        },
        "id": "069b902c",
        "outputId": "0bda7f20-00da-4c3c-bcaa-c2ad348f8dd9"
      },
      "outputs": [
        {
          "data": {
            "text/plain": [
              "<TestAccount 0x1e59ce931B4CFea3fe4B875411e280e173cB7A9C>"
            ]
          },
          "execution_count": 31,
          "metadata": {},
          "output_type": "execute_result"
        }
      ],
      "source": [
        "# get account 0\n",
        "dev = accounts.test_accounts[0]\n",
        "dev"
      ]
    },
    {
      "cell_type": "code",
      "execution_count": 32,
      "id": "becacf57",
      "metadata": {
        "colab": {
          "base_uri": "https://localhost:8080/"
        },
        "id": "becacf57",
        "outputId": "7d328b5e-926a-480e-ee02-b2de1c40df4f"
      },
      "outputs": [
        {
          "data": {
            "text/plain": [
              "0"
            ]
          },
          "execution_count": 32,
          "metadata": {},
          "output_type": "execute_result"
        }
      ],
      "source": [
        "# get the balance of account 0\n",
        "dev.balance"
      ]
    },
    {
      "cell_type": "code",
      "execution_count": 33,
      "id": "542dac5f",
      "metadata": {
        "colab": {
          "base_uri": "https://localhost:8080/"
        },
        "id": "542dac5f",
        "outputId": "d735edfb-1e3b-4b7d-c574-0102e34c72b1"
      },
      "outputs": [
        {
          "data": {
            "text/plain": [
              "17067508"
            ]
          },
          "execution_count": 33,
          "metadata": {},
          "output_type": "execute_result"
        }
      ],
      "source": [
        "current_block = chain.blocks[-1].number\n",
        "current_block"
      ]
    },
    {
      "cell_type": "code",
      "execution_count": 34,
      "id": "f558faa8",
      "metadata": {
        "colab": {
          "base_uri": "https://localhost:8080/"
        },
        "id": "f558faa8",
        "outputId": "cb48b02b-e8f8-4feb-86f9-51eae31b5551",
        "scrolled": true
      },
      "outputs": [
        {
          "data": {
            "text/plain": [
              "16419508"
            ]
          },
          "execution_count": 34,
          "metadata": {},
          "output_type": "execute_result"
        }
      ],
      "source": [
        "# determine starting block for the query\n",
        "dblocks = int(86400*90/12) # last 180 d\n",
        "start_block = current_block - dblocks\n",
        "start_block"
      ]
    },
    {
      "cell_type": "code",
      "execution_count": 35,
      "id": "5842fa52",
      "metadata": {
        "colab": {
          "base_uri": "https://localhost:8080/"
        },
        "id": "5842fa52",
        "outputId": "23b22b4a-8365-4ff5-be39-e8d6aab458ac"
      },
      "outputs": [
        {
          "data": {
            "text/plain": [
              "<Vyper_contract 0xDC24316b9AE028F1497c275EB9192a3Ea0f67022>"
            ]
          },
          "execution_count": 35,
          "metadata": {},
          "output_type": "execute_result"
        }
      ],
      "source": [
        "curve_steth = Contract(\"0xDC24316b9AE028F1497c275EB9192a3Ea0f67022\")\n",
        "curve_steth"
      ]
    },
    {
      "cell_type": "code",
      "execution_count": 36,
      "id": "0c9c4c61",
      "metadata": {
        "colab": {
          "base_uri": "https://localhost:8080/"
        },
        "id": "0c9c4c61",
        "outputId": "138bdd8e-1015-4728-a939-915c03a4aa86"
      },
      "outputs": [
        {
          "data": {
            "text/plain": [
              "<Lido 0xae7ab96520DE3A18E5e111B5EaAb095312D7fE84>"
            ]
          },
          "execution_count": 36,
          "metadata": {},
          "output_type": "execute_result"
        }
      ],
      "source": [
        "steth = Contract(\"0xae7ab96520DE3A18E5e111B5EaAb095312D7fE84\")\n",
        "steth"
      ]
    },
    {
      "cell_type": "code",
      "execution_count": 37,
      "id": "efed5dfd",
      "metadata": {
        "id": "efed5dfd",
        "outputId": "9ee5d234-b5a8-4774-e210-33fb21b9a267"
      },
      "outputs": [
        {
          "data": {
            "text/plain": [
              "393710999537239375481237"
            ]
          },
          "execution_count": 37,
          "metadata": {},
          "output_type": "execute_result"
        }
      ],
      "source": [
        "steth.balanceOf(curve_steth)"
      ]
    },
    {
      "cell_type": "code",
      "execution_count": 38,
      "id": "7e281650",
      "metadata": {
        "colab": {
          "base_uri": "https://localhost:8080/"
        },
        "id": "7e281650",
        "outputId": "3d54375f-1834-42ce-84ca-c68ad75aea7f"
      },
      "outputs": [
        {
          "data": {
            "text/plain": [
              "TokenExchange(address indexed buyer, int128 sold_id, uint256 tokens_sold, int128 bought_id, uint256 tokens_bought)"
            ]
          },
          "execution_count": 38,
          "metadata": {},
          "output_type": "execute_result"
        }
      ],
      "source": [
        "curve_steth.TokenExchange"
      ]
    },
    {
      "cell_type": "code",
      "execution_count": 39,
      "id": "f39d35af",
      "metadata": {
        "colab": {
          "base_uri": "https://localhost:8080/"
        },
        "id": "f39d35af",
        "outputId": "b15ddcaf-0c05-472c-9462-3b0b47b202ed"
      },
      "outputs": [
        {
          "data": {
            "text/plain": [
              "ape.contracts.base.ContractEvent"
            ]
          },
          "execution_count": 39,
          "metadata": {},
          "output_type": "execute_result"
        }
      ],
      "source": [
        "type(curve_steth.TokenExchange)"
      ]
    },
    {
      "cell_type": "code",
      "execution_count": 40,
      "id": "629e5e2e",
      "metadata": {
        "colab": {
          "base_uri": "https://localhost:8080/",
          "height": 650
        },
        "id": "629e5e2e",
        "outputId": "6ca67714-d718-4393-c36a-dfee8329ce2a"
      },
      "outputs": [
        {
          "name": "stdout",
          "output_type": "stream",
          "text": [
            "CPU times: user 86.6 ms, sys: 8.67 ms, total: 95.3 ms\n",
            "Wall time: 409 ms\n"
          ]
        },
        {
          "data": {
            "text/html": [
              "<div>\n",
              "<style scoped>\n",
              "    .dataframe tbody tr th:only-of-type {\n",
              "        vertical-align: middle;\n",
              "    }\n",
              "\n",
              "    .dataframe tbody tr th {\n",
              "        vertical-align: top;\n",
              "    }\n",
              "\n",
              "    .dataframe thead th {\n",
              "        text-align: right;\n",
              "    }\n",
              "</style>\n",
              "<table border=\"1\" class=\"dataframe\">\n",
              "  <thead>\n",
              "    <tr style=\"text-align: right;\">\n",
              "      <th></th>\n",
              "      <th>event_name</th>\n",
              "      <th>contract_address</th>\n",
              "      <th>event_arguments</th>\n",
              "      <th>transaction_hash</th>\n",
              "      <th>block_number</th>\n",
              "      <th>block_hash</th>\n",
              "      <th>log_index</th>\n",
              "      <th>transaction_index</th>\n",
              "    </tr>\n",
              "  </thead>\n",
              "  <tbody>\n",
              "    <tr>\n",
              "      <th>0</th>\n",
              "      <td>TokenExchange</td>\n",
              "      <td>0xDC24316b9AE028F1497c275EB9192a3Ea0f67022</td>\n",
              "      <td>{'buyer': '0x00Df529CD3dc337761075FEdBA4576FdA...</td>\n",
              "      <td>0xb801a838cf749f743c26ff0c710344ff4cbcf37b8a0c...</td>\n",
              "      <td>17064624</td>\n",
              "      <td>0x66af28b5250df068968263e72462cf70ec913c95c714...</td>\n",
              "      <td>296</td>\n",
              "      <td>137</td>\n",
              "    </tr>\n",
              "    <tr>\n",
              "      <th>1</th>\n",
              "      <td>TokenExchange</td>\n",
              "      <td>0xDC24316b9AE028F1497c275EB9192a3Ea0f67022</td>\n",
              "      <td>{'buyer': '0x99a58482BD75cbab83b27EC03CA68fF48...</td>\n",
              "      <td>0x0bd4c15e0a3bee51c0a4932491aa10d076d800b509c4...</td>\n",
              "      <td>17064656</td>\n",
              "      <td>0x36f52de51ba8984ceecd53de937c8b5996da65c78dc8...</td>\n",
              "      <td>37</td>\n",
              "      <td>17</td>\n",
              "    </tr>\n",
              "    <tr>\n",
              "      <th>2</th>\n",
              "      <td>TokenExchange</td>\n",
              "      <td>0xDC24316b9AE028F1497c275EB9192a3Ea0f67022</td>\n",
              "      <td>{'buyer': '0xEf0D72C594b28252BF7Ea2bfbF0987924...</td>\n",
              "      <td>0x325a153ec8e0329e29a62ecf2cd427e1a096aaff71b5...</td>\n",
              "      <td>17064744</td>\n",
              "      <td>0x647da2b08881464ba967f61cd4fcd21266b596b4a9e8...</td>\n",
              "      <td>181</td>\n",
              "      <td>102</td>\n",
              "    </tr>\n",
              "    <tr>\n",
              "      <th>3</th>\n",
              "      <td>TokenExchange</td>\n",
              "      <td>0xDC24316b9AE028F1497c275EB9192a3Ea0f67022</td>\n",
              "      <td>{'buyer': '0x99a58482BD75cbab83b27EC03CA68fF48...</td>\n",
              "      <td>0x6caf0cd26ebb866cc58bb45b35a3c97ac32551af93b3...</td>\n",
              "      <td>17064750</td>\n",
              "      <td>0x7a0ca8b756989dedbfecd0bf10572f8fd998d9a7dfb7...</td>\n",
              "      <td>116</td>\n",
              "      <td>14</td>\n",
              "    </tr>\n",
              "    <tr>\n",
              "      <th>4</th>\n",
              "      <td>TokenExchange</td>\n",
              "      <td>0xDC24316b9AE028F1497c275EB9192a3Ea0f67022</td>\n",
              "      <td>{'buyer': '0x357b10A60fd902feDBbCf6492734937Df...</td>\n",
              "      <td>0xe6a9fb62d27e295aea253333c3e7c996219b914c0a8c...</td>\n",
              "      <td>17064764</td>\n",
              "      <td>0x0999ef10f4c2985a6b216161bfc2342e69f67fc63fce...</td>\n",
              "      <td>124</td>\n",
              "      <td>60</td>\n",
              "    </tr>\n",
              "    <tr>\n",
              "      <th>5</th>\n",
              "      <td>TokenExchange</td>\n",
              "      <td>0xDC24316b9AE028F1497c275EB9192a3Ea0f67022</td>\n",
              "      <td>{'buyer': '0x99a58482BD75cbab83b27EC03CA68fF48...</td>\n",
              "      <td>0x46537d78c1fdd655ff555c93555cd6025f9b240f33a6...</td>\n",
              "      <td>17064775</td>\n",
              "      <td>0x692e5e1eb1200adea2014ec4f97891835e20848ff1a1...</td>\n",
              "      <td>44</td>\n",
              "      <td>22</td>\n",
              "    </tr>\n",
              "    <tr>\n",
              "      <th>6</th>\n",
              "      <td>TokenExchange</td>\n",
              "      <td>0xDC24316b9AE028F1497c275EB9192a3Ea0f67022</td>\n",
              "      <td>{'buyer': '0x22F9dCF4647084d6C31b2765F6910cd85...</td>\n",
              "      <td>0xbf2e711a0e3f82beac14c969130c89eccbd43029b9ac...</td>\n",
              "      <td>17064791</td>\n",
              "      <td>0xa283dbbdef05ce2bfbde38081e3a604d6f6fb5c69dd3...</td>\n",
              "      <td>354</td>\n",
              "      <td>131</td>\n",
              "    </tr>\n",
              "    <tr>\n",
              "      <th>7</th>\n",
              "      <td>TokenExchange</td>\n",
              "      <td>0xDC24316b9AE028F1497c275EB9192a3Ea0f67022</td>\n",
              "      <td>{'buyer': '0x22F9dCF4647084d6C31b2765F6910cd85...</td>\n",
              "      <td>0x6a2214c351c2ceab2ee8dcd00dcfc715f150198edba1...</td>\n",
              "      <td>17064920</td>\n",
              "      <td>0xf9e0551ea7ad4437f5bcfa5f99f48b9f0ccfa53e96a2...</td>\n",
              "      <td>111</td>\n",
              "      <td>36</td>\n",
              "    </tr>\n",
              "    <tr>\n",
              "      <th>8</th>\n",
              "      <td>TokenExchange</td>\n",
              "      <td>0xDC24316b9AE028F1497c275EB9192a3Ea0f67022</td>\n",
              "      <td>{'buyer': '0x1136B25047E142Fa3018184793aEc68fB...</td>\n",
              "      <td>0x30747dc41d4f4ad5e3dcb3bf35bb214589046e01de81...</td>\n",
              "      <td>17064957</td>\n",
              "      <td>0x509f6af19e890fa632da5a1a3400284fa2b80559fe7b...</td>\n",
              "      <td>274</td>\n",
              "      <td>102</td>\n",
              "    </tr>\n",
              "    <tr>\n",
              "      <th>9</th>\n",
              "      <td>TokenExchange</td>\n",
              "      <td>0xDC24316b9AE028F1497c275EB9192a3Ea0f67022</td>\n",
              "      <td>{'buyer': '0xf6DEA4f5CCAD6582dfd97799f1c7941a2...</td>\n",
              "      <td>0xd45d329646681e2c3f7b3880e5ad60c7ab091047bfbc...</td>\n",
              "      <td>17064998</td>\n",
              "      <td>0x1786e915b07b288efd0da9520a620dda1f542c5dfb72...</td>\n",
              "      <td>285</td>\n",
              "      <td>82</td>\n",
              "    </tr>\n",
              "    <tr>\n",
              "      <th>10</th>\n",
              "      <td>TokenExchange</td>\n",
              "      <td>0xDC24316b9AE028F1497c275EB9192a3Ea0f67022</td>\n",
              "      <td>{'buyer': '0x99a58482BD75cbab83b27EC03CA68fF48...</td>\n",
              "      <td>0xeddb8bfdb170328395b5cb98ebc43686ac250fed4f2d...</td>\n",
              "      <td>17065029</td>\n",
              "      <td>0x12f31b1d5c34aa572e1fa2362fbda59f567a4db12afe...</td>\n",
              "      <td>83</td>\n",
              "      <td>24</td>\n",
              "    </tr>\n",
              "    <tr>\n",
              "      <th>11</th>\n",
              "      <td>TokenExchange</td>\n",
              "      <td>0xDC24316b9AE028F1497c275EB9192a3Ea0f67022</td>\n",
              "      <td>{'buyer': '0x22F9dCF4647084d6C31b2765F6910cd85...</td>\n",
              "      <td>0xfe42b608be74d10d1d908a4bd7bbea5b4b3ec6175f27...</td>\n",
              "      <td>17065065</td>\n",
              "      <td>0xb2b3620315addfcb7fc25491c40bfe12e63d87fa5aee...</td>\n",
              "      <td>157</td>\n",
              "      <td>118</td>\n",
              "    </tr>\n",
              "    <tr>\n",
              "      <th>12</th>\n",
              "      <td>TokenExchange</td>\n",
              "      <td>0xDC24316b9AE028F1497c275EB9192a3Ea0f67022</td>\n",
              "      <td>{'buyer': '0x99a58482BD75cbab83b27EC03CA68fF48...</td>\n",
              "      <td>0xf0ec5753e96c107045ef7b830d5ff7c5664042004453...</td>\n",
              "      <td>17065213</td>\n",
              "      <td>0x51c5bc848e1446a0fdde943c20cad8efba18c82b99cf...</td>\n",
              "      <td>219</td>\n",
              "      <td>141</td>\n",
              "    </tr>\n",
              "    <tr>\n",
              "      <th>13</th>\n",
              "      <td>TokenExchange</td>\n",
              "      <td>0xDC24316b9AE028F1497c275EB9192a3Ea0f67022</td>\n",
              "      <td>{'buyer': '0xe09801dA4C74e62fB42DFC8303a1C1BD6...</td>\n",
              "      <td>0xfce797aced4c2b6203876f9e0dfa62edd96e08107837...</td>\n",
              "      <td>17065262</td>\n",
              "      <td>0x84f9cdd1e20c6753ca773089228a2f92062932c307ce...</td>\n",
              "      <td>155</td>\n",
              "      <td>100</td>\n",
              "    </tr>\n",
              "    <tr>\n",
              "      <th>14</th>\n",
              "      <td>TokenExchange</td>\n",
              "      <td>0xDC24316b9AE028F1497c275EB9192a3Ea0f67022</td>\n",
              "      <td>{'buyer': '0x99a58482BD75cbab83b27EC03CA68fF48...</td>\n",
              "      <td>0x5bb0db6e9f35125cb210068212cc739796a974e93f1a...</td>\n",
              "      <td>17065298</td>\n",
              "      <td>0x7b96ee662079e3c49cad6825bc8bcbdf35dd637ac7fb...</td>\n",
              "      <td>137</td>\n",
              "      <td>93</td>\n",
              "    </tr>\n",
              "    <tr>\n",
              "      <th>15</th>\n",
              "      <td>TokenExchange</td>\n",
              "      <td>0xDC24316b9AE028F1497c275EB9192a3Ea0f67022</td>\n",
              "      <td>{'buyer': '0x99a58482BD75cbab83b27EC03CA68fF48...</td>\n",
              "      <td>0x35ba2cc257bec7799b2c96605cc11c48e69acc598c2f...</td>\n",
              "      <td>17065301</td>\n",
              "      <td>0x884c355eb749936c35c869f57e0f700c337f48b5f1b6...</td>\n",
              "      <td>227</td>\n",
              "      <td>102</td>\n",
              "    </tr>\n",
              "    <tr>\n",
              "      <th>16</th>\n",
              "      <td>TokenExchange</td>\n",
              "      <td>0xDC24316b9AE028F1497c275EB9192a3Ea0f67022</td>\n",
              "      <td>{'buyer': '0x1136B25047E142Fa3018184793aEc68fB...</td>\n",
              "      <td>0xe33c45a6edf60f393ca9501dd4349dd3d1fe479579c4...</td>\n",
              "      <td>17065352</td>\n",
              "      <td>0x459ca42bda5f1598ddd2ca806c5acb13b67884c94e15...</td>\n",
              "      <td>237</td>\n",
              "      <td>88</td>\n",
              "    </tr>\n",
              "    <tr>\n",
              "      <th>17</th>\n",
              "      <td>TokenExchange</td>\n",
              "      <td>0xDC24316b9AE028F1497c275EB9192a3Ea0f67022</td>\n",
              "      <td>{'buyer': '0x99a58482BD75cbab83b27EC03CA68fF48...</td>\n",
              "      <td>0x04ba12a2d7140a19a13eb237a3c69cb7e482b577677a...</td>\n",
              "      <td>17065362</td>\n",
              "      <td>0x16246566e44460df0cd303399921b0ae58d81d4001d3...</td>\n",
              "      <td>80</td>\n",
              "      <td>40</td>\n",
              "    </tr>\n",
              "    <tr>\n",
              "      <th>18</th>\n",
              "      <td>TokenExchange</td>\n",
              "      <td>0xDC24316b9AE028F1497c275EB9192a3Ea0f67022</td>\n",
              "      <td>{'buyer': '0x99a58482BD75cbab83b27EC03CA68fF48...</td>\n",
              "      <td>0x857eb7d63d7968dcd9445c1aea74c8fea8d1eb7a5135...</td>\n",
              "      <td>17065480</td>\n",
              "      <td>0x80ef1fdd1a1cb686e9bdb2e10459b36fdee4d4a6fd8f...</td>\n",
              "      <td>10</td>\n",
              "      <td>16</td>\n",
              "    </tr>\n",
              "    <tr>\n",
              "      <th>19</th>\n",
              "      <td>TokenExchange</td>\n",
              "      <td>0xDC24316b9AE028F1497c275EB9192a3Ea0f67022</td>\n",
              "      <td>{'buyer': '0x99a58482BD75cbab83b27EC03CA68fF48...</td>\n",
              "      <td>0x23fe6400fc9de32021b7d77924537e45bfae4e29551c...</td>\n",
              "      <td>17065495</td>\n",
              "      <td>0xac2e2e0a1cd1c263c3cf6f3ba449c2992dcdfe780827...</td>\n",
              "      <td>312</td>\n",
              "      <td>69</td>\n",
              "    </tr>\n",
              "    <tr>\n",
              "      <th>20</th>\n",
              "      <td>TokenExchange</td>\n",
              "      <td>0xDC24316b9AE028F1497c275EB9192a3Ea0f67022</td>\n",
              "      <td>{'buyer': '0x9A7E631181F38384737EB39Ef9A39A747...</td>\n",
              "      <td>0xfa4aad79106f7c3746c184c5ecb73ab75aecb019770f...</td>\n",
              "      <td>17065547</td>\n",
              "      <td>0x8aa2198d21bee8db84ea4238a3280071746ef8dee928...</td>\n",
              "      <td>262</td>\n",
              "      <td>135</td>\n",
              "    </tr>\n",
              "    <tr>\n",
              "      <th>21</th>\n",
              "      <td>TokenExchange</td>\n",
              "      <td>0xDC24316b9AE028F1497c275EB9192a3Ea0f67022</td>\n",
              "      <td>{'buyer': '0xceaa6B86274a61291c362f0149F44F3bd...</td>\n",
              "      <td>0xbbdfa060c9711648f3a9aa0457af56bc587240fd04b9...</td>\n",
              "      <td>17065611</td>\n",
              "      <td>0x5011b4a057e548f3a8538f3ec2a24d6ea0c48dc8c9dc...</td>\n",
              "      <td>65</td>\n",
              "      <td>24</td>\n",
              "    </tr>\n",
              "    <tr>\n",
              "      <th>22</th>\n",
              "      <td>TokenExchange</td>\n",
              "      <td>0xDC24316b9AE028F1497c275EB9192a3Ea0f67022</td>\n",
              "      <td>{'buyer': '0x99a58482BD75cbab83b27EC03CA68fF48...</td>\n",
              "      <td>0x13be0c1dc885392fca03e6c7f40d49d30528864554ac...</td>\n",
              "      <td>17065647</td>\n",
              "      <td>0x70b7e9b4b59d0c1a56c5c9d739f63111d288aa47f6ce...</td>\n",
              "      <td>118</td>\n",
              "      <td>148</td>\n",
              "    </tr>\n",
              "    <tr>\n",
              "      <th>23</th>\n",
              "      <td>TokenExchange</td>\n",
              "      <td>0xDC24316b9AE028F1497c275EB9192a3Ea0f67022</td>\n",
              "      <td>{'buyer': '0xb7BB3E5845AE050049a1725712b17c193...</td>\n",
              "      <td>0x0ebe014441f128457b3b6ce2b6908880dff6360c1cc7...</td>\n",
              "      <td>17065668</td>\n",
              "      <td>0x3af5f30fbc78950f081c02d0f33a54a9ff32e12c3719...</td>\n",
              "      <td>56</td>\n",
              "      <td>34</td>\n",
              "    </tr>\n",
              "    <tr>\n",
              "      <th>24</th>\n",
              "      <td>TokenExchange</td>\n",
              "      <td>0xDC24316b9AE028F1497c275EB9192a3Ea0f67022</td>\n",
              "      <td>{'buyer': '0x1136B25047E142Fa3018184793aEc68fB...</td>\n",
              "      <td>0x1477b024b648e82280421bf71ef73ff73b86dbe6342b...</td>\n",
              "      <td>17065675</td>\n",
              "      <td>0x89886aa67663fd59f929af709694b661fbcad9503e50...</td>\n",
              "      <td>242</td>\n",
              "      <td>134</td>\n",
              "    </tr>\n",
              "    <tr>\n",
              "      <th>25</th>\n",
              "      <td>TokenExchange</td>\n",
              "      <td>0xDC24316b9AE028F1497c275EB9192a3Ea0f67022</td>\n",
              "      <td>{'buyer': '0xE8b22a88DEB45C7848d394fd039B8D811...</td>\n",
              "      <td>0x2e040f814c0e5c2b091d9878e156af8a36b1e39a5508...</td>\n",
              "      <td>17065749</td>\n",
              "      <td>0x2b2a5856142f82b7d50162147635dd1dcbe5823e4095...</td>\n",
              "      <td>39</td>\n",
              "      <td>7</td>\n",
              "    </tr>\n",
              "    <tr>\n",
              "      <th>26</th>\n",
              "      <td>TokenExchange</td>\n",
              "      <td>0xDC24316b9AE028F1497c275EB9192a3Ea0f67022</td>\n",
              "      <td>{'buyer': '0x99a58482BD75cbab83b27EC03CA68fF48...</td>\n",
              "      <td>0xd4aab32bc3cb207695843ed87535e78fc75420fd632f...</td>\n",
              "      <td>17065841</td>\n",
              "      <td>0x08b3f9edb4fcb9b76f180ea67398c718cd5f14098299...</td>\n",
              "      <td>69</td>\n",
              "      <td>46</td>\n",
              "    </tr>\n",
              "    <tr>\n",
              "      <th>27</th>\n",
              "      <td>TokenExchange</td>\n",
              "      <td>0xDC24316b9AE028F1497c275EB9192a3Ea0f67022</td>\n",
              "      <td>{'buyer': '0xd95105FfAcF52Bc4757C602e99bafa063...</td>\n",
              "      <td>0xa8ed1f369dbf1abd1764b0c99d4157432997dc1b2609...</td>\n",
              "      <td>17065915</td>\n",
              "      <td>0x05e71ef6b91a83f82ce0874a64e6d5301f64375e6f28...</td>\n",
              "      <td>140</td>\n",
              "      <td>16</td>\n",
              "    </tr>\n",
              "    <tr>\n",
              "      <th>28</th>\n",
              "      <td>TokenExchange</td>\n",
              "      <td>0xDC24316b9AE028F1497c275EB9192a3Ea0f67022</td>\n",
              "      <td>{'buyer': '0x99a58482BD75cbab83b27EC03CA68fF48...</td>\n",
              "      <td>0x57b303cd17cea4def7d0a7ca92b6213894bd0b15a64c...</td>\n",
              "      <td>17065939</td>\n",
              "      <td>0x7a0baee9640f42da895d385af17dc397a82e11eafc85...</td>\n",
              "      <td>51</td>\n",
              "      <td>13</td>\n",
              "    </tr>\n",
              "    <tr>\n",
              "      <th>29</th>\n",
              "      <td>TokenExchange</td>\n",
              "      <td>0xDC24316b9AE028F1497c275EB9192a3Ea0f67022</td>\n",
              "      <td>{'buyer': '0x22F9dCF4647084d6C31b2765F6910cd85...</td>\n",
              "      <td>0x8bfc1ed719fd870302a375f58444ad698f610dd9f94b...</td>\n",
              "      <td>17065961</td>\n",
              "      <td>0x0c2203dadcbc4f0ccb8a8e1cc0e411ff3e2ab7b04e02...</td>\n",
              "      <td>63</td>\n",
              "      <td>8</td>\n",
              "    </tr>\n",
              "    <tr>\n",
              "      <th>30</th>\n",
              "      <td>TokenExchange</td>\n",
              "      <td>0xDC24316b9AE028F1497c275EB9192a3Ea0f67022</td>\n",
              "      <td>{'buyer': '0xdbbbD57030D3BB067293E338305002b1d...</td>\n",
              "      <td>0x30f5fde944ac64d99ed61eaa81a3c9f28c01cc072c3e...</td>\n",
              "      <td>17065995</td>\n",
              "      <td>0x6e1916cdbf1562673fb87bcd9bd43231b7135b4f0680...</td>\n",
              "      <td>142</td>\n",
              "      <td>27</td>\n",
              "    </tr>\n",
              "    <tr>\n",
              "      <th>31</th>\n",
              "      <td>TokenExchange</td>\n",
              "      <td>0xDC24316b9AE028F1497c275EB9192a3Ea0f67022</td>\n",
              "      <td>{'buyer': '0x22F9dCF4647084d6C31b2765F6910cd85...</td>\n",
              "      <td>0x2819357357ed9400faa2d35b8d445bf481289c85500b...</td>\n",
              "      <td>17066007</td>\n",
              "      <td>0x0443f10132aa39e9cc4f92e5fe725cb5d59f6404ebe8...</td>\n",
              "      <td>106</td>\n",
              "      <td>42</td>\n",
              "    </tr>\n",
              "    <tr>\n",
              "      <th>32</th>\n",
              "      <td>TokenExchange</td>\n",
              "      <td>0xDC24316b9AE028F1497c275EB9192a3Ea0f67022</td>\n",
              "      <td>{'buyer': '0x4734D811BAB2F6C3D48aE66CAE80887C3...</td>\n",
              "      <td>0x0d6417847481d018b979e2c5ebac5dfe0538de9f22d8...</td>\n",
              "      <td>17066179</td>\n",
              "      <td>0x9463f8f19f6f9d5bf3188832fc9d7cf626cc56275458...</td>\n",
              "      <td>97</td>\n",
              "      <td>22</td>\n",
              "    </tr>\n",
              "    <tr>\n",
              "      <th>33</th>\n",
              "      <td>TokenExchange</td>\n",
              "      <td>0xDC24316b9AE028F1497c275EB9192a3Ea0f67022</td>\n",
              "      <td>{'buyer': '0x99a58482BD75cbab83b27EC03CA68fF48...</td>\n",
              "      <td>0x2f6ac7cdae0fb2a7d6725174fd0186945ec5429781f8...</td>\n",
              "      <td>17066311</td>\n",
              "      <td>0x4adfd26409ecbcae281c999d4290e7751fdaf9041d43...</td>\n",
              "      <td>148</td>\n",
              "      <td>31</td>\n",
              "    </tr>\n",
              "    <tr>\n",
              "      <th>34</th>\n",
              "      <td>TokenExchange</td>\n",
              "      <td>0xDC24316b9AE028F1497c275EB9192a3Ea0f67022</td>\n",
              "      <td>{'buyer': '0x99a58482BD75cbab83b27EC03CA68fF48...</td>\n",
              "      <td>0x8c75693d146df1de354499e1b8e52163796aed85ea0b...</td>\n",
              "      <td>17066338</td>\n",
              "      <td>0x8a7bfd233d1883c1693267fa5fd0686290ac8dc8ff89...</td>\n",
              "      <td>218</td>\n",
              "      <td>99</td>\n",
              "    </tr>\n",
              "    <tr>\n",
              "      <th>35</th>\n",
              "      <td>TokenExchange</td>\n",
              "      <td>0xDC24316b9AE028F1497c275EB9192a3Ea0f67022</td>\n",
              "      <td>{'buyer': '0xe4614d81Bd262D62b09867c915d556c50...</td>\n",
              "      <td>0xc203efc170f0f7594c95c6e13367e1bfb46213e45f1b...</td>\n",
              "      <td>17066348</td>\n",
              "      <td>0x7b0421359327d5d61646698561be3986bfd7f72ec7a1...</td>\n",
              "      <td>3</td>\n",
              "      <td>3</td>\n",
              "    </tr>\n",
              "    <tr>\n",
              "      <th>36</th>\n",
              "      <td>TokenExchange</td>\n",
              "      <td>0xDC24316b9AE028F1497c275EB9192a3Ea0f67022</td>\n",
              "      <td>{'buyer': '0x99a58482BD75cbab83b27EC03CA68fF48...</td>\n",
              "      <td>0x1d0193a9483a84cc54b698116e650edbe70d20fc84b5...</td>\n",
              "      <td>17066353</td>\n",
              "      <td>0xe67b27b9fce4cc5573d225c7ed5a2cb748a86789ff25...</td>\n",
              "      <td>78</td>\n",
              "      <td>42</td>\n",
              "    </tr>\n",
              "    <tr>\n",
              "      <th>37</th>\n",
              "      <td>TokenExchange</td>\n",
              "      <td>0xDC24316b9AE028F1497c275EB9192a3Ea0f67022</td>\n",
              "      <td>{'buyer': '0x99a58482BD75cbab83b27EC03CA68fF48...</td>\n",
              "      <td>0xe4c0c1ff50c0de7f39ec87afaa920452e2ecb65703f4...</td>\n",
              "      <td>17066375</td>\n",
              "      <td>0x04a4a242c7d49697286a5f00c97d361b886396f351aa...</td>\n",
              "      <td>134</td>\n",
              "      <td>23</td>\n",
              "    </tr>\n",
              "    <tr>\n",
              "      <th>38</th>\n",
              "      <td>TokenExchange</td>\n",
              "      <td>0xDC24316b9AE028F1497c275EB9192a3Ea0f67022</td>\n",
              "      <td>{'buyer': '0x67A0d0f11e7a2CD040f973dAA089E3339...</td>\n",
              "      <td>0xf0e0f3572bb4b996a04635f81de6016157c190e34cf0...</td>\n",
              "      <td>17066392</td>\n",
              "      <td>0x039a6f22d33c55316186ab15ad8a41ced8b98e9a6ba6...</td>\n",
              "      <td>289</td>\n",
              "      <td>125</td>\n",
              "    </tr>\n",
              "    <tr>\n",
              "      <th>39</th>\n",
              "      <td>TokenExchange</td>\n",
              "      <td>0xDC24316b9AE028F1497c275EB9192a3Ea0f67022</td>\n",
              "      <td>{'buyer': '0x22F9dCF4647084d6C31b2765F6910cd85...</td>\n",
              "      <td>0x42d967e605294f1ee2014411a32090275089293b679c...</td>\n",
              "      <td>17066444</td>\n",
              "      <td>0x0f9f141d2a40b0c92fe9ccdcead244af1336e8f8bb07...</td>\n",
              "      <td>206</td>\n",
              "      <td>92</td>\n",
              "    </tr>\n",
              "    <tr>\n",
              "      <th>40</th>\n",
              "      <td>TokenExchange</td>\n",
              "      <td>0xDC24316b9AE028F1497c275EB9192a3Ea0f67022</td>\n",
              "      <td>{'buyer': '0x99a58482BD75cbab83b27EC03CA68fF48...</td>\n",
              "      <td>0x5cfe204444ce1a8a2460c21e51d74ad57c4e529e37c3...</td>\n",
              "      <td>17066463</td>\n",
              "      <td>0xb5a4ce365a653142c06c13dae144a76a4f078b0f6c0e...</td>\n",
              "      <td>68</td>\n",
              "      <td>39</td>\n",
              "    </tr>\n",
              "    <tr>\n",
              "      <th>41</th>\n",
              "      <td>TokenExchange</td>\n",
              "      <td>0xDC24316b9AE028F1497c275EB9192a3Ea0f67022</td>\n",
              "      <td>{'buyer': '0xE3c8A4De3b8A484ff890a38d6D7B5D278...</td>\n",
              "      <td>0x164ba1a6e0baeb8d15e51c08d0c2c4525e1f5cd55796...</td>\n",
              "      <td>17066495</td>\n",
              "      <td>0x2ace191d6c4e345698e9f972d0dcff8304732ae96539...</td>\n",
              "      <td>115</td>\n",
              "      <td>16</td>\n",
              "    </tr>\n",
              "    <tr>\n",
              "      <th>42</th>\n",
              "      <td>TokenExchange</td>\n",
              "      <td>0xDC24316b9AE028F1497c275EB9192a3Ea0f67022</td>\n",
              "      <td>{'buyer': '0x88b7A3AdD41d397911954A8dC7bF8DD4D...</td>\n",
              "      <td>0xcd62b1b5b6fd1190f0be9400381f1c650b3997d31a09...</td>\n",
              "      <td>17066506</td>\n",
              "      <td>0x5b7a6a9950e1ee52782704f71924b572733555b31054...</td>\n",
              "      <td>74</td>\n",
              "      <td>13</td>\n",
              "    </tr>\n",
              "    <tr>\n",
              "      <th>43</th>\n",
              "      <td>TokenExchange</td>\n",
              "      <td>0xDC24316b9AE028F1497c275EB9192a3Ea0f67022</td>\n",
              "      <td>{'buyer': '0x1136B25047E142Fa3018184793aEc68fB...</td>\n",
              "      <td>0x90c85e945a21a80a0f17c251fb20bbb22a2c7d3af4e8...</td>\n",
              "      <td>17066577</td>\n",
              "      <td>0xd3d6a0eba56cff06ad9ee768bf8f59f6e56a3086bfb0...</td>\n",
              "      <td>137</td>\n",
              "      <td>28</td>\n",
              "    </tr>\n",
              "    <tr>\n",
              "      <th>44</th>\n",
              "      <td>TokenExchange</td>\n",
              "      <td>0xDC24316b9AE028F1497c275EB9192a3Ea0f67022</td>\n",
              "      <td>{'buyer': '0x99a58482BD75cbab83b27EC03CA68fF48...</td>\n",
              "      <td>0xf0ecdc5ad62205604df01ba128411544bc2787380dfc...</td>\n",
              "      <td>17066608</td>\n",
              "      <td>0x297f035e8df0f091ab32bc33a33b5beaaf52bb1ceccc...</td>\n",
              "      <td>198</td>\n",
              "      <td>182</td>\n",
              "    </tr>\n",
              "    <tr>\n",
              "      <th>45</th>\n",
              "      <td>TokenExchange</td>\n",
              "      <td>0xDC24316b9AE028F1497c275EB9192a3Ea0f67022</td>\n",
              "      <td>{'buyer': '0x99a58482BD75cbab83b27EC03CA68fF48...</td>\n",
              "      <td>0x16057a7845045e1b066204798198317f8b5852494920...</td>\n",
              "      <td>17066708</td>\n",
              "      <td>0xd29fa92469b1e1dc384204e127bcf2e1ddea0e6aa042...</td>\n",
              "      <td>235</td>\n",
              "      <td>110</td>\n",
              "    </tr>\n",
              "    <tr>\n",
              "      <th>46</th>\n",
              "      <td>TokenExchange</td>\n",
              "      <td>0xDC24316b9AE028F1497c275EB9192a3Ea0f67022</td>\n",
              "      <td>{'buyer': '0x7Ad7c8af1e6f4a2E894FB39f8ff67e433...</td>\n",
              "      <td>0x752546eebbb902b294701826408f211f61c3ae4c8523...</td>\n",
              "      <td>17066920</td>\n",
              "      <td>0xf838e8997139dc345fb809ae46f11fbf95dbc9633437...</td>\n",
              "      <td>268</td>\n",
              "      <td>143</td>\n",
              "    </tr>\n",
              "    <tr>\n",
              "      <th>47</th>\n",
              "      <td>TokenExchange</td>\n",
              "      <td>0xDC24316b9AE028F1497c275EB9192a3Ea0f67022</td>\n",
              "      <td>{'buyer': '0x99a58482BD75cbab83b27EC03CA68fF48...</td>\n",
              "      <td>0xa6e55b6be2ff5bd2da3da6106d1dfda0c51eae974f4d...</td>\n",
              "      <td>17066937</td>\n",
              "      <td>0xeab9ed375e6e7cc2d54b514acd23c4e48758e5fb225d...</td>\n",
              "      <td>139</td>\n",
              "      <td>74</td>\n",
              "    </tr>\n",
              "    <tr>\n",
              "      <th>48</th>\n",
              "      <td>TokenExchange</td>\n",
              "      <td>0xDC24316b9AE028F1497c275EB9192a3Ea0f67022</td>\n",
              "      <td>{'buyer': '0x1136B25047E142Fa3018184793aEc68fB...</td>\n",
              "      <td>0xc330176373df2f44601aee73d8804e589faba5b636fc...</td>\n",
              "      <td>17066998</td>\n",
              "      <td>0x58676bef01df7e5330ca242400e9c7a64eb41b9b7226...</td>\n",
              "      <td>217</td>\n",
              "      <td>95</td>\n",
              "    </tr>\n",
              "    <tr>\n",
              "      <th>49</th>\n",
              "      <td>TokenExchange</td>\n",
              "      <td>0xDC24316b9AE028F1497c275EB9192a3Ea0f67022</td>\n",
              "      <td>{'buyer': '0x22F9dCF4647084d6C31b2765F6910cd85...</td>\n",
              "      <td>0x56200a86bcb305844c2d2a9d1ac1aef46b7d6c01f438...</td>\n",
              "      <td>17067020</td>\n",
              "      <td>0x261bd371ee2896ae7406ad7355832c0707a05abc0d49...</td>\n",
              "      <td>97</td>\n",
              "      <td>33</td>\n",
              "    </tr>\n",
              "    <tr>\n",
              "      <th>50</th>\n",
              "      <td>TokenExchange</td>\n",
              "      <td>0xDC24316b9AE028F1497c275EB9192a3Ea0f67022</td>\n",
              "      <td>{'buyer': '0xcf0de9100187325d2dA34ABB5556C361C...</td>\n",
              "      <td>0xc21a68ea7ea8863b176bc14ef8c18e248bcff5be0958...</td>\n",
              "      <td>17067041</td>\n",
              "      <td>0x8c767c3d9a487206e96e9f4697a98bb3003a926d9cf7...</td>\n",
              "      <td>190</td>\n",
              "      <td>90</td>\n",
              "    </tr>\n",
              "    <tr>\n",
              "      <th>51</th>\n",
              "      <td>TokenExchange</td>\n",
              "      <td>0xDC24316b9AE028F1497c275EB9192a3Ea0f67022</td>\n",
              "      <td>{'buyer': '0xe4614d81Bd262D62b09867c915d556c50...</td>\n",
              "      <td>0xffc7630a6cb5edfa31f28642a77f1ec5d5b73d0db0fb...</td>\n",
              "      <td>17067168</td>\n",
              "      <td>0xcf59d0d6742ba54ac0b6896e4add1c894d3bfa5bd43b...</td>\n",
              "      <td>96</td>\n",
              "      <td>44</td>\n",
              "    </tr>\n",
              "    <tr>\n",
              "      <th>52</th>\n",
              "      <td>TokenExchange</td>\n",
              "      <td>0xDC24316b9AE028F1497c275EB9192a3Ea0f67022</td>\n",
              "      <td>{'buyer': '0x69cE8721790Edbdcd2b4155D853d99d26...</td>\n",
              "      <td>0xbaac688eae191dc3a1be81df35ed489f0474302fd081...</td>\n",
              "      <td>17067244</td>\n",
              "      <td>0x14ad419ae258431cdc469444530c6463358fe5410360...</td>\n",
              "      <td>145</td>\n",
              "      <td>81</td>\n",
              "    </tr>\n",
              "    <tr>\n",
              "      <th>53</th>\n",
              "      <td>TokenExchange</td>\n",
              "      <td>0xDC24316b9AE028F1497c275EB9192a3Ea0f67022</td>\n",
              "      <td>{'buyer': '0xd669621C0F97B11f8E74Fa57bBF7e33dF...</td>\n",
              "      <td>0xfb33b672ee9b0d75dab8b07b1287149be1025ddde436...</td>\n",
              "      <td>17067297</td>\n",
              "      <td>0x8a7c712ea7f6e43568380aa09d61f358e67b2c972121...</td>\n",
              "      <td>353</td>\n",
              "      <td>171</td>\n",
              "    </tr>\n",
              "    <tr>\n",
              "      <th>54</th>\n",
              "      <td>TokenExchange</td>\n",
              "      <td>0xDC24316b9AE028F1497c275EB9192a3Ea0f67022</td>\n",
              "      <td>{'buyer': '0x99a58482BD75cbab83b27EC03CA68fF48...</td>\n",
              "      <td>0xfe7706b3e574315b0695421b1a6ce36c9279cd9bb23c...</td>\n",
              "      <td>17067431</td>\n",
              "      <td>0x2a2ddf3419e41ecfee8ec9dd5d6ef3f0296f76c662ed...</td>\n",
              "      <td>296</td>\n",
              "      <td>168</td>\n",
              "    </tr>\n",
              "    <tr>\n",
              "      <th>55</th>\n",
              "      <td>TokenExchange</td>\n",
              "      <td>0xDC24316b9AE028F1497c275EB9192a3Ea0f67022</td>\n",
              "      <td>{'buyer': '0x1136B25047E142Fa3018184793aEc68fB...</td>\n",
              "      <td>0xdec83a86ed81f12c61344f9d50690f45ce17b70edbbc...</td>\n",
              "      <td>17067489</td>\n",
              "      <td>0x9a393a4804b93cd53d540e0d6d82f81d1deaafeb8a79...</td>\n",
              "      <td>50</td>\n",
              "      <td>13</td>\n",
              "    </tr>\n",
              "  </tbody>\n",
              "</table>\n",
              "</div>"
            ],
            "text/plain": [
              "       event_name                            contract_address  \\\n",
              "0   TokenExchange  0xDC24316b9AE028F1497c275EB9192a3Ea0f67022   \n",
              "1   TokenExchange  0xDC24316b9AE028F1497c275EB9192a3Ea0f67022   \n",
              "2   TokenExchange  0xDC24316b9AE028F1497c275EB9192a3Ea0f67022   \n",
              "3   TokenExchange  0xDC24316b9AE028F1497c275EB9192a3Ea0f67022   \n",
              "4   TokenExchange  0xDC24316b9AE028F1497c275EB9192a3Ea0f67022   \n",
              "5   TokenExchange  0xDC24316b9AE028F1497c275EB9192a3Ea0f67022   \n",
              "6   TokenExchange  0xDC24316b9AE028F1497c275EB9192a3Ea0f67022   \n",
              "7   TokenExchange  0xDC24316b9AE028F1497c275EB9192a3Ea0f67022   \n",
              "8   TokenExchange  0xDC24316b9AE028F1497c275EB9192a3Ea0f67022   \n",
              "9   TokenExchange  0xDC24316b9AE028F1497c275EB9192a3Ea0f67022   \n",
              "10  TokenExchange  0xDC24316b9AE028F1497c275EB9192a3Ea0f67022   \n",
              "11  TokenExchange  0xDC24316b9AE028F1497c275EB9192a3Ea0f67022   \n",
              "12  TokenExchange  0xDC24316b9AE028F1497c275EB9192a3Ea0f67022   \n",
              "13  TokenExchange  0xDC24316b9AE028F1497c275EB9192a3Ea0f67022   \n",
              "14  TokenExchange  0xDC24316b9AE028F1497c275EB9192a3Ea0f67022   \n",
              "15  TokenExchange  0xDC24316b9AE028F1497c275EB9192a3Ea0f67022   \n",
              "16  TokenExchange  0xDC24316b9AE028F1497c275EB9192a3Ea0f67022   \n",
              "17  TokenExchange  0xDC24316b9AE028F1497c275EB9192a3Ea0f67022   \n",
              "18  TokenExchange  0xDC24316b9AE028F1497c275EB9192a3Ea0f67022   \n",
              "19  TokenExchange  0xDC24316b9AE028F1497c275EB9192a3Ea0f67022   \n",
              "20  TokenExchange  0xDC24316b9AE028F1497c275EB9192a3Ea0f67022   \n",
              "21  TokenExchange  0xDC24316b9AE028F1497c275EB9192a3Ea0f67022   \n",
              "22  TokenExchange  0xDC24316b9AE028F1497c275EB9192a3Ea0f67022   \n",
              "23  TokenExchange  0xDC24316b9AE028F1497c275EB9192a3Ea0f67022   \n",
              "24  TokenExchange  0xDC24316b9AE028F1497c275EB9192a3Ea0f67022   \n",
              "25  TokenExchange  0xDC24316b9AE028F1497c275EB9192a3Ea0f67022   \n",
              "26  TokenExchange  0xDC24316b9AE028F1497c275EB9192a3Ea0f67022   \n",
              "27  TokenExchange  0xDC24316b9AE028F1497c275EB9192a3Ea0f67022   \n",
              "28  TokenExchange  0xDC24316b9AE028F1497c275EB9192a3Ea0f67022   \n",
              "29  TokenExchange  0xDC24316b9AE028F1497c275EB9192a3Ea0f67022   \n",
              "30  TokenExchange  0xDC24316b9AE028F1497c275EB9192a3Ea0f67022   \n",
              "31  TokenExchange  0xDC24316b9AE028F1497c275EB9192a3Ea0f67022   \n",
              "32  TokenExchange  0xDC24316b9AE028F1497c275EB9192a3Ea0f67022   \n",
              "33  TokenExchange  0xDC24316b9AE028F1497c275EB9192a3Ea0f67022   \n",
              "34  TokenExchange  0xDC24316b9AE028F1497c275EB9192a3Ea0f67022   \n",
              "35  TokenExchange  0xDC24316b9AE028F1497c275EB9192a3Ea0f67022   \n",
              "36  TokenExchange  0xDC24316b9AE028F1497c275EB9192a3Ea0f67022   \n",
              "37  TokenExchange  0xDC24316b9AE028F1497c275EB9192a3Ea0f67022   \n",
              "38  TokenExchange  0xDC24316b9AE028F1497c275EB9192a3Ea0f67022   \n",
              "39  TokenExchange  0xDC24316b9AE028F1497c275EB9192a3Ea0f67022   \n",
              "40  TokenExchange  0xDC24316b9AE028F1497c275EB9192a3Ea0f67022   \n",
              "41  TokenExchange  0xDC24316b9AE028F1497c275EB9192a3Ea0f67022   \n",
              "42  TokenExchange  0xDC24316b9AE028F1497c275EB9192a3Ea0f67022   \n",
              "43  TokenExchange  0xDC24316b9AE028F1497c275EB9192a3Ea0f67022   \n",
              "44  TokenExchange  0xDC24316b9AE028F1497c275EB9192a3Ea0f67022   \n",
              "45  TokenExchange  0xDC24316b9AE028F1497c275EB9192a3Ea0f67022   \n",
              "46  TokenExchange  0xDC24316b9AE028F1497c275EB9192a3Ea0f67022   \n",
              "47  TokenExchange  0xDC24316b9AE028F1497c275EB9192a3Ea0f67022   \n",
              "48  TokenExchange  0xDC24316b9AE028F1497c275EB9192a3Ea0f67022   \n",
              "49  TokenExchange  0xDC24316b9AE028F1497c275EB9192a3Ea0f67022   \n",
              "50  TokenExchange  0xDC24316b9AE028F1497c275EB9192a3Ea0f67022   \n",
              "51  TokenExchange  0xDC24316b9AE028F1497c275EB9192a3Ea0f67022   \n",
              "52  TokenExchange  0xDC24316b9AE028F1497c275EB9192a3Ea0f67022   \n",
              "53  TokenExchange  0xDC24316b9AE028F1497c275EB9192a3Ea0f67022   \n",
              "54  TokenExchange  0xDC24316b9AE028F1497c275EB9192a3Ea0f67022   \n",
              "55  TokenExchange  0xDC24316b9AE028F1497c275EB9192a3Ea0f67022   \n",
              "\n",
              "                                      event_arguments  \\\n",
              "0   {'buyer': '0x00Df529CD3dc337761075FEdBA4576FdA...   \n",
              "1   {'buyer': '0x99a58482BD75cbab83b27EC03CA68fF48...   \n",
              "2   {'buyer': '0xEf0D72C594b28252BF7Ea2bfbF0987924...   \n",
              "3   {'buyer': '0x99a58482BD75cbab83b27EC03CA68fF48...   \n",
              "4   {'buyer': '0x357b10A60fd902feDBbCf6492734937Df...   \n",
              "5   {'buyer': '0x99a58482BD75cbab83b27EC03CA68fF48...   \n",
              "6   {'buyer': '0x22F9dCF4647084d6C31b2765F6910cd85...   \n",
              "7   {'buyer': '0x22F9dCF4647084d6C31b2765F6910cd85...   \n",
              "8   {'buyer': '0x1136B25047E142Fa3018184793aEc68fB...   \n",
              "9   {'buyer': '0xf6DEA4f5CCAD6582dfd97799f1c7941a2...   \n",
              "10  {'buyer': '0x99a58482BD75cbab83b27EC03CA68fF48...   \n",
              "11  {'buyer': '0x22F9dCF4647084d6C31b2765F6910cd85...   \n",
              "12  {'buyer': '0x99a58482BD75cbab83b27EC03CA68fF48...   \n",
              "13  {'buyer': '0xe09801dA4C74e62fB42DFC8303a1C1BD6...   \n",
              "14  {'buyer': '0x99a58482BD75cbab83b27EC03CA68fF48...   \n",
              "15  {'buyer': '0x99a58482BD75cbab83b27EC03CA68fF48...   \n",
              "16  {'buyer': '0x1136B25047E142Fa3018184793aEc68fB...   \n",
              "17  {'buyer': '0x99a58482BD75cbab83b27EC03CA68fF48...   \n",
              "18  {'buyer': '0x99a58482BD75cbab83b27EC03CA68fF48...   \n",
              "19  {'buyer': '0x99a58482BD75cbab83b27EC03CA68fF48...   \n",
              "20  {'buyer': '0x9A7E631181F38384737EB39Ef9A39A747...   \n",
              "21  {'buyer': '0xceaa6B86274a61291c362f0149F44F3bd...   \n",
              "22  {'buyer': '0x99a58482BD75cbab83b27EC03CA68fF48...   \n",
              "23  {'buyer': '0xb7BB3E5845AE050049a1725712b17c193...   \n",
              "24  {'buyer': '0x1136B25047E142Fa3018184793aEc68fB...   \n",
              "25  {'buyer': '0xE8b22a88DEB45C7848d394fd039B8D811...   \n",
              "26  {'buyer': '0x99a58482BD75cbab83b27EC03CA68fF48...   \n",
              "27  {'buyer': '0xd95105FfAcF52Bc4757C602e99bafa063...   \n",
              "28  {'buyer': '0x99a58482BD75cbab83b27EC03CA68fF48...   \n",
              "29  {'buyer': '0x22F9dCF4647084d6C31b2765F6910cd85...   \n",
              "30  {'buyer': '0xdbbbD57030D3BB067293E338305002b1d...   \n",
              "31  {'buyer': '0x22F9dCF4647084d6C31b2765F6910cd85...   \n",
              "32  {'buyer': '0x4734D811BAB2F6C3D48aE66CAE80887C3...   \n",
              "33  {'buyer': '0x99a58482BD75cbab83b27EC03CA68fF48...   \n",
              "34  {'buyer': '0x99a58482BD75cbab83b27EC03CA68fF48...   \n",
              "35  {'buyer': '0xe4614d81Bd262D62b09867c915d556c50...   \n",
              "36  {'buyer': '0x99a58482BD75cbab83b27EC03CA68fF48...   \n",
              "37  {'buyer': '0x99a58482BD75cbab83b27EC03CA68fF48...   \n",
              "38  {'buyer': '0x67A0d0f11e7a2CD040f973dAA089E3339...   \n",
              "39  {'buyer': '0x22F9dCF4647084d6C31b2765F6910cd85...   \n",
              "40  {'buyer': '0x99a58482BD75cbab83b27EC03CA68fF48...   \n",
              "41  {'buyer': '0xE3c8A4De3b8A484ff890a38d6D7B5D278...   \n",
              "42  {'buyer': '0x88b7A3AdD41d397911954A8dC7bF8DD4D...   \n",
              "43  {'buyer': '0x1136B25047E142Fa3018184793aEc68fB...   \n",
              "44  {'buyer': '0x99a58482BD75cbab83b27EC03CA68fF48...   \n",
              "45  {'buyer': '0x99a58482BD75cbab83b27EC03CA68fF48...   \n",
              "46  {'buyer': '0x7Ad7c8af1e6f4a2E894FB39f8ff67e433...   \n",
              "47  {'buyer': '0x99a58482BD75cbab83b27EC03CA68fF48...   \n",
              "48  {'buyer': '0x1136B25047E142Fa3018184793aEc68fB...   \n",
              "49  {'buyer': '0x22F9dCF4647084d6C31b2765F6910cd85...   \n",
              "50  {'buyer': '0xcf0de9100187325d2dA34ABB5556C361C...   \n",
              "51  {'buyer': '0xe4614d81Bd262D62b09867c915d556c50...   \n",
              "52  {'buyer': '0x69cE8721790Edbdcd2b4155D853d99d26...   \n",
              "53  {'buyer': '0xd669621C0F97B11f8E74Fa57bBF7e33dF...   \n",
              "54  {'buyer': '0x99a58482BD75cbab83b27EC03CA68fF48...   \n",
              "55  {'buyer': '0x1136B25047E142Fa3018184793aEc68fB...   \n",
              "\n",
              "                                     transaction_hash  block_number  \\\n",
              "0   0xb801a838cf749f743c26ff0c710344ff4cbcf37b8a0c...      17064624   \n",
              "1   0x0bd4c15e0a3bee51c0a4932491aa10d076d800b509c4...      17064656   \n",
              "2   0x325a153ec8e0329e29a62ecf2cd427e1a096aaff71b5...      17064744   \n",
              "3   0x6caf0cd26ebb866cc58bb45b35a3c97ac32551af93b3...      17064750   \n",
              "4   0xe6a9fb62d27e295aea253333c3e7c996219b914c0a8c...      17064764   \n",
              "5   0x46537d78c1fdd655ff555c93555cd6025f9b240f33a6...      17064775   \n",
              "6   0xbf2e711a0e3f82beac14c969130c89eccbd43029b9ac...      17064791   \n",
              "7   0x6a2214c351c2ceab2ee8dcd00dcfc715f150198edba1...      17064920   \n",
              "8   0x30747dc41d4f4ad5e3dcb3bf35bb214589046e01de81...      17064957   \n",
              "9   0xd45d329646681e2c3f7b3880e5ad60c7ab091047bfbc...      17064998   \n",
              "10  0xeddb8bfdb170328395b5cb98ebc43686ac250fed4f2d...      17065029   \n",
              "11  0xfe42b608be74d10d1d908a4bd7bbea5b4b3ec6175f27...      17065065   \n",
              "12  0xf0ec5753e96c107045ef7b830d5ff7c5664042004453...      17065213   \n",
              "13  0xfce797aced4c2b6203876f9e0dfa62edd96e08107837...      17065262   \n",
              "14  0x5bb0db6e9f35125cb210068212cc739796a974e93f1a...      17065298   \n",
              "15  0x35ba2cc257bec7799b2c96605cc11c48e69acc598c2f...      17065301   \n",
              "16  0xe33c45a6edf60f393ca9501dd4349dd3d1fe479579c4...      17065352   \n",
              "17  0x04ba12a2d7140a19a13eb237a3c69cb7e482b577677a...      17065362   \n",
              "18  0x857eb7d63d7968dcd9445c1aea74c8fea8d1eb7a5135...      17065480   \n",
              "19  0x23fe6400fc9de32021b7d77924537e45bfae4e29551c...      17065495   \n",
              "20  0xfa4aad79106f7c3746c184c5ecb73ab75aecb019770f...      17065547   \n",
              "21  0xbbdfa060c9711648f3a9aa0457af56bc587240fd04b9...      17065611   \n",
              "22  0x13be0c1dc885392fca03e6c7f40d49d30528864554ac...      17065647   \n",
              "23  0x0ebe014441f128457b3b6ce2b6908880dff6360c1cc7...      17065668   \n",
              "24  0x1477b024b648e82280421bf71ef73ff73b86dbe6342b...      17065675   \n",
              "25  0x2e040f814c0e5c2b091d9878e156af8a36b1e39a5508...      17065749   \n",
              "26  0xd4aab32bc3cb207695843ed87535e78fc75420fd632f...      17065841   \n",
              "27  0xa8ed1f369dbf1abd1764b0c99d4157432997dc1b2609...      17065915   \n",
              "28  0x57b303cd17cea4def7d0a7ca92b6213894bd0b15a64c...      17065939   \n",
              "29  0x8bfc1ed719fd870302a375f58444ad698f610dd9f94b...      17065961   \n",
              "30  0x30f5fde944ac64d99ed61eaa81a3c9f28c01cc072c3e...      17065995   \n",
              "31  0x2819357357ed9400faa2d35b8d445bf481289c85500b...      17066007   \n",
              "32  0x0d6417847481d018b979e2c5ebac5dfe0538de9f22d8...      17066179   \n",
              "33  0x2f6ac7cdae0fb2a7d6725174fd0186945ec5429781f8...      17066311   \n",
              "34  0x8c75693d146df1de354499e1b8e52163796aed85ea0b...      17066338   \n",
              "35  0xc203efc170f0f7594c95c6e13367e1bfb46213e45f1b...      17066348   \n",
              "36  0x1d0193a9483a84cc54b698116e650edbe70d20fc84b5...      17066353   \n",
              "37  0xe4c0c1ff50c0de7f39ec87afaa920452e2ecb65703f4...      17066375   \n",
              "38  0xf0e0f3572bb4b996a04635f81de6016157c190e34cf0...      17066392   \n",
              "39  0x42d967e605294f1ee2014411a32090275089293b679c...      17066444   \n",
              "40  0x5cfe204444ce1a8a2460c21e51d74ad57c4e529e37c3...      17066463   \n",
              "41  0x164ba1a6e0baeb8d15e51c08d0c2c4525e1f5cd55796...      17066495   \n",
              "42  0xcd62b1b5b6fd1190f0be9400381f1c650b3997d31a09...      17066506   \n",
              "43  0x90c85e945a21a80a0f17c251fb20bbb22a2c7d3af4e8...      17066577   \n",
              "44  0xf0ecdc5ad62205604df01ba128411544bc2787380dfc...      17066608   \n",
              "45  0x16057a7845045e1b066204798198317f8b5852494920...      17066708   \n",
              "46  0x752546eebbb902b294701826408f211f61c3ae4c8523...      17066920   \n",
              "47  0xa6e55b6be2ff5bd2da3da6106d1dfda0c51eae974f4d...      17066937   \n",
              "48  0xc330176373df2f44601aee73d8804e589faba5b636fc...      17066998   \n",
              "49  0x56200a86bcb305844c2d2a9d1ac1aef46b7d6c01f438...      17067020   \n",
              "50  0xc21a68ea7ea8863b176bc14ef8c18e248bcff5be0958...      17067041   \n",
              "51  0xffc7630a6cb5edfa31f28642a77f1ec5d5b73d0db0fb...      17067168   \n",
              "52  0xbaac688eae191dc3a1be81df35ed489f0474302fd081...      17067244   \n",
              "53  0xfb33b672ee9b0d75dab8b07b1287149be1025ddde436...      17067297   \n",
              "54  0xfe7706b3e574315b0695421b1a6ce36c9279cd9bb23c...      17067431   \n",
              "55  0xdec83a86ed81f12c61344f9d50690f45ce17b70edbbc...      17067489   \n",
              "\n",
              "                                           block_hash  log_index  \\\n",
              "0   0x66af28b5250df068968263e72462cf70ec913c95c714...        296   \n",
              "1   0x36f52de51ba8984ceecd53de937c8b5996da65c78dc8...         37   \n",
              "2   0x647da2b08881464ba967f61cd4fcd21266b596b4a9e8...        181   \n",
              "3   0x7a0ca8b756989dedbfecd0bf10572f8fd998d9a7dfb7...        116   \n",
              "4   0x0999ef10f4c2985a6b216161bfc2342e69f67fc63fce...        124   \n",
              "5   0x692e5e1eb1200adea2014ec4f97891835e20848ff1a1...         44   \n",
              "6   0xa283dbbdef05ce2bfbde38081e3a604d6f6fb5c69dd3...        354   \n",
              "7   0xf9e0551ea7ad4437f5bcfa5f99f48b9f0ccfa53e96a2...        111   \n",
              "8   0x509f6af19e890fa632da5a1a3400284fa2b80559fe7b...        274   \n",
              "9   0x1786e915b07b288efd0da9520a620dda1f542c5dfb72...        285   \n",
              "10  0x12f31b1d5c34aa572e1fa2362fbda59f567a4db12afe...         83   \n",
              "11  0xb2b3620315addfcb7fc25491c40bfe12e63d87fa5aee...        157   \n",
              "12  0x51c5bc848e1446a0fdde943c20cad8efba18c82b99cf...        219   \n",
              "13  0x84f9cdd1e20c6753ca773089228a2f92062932c307ce...        155   \n",
              "14  0x7b96ee662079e3c49cad6825bc8bcbdf35dd637ac7fb...        137   \n",
              "15  0x884c355eb749936c35c869f57e0f700c337f48b5f1b6...        227   \n",
              "16  0x459ca42bda5f1598ddd2ca806c5acb13b67884c94e15...        237   \n",
              "17  0x16246566e44460df0cd303399921b0ae58d81d4001d3...         80   \n",
              "18  0x80ef1fdd1a1cb686e9bdb2e10459b36fdee4d4a6fd8f...         10   \n",
              "19  0xac2e2e0a1cd1c263c3cf6f3ba449c2992dcdfe780827...        312   \n",
              "20  0x8aa2198d21bee8db84ea4238a3280071746ef8dee928...        262   \n",
              "21  0x5011b4a057e548f3a8538f3ec2a24d6ea0c48dc8c9dc...         65   \n",
              "22  0x70b7e9b4b59d0c1a56c5c9d739f63111d288aa47f6ce...        118   \n",
              "23  0x3af5f30fbc78950f081c02d0f33a54a9ff32e12c3719...         56   \n",
              "24  0x89886aa67663fd59f929af709694b661fbcad9503e50...        242   \n",
              "25  0x2b2a5856142f82b7d50162147635dd1dcbe5823e4095...         39   \n",
              "26  0x08b3f9edb4fcb9b76f180ea67398c718cd5f14098299...         69   \n",
              "27  0x05e71ef6b91a83f82ce0874a64e6d5301f64375e6f28...        140   \n",
              "28  0x7a0baee9640f42da895d385af17dc397a82e11eafc85...         51   \n",
              "29  0x0c2203dadcbc4f0ccb8a8e1cc0e411ff3e2ab7b04e02...         63   \n",
              "30  0x6e1916cdbf1562673fb87bcd9bd43231b7135b4f0680...        142   \n",
              "31  0x0443f10132aa39e9cc4f92e5fe725cb5d59f6404ebe8...        106   \n",
              "32  0x9463f8f19f6f9d5bf3188832fc9d7cf626cc56275458...         97   \n",
              "33  0x4adfd26409ecbcae281c999d4290e7751fdaf9041d43...        148   \n",
              "34  0x8a7bfd233d1883c1693267fa5fd0686290ac8dc8ff89...        218   \n",
              "35  0x7b0421359327d5d61646698561be3986bfd7f72ec7a1...          3   \n",
              "36  0xe67b27b9fce4cc5573d225c7ed5a2cb748a86789ff25...         78   \n",
              "37  0x04a4a242c7d49697286a5f00c97d361b886396f351aa...        134   \n",
              "38  0x039a6f22d33c55316186ab15ad8a41ced8b98e9a6ba6...        289   \n",
              "39  0x0f9f141d2a40b0c92fe9ccdcead244af1336e8f8bb07...        206   \n",
              "40  0xb5a4ce365a653142c06c13dae144a76a4f078b0f6c0e...         68   \n",
              "41  0x2ace191d6c4e345698e9f972d0dcff8304732ae96539...        115   \n",
              "42  0x5b7a6a9950e1ee52782704f71924b572733555b31054...         74   \n",
              "43  0xd3d6a0eba56cff06ad9ee768bf8f59f6e56a3086bfb0...        137   \n",
              "44  0x297f035e8df0f091ab32bc33a33b5beaaf52bb1ceccc...        198   \n",
              "45  0xd29fa92469b1e1dc384204e127bcf2e1ddea0e6aa042...        235   \n",
              "46  0xf838e8997139dc345fb809ae46f11fbf95dbc9633437...        268   \n",
              "47  0xeab9ed375e6e7cc2d54b514acd23c4e48758e5fb225d...        139   \n",
              "48  0x58676bef01df7e5330ca242400e9c7a64eb41b9b7226...        217   \n",
              "49  0x261bd371ee2896ae7406ad7355832c0707a05abc0d49...         97   \n",
              "50  0x8c767c3d9a487206e96e9f4697a98bb3003a926d9cf7...        190   \n",
              "51  0xcf59d0d6742ba54ac0b6896e4add1c894d3bfa5bd43b...         96   \n",
              "52  0x14ad419ae258431cdc469444530c6463358fe5410360...        145   \n",
              "53  0x8a7c712ea7f6e43568380aa09d61f358e67b2c972121...        353   \n",
              "54  0x2a2ddf3419e41ecfee8ec9dd5d6ef3f0296f76c662ed...        296   \n",
              "55  0x9a393a4804b93cd53d540e0d6d82f81d1deaafeb8a79...         50   \n",
              "\n",
              "    transaction_index  \n",
              "0                 137  \n",
              "1                  17  \n",
              "2                 102  \n",
              "3                  14  \n",
              "4                  60  \n",
              "5                  22  \n",
              "6                 131  \n",
              "7                  36  \n",
              "8                 102  \n",
              "9                  82  \n",
              "10                 24  \n",
              "11                118  \n",
              "12                141  \n",
              "13                100  \n",
              "14                 93  \n",
              "15                102  \n",
              "16                 88  \n",
              "17                 40  \n",
              "18                 16  \n",
              "19                 69  \n",
              "20                135  \n",
              "21                 24  \n",
              "22                148  \n",
              "23                 34  \n",
              "24                134  \n",
              "25                  7  \n",
              "26                 46  \n",
              "27                 16  \n",
              "28                 13  \n",
              "29                  8  \n",
              "30                 27  \n",
              "31                 42  \n",
              "32                 22  \n",
              "33                 31  \n",
              "34                 99  \n",
              "35                  3  \n",
              "36                 42  \n",
              "37                 23  \n",
              "38                125  \n",
              "39                 92  \n",
              "40                 39  \n",
              "41                 16  \n",
              "42                 13  \n",
              "43                 28  \n",
              "44                182  \n",
              "45                110  \n",
              "46                143  \n",
              "47                 74  \n",
              "48                 95  \n",
              "49                 33  \n",
              "50                 90  \n",
              "51                 44  \n",
              "52                 81  \n",
              "53                171  \n",
              "54                168  \n",
              "55                 13  "
            ]
          },
          "execution_count": 40,
          "metadata": {},
          "output_type": "execute_result"
        }
      ],
      "source": [
        "%time query_swaps_recent = curve_steth.TokenExchange.query(\"*\", start_block=current_block-3000) # last 10 hr\n",
        "query_swaps_recent"
      ]
    },
    {
      "cell_type": "code",
      "execution_count": 41,
      "id": "12886651",
      "metadata": {
        "id": "12886651",
        "outputId": "50d99287-d668-4427-f540-6aa764d085e8"
      },
      "outputs": [
        {
          "data": {
            "text/plain": [
              "pandas.core.frame.DataFrame"
            ]
          },
          "execution_count": 41,
          "metadata": {},
          "output_type": "execute_result"
        }
      ],
      "source": [
        "# sweet, very cool :)\n",
        "type(query_swaps_recent)"
      ]
    },
    {
      "cell_type": "code",
      "execution_count": 42,
      "id": "61f9b0b8",
      "metadata": {
        "id": "61f9b0b8",
        "outputId": "4e0a4fd2-cb26-428b-f452-e5ba0c0b726c"
      },
      "outputs": [
        {
          "data": {
            "text/plain": [
              "0    {'buyer': '0x00Df529CD3dc337761075FEdBA4576FdA...\n",
              "1    {'buyer': '0x99a58482BD75cbab83b27EC03CA68fF48...\n",
              "2    {'buyer': '0xEf0D72C594b28252BF7Ea2bfbF0987924...\n",
              "3    {'buyer': '0x99a58482BD75cbab83b27EC03CA68fF48...\n",
              "4    {'buyer': '0x357b10A60fd902feDBbCf6492734937Df...\n",
              "5    {'buyer': '0x99a58482BD75cbab83b27EC03CA68fF48...\n",
              "6    {'buyer': '0x22F9dCF4647084d6C31b2765F6910cd85...\n",
              "7    {'buyer': '0x22F9dCF4647084d6C31b2765F6910cd85...\n",
              "8    {'buyer': '0x1136B25047E142Fa3018184793aEc68fB...\n",
              "9    {'buyer': '0xf6DEA4f5CCAD6582dfd97799f1c7941a2...\n",
              "Name: event_arguments, dtype: object"
            ]
          },
          "execution_count": 42,
          "metadata": {},
          "output_type": "execute_result"
        }
      ],
      "source": [
        "# take a deeper dive into event arguments column. it's a pandas series\n",
        "query_swaps_recent[\"event_arguments\"][:10]"
      ]
    },
    {
      "cell_type": "code",
      "execution_count": 43,
      "id": "abffe356",
      "metadata": {
        "id": "abffe356",
        "outputId": "3212a68f-93c0-4796-c631-ba82a2674342"
      },
      "outputs": [
        {
          "data": {
            "text/plain": [
              "pandas.core.series.Series"
            ]
          },
          "execution_count": 43,
          "metadata": {},
          "output_type": "execute_result"
        }
      ],
      "source": [
        "type(query_swaps_recent[\"event_arguments\"])"
      ]
    },
    {
      "cell_type": "code",
      "execution_count": 44,
      "id": "2e5079a8",
      "metadata": {
        "id": "2e5079a8",
        "outputId": "18933181-b8a2-414d-be34-4f1829034016"
      },
      "outputs": [
        {
          "data": {
            "text/plain": [
              "{'buyer': '0x1136B25047E142Fa3018184793aEc68fBB173cE4',\n",
              " 'sold_id': 1,\n",
              " 'tokens_sold': 2000000000000000001,\n",
              " 'bought_id': 0,\n",
              " 'tokens_bought': 1998309472753507351}"
            ]
          },
          "execution_count": 44,
          "metadata": {},
          "output_type": "execute_result"
        }
      ],
      "source": [
        "query_swaps_recent[\"event_arguments\"].iloc[-1]"
      ]
    },
    {
      "cell_type": "code",
      "execution_count": 45,
      "id": "29580294",
      "metadata": {
        "id": "29580294",
        "outputId": "20c9ebf4-9c31-4c21-ed4c-fd3a93e887d6"
      },
      "outputs": [
        {
          "name": "stdout",
          "output_type": "stream",
          "text": [
            "CPU times: user 4.41 s, sys: 242 ms, total: 4.65 s\n",
            "Wall time: 5.31 s\n"
          ]
        },
        {
          "data": {
            "text/html": [
              "<div>\n",
              "<style scoped>\n",
              "    .dataframe tbody tr th:only-of-type {\n",
              "        vertical-align: middle;\n",
              "    }\n",
              "\n",
              "    .dataframe tbody tr th {\n",
              "        vertical-align: top;\n",
              "    }\n",
              "\n",
              "    .dataframe thead th {\n",
              "        text-align: right;\n",
              "    }\n",
              "</style>\n",
              "<table border=\"1\" class=\"dataframe\">\n",
              "  <thead>\n",
              "    <tr style=\"text-align: right;\">\n",
              "      <th></th>\n",
              "      <th>event_name</th>\n",
              "      <th>contract_address</th>\n",
              "      <th>event_arguments</th>\n",
              "      <th>transaction_hash</th>\n",
              "      <th>block_number</th>\n",
              "      <th>block_hash</th>\n",
              "      <th>log_index</th>\n",
              "      <th>transaction_index</th>\n",
              "    </tr>\n",
              "  </thead>\n",
              "  <tbody>\n",
              "    <tr>\n",
              "      <th>0</th>\n",
              "      <td>TokenExchange</td>\n",
              "      <td>0xDC24316b9AE028F1497c275EB9192a3Ea0f67022</td>\n",
              "      <td>{'buyer': '0x6A08E13a340Bf901B1625E3e2fd471fEf...</td>\n",
              "      <td>0xfaaade56c19b1a3f84d24e81da8f265da65f49895ef7...</td>\n",
              "      <td>16419539</td>\n",
              "      <td>0xa2b704c860343aef60e0f4852dd17cdf6d113d2ddca7...</td>\n",
              "      <td>145</td>\n",
              "      <td>76</td>\n",
              "    </tr>\n",
              "    <tr>\n",
              "      <th>1</th>\n",
              "      <td>TokenExchange</td>\n",
              "      <td>0xDC24316b9AE028F1497c275EB9192a3Ea0f67022</td>\n",
              "      <td>{'buyer': '0x22F9dCF4647084d6C31b2765F6910cd85...</td>\n",
              "      <td>0xdfb4ddc3f3e5ccbe1f515e0f30e352aa985f04c0ffaf...</td>\n",
              "      <td>16419576</td>\n",
              "      <td>0x91233f8bd289f7bc07d854da08d2f9f16cd48a3f8e3b...</td>\n",
              "      <td>85</td>\n",
              "      <td>53</td>\n",
              "    </tr>\n",
              "    <tr>\n",
              "      <th>2</th>\n",
              "      <td>TokenExchange</td>\n",
              "      <td>0xDC24316b9AE028F1497c275EB9192a3Ea0f67022</td>\n",
              "      <td>{'buyer': '0x99a58482BD75cbab83b27EC03CA68fF48...</td>\n",
              "      <td>0x59cd7a7282f901b47bce0852c70200e0f4c5503ae253...</td>\n",
              "      <td>16419593</td>\n",
              "      <td>0xca03b6456f7b08708ef8f70a9189a9b894efad3fa051...</td>\n",
              "      <td>14</td>\n",
              "      <td>4</td>\n",
              "    </tr>\n",
              "    <tr>\n",
              "      <th>3</th>\n",
              "      <td>TokenExchange</td>\n",
              "      <td>0xDC24316b9AE028F1497c275EB9192a3Ea0f67022</td>\n",
              "      <td>{'buyer': '0x22F9dCF4647084d6C31b2765F6910cd85...</td>\n",
              "      <td>0x6be0c0ce2f4dc27d1a47fedc0d5adf522f318f5d1239...</td>\n",
              "      <td>16419609</td>\n",
              "      <td>0x9a4f133d31a82511d94ea52eecad498e2b5276f6ed68...</td>\n",
              "      <td>69</td>\n",
              "      <td>32</td>\n",
              "    </tr>\n",
              "    <tr>\n",
              "      <th>4</th>\n",
              "      <td>TokenExchange</td>\n",
              "      <td>0xDC24316b9AE028F1497c275EB9192a3Ea0f67022</td>\n",
              "      <td>{'buyer': '0x99a58482BD75cbab83b27EC03CA68fF48...</td>\n",
              "      <td>0x62c5f2e331d1e7afdea2c5908f4322ddb2677e0da65d...</td>\n",
              "      <td>16419615</td>\n",
              "      <td>0x38f93d16eb4d1ad1c8f211a7e92688402f25b1dacea4...</td>\n",
              "      <td>47</td>\n",
              "      <td>22</td>\n",
              "    </tr>\n",
              "    <tr>\n",
              "      <th>...</th>\n",
              "      <td>...</td>\n",
              "      <td>...</td>\n",
              "      <td>...</td>\n",
              "      <td>...</td>\n",
              "      <td>...</td>\n",
              "      <td>...</td>\n",
              "      <td>...</td>\n",
              "      <td>...</td>\n",
              "    </tr>\n",
              "    <tr>\n",
              "      <th>13255</th>\n",
              "      <td>TokenExchange</td>\n",
              "      <td>0xDC24316b9AE028F1497c275EB9192a3Ea0f67022</td>\n",
              "      <td>{'buyer': '0xe4614d81Bd262D62b09867c915d556c50...</td>\n",
              "      <td>0xffc7630a6cb5edfa31f28642a77f1ec5d5b73d0db0fb...</td>\n",
              "      <td>17067168</td>\n",
              "      <td>0xcf59d0d6742ba54ac0b6896e4add1c894d3bfa5bd43b...</td>\n",
              "      <td>96</td>\n",
              "      <td>44</td>\n",
              "    </tr>\n",
              "    <tr>\n",
              "      <th>13256</th>\n",
              "      <td>TokenExchange</td>\n",
              "      <td>0xDC24316b9AE028F1497c275EB9192a3Ea0f67022</td>\n",
              "      <td>{'buyer': '0x69cE8721790Edbdcd2b4155D853d99d26...</td>\n",
              "      <td>0xbaac688eae191dc3a1be81df35ed489f0474302fd081...</td>\n",
              "      <td>17067244</td>\n",
              "      <td>0x14ad419ae258431cdc469444530c6463358fe5410360...</td>\n",
              "      <td>145</td>\n",
              "      <td>81</td>\n",
              "    </tr>\n",
              "    <tr>\n",
              "      <th>13257</th>\n",
              "      <td>TokenExchange</td>\n",
              "      <td>0xDC24316b9AE028F1497c275EB9192a3Ea0f67022</td>\n",
              "      <td>{'buyer': '0xd669621C0F97B11f8E74Fa57bBF7e33dF...</td>\n",
              "      <td>0xfb33b672ee9b0d75dab8b07b1287149be1025ddde436...</td>\n",
              "      <td>17067297</td>\n",
              "      <td>0x8a7c712ea7f6e43568380aa09d61f358e67b2c972121...</td>\n",
              "      <td>353</td>\n",
              "      <td>171</td>\n",
              "    </tr>\n",
              "    <tr>\n",
              "      <th>13258</th>\n",
              "      <td>TokenExchange</td>\n",
              "      <td>0xDC24316b9AE028F1497c275EB9192a3Ea0f67022</td>\n",
              "      <td>{'buyer': '0x99a58482BD75cbab83b27EC03CA68fF48...</td>\n",
              "      <td>0xfe7706b3e574315b0695421b1a6ce36c9279cd9bb23c...</td>\n",
              "      <td>17067431</td>\n",
              "      <td>0x2a2ddf3419e41ecfee8ec9dd5d6ef3f0296f76c662ed...</td>\n",
              "      <td>296</td>\n",
              "      <td>168</td>\n",
              "    </tr>\n",
              "    <tr>\n",
              "      <th>13259</th>\n",
              "      <td>TokenExchange</td>\n",
              "      <td>0xDC24316b9AE028F1497c275EB9192a3Ea0f67022</td>\n",
              "      <td>{'buyer': '0x1136B25047E142Fa3018184793aEc68fB...</td>\n",
              "      <td>0xdec83a86ed81f12c61344f9d50690f45ce17b70edbbc...</td>\n",
              "      <td>17067489</td>\n",
              "      <td>0x9a393a4804b93cd53d540e0d6d82f81d1deaafeb8a79...</td>\n",
              "      <td>50</td>\n",
              "      <td>13</td>\n",
              "    </tr>\n",
              "  </tbody>\n",
              "</table>\n",
              "<p>13260 rows × 8 columns</p>\n",
              "</div>"
            ],
            "text/plain": [
              "          event_name                            contract_address  \\\n",
              "0      TokenExchange  0xDC24316b9AE028F1497c275EB9192a3Ea0f67022   \n",
              "1      TokenExchange  0xDC24316b9AE028F1497c275EB9192a3Ea0f67022   \n",
              "2      TokenExchange  0xDC24316b9AE028F1497c275EB9192a3Ea0f67022   \n",
              "3      TokenExchange  0xDC24316b9AE028F1497c275EB9192a3Ea0f67022   \n",
              "4      TokenExchange  0xDC24316b9AE028F1497c275EB9192a3Ea0f67022   \n",
              "...              ...                                         ...   \n",
              "13255  TokenExchange  0xDC24316b9AE028F1497c275EB9192a3Ea0f67022   \n",
              "13256  TokenExchange  0xDC24316b9AE028F1497c275EB9192a3Ea0f67022   \n",
              "13257  TokenExchange  0xDC24316b9AE028F1497c275EB9192a3Ea0f67022   \n",
              "13258  TokenExchange  0xDC24316b9AE028F1497c275EB9192a3Ea0f67022   \n",
              "13259  TokenExchange  0xDC24316b9AE028F1497c275EB9192a3Ea0f67022   \n",
              "\n",
              "                                         event_arguments  \\\n",
              "0      {'buyer': '0x6A08E13a340Bf901B1625E3e2fd471fEf...   \n",
              "1      {'buyer': '0x22F9dCF4647084d6C31b2765F6910cd85...   \n",
              "2      {'buyer': '0x99a58482BD75cbab83b27EC03CA68fF48...   \n",
              "3      {'buyer': '0x22F9dCF4647084d6C31b2765F6910cd85...   \n",
              "4      {'buyer': '0x99a58482BD75cbab83b27EC03CA68fF48...   \n",
              "...                                                  ...   \n",
              "13255  {'buyer': '0xe4614d81Bd262D62b09867c915d556c50...   \n",
              "13256  {'buyer': '0x69cE8721790Edbdcd2b4155D853d99d26...   \n",
              "13257  {'buyer': '0xd669621C0F97B11f8E74Fa57bBF7e33dF...   \n",
              "13258  {'buyer': '0x99a58482BD75cbab83b27EC03CA68fF48...   \n",
              "13259  {'buyer': '0x1136B25047E142Fa3018184793aEc68fB...   \n",
              "\n",
              "                                        transaction_hash  block_number  \\\n",
              "0      0xfaaade56c19b1a3f84d24e81da8f265da65f49895ef7...      16419539   \n",
              "1      0xdfb4ddc3f3e5ccbe1f515e0f30e352aa985f04c0ffaf...      16419576   \n",
              "2      0x59cd7a7282f901b47bce0852c70200e0f4c5503ae253...      16419593   \n",
              "3      0x6be0c0ce2f4dc27d1a47fedc0d5adf522f318f5d1239...      16419609   \n",
              "4      0x62c5f2e331d1e7afdea2c5908f4322ddb2677e0da65d...      16419615   \n",
              "...                                                  ...           ...   \n",
              "13255  0xffc7630a6cb5edfa31f28642a77f1ec5d5b73d0db0fb...      17067168   \n",
              "13256  0xbaac688eae191dc3a1be81df35ed489f0474302fd081...      17067244   \n",
              "13257  0xfb33b672ee9b0d75dab8b07b1287149be1025ddde436...      17067297   \n",
              "13258  0xfe7706b3e574315b0695421b1a6ce36c9279cd9bb23c...      17067431   \n",
              "13259  0xdec83a86ed81f12c61344f9d50690f45ce17b70edbbc...      17067489   \n",
              "\n",
              "                                              block_hash  log_index  \\\n",
              "0      0xa2b704c860343aef60e0f4852dd17cdf6d113d2ddca7...        145   \n",
              "1      0x91233f8bd289f7bc07d854da08d2f9f16cd48a3f8e3b...         85   \n",
              "2      0xca03b6456f7b08708ef8f70a9189a9b894efad3fa051...         14   \n",
              "3      0x9a4f133d31a82511d94ea52eecad498e2b5276f6ed68...         69   \n",
              "4      0x38f93d16eb4d1ad1c8f211a7e92688402f25b1dacea4...         47   \n",
              "...                                                  ...        ...   \n",
              "13255  0xcf59d0d6742ba54ac0b6896e4add1c894d3bfa5bd43b...         96   \n",
              "13256  0x14ad419ae258431cdc469444530c6463358fe5410360...        145   \n",
              "13257  0x8a7c712ea7f6e43568380aa09d61f358e67b2c972121...        353   \n",
              "13258  0x2a2ddf3419e41ecfee8ec9dd5d6ef3f0296f76c662ed...        296   \n",
              "13259  0x9a393a4804b93cd53d540e0d6d82f81d1deaafeb8a79...         50   \n",
              "\n",
              "       transaction_index  \n",
              "0                     76  \n",
              "1                     53  \n",
              "2                      4  \n",
              "3                     32  \n",
              "4                     22  \n",
              "...                  ...  \n",
              "13255                 44  \n",
              "13256                 81  \n",
              "13257                171  \n",
              "13258                168  \n",
              "13259                 13  \n",
              "\n",
              "[13260 rows x 8 columns]"
            ]
          },
          "execution_count": 45,
          "metadata": {},
          "output_type": "execute_result"
        }
      ],
      "source": [
        "# ok great. let's look a bit further into the past to start_block from above. see how long it takes\n",
        "%time query_swaps_original = curve_steth.TokenExchange.query(\"*\", start_block=start_block)\n",
        "query_swaps_original"
      ]
    },
    {
      "cell_type": "code",
      "execution_count": 46,
      "id": "a09591e3",
      "metadata": {
        "id": "a09591e3"
      },
      "outputs": [],
      "source": [
        "query_swaps = query_swaps_original.copy()"
      ]
    },
    {
      "cell_type": "code",
      "execution_count": 47,
      "id": "11b8e5ca",
      "metadata": {
        "id": "11b8e5ca",
        "outputId": "c8ad66ce-4517-45af-e8fe-29d059cadbd2"
      },
      "outputs": [
        {
          "data": {
            "text/plain": [
              "['0xEeeeeEeeeEeEeeEeEeEeeEEEeeeeEeeeeeeeEEeE',\n",
              " '0xae7ab96520DE3A18E5e111B5EaAb095312D7fE84']"
            ]
          },
          "execution_count": 47,
          "metadata": {},
          "output_type": "execute_result"
        }
      ],
      "source": [
        "# get coin indices:\n",
        "#  - 0 = ETH (native)\n",
        "#  - 1 = stETH\n",
        "coin_indices = [curve_steth.coins(i) for i in range(2)]\n",
        "coin_indices"
      ]
    },
    {
      "cell_type": "code",
      "execution_count": 48,
      "id": "65b54df5",
      "metadata": {
        "id": "65b54df5",
        "outputId": "7f11c1f7-98df-4038-a657-52045e22a692"
      },
      "outputs": [
        {
          "data": {
            "text/plain": [
              "True"
            ]
          },
          "execution_count": 48,
          "metadata": {},
          "output_type": "execute_result"
        }
      ],
      "source": [
        "steth.address == coin_indices[-1]"
      ]
    },
    {
      "cell_type": "code",
      "execution_count": 49,
      "id": "a1801ec8",
      "metadata": {
        "id": "a1801ec8",
        "outputId": "f051e810-5af7-4479-c712-928141bbeba1"
      },
      "outputs": [
        {
          "data": {
            "text/plain": [
              "0.0004"
            ]
          },
          "execution_count": 49,
          "metadata": {},
          "output_type": "execute_result"
        }
      ],
      "source": [
        "# cache the fee to calculate associated price correctly (prior to fees applied)\n",
        "curve_steth_fee = curve_steth.fee() / 1e10  # fee denom is 1e10\n",
        "curve_steth_fee"
      ]
    },
    {
      "cell_type": "code",
      "execution_count": 50,
      "id": "9db01db2",
      "metadata": {
        "id": "9db01db2",
        "outputId": "6d115ba4-cd75-449d-e995-bec06e224a2f"
      },
      "outputs": [
        {
          "name": "stdout",
          "output_type": "stream",
          "text": [
            "last swap event: {'buyer': '0x1136B25047E142Fa3018184793aEc68fBB173cE4', 'sold_id': 1, 'tokens_sold': 2000000000000000001, 'bought_id': 0, 'tokens_bought': 1998309472753507351}\n",
            "price: 0.9995543982713043\n"
          ]
        }
      ],
      "source": [
        "# if sold_id == 1, then selling stETH for ETH, which is price wanted\n",
        "#  i.e. quote = <ETH>, base = <stETH>\n",
        "last_swap = query_swaps[\"event_arguments\"].iloc[-1]\n",
        "print('last swap event:', last_swap)\n",
        "\n",
        "last_price = last_swap['tokens_bought'] * (1+curve_steth_fee) / last_swap['tokens_sold']\n",
        "if last_swap['sold_id'] == 0:\n",
        "    last_price = 1 / last_price\n",
        "print('price:', last_price)"
      ]
    },
    {
      "cell_type": "code",
      "execution_count": 54,
      "id": "05daceae",
      "metadata": {
        "id": "05daceae"
      },
      "outputs": [],
      "source": [
        "# write a function that iterates over event_arguments to calculate marginal price from last token swap\n",
        "def get_price(event_args: dict) -> float:\n",
        "    try:\n",
        "        price = event_args['tokens_bought'] * (1+curve_steth_fee) / event_args['tokens_sold']\n",
        "    except:\n",
        "        price = -1\n",
        "        pass\n",
        "    if event_args['sold_id'] == 0:\n",
        "        try: \n",
        "            price = 1 / price\n",
        "        except:\n",
        "            price = -1\n",
        "            pass\n",
        "    return price"
      ]
    },
    {
      "cell_type": "code",
      "execution_count": 55,
      "id": "8f06306a",
      "metadata": {
        "id": "8f06306a",
        "outputId": "3f5df51d-f7ca-40ec-9832-3127e7504d14"
      },
      "outputs": [
        {
          "data": {
            "text/plain": [
              "True"
            ]
          },
          "execution_count": 55,
          "metadata": {},
          "output_type": "execute_result"
        }
      ],
      "source": [
        "# validate with logic in cell above for last price\n",
        "get_price(query_swaps[\"event_arguments\"].iloc[-1]) == last_price"
      ]
    },
    {
      "cell_type": "code",
      "execution_count": 56,
      "id": "18eede99",
      "metadata": {
        "id": "18eede99",
        "outputId": "93da2148-fed2-4df1-9191-52902d44b568"
      },
      "outputs": [
        {
          "ename": "ZeroDivisionError",
          "evalue": "float division by zero",
          "output_type": "error",
          "traceback": [
            "\u001b[0;31m---------------------------------------------------------------------------\u001b[0m",
            "\u001b[0;31mZeroDivisionError\u001b[0m                         Traceback (most recent call last)",
            "Cell \u001b[0;32mIn[56], line 2\u001b[0m\n\u001b[1;32m      1\u001b[0m \u001b[38;5;66;03m# create new column with marginal price (stETH as base and ETH as quote, so should be at a discount)\u001b[39;00m\n\u001b[0;32m----> 2\u001b[0m query_swaps[\u001b[38;5;124m'\u001b[39m\u001b[38;5;124mprice (STETH/ETH)\u001b[39m\u001b[38;5;124m'\u001b[39m] \u001b[38;5;241m=\u001b[39m \u001b[43mquery_swaps\u001b[49m\u001b[43m[\u001b[49m\u001b[38;5;124;43m'\u001b[39;49m\u001b[38;5;124;43mevent_arguments\u001b[39;49m\u001b[38;5;124;43m'\u001b[39;49m\u001b[43m]\u001b[49m\u001b[38;5;241;43m.\u001b[39;49m\u001b[43mapply\u001b[49m\u001b[43m(\u001b[49m\u001b[43mget_price\u001b[49m\u001b[43m)\u001b[49m\n\u001b[1;32m      3\u001b[0m query_swaps\n",
            "File \u001b[0;32m~/opt/anaconda3/envs/crypto/lib/python3.10/site-packages/pandas/core/series.py:4771\u001b[0m, in \u001b[0;36mSeries.apply\u001b[0;34m(self, func, convert_dtype, args, **kwargs)\u001b[0m\n\u001b[1;32m   4661\u001b[0m \u001b[39mdef\u001b[39;00m \u001b[39mapply\u001b[39m(\n\u001b[1;32m   4662\u001b[0m     \u001b[39mself\u001b[39m,\n\u001b[1;32m   4663\u001b[0m     func: AggFuncType,\n\u001b[0;32m   (...)\u001b[0m\n\u001b[1;32m   4666\u001b[0m     \u001b[39m*\u001b[39m\u001b[39m*\u001b[39mkwargs,\n\u001b[1;32m   4667\u001b[0m ) \u001b[39m-\u001b[39m\u001b[39m>\u001b[39m DataFrame \u001b[39m|\u001b[39m Series:\n\u001b[1;32m   4668\u001b[0m     \u001b[39m\"\"\"\u001b[39;00m\n\u001b[1;32m   4669\u001b[0m \u001b[39m    Invoke function on values of Series.\u001b[39;00m\n\u001b[1;32m   4670\u001b[0m \n\u001b[0;32m   (...)\u001b[0m\n\u001b[1;32m   4769\u001b[0m \u001b[39m    dtype: float64\u001b[39;00m\n\u001b[1;32m   4770\u001b[0m \u001b[39m    \"\"\"\u001b[39;00m\n\u001b[0;32m-> 4771\u001b[0m     \u001b[39mreturn\u001b[39;00m SeriesApply(\u001b[39mself\u001b[39;49m, func, convert_dtype, args, kwargs)\u001b[39m.\u001b[39;49mapply()\n",
            "File \u001b[0;32m~/opt/anaconda3/envs/crypto/lib/python3.10/site-packages/pandas/core/apply.py:1123\u001b[0m, in \u001b[0;36mSeriesApply.apply\u001b[0;34m(self)\u001b[0m\n\u001b[1;32m   1120\u001b[0m     \u001b[39mreturn\u001b[39;00m \u001b[39mself\u001b[39m\u001b[39m.\u001b[39mapply_str()\n\u001b[1;32m   1122\u001b[0m \u001b[39m# self.f is Callable\u001b[39;00m\n\u001b[0;32m-> 1123\u001b[0m \u001b[39mreturn\u001b[39;00m \u001b[39mself\u001b[39;49m\u001b[39m.\u001b[39;49mapply_standard()\n",
            "File \u001b[0;32m~/opt/anaconda3/envs/crypto/lib/python3.10/site-packages/pandas/core/apply.py:1174\u001b[0m, in \u001b[0;36mSeriesApply.apply_standard\u001b[0;34m(self)\u001b[0m\n\u001b[1;32m   1172\u001b[0m     \u001b[39melse\u001b[39;00m:\n\u001b[1;32m   1173\u001b[0m         values \u001b[39m=\u001b[39m obj\u001b[39m.\u001b[39mastype(\u001b[39mobject\u001b[39m)\u001b[39m.\u001b[39m_values\n\u001b[0;32m-> 1174\u001b[0m         mapped \u001b[39m=\u001b[39m lib\u001b[39m.\u001b[39;49mmap_infer(\n\u001b[1;32m   1175\u001b[0m             values,\n\u001b[1;32m   1176\u001b[0m             f,\n\u001b[1;32m   1177\u001b[0m             convert\u001b[39m=\u001b[39;49m\u001b[39mself\u001b[39;49m\u001b[39m.\u001b[39;49mconvert_dtype,\n\u001b[1;32m   1178\u001b[0m         )\n\u001b[1;32m   1180\u001b[0m \u001b[39mif\u001b[39;00m \u001b[39mlen\u001b[39m(mapped) \u001b[39mand\u001b[39;00m \u001b[39misinstance\u001b[39m(mapped[\u001b[39m0\u001b[39m], ABCSeries):\n\u001b[1;32m   1181\u001b[0m     \u001b[39m# GH#43986 Need to do list(mapped) in order to get treated as nested\u001b[39;00m\n\u001b[1;32m   1182\u001b[0m     \u001b[39m#  See also GH#25959 regarding EA support\u001b[39;00m\n\u001b[1;32m   1183\u001b[0m     \u001b[39mreturn\u001b[39;00m obj\u001b[39m.\u001b[39m_constructor_expanddim(\u001b[39mlist\u001b[39m(mapped), index\u001b[39m=\u001b[39mobj\u001b[39m.\u001b[39mindex)\n",
            "File \u001b[0;32m~/opt/anaconda3/envs/crypto/lib/python3.10/site-packages/pandas/_libs/lib.pyx:2924\u001b[0m, in \u001b[0;36mpandas._libs.lib.map_infer\u001b[0;34m()\u001b[0m\n",
            "Cell \u001b[0;32mIn[54], line 3\u001b[0m, in \u001b[0;36mget_price\u001b[0;34m(event_args)\u001b[0m\n\u001b[1;32m      2\u001b[0m \u001b[38;5;28;01mdef\u001b[39;00m \u001b[38;5;21mget_price\u001b[39m(event_args: \u001b[38;5;28mdict\u001b[39m) \u001b[38;5;241m-\u001b[39m\u001b[38;5;241m>\u001b[39m \u001b[38;5;28mfloat\u001b[39m:\n\u001b[0;32m----> 3\u001b[0m     price \u001b[38;5;241m=\u001b[39m \u001b[43mevent_args\u001b[49m\u001b[43m[\u001b[49m\u001b[38;5;124;43m'\u001b[39;49m\u001b[38;5;124;43mtokens_bought\u001b[39;49m\u001b[38;5;124;43m'\u001b[39;49m\u001b[43m]\u001b[49m\u001b[43m \u001b[49m\u001b[38;5;241;43m*\u001b[39;49m\u001b[43m \u001b[49m\u001b[43m(\u001b[49m\u001b[38;5;241;43m1\u001b[39;49m\u001b[38;5;241;43m+\u001b[39;49m\u001b[43mcurve_steth_fee\u001b[49m\u001b[43m)\u001b[49m\u001b[43m \u001b[49m\u001b[38;5;241;43m/\u001b[39;49m\u001b[43m \u001b[49m\u001b[43mevent_args\u001b[49m\u001b[43m[\u001b[49m\u001b[38;5;124;43m'\u001b[39;49m\u001b[38;5;124;43mtokens_sold\u001b[39;49m\u001b[38;5;124;43m'\u001b[39;49m\u001b[43m]\u001b[49m\n\u001b[1;32m      4\u001b[0m     \u001b[38;5;28;01mif\u001b[39;00m event_args[\u001b[38;5;124m'\u001b[39m\u001b[38;5;124msold_id\u001b[39m\u001b[38;5;124m'\u001b[39m] \u001b[38;5;241m==\u001b[39m \u001b[38;5;241m0\u001b[39m:\n\u001b[1;32m      5\u001b[0m         \u001b[38;5;28;01mtry\u001b[39;00m: \n",
            "\u001b[0;31mZeroDivisionError\u001b[0m: float division by zero"
          ]
        }
      ],
      "source": [
        "# create new column with marginal price (stETH as base and ETH as quote, so should be at a discount)\n",
        "query_swaps['price (STETH/ETH)'] = query_swaps['event_arguments'].apply(get_price)\n",
        "query_swaps"
      ]
    },
    {
      "cell_type": "code",
      "execution_count": null,
      "id": "c7301a74",
      "metadata": {
        "id": "c7301a74",
        "outputId": "8d57508d-a764-499a-8ed5-1906b2221983"
      },
      "outputs": [],
      "source": [
        "query_swaps.plot(x='block_number', y='price (STETH/ETH)')"
      ]
    },
    {
      "cell_type": "code",
      "execution_count": null,
      "id": "d4ae9127",
      "metadata": {
        "id": "d4ae9127",
        "outputId": "4cf5cc6c-c872-4e4a-abac-4bcc2384eafd"
      },
      "outputs": [],
      "source": [
        "# well those are weird dips and spikes. look at smooth parts\n",
        "query_swaps[(query_swaps['block_number'] > 15100000) & (query_swaps['block_number'] < 15200000)].plot(x='block_number', y='price (STETH/ETH)')"
      ]
    },
    {
      "cell_type": "code",
      "execution_count": null,
      "id": "0cdc144e",
      "metadata": {
        "id": "0cdc144e",
        "outputId": "1d89b980-e8a3-435a-935d-98deda4c1d4b"
      },
      "outputs": [],
      "source": [
        "# weird spike for swaps back to 1.000 exchange rate. should look at this in event df\n",
        "query_swaps[(query_swaps['block_number'] > 15131500) & (query_swaps['block_number'] < 15133000)].plot(x='block_number', y='price (STETH/ETH)')"
      ]
    },
    {
      "cell_type": "code",
      "execution_count": null,
      "id": "fefbc986",
      "metadata": {
        "id": "fefbc986"
      },
      "outputs": [],
      "source": [
        "# first, unfold event arguments into separate columns\n",
        "def unfold_event_args(key: str, event_args: dict):\n",
        "    return event_args[key]\n",
        "\n",
        "for key in query_swaps.iloc[-1]['event_arguments'].keys():\n",
        "    query_swaps[key] = query_swaps['event_arguments'].apply(lambda ev: unfold_event_args(key, ev))"
      ]
    },
    {
      "cell_type": "code",
      "execution_count": null,
      "id": "9dc5f51e",
      "metadata": {
        "id": "9dc5f51e",
        "outputId": "5b7bf676-d3a5-4cfa-a73c-e2dca0fea40f"
      },
      "outputs": [],
      "source": [
        "query_swaps"
      ]
    },
    {
      "cell_type": "code",
      "execution_count": null,
      "id": "d175028b",
      "metadata": {
        "id": "d175028b",
        "outputId": "744a518b-52d4-47f9-8e91-c6223b467eb1"
      },
      "outputs": [],
      "source": [
        "# now, check swaps where price spikes up to 1 between blocks 15132100 and 15132400\n",
        "query_swaps[(query_swaps['block_number'] > 15132100) & (query_swaps['block_number'] < 15132400)]"
      ]
    },
    {
      "cell_type": "code",
      "execution_count": null,
      "id": "e4b90a3c",
      "metadata": {
        "id": "e4b90a3c"
      },
      "outputs": [],
      "source": [
        "# ahh, ok :) .. someones selling 1 wei into the pool (see e.g. block 15132225)\n",
        "# which is causing rounding issues for price calc"
      ]
    },
    {
      "cell_type": "code",
      "execution_count": null,
      "id": "20aa3340",
      "metadata": {
        "id": "20aa3340",
        "outputId": "ed9d6d9b-552f-4b76-c450-6492c3a8f975"
      },
      "outputs": [],
      "source": [
        "# are the dusting rounding issues also causing those spikes down to zero?\n",
        "# look at first spike down to 0\n",
        "query_swaps[(query_swaps['block_number'] > 14824600) & (query_swaps['block_number'] < 14825000)].plot(x='block_number', y='price (STETH/ETH)')"
      ]
    },
    {
      "cell_type": "code",
      "execution_count": null,
      "id": "fb6fb625",
      "metadata": {
        "id": "fb6fb625",
        "outputId": "a18a8e86-6598-4d99-cada-5a74a56108b3"
      },
      "outputs": [],
      "source": [
        "# looks like it (see swap at block 14824840); similar rounding issues except rounded down to zero here\n",
        "query_swaps[(query_swaps['block_number'] > 14824600) & (query_swaps['block_number'] < 14825000)]"
      ]
    },
    {
      "cell_type": "code",
      "execution_count": null,
      "id": "3bdb0eef",
      "metadata": {
        "id": "3bdb0eef"
      },
      "outputs": [],
      "source": [
        "# apply min size to swaps we care about to ignore the dustings\n",
        "min_bought = 0.0001 * 1e18  # trade size must be > 0.0001 ETH \n",
        "query_swaps = query_swaps[query_swaps['tokens_bought'] > min_bought]"
      ]
    },
    {
      "cell_type": "code",
      "execution_count": null,
      "id": "2103c9da",
      "metadata": {
        "id": "2103c9da",
        "outputId": "c1f8b6bd-5c14-4d22-af0e-dd372d8fd429"
      },
      "outputs": [],
      "source": [
        "# nice! way better\n",
        "query_swaps.plot(x='block_number', y='price (STETH/ETH)')"
      ]
    },
    {
      "cell_type": "code",
      "execution_count": null,
      "id": "b7e9c553",
      "metadata": {
        "id": "b7e9c553"
      },
      "outputs": [],
      "source": [
        "# should smooth the price data out so not so jittery by averaging over 1h for hourly candles.\n",
        "# keep the volumes numbers as well, so make some slight changes to the (tokens_bought, tokens_sold)\n",
        "# columns to instead track (volume_coin0, volume_coin1) at each swap"
      ]
    },
    {
      "cell_type": "code",
      "execution_count": null,
      "id": "1e4b633a",
      "metadata": {
        "id": "1e4b633a"
      },
      "outputs": [],
      "source": [
        "# write a function that returns volume on coin indices for a swap (normalized by 1e18 for decimals)\n",
        "def get_volume(coin_index: int, x: pd.Series) -> (float, float):\n",
        "    volume = x['tokens_sold'] if x['sold_id'] == coin_index else x['tokens_bought']\n",
        "    volume = volume / 1e18\n",
        "    return volume"
      ]
    },
    {
      "cell_type": "code",
      "execution_count": null,
      "id": "22a96898",
      "metadata": {
        "id": "22a96898"
      },
      "outputs": [],
      "source": [
        "%%capture\n",
        "for coin_index in range(2):\n",
        "    key = f'volume_coin{coin_index}'\n",
        "    query_swaps[key] = query_swaps.apply(lambda x: get_volume(coin_index, x), axis=1)"
      ]
    },
    {
      "cell_type": "code",
      "execution_count": null,
      "id": "7420b5bb",
      "metadata": {
        "id": "7420b5bb",
        "outputId": "44b34021-0521-47f1-ad35-b410848ad3c1"
      },
      "outputs": [],
      "source": [
        "query_swaps"
      ]
    },
    {
      "cell_type": "code",
      "execution_count": null,
      "id": "8d21ac2c",
      "metadata": {
        "id": "8d21ac2c"
      },
      "outputs": [],
      "source": [
        "# prep for smoothing by setting index to block number (choose last swap in block to represent price at block)\n",
        "query_swaps_filtered = query_swaps.filter(['block_number', 'price (STETH/ETH)', 'volume_coin0', 'volume_coin1']).drop_duplicates('block_number', keep='last')\n",
        "query_swaps_filtered = query_swaps_filtered.set_index('block_number')"
      ]
    },
    {
      "cell_type": "code",
      "execution_count": null,
      "id": "09a61518",
      "metadata": {
        "id": "09a61518"
      },
      "outputs": [],
      "source": [
        "# reindex by block number (1 block steps) and ffill price values \n",
        "new_index = range(query_swaps_filtered.index.min(), query_swaps_filtered.index.max()+1)\n",
        "query_swaps_filtered = query_swaps_filtered.reindex(new_index).ffill()"
      ]
    },
    {
      "cell_type": "code",
      "execution_count": null,
      "id": "f175d460",
      "metadata": {
        "id": "f175d460"
      },
      "outputs": [],
      "source": [
        "# separate data into windows of 260 blocks (~ 1h)\n",
        "# remove first (last_block - first_block) % window rows so even candle windows\n",
        "window = 260\n",
        "first_index = (query_swaps_filtered.index[-1] - query_swaps_filtered.index[0]) % window\n",
        "query_swaps_filtered = query_swaps_filtered[first_index:]"
      ]
    },
    {
      "cell_type": "code",
      "execution_count": null,
      "id": "60225e2c",
      "metadata": {
        "id": "60225e2c",
        "outputId": "1b4f918d-03ce-439d-9b16-eb666e71e303"
      },
      "outputs": [],
      "source": [
        "# smooth data using mean over 260 blocks for ~ 1h candles\n",
        "s = (query_swaps_filtered.index.to_series() / window).astype(int)\n",
        "query_swaps_candled = query_swaps_filtered.groupby(s).agg({'price (STETH/ETH)': ['first', 'max', 'min', 'last', 'mean'], 'volume_coin0': 'sum', 'volume_coin1': 'sum'}).set_index(s.index[::window])\n",
        "query_swaps_candled"
      ]
    },
    {
      "cell_type": "code",
      "execution_count": null,
      "id": "4d2cba1d",
      "metadata": {
        "id": "4d2cba1d",
        "outputId": "4494b923-699f-47b3-9db0-0b49290b5109"
      },
      "outputs": [],
      "source": [
        "# make some fancy plots w subplots ...\n",
        "fig, ax = plt.subplots(2, 1)\n",
        "query_swaps.plot(x='block_number', y='price (STETH/ETH)', ax=ax[0])\n",
        "query_swaps_candled['price (STETH/ETH)'].plot(y='mean', ax=ax[0], label='price (STETH/ETH) - 1H mean')\n",
        "query_swaps_candled['volume_coin0'].plot(y='sum', color='g', ax=ax[1], label='volume (ETH)')"
      ]
    },
    {
      "cell_type": "code",
      "execution_count": null,
      "id": "13db0817",
      "metadata": {
        "id": "13db0817"
      },
      "outputs": [],
      "source": [
        "# plot the candles since that's dope :o"
      ]
    },
    {
      "cell_type": "code",
      "execution_count": null,
      "id": "e0e2664d",
      "metadata": {
        "id": "e0e2664d"
      },
      "outputs": [],
      "source": [
        "# get the timestamps every 24 candles (~ 24h) and interpolate the rest (SEE banteg gist again)\n",
        "# NOTE: include last block in index for interp to work properly\n",
        "T = 24\n",
        "blocks = query_swaps_candled.index[::24].to_list() + [query_swaps_candled.index[-1]]"
      ]
    },
    {
      "cell_type": "code",
      "execution_count": null,
      "id": "1fd0e66e",
      "metadata": {
        "id": "1fd0e66e",
        "outputId": "d3c8546f-847e-41c2-9543-5657bb955af3"
      },
      "outputs": [],
      "source": [
        "%time timestamps = [ chain.blocks[i].timestamp for i in blocks ]"
      ]
    },
    {
      "cell_type": "code",
      "execution_count": null,
      "id": "002a577e",
      "metadata": {
        "id": "002a577e",
        "outputId": "71de742f-29cd-4d15-f2f8-699ba22cfff4"
      },
      "outputs": [],
      "source": [
        "query_swaps_candled['timestamp'] = pd.to_datetime(np.interp(query_swaps_candled.index, blocks, timestamps) * 1e9)\n",
        "query_swaps_candled"
      ]
    },
    {
      "cell_type": "code",
      "execution_count": null,
      "id": "48b85378",
      "metadata": {
        "id": "48b85378",
        "outputId": "ad0a638a-4be3-4b8d-c88e-85a572eacdc9"
      },
      "outputs": [],
      "source": [
        "# put data into new df for ohlcv with 1h candles\n",
        "query_swaps_ohlcv = pd.DataFrame({\n",
        "    'Open': query_swaps_candled['price (STETH/ETH)']['first'],\n",
        "    'High': query_swaps_candled['price (STETH/ETH)']['max'],\n",
        "    'Low': query_swaps_candled['price (STETH/ETH)']['min'],\n",
        "    'Close': query_swaps_candled['price (STETH/ETH)']['last'],\n",
        "    'Volume': query_swaps_candled['volume_coin0']['sum'],\n",
        "    'Date': query_swaps_candled['timestamp']\n",
        "})\n",
        "query_swaps_ohlcv = query_swaps_ohlcv.set_index('Date')\n",
        "query_swaps_ohlcv"
      ]
    },
    {
      "cell_type": "code",
      "execution_count": null,
      "id": "9e2027a5",
      "metadata": {
        "id": "9e2027a5",
        "outputId": "359efe65-c77f-4c41-bcc6-fd623ce28550"
      },
      "outputs": [],
      "source": [
        "# oooooo fancy :)\n",
        "def fancy_plot(\n",
        "    data,\n",
        "    mav=(10, 50),\n",
        "    plt_type='candle',\n",
        "    volume=True,\n",
        "    datetime_format='%b%d',\n",
        "    xrotation=0,\n",
        "    tight_layout=True,\n",
        "    style='mike', # mpf.available_styles() to pick your fav\n",
        "    **kwargs\n",
        "):\n",
        "    mpf.plot(\n",
        "        data,\n",
        "        warn_too_much_data=2500,\n",
        "        mav=mav,\n",
        "        type=plt_type,\n",
        "        volume=volume,\n",
        "        datetime_format=datetime_format,\n",
        "        xrotation=xrotation,\n",
        "        tight_layout=tight_layout,\n",
        "        style=style,\n",
        "        **kwargs\n",
        "    )\n",
        "\n",
        "title=\"STETH/ETH\"\n",
        "fancy_plot(query_swaps_ohlcv, mav=(10, 50, 200), title=title)\n"
      ]
    },
    {
      "cell_type": "code",
      "execution_count": null,
      "id": "2235e778",
      "metadata": {},
      "outputs": [],
      "source": [
        "def plot_last_n_days(data, num_days_back=100, **kwargs):\n",
        "    endPeriod = query_swaps_ohlcv.index[-1]\n",
        "    startPeriod = endPeriod - pd.Timedelta(days=num_days_back)\n",
        "    dataToPlot = data.loc[(data.index > startPeriod) & (data.index < endPeriod),:]\n",
        "    title=f\"STETH/ETH last {num_days_back} days\"\n",
        "    title+=f\"({startPeriod:%b%d}-{endPeriod:%b%d})\" if startPeriod.month != endPeriod.month else f\"({startPeriod:%b%d}-{endPeriod:%d})\"\n",
        "    mav = [10]\n",
        "    if num_days_back > 3:\n",
        "        mav.append(50)\n",
        "    if num_days_back > 10:\n",
        "        mav.append(100)\n",
        "    fancy_plot(dataToPlot, mav=mav, title=title)\n",
        "\n",
        "plot_last_n_days(query_swaps_ohlcv, num_days_back=8)\n",
        "plot_last_n_days(query_swaps_ohlcv, num_days_back=3)\n"
      ]
    },
    {
      "cell_type": "code",
      "execution_count": null,
      "id": "9b7c73ef",
      "metadata": {
        "id": "9b7c73ef"
      },
      "outputs": [],
      "source": []
    }
  ],
  "metadata": {
    "colab": {
      "provenance": []
    },
    "kernelspec": {
      "display_name": "Python 3.10.10 ('crypto')",
      "language": "python",
      "name": "python3"
    },
    "language_info": {
      "codemirror_mode": {
        "name": "ipython",
        "version": 3
      },
      "file_extension": ".py",
      "mimetype": "text/x-python",
      "name": "python",
      "nbconvert_exporter": "python",
      "pygments_lexer": "ipython3",
      "version": "3.10.10"
    },
    "vscode": {
      "interpreter": {
        "hash": "c099452134772ff2d6db1c204de51d23030ed69419f9c3aedd2d4742d94df7a0"
      }
    }
  },
  "nbformat": 4,
  "nbformat_minor": 5
}

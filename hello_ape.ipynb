{
  "cells": [
    {
      "cell_type": "code",
      "execution_count": 1,
      "id": "163d83d4",
      "metadata": {},
      "outputs": [
        {
          "name": "stdout",
          "output_type": "stream",
          "text": [
            "All packages installed\n"
          ]
        }
      ],
      "source": [
        "import pkg_resources\n",
        "try:\n",
        "    pkg_resources.require(['eth-ape','ape-alchemy','ape-etherscan','mplfinance', 'pandas', 'numpy', 'python-dotenv'])\n",
        "    print('All packages installed')\n",
        "except:\n",
        "    !pip3 install eth-ape ape-alchemy ape-etherscan mplfinance pandas numpy python-dotenv"
      ]
    },
    {
      "cell_type": "code",
      "execution_count": 2,
      "id": "b407728b",
      "metadata": {
        "id": "b407728b"
      },
      "outputs": [],
      "source": [
        "import matplotlib.pyplot as plt\n",
        "import mplfinance as mpf\n",
        "import numpy as np\n",
        "import pandas as pd\n",
        "import typing as tp\n",
        "from ape import accounts, chain, Contract, networks"
      ]
    },
    {
      "cell_type": "code",
      "execution_count": 3,
      "id": "u22HsueI9E7Y",
      "metadata": {
        "colab": {
          "base_uri": "https://localhost:8080/"
        },
        "id": "u22HsueI9E7Y",
        "outputId": "2bd1cf8a-53be-47e6-f323-b70f0f11641c"
      },
      "outputs": [
        {
          "data": {
            "text/plain": [
              "True"
            ]
          },
          "execution_count": 3,
          "metadata": {},
          "output_type": "execute_result"
        }
      ],
      "source": [
        "# manually input your keys like this\n",
        "# %env WEB3_ALCHEMY_API_KEY = xxxxxxxxxxxxxxxxxxxxxxxxxxxxxxxx\n",
        "# %env ETHERSCAN_API = xxxxxxxxxxxxxxxxxxxxxxxxxxxxxxxxxx\n",
        "\n",
        "# or load from a separate \".env\" file, which is more secure!\n",
        "from dotenv import load_dotenv\n",
        "load_dotenv()"
      ]
    },
    {
      "cell_type": "code",
      "execution_count": 55,
      "id": "e0a51bfd",
      "metadata": {
        "colab": {
          "base_uri": "https://localhost:8080/"
        },
        "id": "e0a51bfd",
        "outputId": "5687888d-896e-4455-b53c-22b2002f42f3"
      },
      "outputs": [
        {
          "name": "stdout",
          "output_type": "stream",
          "text": [
            "ape version: 0.5.7.dev5+gf8d4ab07\n",
            "provider.config of type=<class 'ape.api.config.PluginConfig'>\n",
            " env_prefix = \n",
            " env_file = None\n",
            " env_file_encoding = None\n",
            " env_nested_delimiter = None\n",
            " secrets_dir = None\n",
            " validate_all = True\n",
            " extra = forbid\n",
            " arbitrary_types_allowed = True\n",
            " case_sensitive = False\n",
            " prepare_field = <classmethod(<cyfunction BaseSettings.Config.prepare_field at 0x0000015911EE97D0>)>\n",
            " customise_sources = <classmethod(<cyfunction BaseSettings.Config.customise_sources at 0x0000015911EE98A0>)>\n",
            " parse_env_var = <classmethod(<cyfunction BaseSettings.Config.parse_env_var at 0x0000015911EE9970>)>\n"
          ]
        }
      ],
      "source": [
        "context = networks.parse_network_choice('ethereum:mainnet:alchemy')\n",
        "context.__enter__()\n",
        "print(f\"ape version: {pkg_resources.get_distribution('eth-ape').version}\")\n",
        "print(f\"provider.config of type={type(context.provider.config)}\")\n",
        "for k,v in context.provider.config.Config.__dict__.items():\n",
        "    if not k.startswith('__'):\n",
        "        print(f\" {k} = {v}\")\n"
      ]
    },
    {
      "cell_type": "code",
      "execution_count": 59,
      "id": "01fd094e",
      "metadata": {},
      "outputs": [
        {
          "name": "stdout",
          "output_type": "stream",
          "text": [
            "plugin_name=alchemy, ecosystem_class=('ethereum', 'mainnet', <class 'ape_alchemy.provider.Alchemy'>)\n",
            "plugin_name=alchemy, ecosystem_class=('ethereum', 'goerli', <class 'ape_alchemy.provider.Alchemy'>)\n",
            "plugin_name=alchemy, ecosystem_class=('arbitrum', 'mainnet', <class 'ape_alchemy.provider.Alchemy'>)\n",
            "plugin_name=alchemy, ecosystem_class=('arbitrum', 'goerli', <class 'ape_alchemy.provider.Alchemy'>)\n",
            "plugin_name=alchemy, ecosystem_class=('optimism', 'mainnet', <class 'ape_alchemy.provider.Alchemy'>)\n",
            "plugin_name=alchemy, ecosystem_class=('optimism', 'goerli', <class 'ape_alchemy.provider.Alchemy'>)\n",
            "plugin_name=alchemy, ecosystem_class=('polygon', 'mainnet', <class 'ape_alchemy.provider.Alchemy'>)\n",
            "plugin_name=alchemy, ecosystem_class=('polygon', 'mumbai', <class 'ape_alchemy.provider.Alchemy'>)\n",
            "plugin_name=geth, ecosystem_class=('ethereum', 'mainnet', <class 'ape_geth.provider.Geth'>)\n",
            "plugin_name=geth, ecosystem_class=('ethereum', 'goerli', <class 'ape_geth.provider.Geth'>)\n",
            "plugin_name=geth, ecosystem_class=('ethereum', 'local', <class 'ape_geth.provider.GethDev'>)\n",
            "plugin_name=test, ecosystem_class=('ethereum', 'local', <class 'ape_test.provider.LocalProvider'>)\n"
          ]
        }
      ],
      "source": [
        "for plugin_name, ecosystem_class in context.plugin_manager.providers:\n",
        "    print(f\"plugin_name={plugin_name}, ecosystem_class={ecosystem_class}\")"
      ]
    },
    {
      "cell_type": "code",
      "execution_count": 5,
      "id": "069b902c",
      "metadata": {
        "colab": {
          "base_uri": "https://localhost:8080/"
        },
        "id": "069b902c",
        "outputId": "0bda7f20-00da-4c3c-bcaa-c2ad348f8dd9"
      },
      "outputs": [
        {
          "data": {
            "text/plain": [
              "<TestAccount 0x1e59ce931B4CFea3fe4B875411e280e173cB7A9C>"
            ]
          },
          "execution_count": 5,
          "metadata": {},
          "output_type": "execute_result"
        }
      ],
      "source": [
        "# get account 0\n",
        "dev = accounts.test_accounts[0]\n",
        "dev"
      ]
    },
    {
      "cell_type": "code",
      "execution_count": 6,
      "id": "becacf57",
      "metadata": {
        "colab": {
          "base_uri": "https://localhost:8080/"
        },
        "id": "becacf57",
        "outputId": "7d328b5e-926a-480e-ee02-b2de1c40df4f"
      },
      "outputs": [
        {
          "data": {
            "text/plain": [
              "0"
            ]
          },
          "execution_count": 6,
          "metadata": {},
          "output_type": "execute_result"
        }
      ],
      "source": [
        "# get the balance of account 0\n",
        "dev.balance"
      ]
    },
    {
      "cell_type": "code",
      "execution_count": 7,
      "id": "542dac5f",
      "metadata": {
        "colab": {
          "base_uri": "https://localhost:8080/"
        },
        "id": "542dac5f",
        "outputId": "d735edfb-1e3b-4b7d-c574-0102e34c72b1"
      },
      "outputs": [
        {
          "data": {
            "text/plain": [
              "16064640"
            ]
          },
          "execution_count": 7,
          "metadata": {},
          "output_type": "execute_result"
        }
      ],
      "source": [
        "current_block = chain.blocks[-1].number\n",
        "current_block"
      ]
    },
    {
      "cell_type": "code",
      "execution_count": 8,
      "id": "f558faa8",
      "metadata": {
        "colab": {
          "base_uri": "https://localhost:8080/"
        },
        "id": "f558faa8",
        "outputId": "cb48b02b-e8f8-4feb-86f9-51eae31b5551",
        "scrolled": true
      },
      "outputs": [
        {
          "data": {
            "text/plain": [
              "15416640"
            ]
          },
          "execution_count": 8,
          "metadata": {},
          "output_type": "execute_result"
        }
      ],
      "source": [
        "# determine starting block for the query\n",
        "dblocks = int(86400*90/12) # last 180 d\n",
        "start_block = current_block - dblocks\n",
        "start_block"
      ]
    },
    {
      "cell_type": "code",
      "execution_count": 9,
      "id": "5842fa52",
      "metadata": {
        "colab": {
          "base_uri": "https://localhost:8080/"
        },
        "id": "5842fa52",
        "outputId": "23b22b4a-8365-4ff5-be39-e8d6aab458ac"
      },
      "outputs": [
        {
          "data": {
            "text/plain": [
              "<Vyper_contract 0xDC24316b9AE028F1497c275EB9192a3Ea0f67022>"
            ]
          },
          "execution_count": 9,
          "metadata": {},
          "output_type": "execute_result"
        }
      ],
      "source": [
        "curve_steth = Contract(\"0xDC24316b9AE028F1497c275EB9192a3Ea0f67022\")\n",
        "curve_steth"
      ]
    },
    {
      "cell_type": "code",
      "execution_count": 10,
      "id": "0c9c4c61",
      "metadata": {
        "colab": {
          "base_uri": "https://localhost:8080/"
        },
        "id": "0c9c4c61",
        "outputId": "138bdd8e-1015-4728-a939-915c03a4aa86"
      },
      "outputs": [
        {
          "data": {
            "text/plain": [
              "<Lido 0xae7ab96520DE3A18E5e111B5EaAb095312D7fE84>"
            ]
          },
          "execution_count": 10,
          "metadata": {},
          "output_type": "execute_result"
        }
      ],
      "source": [
        "steth = Contract(\"0xae7ab96520DE3A18E5e111B5EaAb095312D7fE84\")\n",
        "steth"
      ]
    },
    {
      "cell_type": "code",
      "execution_count": 11,
      "id": "efed5dfd",
      "metadata": {
        "id": "efed5dfd",
        "outputId": "9ee5d234-b5a8-4774-e210-33fb21b9a267"
      },
      "outputs": [
        {
          "data": {
            "text/plain": [
              "397445756543700830861702"
            ]
          },
          "execution_count": 11,
          "metadata": {},
          "output_type": "execute_result"
        }
      ],
      "source": [
        "steth.balanceOf(curve_steth)"
      ]
    },
    {
      "cell_type": "code",
      "execution_count": 12,
      "id": "7e281650",
      "metadata": {
        "colab": {
          "base_uri": "https://localhost:8080/"
        },
        "id": "7e281650",
        "outputId": "3d54375f-1834-42ce-84ca-c68ad75aea7f"
      },
      "outputs": [
        {
          "data": {
            "text/plain": [
              "TokenExchange(address indexed buyer, int128 sold_id, uint256 tokens_sold, int128 bought_id, uint256 tokens_bought)"
            ]
          },
          "execution_count": 12,
          "metadata": {},
          "output_type": "execute_result"
        }
      ],
      "source": [
        "curve_steth.TokenExchange"
      ]
    },
    {
      "cell_type": "code",
      "execution_count": 13,
      "id": "f39d35af",
      "metadata": {
        "colab": {
          "base_uri": "https://localhost:8080/"
        },
        "id": "f39d35af",
        "outputId": "b15ddcaf-0c05-472c-9462-3b0b47b202ed"
      },
      "outputs": [
        {
          "data": {
            "text/plain": [
              "ape.contracts.base.ContractEvent"
            ]
          },
          "execution_count": 13,
          "metadata": {},
          "output_type": "execute_result"
        }
      ],
      "source": [
        "type(curve_steth.TokenExchange)"
      ]
    },
    {
      "cell_type": "code",
      "execution_count": 14,
      "id": "629e5e2e",
      "metadata": {
        "colab": {
          "base_uri": "https://localhost:8080/",
          "height": 650
        },
        "id": "629e5e2e",
        "outputId": "6ca67714-d718-4393-c36a-dfee8329ce2a"
      },
      "outputs": [
        {
          "name": "stdout",
          "output_type": "stream",
          "text": [
            "INFO: Cache database has not been initialized\n",
            "CPU times: total: 46.9 ms\n",
            "Wall time: 375 ms\n"
          ]
        },
        {
          "data": {
            "text/html": [
              "<div>\n",
              "<style scoped>\n",
              "    .dataframe tbody tr th:only-of-type {\n",
              "        vertical-align: middle;\n",
              "    }\n",
              "\n",
              "    .dataframe tbody tr th {\n",
              "        vertical-align: top;\n",
              "    }\n",
              "\n",
              "    .dataframe thead th {\n",
              "        text-align: right;\n",
              "    }\n",
              "</style>\n",
              "<table border=\"1\" class=\"dataframe\">\n",
              "  <thead>\n",
              "    <tr style=\"text-align: right;\">\n",
              "      <th></th>\n",
              "      <th>event_name</th>\n",
              "      <th>contract_address</th>\n",
              "      <th>event_arguments</th>\n",
              "      <th>transaction_hash</th>\n",
              "      <th>block_number</th>\n",
              "      <th>block_hash</th>\n",
              "      <th>log_index</th>\n",
              "      <th>transaction_index</th>\n",
              "    </tr>\n",
              "  </thead>\n",
              "  <tbody>\n",
              "    <tr>\n",
              "      <th>0</th>\n",
              "      <td>TokenExchange</td>\n",
              "      <td>0xDC24316b9AE028F1497c275EB9192a3Ea0f67022</td>\n",
              "      <td>{'buyer': '0xDEF171Fe48CF0115B1d80b88dc8eAB591...</td>\n",
              "      <td>0x759a2522fa3f22cac8a37fd4ebbd879a0a16fefb40ba...</td>\n",
              "      <td>16061710</td>\n",
              "      <td>0x9981f59f3cb74a30fe6821eb7cb82a1b0b9abfec5d5e...</td>\n",
              "      <td>35</td>\n",
              "      <td>6</td>\n",
              "    </tr>\n",
              "    <tr>\n",
              "      <th>1</th>\n",
              "      <td>TokenExchange</td>\n",
              "      <td>0xDC24316b9AE028F1497c275EB9192a3Ea0f67022</td>\n",
              "      <td>{'buyer': '0x55B916Ce078eA594c10a874ba67eCc3d6...</td>\n",
              "      <td>0x19e79c5029fbcd747c0a7e106c4d47faabaad8992e75...</td>\n",
              "      <td>16061726</td>\n",
              "      <td>0xb68dbabbb4fc49f90caa9a705fb32511a4cc93d58b56...</td>\n",
              "      <td>227</td>\n",
              "      <td>126</td>\n",
              "    </tr>\n",
              "    <tr>\n",
              "      <th>2</th>\n",
              "      <td>TokenExchange</td>\n",
              "      <td>0xDC24316b9AE028F1497c275EB9192a3Ea0f67022</td>\n",
              "      <td>{'buyer': '0xDEF171Fe48CF0115B1d80b88dc8eAB591...</td>\n",
              "      <td>0xd8cf124c39980ba5170b2a744bfa70984a7b2d0f3bda...</td>\n",
              "      <td>16061742</td>\n",
              "      <td>0x9b95ecbc395f02cd78a08060131303f33d9f2f471d1e...</td>\n",
              "      <td>19</td>\n",
              "      <td>3</td>\n",
              "    </tr>\n",
              "    <tr>\n",
              "      <th>3</th>\n",
              "      <td>TokenExchange</td>\n",
              "      <td>0xDC24316b9AE028F1497c275EB9192a3Ea0f67022</td>\n",
              "      <td>{'buyer': '0x22F9dCF4647084d6C31b2765F6910cd85...</td>\n",
              "      <td>0x75d46a07635fd61ec3b1f06f9047f9f4e8c2d025e432...</td>\n",
              "      <td>16061781</td>\n",
              "      <td>0x3e4ecbd53b3c5b2de5bc0a45ebfabb86889a34c04f28...</td>\n",
              "      <td>288</td>\n",
              "      <td>141</td>\n",
              "    </tr>\n",
              "    <tr>\n",
              "      <th>4</th>\n",
              "      <td>TokenExchange</td>\n",
              "      <td>0xDC24316b9AE028F1497c275EB9192a3Ea0f67022</td>\n",
              "      <td>{'buyer': '0x53222470CdcfB8081C0E3a50fd106f0D6...</td>\n",
              "      <td>0xd6aec368f0025e7cc3e7b56c58dd2bca1bdf1b8ac76d...</td>\n",
              "      <td>16061786</td>\n",
              "      <td>0x2f4fce294012ffea1d0a3e1312323c2655de1e93f841...</td>\n",
              "      <td>244</td>\n",
              "      <td>151</td>\n",
              "    </tr>\n",
              "    <tr>\n",
              "      <th>...</th>\n",
              "      <td>...</td>\n",
              "      <td>...</td>\n",
              "      <td>...</td>\n",
              "      <td>...</td>\n",
              "      <td>...</td>\n",
              "      <td>...</td>\n",
              "      <td>...</td>\n",
              "      <td>...</td>\n",
              "    </tr>\n",
              "    <tr>\n",
              "      <th>59</th>\n",
              "      <td>TokenExchange</td>\n",
              "      <td>0xDC24316b9AE028F1497c275EB9192a3Ea0f67022</td>\n",
              "      <td>{'buyer': '0x28F7c0614ebbFD1b83fB6803E0CA61453...</td>\n",
              "      <td>0x31263a9bdb491cf684b9d39ede747c2fceb46b145564...</td>\n",
              "      <td>16063985</td>\n",
              "      <td>0x343921860019d638ba4fc3a7f02299f727fba2580ab8...</td>\n",
              "      <td>35</td>\n",
              "      <td>21</td>\n",
              "    </tr>\n",
              "    <tr>\n",
              "      <th>60</th>\n",
              "      <td>TokenExchange</td>\n",
              "      <td>0xDC24316b9AE028F1497c275EB9192a3Ea0f67022</td>\n",
              "      <td>{'buyer': '0x58B03f7Cbf54293a426A8FF4E94d9891A...</td>\n",
              "      <td>0xaaf6ff779abe49415b2061d096cdf16dc6fce85829e0...</td>\n",
              "      <td>16064399</td>\n",
              "      <td>0x842c78b3ec1dddba998396d13e5a239e8ac59ef4e561...</td>\n",
              "      <td>49</td>\n",
              "      <td>28</td>\n",
              "    </tr>\n",
              "    <tr>\n",
              "      <th>61</th>\n",
              "      <td>TokenExchange</td>\n",
              "      <td>0xDC24316b9AE028F1497c275EB9192a3Ea0f67022</td>\n",
              "      <td>{'buyer': '0x22F9dCF4647084d6C31b2765F6910cd85...</td>\n",
              "      <td>0x24dd7efdcb582fbcad8c5bad4358083374d7ba123031...</td>\n",
              "      <td>16064430</td>\n",
              "      <td>0xf24361a5b7ab9d8dc5080994eb966109d234487d341b...</td>\n",
              "      <td>114</td>\n",
              "      <td>78</td>\n",
              "    </tr>\n",
              "    <tr>\n",
              "      <th>62</th>\n",
              "      <td>TokenExchange</td>\n",
              "      <td>0xDC24316b9AE028F1497c275EB9192a3Ea0f67022</td>\n",
              "      <td>{'buyer': '0x53222470CdcfB8081C0E3a50fd106f0D6...</td>\n",
              "      <td>0xa6abc2bde5849f43f83b935357319df1f85e05155e5f...</td>\n",
              "      <td>16064435</td>\n",
              "      <td>0x2ead45ff26e34a00cf758b4b975f828dfb16f2a4e1b4...</td>\n",
              "      <td>33</td>\n",
              "      <td>5</td>\n",
              "    </tr>\n",
              "    <tr>\n",
              "      <th>63</th>\n",
              "      <td>TokenExchange</td>\n",
              "      <td>0xDC24316b9AE028F1497c275EB9192a3Ea0f67022</td>\n",
              "      <td>{'buyer': '0x53222470CdcfB8081C0E3a50fd106f0D6...</td>\n",
              "      <td>0xcf7c96b2fe04fd9570d9a2e735defd405ae1782e7c18...</td>\n",
              "      <td>16064614</td>\n",
              "      <td>0xfe428c84d84e4cb0fc167b1017dfc62df3d138fd4c5e...</td>\n",
              "      <td>43</td>\n",
              "      <td>3</td>\n",
              "    </tr>\n",
              "  </tbody>\n",
              "</table>\n",
              "<p>64 rows × 8 columns</p>\n",
              "</div>"
            ],
            "text/plain": [
              "       event_name                            contract_address  \\\n",
              "0   TokenExchange  0xDC24316b9AE028F1497c275EB9192a3Ea0f67022   \n",
              "1   TokenExchange  0xDC24316b9AE028F1497c275EB9192a3Ea0f67022   \n",
              "2   TokenExchange  0xDC24316b9AE028F1497c275EB9192a3Ea0f67022   \n",
              "3   TokenExchange  0xDC24316b9AE028F1497c275EB9192a3Ea0f67022   \n",
              "4   TokenExchange  0xDC24316b9AE028F1497c275EB9192a3Ea0f67022   \n",
              "..            ...                                         ...   \n",
              "59  TokenExchange  0xDC24316b9AE028F1497c275EB9192a3Ea0f67022   \n",
              "60  TokenExchange  0xDC24316b9AE028F1497c275EB9192a3Ea0f67022   \n",
              "61  TokenExchange  0xDC24316b9AE028F1497c275EB9192a3Ea0f67022   \n",
              "62  TokenExchange  0xDC24316b9AE028F1497c275EB9192a3Ea0f67022   \n",
              "63  TokenExchange  0xDC24316b9AE028F1497c275EB9192a3Ea0f67022   \n",
              "\n",
              "                                      event_arguments  \\\n",
              "0   {'buyer': '0xDEF171Fe48CF0115B1d80b88dc8eAB591...   \n",
              "1   {'buyer': '0x55B916Ce078eA594c10a874ba67eCc3d6...   \n",
              "2   {'buyer': '0xDEF171Fe48CF0115B1d80b88dc8eAB591...   \n",
              "3   {'buyer': '0x22F9dCF4647084d6C31b2765F6910cd85...   \n",
              "4   {'buyer': '0x53222470CdcfB8081C0E3a50fd106f0D6...   \n",
              "..                                                ...   \n",
              "59  {'buyer': '0x28F7c0614ebbFD1b83fB6803E0CA61453...   \n",
              "60  {'buyer': '0x58B03f7Cbf54293a426A8FF4E94d9891A...   \n",
              "61  {'buyer': '0x22F9dCF4647084d6C31b2765F6910cd85...   \n",
              "62  {'buyer': '0x53222470CdcfB8081C0E3a50fd106f0D6...   \n",
              "63  {'buyer': '0x53222470CdcfB8081C0E3a50fd106f0D6...   \n",
              "\n",
              "                                     transaction_hash  block_number  \\\n",
              "0   0x759a2522fa3f22cac8a37fd4ebbd879a0a16fefb40ba...      16061710   \n",
              "1   0x19e79c5029fbcd747c0a7e106c4d47faabaad8992e75...      16061726   \n",
              "2   0xd8cf124c39980ba5170b2a744bfa70984a7b2d0f3bda...      16061742   \n",
              "3   0x75d46a07635fd61ec3b1f06f9047f9f4e8c2d025e432...      16061781   \n",
              "4   0xd6aec368f0025e7cc3e7b56c58dd2bca1bdf1b8ac76d...      16061786   \n",
              "..                                                ...           ...   \n",
              "59  0x31263a9bdb491cf684b9d39ede747c2fceb46b145564...      16063985   \n",
              "60  0xaaf6ff779abe49415b2061d096cdf16dc6fce85829e0...      16064399   \n",
              "61  0x24dd7efdcb582fbcad8c5bad4358083374d7ba123031...      16064430   \n",
              "62  0xa6abc2bde5849f43f83b935357319df1f85e05155e5f...      16064435   \n",
              "63  0xcf7c96b2fe04fd9570d9a2e735defd405ae1782e7c18...      16064614   \n",
              "\n",
              "                                           block_hash  log_index  \\\n",
              "0   0x9981f59f3cb74a30fe6821eb7cb82a1b0b9abfec5d5e...         35   \n",
              "1   0xb68dbabbb4fc49f90caa9a705fb32511a4cc93d58b56...        227   \n",
              "2   0x9b95ecbc395f02cd78a08060131303f33d9f2f471d1e...         19   \n",
              "3   0x3e4ecbd53b3c5b2de5bc0a45ebfabb86889a34c04f28...        288   \n",
              "4   0x2f4fce294012ffea1d0a3e1312323c2655de1e93f841...        244   \n",
              "..                                                ...        ...   \n",
              "59  0x343921860019d638ba4fc3a7f02299f727fba2580ab8...         35   \n",
              "60  0x842c78b3ec1dddba998396d13e5a239e8ac59ef4e561...         49   \n",
              "61  0xf24361a5b7ab9d8dc5080994eb966109d234487d341b...        114   \n",
              "62  0x2ead45ff26e34a00cf758b4b975f828dfb16f2a4e1b4...         33   \n",
              "63  0xfe428c84d84e4cb0fc167b1017dfc62df3d138fd4c5e...         43   \n",
              "\n",
              "    transaction_index  \n",
              "0                   6  \n",
              "1                 126  \n",
              "2                   3  \n",
              "3                 141  \n",
              "4                 151  \n",
              "..                ...  \n",
              "59                 21  \n",
              "60                 28  \n",
              "61                 78  \n",
              "62                  5  \n",
              "63                  3  \n",
              "\n",
              "[64 rows x 8 columns]"
            ]
          },
          "execution_count": 14,
          "metadata": {},
          "output_type": "execute_result"
        }
      ],
      "source": [
        "%time query_swaps_recent = curve_steth.TokenExchange.query(\"*\", start_block=current_block-3000) # last 10 hr\n",
        "query_swaps_recent"
      ]
    },
    {
      "cell_type": "code",
      "execution_count": 15,
      "id": "12886651",
      "metadata": {
        "id": "12886651",
        "outputId": "50d99287-d668-4427-f540-6aa764d085e8"
      },
      "outputs": [
        {
          "data": {
            "text/plain": [
              "pandas.core.frame.DataFrame"
            ]
          },
          "execution_count": 15,
          "metadata": {},
          "output_type": "execute_result"
        }
      ],
      "source": [
        "# sweet, very cool :)\n",
        "type(query_swaps_recent)"
      ]
    },
    {
      "cell_type": "code",
      "execution_count": 16,
      "id": "61f9b0b8",
      "metadata": {
        "id": "61f9b0b8",
        "outputId": "4e0a4fd2-cb26-428b-f452-e5ba0c0b726c"
      },
      "outputs": [
        {
          "data": {
            "text/plain": [
              "0    {'buyer': '0xDEF171Fe48CF0115B1d80b88dc8eAB591...\n",
              "1    {'buyer': '0x55B916Ce078eA594c10a874ba67eCc3d6...\n",
              "2    {'buyer': '0xDEF171Fe48CF0115B1d80b88dc8eAB591...\n",
              "3    {'buyer': '0x22F9dCF4647084d6C31b2765F6910cd85...\n",
              "4    {'buyer': '0x53222470CdcfB8081C0E3a50fd106f0D6...\n",
              "5    {'buyer': '0x9B753E44Ff36a191A84475bCf8102DE3b...\n",
              "6    {'buyer': '0x22F9dCF4647084d6C31b2765F6910cd85...\n",
              "7    {'buyer': '0x22F9dCF4647084d6C31b2765F6910cd85...\n",
              "8    {'buyer': '0x208DF3ead18817cd296D9d5364bdADEA8...\n",
              "9    {'buyer': '0x53222470CdcfB8081C0E3a50fd106f0D6...\n",
              "Name: event_arguments, dtype: object"
            ]
          },
          "execution_count": 16,
          "metadata": {},
          "output_type": "execute_result"
        }
      ],
      "source": [
        "# take a deeper dive into event arguments column. it's a pandas series\n",
        "query_swaps_recent[\"event_arguments\"][:10]"
      ]
    },
    {
      "cell_type": "code",
      "execution_count": 17,
      "id": "abffe356",
      "metadata": {
        "id": "abffe356",
        "outputId": "3212a68f-93c0-4796-c631-ba82a2674342"
      },
      "outputs": [
        {
          "data": {
            "text/plain": [
              "pandas.core.series.Series"
            ]
          },
          "execution_count": 17,
          "metadata": {},
          "output_type": "execute_result"
        }
      ],
      "source": [
        "type(query_swaps_recent[\"event_arguments\"])"
      ]
    },
    {
      "cell_type": "code",
      "execution_count": 18,
      "id": "2e5079a8",
      "metadata": {
        "id": "2e5079a8",
        "outputId": "18933181-b8a2-414d-be34-4f1829034016"
      },
      "outputs": [
        {
          "data": {
            "text/plain": [
              "{'buyer': '0x53222470CdcfB8081C0E3a50fd106f0D69e63F20',\n",
              " 'sold_id': 0,\n",
              " 'tokens_sold': 60500000000000016384,\n",
              " 'bought_id': 1,\n",
              " 'tokens_bought': 61473909754848475368}"
            ]
          },
          "execution_count": 18,
          "metadata": {},
          "output_type": "execute_result"
        }
      ],
      "source": [
        "query_swaps_recent[\"event_arguments\"].iloc[-1]"
      ]
    },
    {
      "cell_type": "code",
      "execution_count": 19,
      "id": "29580294",
      "metadata": {
        "id": "29580294",
        "outputId": "20c9ebf4-9c31-4c21-ed4c-fd3a93e887d6"
      },
      "outputs": [
        {
          "name": "stdout",
          "output_type": "stream",
          "text": [
            "INFO: Alchemy compute units exceeded, retrying, attempt #1/3 in 1000 ms\n",
            "CPU times: total: 5.61 s\n",
            "Wall time: 14.8 s\n"
          ]
        },
        {
          "data": {
            "text/html": [
              "<div>\n",
              "<style scoped>\n",
              "    .dataframe tbody tr th:only-of-type {\n",
              "        vertical-align: middle;\n",
              "    }\n",
              "\n",
              "    .dataframe tbody tr th {\n",
              "        vertical-align: top;\n",
              "    }\n",
              "\n",
              "    .dataframe thead th {\n",
              "        text-align: right;\n",
              "    }\n",
              "</style>\n",
              "<table border=\"1\" class=\"dataframe\">\n",
              "  <thead>\n",
              "    <tr style=\"text-align: right;\">\n",
              "      <th></th>\n",
              "      <th>event_name</th>\n",
              "      <th>contract_address</th>\n",
              "      <th>event_arguments</th>\n",
              "      <th>transaction_hash</th>\n",
              "      <th>block_number</th>\n",
              "      <th>block_hash</th>\n",
              "      <th>log_index</th>\n",
              "      <th>transaction_index</th>\n",
              "    </tr>\n",
              "  </thead>\n",
              "  <tbody>\n",
              "    <tr>\n",
              "      <th>0</th>\n",
              "      <td>TokenExchange</td>\n",
              "      <td>0xDC24316b9AE028F1497c275EB9192a3Ea0f67022</td>\n",
              "      <td>{'buyer': '0xB85425D1988A2b8008863Fe24167847d0...</td>\n",
              "      <td>0x6c7ef16f00952810ff4682da863f1c78145a2e20a9c2...</td>\n",
              "      <td>15416798</td>\n",
              "      <td>0x1eec4f4ba55dc3423069c01ff051375161e6671c9137...</td>\n",
              "      <td>241</td>\n",
              "      <td>187</td>\n",
              "    </tr>\n",
              "    <tr>\n",
              "      <th>1</th>\n",
              "      <td>TokenExchange</td>\n",
              "      <td>0xDC24316b9AE028F1497c275EB9192a3Ea0f67022</td>\n",
              "      <td>{'buyer': '0xb24FcDBa4A76c0F0Ae39F505c163CAb5C...</td>\n",
              "      <td>0x446da40ee0fa8db2d9822a4ef9ff54f89962431d0e58...</td>\n",
              "      <td>15416806</td>\n",
              "      <td>0xa510b0ef3d7cd329805cf2bb18481e834f604ee1f345...</td>\n",
              "      <td>445</td>\n",
              "      <td>166</td>\n",
              "    </tr>\n",
              "    <tr>\n",
              "      <th>2</th>\n",
              "      <td>TokenExchange</td>\n",
              "      <td>0xDC24316b9AE028F1497c275EB9192a3Ea0f67022</td>\n",
              "      <td>{'buyer': '0x5C3097E7Fd3B97d9fdeEC6D378884c892...</td>\n",
              "      <td>0x656a22262da7f7d1d06987d130e7b04f38aba3525fe2...</td>\n",
              "      <td>15416814</td>\n",
              "      <td>0x4eb315b5c04fb7d2ba0bae25da6ebe986a92cbd28fa5...</td>\n",
              "      <td>211</td>\n",
              "      <td>81</td>\n",
              "    </tr>\n",
              "    <tr>\n",
              "      <th>3</th>\n",
              "      <td>TokenExchange</td>\n",
              "      <td>0xDC24316b9AE028F1497c275EB9192a3Ea0f67022</td>\n",
              "      <td>{'buyer': '0x27239549DD40E1D60F5B80B0C41969237...</td>\n",
              "      <td>0xe7b75976cbebd86ec038fffbccd2798c7d098dec02df...</td>\n",
              "      <td>15416846</td>\n",
              "      <td>0xfcf402dbfb254901785f6852bed5e5cad5291a2db65d...</td>\n",
              "      <td>74</td>\n",
              "      <td>59</td>\n",
              "    </tr>\n",
              "    <tr>\n",
              "      <th>4</th>\n",
              "      <td>TokenExchange</td>\n",
              "      <td>0xDC24316b9AE028F1497c275EB9192a3Ea0f67022</td>\n",
              "      <td>{'buyer': '0x22F9dCF4647084d6C31b2765F6910cd85...</td>\n",
              "      <td>0x6ff798e136f984d88906335794234790c84d24762c42...</td>\n",
              "      <td>15416879</td>\n",
              "      <td>0x80cccc4c4d8872381dc4ae456f78ad7a3e70f2650494...</td>\n",
              "      <td>108</td>\n",
              "      <td>27</td>\n",
              "    </tr>\n",
              "    <tr>\n",
              "      <th>...</th>\n",
              "      <td>...</td>\n",
              "      <td>...</td>\n",
              "      <td>...</td>\n",
              "      <td>...</td>\n",
              "      <td>...</td>\n",
              "      <td>...</td>\n",
              "      <td>...</td>\n",
              "      <td>...</td>\n",
              "    </tr>\n",
              "    <tr>\n",
              "      <th>18784</th>\n",
              "      <td>TokenExchange</td>\n",
              "      <td>0xDC24316b9AE028F1497c275EB9192a3Ea0f67022</td>\n",
              "      <td>{'buyer': '0x28F7c0614ebbFD1b83fB6803E0CA61453...</td>\n",
              "      <td>0x31263a9bdb491cf684b9d39ede747c2fceb46b145564...</td>\n",
              "      <td>16063985</td>\n",
              "      <td>0x343921860019d638ba4fc3a7f02299f727fba2580ab8...</td>\n",
              "      <td>35</td>\n",
              "      <td>21</td>\n",
              "    </tr>\n",
              "    <tr>\n",
              "      <th>18785</th>\n",
              "      <td>TokenExchange</td>\n",
              "      <td>0xDC24316b9AE028F1497c275EB9192a3Ea0f67022</td>\n",
              "      <td>{'buyer': '0x58B03f7Cbf54293a426A8FF4E94d9891A...</td>\n",
              "      <td>0xaaf6ff779abe49415b2061d096cdf16dc6fce85829e0...</td>\n",
              "      <td>16064399</td>\n",
              "      <td>0x842c78b3ec1dddba998396d13e5a239e8ac59ef4e561...</td>\n",
              "      <td>49</td>\n",
              "      <td>28</td>\n",
              "    </tr>\n",
              "    <tr>\n",
              "      <th>18786</th>\n",
              "      <td>TokenExchange</td>\n",
              "      <td>0xDC24316b9AE028F1497c275EB9192a3Ea0f67022</td>\n",
              "      <td>{'buyer': '0x22F9dCF4647084d6C31b2765F6910cd85...</td>\n",
              "      <td>0x24dd7efdcb582fbcad8c5bad4358083374d7ba123031...</td>\n",
              "      <td>16064430</td>\n",
              "      <td>0xf24361a5b7ab9d8dc5080994eb966109d234487d341b...</td>\n",
              "      <td>114</td>\n",
              "      <td>78</td>\n",
              "    </tr>\n",
              "    <tr>\n",
              "      <th>18787</th>\n",
              "      <td>TokenExchange</td>\n",
              "      <td>0xDC24316b9AE028F1497c275EB9192a3Ea0f67022</td>\n",
              "      <td>{'buyer': '0x53222470CdcfB8081C0E3a50fd106f0D6...</td>\n",
              "      <td>0xa6abc2bde5849f43f83b935357319df1f85e05155e5f...</td>\n",
              "      <td>16064435</td>\n",
              "      <td>0x2ead45ff26e34a00cf758b4b975f828dfb16f2a4e1b4...</td>\n",
              "      <td>33</td>\n",
              "      <td>5</td>\n",
              "    </tr>\n",
              "    <tr>\n",
              "      <th>18788</th>\n",
              "      <td>TokenExchange</td>\n",
              "      <td>0xDC24316b9AE028F1497c275EB9192a3Ea0f67022</td>\n",
              "      <td>{'buyer': '0x53222470CdcfB8081C0E3a50fd106f0D6...</td>\n",
              "      <td>0xcf7c96b2fe04fd9570d9a2e735defd405ae1782e7c18...</td>\n",
              "      <td>16064614</td>\n",
              "      <td>0xfe428c84d84e4cb0fc167b1017dfc62df3d138fd4c5e...</td>\n",
              "      <td>43</td>\n",
              "      <td>3</td>\n",
              "    </tr>\n",
              "  </tbody>\n",
              "</table>\n",
              "<p>18789 rows × 8 columns</p>\n",
              "</div>"
            ],
            "text/plain": [
              "          event_name                            contract_address  \\\n",
              "0      TokenExchange  0xDC24316b9AE028F1497c275EB9192a3Ea0f67022   \n",
              "1      TokenExchange  0xDC24316b9AE028F1497c275EB9192a3Ea0f67022   \n",
              "2      TokenExchange  0xDC24316b9AE028F1497c275EB9192a3Ea0f67022   \n",
              "3      TokenExchange  0xDC24316b9AE028F1497c275EB9192a3Ea0f67022   \n",
              "4      TokenExchange  0xDC24316b9AE028F1497c275EB9192a3Ea0f67022   \n",
              "...              ...                                         ...   \n",
              "18784  TokenExchange  0xDC24316b9AE028F1497c275EB9192a3Ea0f67022   \n",
              "18785  TokenExchange  0xDC24316b9AE028F1497c275EB9192a3Ea0f67022   \n",
              "18786  TokenExchange  0xDC24316b9AE028F1497c275EB9192a3Ea0f67022   \n",
              "18787  TokenExchange  0xDC24316b9AE028F1497c275EB9192a3Ea0f67022   \n",
              "18788  TokenExchange  0xDC24316b9AE028F1497c275EB9192a3Ea0f67022   \n",
              "\n",
              "                                         event_arguments  \\\n",
              "0      {'buyer': '0xB85425D1988A2b8008863Fe24167847d0...   \n",
              "1      {'buyer': '0xb24FcDBa4A76c0F0Ae39F505c163CAb5C...   \n",
              "2      {'buyer': '0x5C3097E7Fd3B97d9fdeEC6D378884c892...   \n",
              "3      {'buyer': '0x27239549DD40E1D60F5B80B0C41969237...   \n",
              "4      {'buyer': '0x22F9dCF4647084d6C31b2765F6910cd85...   \n",
              "...                                                  ...   \n",
              "18784  {'buyer': '0x28F7c0614ebbFD1b83fB6803E0CA61453...   \n",
              "18785  {'buyer': '0x58B03f7Cbf54293a426A8FF4E94d9891A...   \n",
              "18786  {'buyer': '0x22F9dCF4647084d6C31b2765F6910cd85...   \n",
              "18787  {'buyer': '0x53222470CdcfB8081C0E3a50fd106f0D6...   \n",
              "18788  {'buyer': '0x53222470CdcfB8081C0E3a50fd106f0D6...   \n",
              "\n",
              "                                        transaction_hash  block_number  \\\n",
              "0      0x6c7ef16f00952810ff4682da863f1c78145a2e20a9c2...      15416798   \n",
              "1      0x446da40ee0fa8db2d9822a4ef9ff54f89962431d0e58...      15416806   \n",
              "2      0x656a22262da7f7d1d06987d130e7b04f38aba3525fe2...      15416814   \n",
              "3      0xe7b75976cbebd86ec038fffbccd2798c7d098dec02df...      15416846   \n",
              "4      0x6ff798e136f984d88906335794234790c84d24762c42...      15416879   \n",
              "...                                                  ...           ...   \n",
              "18784  0x31263a9bdb491cf684b9d39ede747c2fceb46b145564...      16063985   \n",
              "18785  0xaaf6ff779abe49415b2061d096cdf16dc6fce85829e0...      16064399   \n",
              "18786  0x24dd7efdcb582fbcad8c5bad4358083374d7ba123031...      16064430   \n",
              "18787  0xa6abc2bde5849f43f83b935357319df1f85e05155e5f...      16064435   \n",
              "18788  0xcf7c96b2fe04fd9570d9a2e735defd405ae1782e7c18...      16064614   \n",
              "\n",
              "                                              block_hash  log_index  \\\n",
              "0      0x1eec4f4ba55dc3423069c01ff051375161e6671c9137...        241   \n",
              "1      0xa510b0ef3d7cd329805cf2bb18481e834f604ee1f345...        445   \n",
              "2      0x4eb315b5c04fb7d2ba0bae25da6ebe986a92cbd28fa5...        211   \n",
              "3      0xfcf402dbfb254901785f6852bed5e5cad5291a2db65d...         74   \n",
              "4      0x80cccc4c4d8872381dc4ae456f78ad7a3e70f2650494...        108   \n",
              "...                                                  ...        ...   \n",
              "18784  0x343921860019d638ba4fc3a7f02299f727fba2580ab8...         35   \n",
              "18785  0x842c78b3ec1dddba998396d13e5a239e8ac59ef4e561...         49   \n",
              "18786  0xf24361a5b7ab9d8dc5080994eb966109d234487d341b...        114   \n",
              "18787  0x2ead45ff26e34a00cf758b4b975f828dfb16f2a4e1b4...         33   \n",
              "18788  0xfe428c84d84e4cb0fc167b1017dfc62df3d138fd4c5e...         43   \n",
              "\n",
              "       transaction_index  \n",
              "0                    187  \n",
              "1                    166  \n",
              "2                     81  \n",
              "3                     59  \n",
              "4                     27  \n",
              "...                  ...  \n",
              "18784                 21  \n",
              "18785                 28  \n",
              "18786                 78  \n",
              "18787                  5  \n",
              "18788                  3  \n",
              "\n",
              "[18789 rows x 8 columns]"
            ]
          },
          "execution_count": 19,
          "metadata": {},
          "output_type": "execute_result"
        }
      ],
      "source": [
        "# ok great. let's look a bit further into the past to start_block from above. see how long it takes\n",
        "%time query_swaps_original = curve_steth.TokenExchange.query(\"*\", start_block=start_block)\n",
        "query_swaps_original"
      ]
    },
    {
      "cell_type": "code",
      "execution_count": 20,
      "id": "a09591e3",
      "metadata": {
        "id": "a09591e3"
      },
      "outputs": [],
      "source": [
        "query_swaps = query_swaps_original.copy()"
      ]
    },
    {
      "cell_type": "code",
      "execution_count": 21,
      "id": "11b8e5ca",
      "metadata": {
        "id": "11b8e5ca",
        "outputId": "c8ad66ce-4517-45af-e8fe-29d059cadbd2"
      },
      "outputs": [
        {
          "data": {
            "text/plain": [
              "['0xEeeeeEeeeEeEeeEeEeEeeEEEeeeeEeeeeeeeEEeE',\n",
              " '0xae7ab96520DE3A18E5e111B5EaAb095312D7fE84']"
            ]
          },
          "execution_count": 21,
          "metadata": {},
          "output_type": "execute_result"
        }
      ],
      "source": [
        "# get coin indices:\n",
        "#  - 0 = ETH (native)\n",
        "#  - 1 = stETH\n",
        "coin_indices = [curve_steth.coins(i) for i in range(2)]\n",
        "coin_indices"
      ]
    },
    {
      "cell_type": "code",
      "execution_count": 22,
      "id": "65b54df5",
      "metadata": {
        "id": "65b54df5",
        "outputId": "7f11c1f7-98df-4038-a657-52045e22a692"
      },
      "outputs": [
        {
          "data": {
            "text/plain": [
              "True"
            ]
          },
          "execution_count": 22,
          "metadata": {},
          "output_type": "execute_result"
        }
      ],
      "source": [
        "steth.address == coin_indices[-1]"
      ]
    },
    {
      "cell_type": "code",
      "execution_count": 23,
      "id": "a1801ec8",
      "metadata": {
        "id": "a1801ec8",
        "outputId": "f051e810-5af7-4479-c712-928141bbeba1"
      },
      "outputs": [
        {
          "data": {
            "text/plain": [
              "0.0004"
            ]
          },
          "execution_count": 23,
          "metadata": {},
          "output_type": "execute_result"
        }
      ],
      "source": [
        "# cache the fee to calculate associated price correctly (prior to fees applied)\n",
        "curve_steth_fee = curve_steth.fee() / 1e10  # fee denom is 1e10\n",
        "curve_steth_fee"
      ]
    },
    {
      "cell_type": "code",
      "execution_count": 24,
      "id": "9db01db2",
      "metadata": {
        "id": "9db01db2",
        "outputId": "6d115ba4-cd75-449d-e995-bec06e224a2f"
      },
      "outputs": [
        {
          "name": "stdout",
          "output_type": "stream",
          "text": [
            "last swap event: {'buyer': '0x53222470CdcfB8081C0E3a50fd106f0D69e63F20', 'sold_id': 0, 'tokens_sold': 60500000000000016384, 'bought_id': 1, 'tokens_bought': 61473909754848475368}\n",
            "price: 0.9837638425358135\n"
          ]
        }
      ],
      "source": [
        "# if sold_id == 1, then selling stETH for ETH, which is price wanted\n",
        "#  i.e. quote = <ETH>, base = <stETH>\n",
        "last_swap = query_swaps[\"event_arguments\"].iloc[-1]\n",
        "print('last swap event:', last_swap)\n",
        "\n",
        "last_price = last_swap['tokens_bought'] * (1+curve_steth_fee) / last_swap['tokens_sold']\n",
        "if last_swap['sold_id'] == 0:\n",
        "    last_price = 1 / last_price\n",
        "print('price:', last_price)"
      ]
    },
    {
      "cell_type": "code",
      "execution_count": 25,
      "id": "05daceae",
      "metadata": {
        "id": "05daceae"
      },
      "outputs": [],
      "source": [
        "# write a function that iterates over event_arguments to calculate marginal price from last token swap\n",
        "def get_price(event_args: dict) -> float:\n",
        "    price = event_args['tokens_bought'] * (1+curve_steth_fee) / event_args['tokens_sold']\n",
        "    if event_args['sold_id'] == 0:\n",
        "        price = 1 / price\n",
        "    return price"
      ]
    },
    {
      "cell_type": "code",
      "execution_count": 26,
      "id": "8f06306a",
      "metadata": {
        "id": "8f06306a",
        "outputId": "3f5df51d-f7ca-40ec-9832-3127e7504d14"
      },
      "outputs": [
        {
          "data": {
            "text/plain": [
              "True"
            ]
          },
          "execution_count": 26,
          "metadata": {},
          "output_type": "execute_result"
        }
      ],
      "source": [
        "# validate with logic in cell above for last price\n",
        "get_price(query_swaps[\"event_arguments\"].iloc[-1]) == last_price"
      ]
    },
    {
      "cell_type": "code",
      "execution_count": 27,
      "id": "18eede99",
      "metadata": {
        "id": "18eede99",
        "outputId": "93da2148-fed2-4df1-9191-52902d44b568"
      },
      "outputs": [
        {
          "data": {
            "text/html": [
              "<div>\n",
              "<style scoped>\n",
              "    .dataframe tbody tr th:only-of-type {\n",
              "        vertical-align: middle;\n",
              "    }\n",
              "\n",
              "    .dataframe tbody tr th {\n",
              "        vertical-align: top;\n",
              "    }\n",
              "\n",
              "    .dataframe thead th {\n",
              "        text-align: right;\n",
              "    }\n",
              "</style>\n",
              "<table border=\"1\" class=\"dataframe\">\n",
              "  <thead>\n",
              "    <tr style=\"text-align: right;\">\n",
              "      <th></th>\n",
              "      <th>event_name</th>\n",
              "      <th>contract_address</th>\n",
              "      <th>event_arguments</th>\n",
              "      <th>transaction_hash</th>\n",
              "      <th>block_number</th>\n",
              "      <th>block_hash</th>\n",
              "      <th>log_index</th>\n",
              "      <th>transaction_index</th>\n",
              "      <th>price (STETH/ETH)</th>\n",
              "    </tr>\n",
              "  </thead>\n",
              "  <tbody>\n",
              "    <tr>\n",
              "      <th>0</th>\n",
              "      <td>TokenExchange</td>\n",
              "      <td>0xDC24316b9AE028F1497c275EB9192a3Ea0f67022</td>\n",
              "      <td>{'buyer': '0xB85425D1988A2b8008863Fe24167847d0...</td>\n",
              "      <td>0x6c7ef16f00952810ff4682da863f1c78145a2e20a9c2...</td>\n",
              "      <td>15416798</td>\n",
              "      <td>0x1eec4f4ba55dc3423069c01ff051375161e6671c9137...</td>\n",
              "      <td>241</td>\n",
              "      <td>187</td>\n",
              "      <td>0.970542</td>\n",
              "    </tr>\n",
              "    <tr>\n",
              "      <th>1</th>\n",
              "      <td>TokenExchange</td>\n",
              "      <td>0xDC24316b9AE028F1497c275EB9192a3Ea0f67022</td>\n",
              "      <td>{'buyer': '0xb24FcDBa4A76c0F0Ae39F505c163CAb5C...</td>\n",
              "      <td>0x446da40ee0fa8db2d9822a4ef9ff54f89962431d0e58...</td>\n",
              "      <td>15416806</td>\n",
              "      <td>0xa510b0ef3d7cd329805cf2bb18481e834f604ee1f345...</td>\n",
              "      <td>445</td>\n",
              "      <td>166</td>\n",
              "      <td>0.970481</td>\n",
              "    </tr>\n",
              "    <tr>\n",
              "      <th>2</th>\n",
              "      <td>TokenExchange</td>\n",
              "      <td>0xDC24316b9AE028F1497c275EB9192a3Ea0f67022</td>\n",
              "      <td>{'buyer': '0x5C3097E7Fd3B97d9fdeEC6D378884c892...</td>\n",
              "      <td>0x656a22262da7f7d1d06987d130e7b04f38aba3525fe2...</td>\n",
              "      <td>15416814</td>\n",
              "      <td>0x4eb315b5c04fb7d2ba0bae25da6ebe986a92cbd28fa5...</td>\n",
              "      <td>211</td>\n",
              "      <td>81</td>\n",
              "      <td>0.970453</td>\n",
              "    </tr>\n",
              "    <tr>\n",
              "      <th>3</th>\n",
              "      <td>TokenExchange</td>\n",
              "      <td>0xDC24316b9AE028F1497c275EB9192a3Ea0f67022</td>\n",
              "      <td>{'buyer': '0x27239549DD40E1D60F5B80B0C41969237...</td>\n",
              "      <td>0xe7b75976cbebd86ec038fffbccd2798c7d098dec02df...</td>\n",
              "      <td>15416846</td>\n",
              "      <td>0xfcf402dbfb254901785f6852bed5e5cad5291a2db65d...</td>\n",
              "      <td>74</td>\n",
              "      <td>59</td>\n",
              "      <td>0.970469</td>\n",
              "    </tr>\n",
              "    <tr>\n",
              "      <th>4</th>\n",
              "      <td>TokenExchange</td>\n",
              "      <td>0xDC24316b9AE028F1497c275EB9192a3Ea0f67022</td>\n",
              "      <td>{'buyer': '0x22F9dCF4647084d6C31b2765F6910cd85...</td>\n",
              "      <td>0x6ff798e136f984d88906335794234790c84d24762c42...</td>\n",
              "      <td>15416879</td>\n",
              "      <td>0x80cccc4c4d8872381dc4ae456f78ad7a3e70f2650494...</td>\n",
              "      <td>108</td>\n",
              "      <td>27</td>\n",
              "      <td>0.970474</td>\n",
              "    </tr>\n",
              "    <tr>\n",
              "      <th>...</th>\n",
              "      <td>...</td>\n",
              "      <td>...</td>\n",
              "      <td>...</td>\n",
              "      <td>...</td>\n",
              "      <td>...</td>\n",
              "      <td>...</td>\n",
              "      <td>...</td>\n",
              "      <td>...</td>\n",
              "      <td>...</td>\n",
              "    </tr>\n",
              "    <tr>\n",
              "      <th>18784</th>\n",
              "      <td>TokenExchange</td>\n",
              "      <td>0xDC24316b9AE028F1497c275EB9192a3Ea0f67022</td>\n",
              "      <td>{'buyer': '0x28F7c0614ebbFD1b83fB6803E0CA61453...</td>\n",
              "      <td>0x31263a9bdb491cf684b9d39ede747c2fceb46b145564...</td>\n",
              "      <td>16063985</td>\n",
              "      <td>0x343921860019d638ba4fc3a7f02299f727fba2580ab8...</td>\n",
              "      <td>35</td>\n",
              "      <td>21</td>\n",
              "      <td>0.983756</td>\n",
              "    </tr>\n",
              "    <tr>\n",
              "      <th>18785</th>\n",
              "      <td>TokenExchange</td>\n",
              "      <td>0xDC24316b9AE028F1497c275EB9192a3Ea0f67022</td>\n",
              "      <td>{'buyer': '0x58B03f7Cbf54293a426A8FF4E94d9891A...</td>\n",
              "      <td>0xaaf6ff779abe49415b2061d096cdf16dc6fce85829e0...</td>\n",
              "      <td>16064399</td>\n",
              "      <td>0x842c78b3ec1dddba998396d13e5a239e8ac59ef4e561...</td>\n",
              "      <td>49</td>\n",
              "      <td>28</td>\n",
              "      <td>0.983755</td>\n",
              "    </tr>\n",
              "    <tr>\n",
              "      <th>18786</th>\n",
              "      <td>TokenExchange</td>\n",
              "      <td>0xDC24316b9AE028F1497c275EB9192a3Ea0f67022</td>\n",
              "      <td>{'buyer': '0x22F9dCF4647084d6C31b2765F6910cd85...</td>\n",
              "      <td>0x24dd7efdcb582fbcad8c5bad4358083374d7ba123031...</td>\n",
              "      <td>16064430</td>\n",
              "      <td>0xf24361a5b7ab9d8dc5080994eb966109d234487d341b...</td>\n",
              "      <td>114</td>\n",
              "      <td>78</td>\n",
              "      <td>0.983755</td>\n",
              "    </tr>\n",
              "    <tr>\n",
              "      <th>18787</th>\n",
              "      <td>TokenExchange</td>\n",
              "      <td>0xDC24316b9AE028F1497c275EB9192a3Ea0f67022</td>\n",
              "      <td>{'buyer': '0x53222470CdcfB8081C0E3a50fd106f0D6...</td>\n",
              "      <td>0xa6abc2bde5849f43f83b935357319df1f85e05155e5f...</td>\n",
              "      <td>16064435</td>\n",
              "      <td>0x2ead45ff26e34a00cf758b4b975f828dfb16f2a4e1b4...</td>\n",
              "      <td>33</td>\n",
              "      <td>5</td>\n",
              "      <td>0.983754</td>\n",
              "    </tr>\n",
              "    <tr>\n",
              "      <th>18788</th>\n",
              "      <td>TokenExchange</td>\n",
              "      <td>0xDC24316b9AE028F1497c275EB9192a3Ea0f67022</td>\n",
              "      <td>{'buyer': '0x53222470CdcfB8081C0E3a50fd106f0D6...</td>\n",
              "      <td>0xcf7c96b2fe04fd9570d9a2e735defd405ae1782e7c18...</td>\n",
              "      <td>16064614</td>\n",
              "      <td>0xfe428c84d84e4cb0fc167b1017dfc62df3d138fd4c5e...</td>\n",
              "      <td>43</td>\n",
              "      <td>3</td>\n",
              "      <td>0.983764</td>\n",
              "    </tr>\n",
              "  </tbody>\n",
              "</table>\n",
              "<p>18789 rows × 9 columns</p>\n",
              "</div>"
            ],
            "text/plain": [
              "          event_name                            contract_address  \\\n",
              "0      TokenExchange  0xDC24316b9AE028F1497c275EB9192a3Ea0f67022   \n",
              "1      TokenExchange  0xDC24316b9AE028F1497c275EB9192a3Ea0f67022   \n",
              "2      TokenExchange  0xDC24316b9AE028F1497c275EB9192a3Ea0f67022   \n",
              "3      TokenExchange  0xDC24316b9AE028F1497c275EB9192a3Ea0f67022   \n",
              "4      TokenExchange  0xDC24316b9AE028F1497c275EB9192a3Ea0f67022   \n",
              "...              ...                                         ...   \n",
              "18784  TokenExchange  0xDC24316b9AE028F1497c275EB9192a3Ea0f67022   \n",
              "18785  TokenExchange  0xDC24316b9AE028F1497c275EB9192a3Ea0f67022   \n",
              "18786  TokenExchange  0xDC24316b9AE028F1497c275EB9192a3Ea0f67022   \n",
              "18787  TokenExchange  0xDC24316b9AE028F1497c275EB9192a3Ea0f67022   \n",
              "18788  TokenExchange  0xDC24316b9AE028F1497c275EB9192a3Ea0f67022   \n",
              "\n",
              "                                         event_arguments  \\\n",
              "0      {'buyer': '0xB85425D1988A2b8008863Fe24167847d0...   \n",
              "1      {'buyer': '0xb24FcDBa4A76c0F0Ae39F505c163CAb5C...   \n",
              "2      {'buyer': '0x5C3097E7Fd3B97d9fdeEC6D378884c892...   \n",
              "3      {'buyer': '0x27239549DD40E1D60F5B80B0C41969237...   \n",
              "4      {'buyer': '0x22F9dCF4647084d6C31b2765F6910cd85...   \n",
              "...                                                  ...   \n",
              "18784  {'buyer': '0x28F7c0614ebbFD1b83fB6803E0CA61453...   \n",
              "18785  {'buyer': '0x58B03f7Cbf54293a426A8FF4E94d9891A...   \n",
              "18786  {'buyer': '0x22F9dCF4647084d6C31b2765F6910cd85...   \n",
              "18787  {'buyer': '0x53222470CdcfB8081C0E3a50fd106f0D6...   \n",
              "18788  {'buyer': '0x53222470CdcfB8081C0E3a50fd106f0D6...   \n",
              "\n",
              "                                        transaction_hash  block_number  \\\n",
              "0      0x6c7ef16f00952810ff4682da863f1c78145a2e20a9c2...      15416798   \n",
              "1      0x446da40ee0fa8db2d9822a4ef9ff54f89962431d0e58...      15416806   \n",
              "2      0x656a22262da7f7d1d06987d130e7b04f38aba3525fe2...      15416814   \n",
              "3      0xe7b75976cbebd86ec038fffbccd2798c7d098dec02df...      15416846   \n",
              "4      0x6ff798e136f984d88906335794234790c84d24762c42...      15416879   \n",
              "...                                                  ...           ...   \n",
              "18784  0x31263a9bdb491cf684b9d39ede747c2fceb46b145564...      16063985   \n",
              "18785  0xaaf6ff779abe49415b2061d096cdf16dc6fce85829e0...      16064399   \n",
              "18786  0x24dd7efdcb582fbcad8c5bad4358083374d7ba123031...      16064430   \n",
              "18787  0xa6abc2bde5849f43f83b935357319df1f85e05155e5f...      16064435   \n",
              "18788  0xcf7c96b2fe04fd9570d9a2e735defd405ae1782e7c18...      16064614   \n",
              "\n",
              "                                              block_hash  log_index  \\\n",
              "0      0x1eec4f4ba55dc3423069c01ff051375161e6671c9137...        241   \n",
              "1      0xa510b0ef3d7cd329805cf2bb18481e834f604ee1f345...        445   \n",
              "2      0x4eb315b5c04fb7d2ba0bae25da6ebe986a92cbd28fa5...        211   \n",
              "3      0xfcf402dbfb254901785f6852bed5e5cad5291a2db65d...         74   \n",
              "4      0x80cccc4c4d8872381dc4ae456f78ad7a3e70f2650494...        108   \n",
              "...                                                  ...        ...   \n",
              "18784  0x343921860019d638ba4fc3a7f02299f727fba2580ab8...         35   \n",
              "18785  0x842c78b3ec1dddba998396d13e5a239e8ac59ef4e561...         49   \n",
              "18786  0xf24361a5b7ab9d8dc5080994eb966109d234487d341b...        114   \n",
              "18787  0x2ead45ff26e34a00cf758b4b975f828dfb16f2a4e1b4...         33   \n",
              "18788  0xfe428c84d84e4cb0fc167b1017dfc62df3d138fd4c5e...         43   \n",
              "\n",
              "       transaction_index  price (STETH/ETH)  \n",
              "0                    187           0.970542  \n",
              "1                    166           0.970481  \n",
              "2                     81           0.970453  \n",
              "3                     59           0.970469  \n",
              "4                     27           0.970474  \n",
              "...                  ...                ...  \n",
              "18784                 21           0.983756  \n",
              "18785                 28           0.983755  \n",
              "18786                 78           0.983755  \n",
              "18787                  5           0.983754  \n",
              "18788                  3           0.983764  \n",
              "\n",
              "[18789 rows x 9 columns]"
            ]
          },
          "execution_count": 27,
          "metadata": {},
          "output_type": "execute_result"
        }
      ],
      "source": [
        "# create new column with marginal price (stETH as base and ETH as quote, so should be at a discount)\n",
        "query_swaps['price (STETH/ETH)'] = query_swaps['event_arguments'].apply(get_price)\n",
        "query_swaps"
      ]
    },
    {
      "cell_type": "code",
      "execution_count": 28,
      "id": "c7301a74",
      "metadata": {
        "id": "c7301a74",
        "outputId": "8d57508d-a764-499a-8ed5-1906b2221983"
      },
      "outputs": [
        {
          "data": {
            "text/plain": [
              "<AxesSubplot:xlabel='block_number'>"
            ]
          },
          "execution_count": 28,
          "metadata": {},
          "output_type": "execute_result"
        },
        {
          "data": {
            "image/png": "[encoded data removed]",
            "text/plain": [
              "<Figure size 432x288 with 1 Axes>"
            ]
          },
          "metadata": {
            "needs_background": "light"
          },
          "output_type": "display_data"
        }
      ],
      "source": [
        "query_swaps.plot(x='block_number', y='price (STETH/ETH)')"
      ]
    },
    {
      "cell_type": "code",
      "execution_count": 29,
      "id": "d4ae9127",
      "metadata": {
        "id": "d4ae9127",
        "outputId": "4cf5cc6c-c872-4e4a-abac-4bcc2384eafd"
      },
      "outputs": [
        {
          "data": {
            "text/plain": [
              "<AxesSubplot:xlabel='block_number'>"
            ]
          },
          "execution_count": 29,
          "metadata": {},
          "output_type": "execute_result"
        },
        {
          "data": {
            "image/png": "[encoded data removed]",
            "text/plain": [
              "<Figure size 432x288 with 1 Axes>"
            ]
          },
          "metadata": {
            "needs_background": "light"
          },
          "output_type": "display_data"
        }
      ],
      "source": [
        "# well those are weird dips and spikes. look at smooth parts\n",
        "query_swaps[(query_swaps['block_number'] > 15100000) & (query_swaps['block_number'] < 15200000)].plot(x='block_number', y='price (STETH/ETH)')"
      ]
    },
    {
      "cell_type": "code",
      "execution_count": 30,
      "id": "0cdc144e",
      "metadata": {
        "id": "0cdc144e",
        "outputId": "1d89b980-e8a3-435a-935d-98deda4c1d4b"
      },
      "outputs": [
        {
          "data": {
            "text/plain": [
              "<AxesSubplot:xlabel='block_number'>"
            ]
          },
          "execution_count": 30,
          "metadata": {},
          "output_type": "execute_result"
        },
        {
          "data": {
            "image/png": "[encoded data removed]",
            "text/plain": [
              "<Figure size 432x288 with 1 Axes>"
            ]
          },
          "metadata": {
            "needs_background": "light"
          },
          "output_type": "display_data"
        }
      ],
      "source": [
        "# weird spike for swaps back to 1.000 exchange rate. should look at this in event df\n",
        "query_swaps[(query_swaps['block_number'] > 15131500) & (query_swaps['block_number'] < 15133000)].plot(x='block_number', y='price (STETH/ETH)')"
      ]
    },
    {
      "cell_type": "code",
      "execution_count": 31,
      "id": "fefbc986",
      "metadata": {
        "id": "fefbc986"
      },
      "outputs": [],
      "source": [
        "# first, unfold event arguments into separate columns\n",
        "def unfold_event_args(key: str, event_args: dict):\n",
        "    return event_args[key]\n",
        "\n",
        "for key in query_swaps.iloc[-1]['event_arguments'].keys():\n",
        "    query_swaps[key] = query_swaps['event_arguments'].apply(lambda ev: unfold_event_args(key, ev))"
      ]
    },
    {
      "cell_type": "code",
      "execution_count": 32,
      "id": "9dc5f51e",
      "metadata": {
        "id": "9dc5f51e",
        "outputId": "5b7bf676-d3a5-4cfa-a73c-e2dca0fea40f"
      },
      "outputs": [
        {
          "data": {
            "text/html": [
              "<div>\n",
              "<style scoped>\n",
              "    .dataframe tbody tr th:only-of-type {\n",
              "        vertical-align: middle;\n",
              "    }\n",
              "\n",
              "    .dataframe tbody tr th {\n",
              "        vertical-align: top;\n",
              "    }\n",
              "\n",
              "    .dataframe thead th {\n",
              "        text-align: right;\n",
              "    }\n",
              "</style>\n",
              "<table border=\"1\" class=\"dataframe\">\n",
              "  <thead>\n",
              "    <tr style=\"text-align: right;\">\n",
              "      <th></th>\n",
              "      <th>event_name</th>\n",
              "      <th>contract_address</th>\n",
              "      <th>event_arguments</th>\n",
              "      <th>transaction_hash</th>\n",
              "      <th>block_number</th>\n",
              "      <th>block_hash</th>\n",
              "      <th>log_index</th>\n",
              "      <th>transaction_index</th>\n",
              "      <th>price (STETH/ETH)</th>\n",
              "      <th>buyer</th>\n",
              "      <th>sold_id</th>\n",
              "      <th>tokens_sold</th>\n",
              "      <th>bought_id</th>\n",
              "      <th>tokens_bought</th>\n",
              "    </tr>\n",
              "  </thead>\n",
              "  <tbody>\n",
              "    <tr>\n",
              "      <th>0</th>\n",
              "      <td>TokenExchange</td>\n",
              "      <td>0xDC24316b9AE028F1497c275EB9192a3Ea0f67022</td>\n",
              "      <td>{'buyer': '0xB85425D1988A2b8008863Fe24167847d0...</td>\n",
              "      <td>0x6c7ef16f00952810ff4682da863f1c78145a2e20a9c2...</td>\n",
              "      <td>15416798</td>\n",
              "      <td>0x1eec4f4ba55dc3423069c01ff051375161e6671c9137...</td>\n",
              "      <td>241</td>\n",
              "      <td>187</td>\n",
              "      <td>0.970542</td>\n",
              "      <td>0xB85425D1988A2b8008863Fe24167847d0350981a</td>\n",
              "      <td>1</td>\n",
              "      <td>212843572202833648204</td>\n",
              "      <td>0</td>\n",
              "      <td>206491123822738232084</td>\n",
              "    </tr>\n",
              "    <tr>\n",
              "      <th>1</th>\n",
              "      <td>TokenExchange</td>\n",
              "      <td>0xDC24316b9AE028F1497c275EB9192a3Ea0f67022</td>\n",
              "      <td>{'buyer': '0xb24FcDBa4A76c0F0Ae39F505c163CAb5C...</td>\n",
              "      <td>0x446da40ee0fa8db2d9822a4ef9ff54f89962431d0e58...</td>\n",
              "      <td>15416806</td>\n",
              "      <td>0xa510b0ef3d7cd329805cf2bb18481e834f604ee1f345...</td>\n",
              "      <td>445</td>\n",
              "      <td>166</td>\n",
              "      <td>0.970481</td>\n",
              "      <td>0xb24FcDBa4A76c0F0Ae39F505c163CAb5CD89fd29</td>\n",
              "      <td>1</td>\n",
              "      <td>179653406409401106541</td>\n",
              "      <td>0</td>\n",
              "      <td>174280479304408951778</td>\n",
              "    </tr>\n",
              "    <tr>\n",
              "      <th>2</th>\n",
              "      <td>TokenExchange</td>\n",
              "      <td>0xDC24316b9AE028F1497c275EB9192a3Ea0f67022</td>\n",
              "      <td>{'buyer': '0x5C3097E7Fd3B97d9fdeEC6D378884c892...</td>\n",
              "      <td>0x656a22262da7f7d1d06987d130e7b04f38aba3525fe2...</td>\n",
              "      <td>15416814</td>\n",
              "      <td>0x4eb315b5c04fb7d2ba0bae25da6ebe986a92cbd28fa5...</td>\n",
              "      <td>211</td>\n",
              "      <td>81</td>\n",
              "      <td>0.970453</td>\n",
              "      <td>0x5C3097E7Fd3B97d9fdeEC6D378884c892Ff0545F</td>\n",
              "      <td>1</td>\n",
              "      <td>300000000000000000</td>\n",
              "      <td>0</td>\n",
              "      <td>291019365930629512</td>\n",
              "    </tr>\n",
              "    <tr>\n",
              "      <th>3</th>\n",
              "      <td>TokenExchange</td>\n",
              "      <td>0xDC24316b9AE028F1497c275EB9192a3Ea0f67022</td>\n",
              "      <td>{'buyer': '0x27239549DD40E1D60F5B80B0C41969237...</td>\n",
              "      <td>0xe7b75976cbebd86ec038fffbccd2798c7d098dec02df...</td>\n",
              "      <td>15416846</td>\n",
              "      <td>0xfcf402dbfb254901785f6852bed5e5cad5291a2db65d...</td>\n",
              "      <td>74</td>\n",
              "      <td>59</td>\n",
              "      <td>0.970469</td>\n",
              "      <td>0x27239549DD40E1D60F5B80B0C4196923745B1FD2</td>\n",
              "      <td>0</td>\n",
              "      <td>23830302373300670863</td>\n",
              "      <td>1</td>\n",
              "      <td>24545642959902663203</td>\n",
              "    </tr>\n",
              "    <tr>\n",
              "      <th>4</th>\n",
              "      <td>TokenExchange</td>\n",
              "      <td>0xDC24316b9AE028F1497c275EB9192a3Ea0f67022</td>\n",
              "      <td>{'buyer': '0x22F9dCF4647084d6C31b2765F6910cd85...</td>\n",
              "      <td>0x6ff798e136f984d88906335794234790c84d24762c42...</td>\n",
              "      <td>15416879</td>\n",
              "      <td>0x80cccc4c4d8872381dc4ae456f78ad7a3e70f2650494...</td>\n",
              "      <td>108</td>\n",
              "      <td>27</td>\n",
              "      <td>0.970474</td>\n",
              "      <td>0x22F9dCF4647084d6C31b2765F6910cd85C178C18</td>\n",
              "      <td>0</td>\n",
              "      <td>8533932129863802820</td>\n",
              "      <td>1</td>\n",
              "      <td>8790057152954446617</td>\n",
              "    </tr>\n",
              "    <tr>\n",
              "      <th>...</th>\n",
              "      <td>...</td>\n",
              "      <td>...</td>\n",
              "      <td>...</td>\n",
              "      <td>...</td>\n",
              "      <td>...</td>\n",
              "      <td>...</td>\n",
              "      <td>...</td>\n",
              "      <td>...</td>\n",
              "      <td>...</td>\n",
              "      <td>...</td>\n",
              "      <td>...</td>\n",
              "      <td>...</td>\n",
              "      <td>...</td>\n",
              "      <td>...</td>\n",
              "    </tr>\n",
              "    <tr>\n",
              "      <th>18784</th>\n",
              "      <td>TokenExchange</td>\n",
              "      <td>0xDC24316b9AE028F1497c275EB9192a3Ea0f67022</td>\n",
              "      <td>{'buyer': '0x28F7c0614ebbFD1b83fB6803E0CA61453...</td>\n",
              "      <td>0x31263a9bdb491cf684b9d39ede747c2fceb46b145564...</td>\n",
              "      <td>16063985</td>\n",
              "      <td>0x343921860019d638ba4fc3a7f02299f727fba2580ab8...</td>\n",
              "      <td>35</td>\n",
              "      <td>21</td>\n",
              "      <td>0.983756</td>\n",
              "      <td>0x28F7c0614ebbFD1b83fB6803E0CA61453D3E32B9</td>\n",
              "      <td>1</td>\n",
              "      <td>1000000000000000000</td>\n",
              "      <td>0</td>\n",
              "      <td>983362439515918813</td>\n",
              "    </tr>\n",
              "    <tr>\n",
              "      <th>18785</th>\n",
              "      <td>TokenExchange</td>\n",
              "      <td>0xDC24316b9AE028F1497c275EB9192a3Ea0f67022</td>\n",
              "      <td>{'buyer': '0x58B03f7Cbf54293a426A8FF4E94d9891A...</td>\n",
              "      <td>0xaaf6ff779abe49415b2061d096cdf16dc6fce85829e0...</td>\n",
              "      <td>16064399</td>\n",
              "      <td>0x842c78b3ec1dddba998396d13e5a239e8ac59ef4e561...</td>\n",
              "      <td>49</td>\n",
              "      <td>28</td>\n",
              "      <td>0.983755</td>\n",
              "      <td>0x58B03f7Cbf54293a426A8FF4E94d9891AFDE7b69</td>\n",
              "      <td>1</td>\n",
              "      <td>3194958453078403806</td>\n",
              "      <td>0</td>\n",
              "      <td>3141800578587178741</td>\n",
              "    </tr>\n",
              "    <tr>\n",
              "      <th>18786</th>\n",
              "      <td>TokenExchange</td>\n",
              "      <td>0xDC24316b9AE028F1497c275EB9192a3Ea0f67022</td>\n",
              "      <td>{'buyer': '0x22F9dCF4647084d6C31b2765F6910cd85...</td>\n",
              "      <td>0x24dd7efdcb582fbcad8c5bad4358083374d7ba123031...</td>\n",
              "      <td>16064430</td>\n",
              "      <td>0xf24361a5b7ab9d8dc5080994eb966109d234487d341b...</td>\n",
              "      <td>114</td>\n",
              "      <td>78</td>\n",
              "      <td>0.983755</td>\n",
              "      <td>0x22F9dCF4647084d6C31b2765F6910cd85C178C18</td>\n",
              "      <td>1</td>\n",
              "      <td>1580911535521578482</td>\n",
              "      <td>0</td>\n",
              "      <td>1554607356879844910</td>\n",
              "    </tr>\n",
              "    <tr>\n",
              "      <th>18787</th>\n",
              "      <td>TokenExchange</td>\n",
              "      <td>0xDC24316b9AE028F1497c275EB9192a3Ea0f67022</td>\n",
              "      <td>{'buyer': '0x53222470CdcfB8081C0E3a50fd106f0D6...</td>\n",
              "      <td>0xa6abc2bde5849f43f83b935357319df1f85e05155e5f...</td>\n",
              "      <td>16064435</td>\n",
              "      <td>0x2ead45ff26e34a00cf758b4b975f828dfb16f2a4e1b4...</td>\n",
              "      <td>33</td>\n",
              "      <td>5</td>\n",
              "      <td>0.983754</td>\n",
              "      <td>0x53222470CdcfB8081C0E3a50fd106f0D69e63F20</td>\n",
              "      <td>1</td>\n",
              "      <td>792157363535029691</td>\n",
              "      <td>0</td>\n",
              "      <td>778976739065007532</td>\n",
              "    </tr>\n",
              "    <tr>\n",
              "      <th>18788</th>\n",
              "      <td>TokenExchange</td>\n",
              "      <td>0xDC24316b9AE028F1497c275EB9192a3Ea0f67022</td>\n",
              "      <td>{'buyer': '0x53222470CdcfB8081C0E3a50fd106f0D6...</td>\n",
              "      <td>0xcf7c96b2fe04fd9570d9a2e735defd405ae1782e7c18...</td>\n",
              "      <td>16064614</td>\n",
              "      <td>0xfe428c84d84e4cb0fc167b1017dfc62df3d138fd4c5e...</td>\n",
              "      <td>43</td>\n",
              "      <td>3</td>\n",
              "      <td>0.983764</td>\n",
              "      <td>0x53222470CdcfB8081C0E3a50fd106f0D69e63F20</td>\n",
              "      <td>0</td>\n",
              "      <td>60500000000000016384</td>\n",
              "      <td>1</td>\n",
              "      <td>61473909754848475368</td>\n",
              "    </tr>\n",
              "  </tbody>\n",
              "</table>\n",
              "<p>18789 rows × 14 columns</p>\n",
              "</div>"
            ],
            "text/plain": [
              "          event_name                            contract_address  \\\n",
              "0      TokenExchange  0xDC24316b9AE028F1497c275EB9192a3Ea0f67022   \n",
              "1      TokenExchange  0xDC24316b9AE028F1497c275EB9192a3Ea0f67022   \n",
              "2      TokenExchange  0xDC24316b9AE028F1497c275EB9192a3Ea0f67022   \n",
              "3      TokenExchange  0xDC24316b9AE028F1497c275EB9192a3Ea0f67022   \n",
              "4      TokenExchange  0xDC24316b9AE028F1497c275EB9192a3Ea0f67022   \n",
              "...              ...                                         ...   \n",
              "18784  TokenExchange  0xDC24316b9AE028F1497c275EB9192a3Ea0f67022   \n",
              "18785  TokenExchange  0xDC24316b9AE028F1497c275EB9192a3Ea0f67022   \n",
              "18786  TokenExchange  0xDC24316b9AE028F1497c275EB9192a3Ea0f67022   \n",
              "18787  TokenExchange  0xDC24316b9AE028F1497c275EB9192a3Ea0f67022   \n",
              "18788  TokenExchange  0xDC24316b9AE028F1497c275EB9192a3Ea0f67022   \n",
              "\n",
              "                                         event_arguments  \\\n",
              "0      {'buyer': '0xB85425D1988A2b8008863Fe24167847d0...   \n",
              "1      {'buyer': '0xb24FcDBa4A76c0F0Ae39F505c163CAb5C...   \n",
              "2      {'buyer': '0x5C3097E7Fd3B97d9fdeEC6D378884c892...   \n",
              "3      {'buyer': '0x27239549DD40E1D60F5B80B0C41969237...   \n",
              "4      {'buyer': '0x22F9dCF4647084d6C31b2765F6910cd85...   \n",
              "...                                                  ...   \n",
              "18784  {'buyer': '0x28F7c0614ebbFD1b83fB6803E0CA61453...   \n",
              "18785  {'buyer': '0x58B03f7Cbf54293a426A8FF4E94d9891A...   \n",
              "18786  {'buyer': '0x22F9dCF4647084d6C31b2765F6910cd85...   \n",
              "18787  {'buyer': '0x53222470CdcfB8081C0E3a50fd106f0D6...   \n",
              "18788  {'buyer': '0x53222470CdcfB8081C0E3a50fd106f0D6...   \n",
              "\n",
              "                                        transaction_hash  block_number  \\\n",
              "0      0x6c7ef16f00952810ff4682da863f1c78145a2e20a9c2...      15416798   \n",
              "1      0x446da40ee0fa8db2d9822a4ef9ff54f89962431d0e58...      15416806   \n",
              "2      0x656a22262da7f7d1d06987d130e7b04f38aba3525fe2...      15416814   \n",
              "3      0xe7b75976cbebd86ec038fffbccd2798c7d098dec02df...      15416846   \n",
              "4      0x6ff798e136f984d88906335794234790c84d24762c42...      15416879   \n",
              "...                                                  ...           ...   \n",
              "18784  0x31263a9bdb491cf684b9d39ede747c2fceb46b145564...      16063985   \n",
              "18785  0xaaf6ff779abe49415b2061d096cdf16dc6fce85829e0...      16064399   \n",
              "18786  0x24dd7efdcb582fbcad8c5bad4358083374d7ba123031...      16064430   \n",
              "18787  0xa6abc2bde5849f43f83b935357319df1f85e05155e5f...      16064435   \n",
              "18788  0xcf7c96b2fe04fd9570d9a2e735defd405ae1782e7c18...      16064614   \n",
              "\n",
              "                                              block_hash  log_index  \\\n",
              "0      0x1eec4f4ba55dc3423069c01ff051375161e6671c9137...        241   \n",
              "1      0xa510b0ef3d7cd329805cf2bb18481e834f604ee1f345...        445   \n",
              "2      0x4eb315b5c04fb7d2ba0bae25da6ebe986a92cbd28fa5...        211   \n",
              "3      0xfcf402dbfb254901785f6852bed5e5cad5291a2db65d...         74   \n",
              "4      0x80cccc4c4d8872381dc4ae456f78ad7a3e70f2650494...        108   \n",
              "...                                                  ...        ...   \n",
              "18784  0x343921860019d638ba4fc3a7f02299f727fba2580ab8...         35   \n",
              "18785  0x842c78b3ec1dddba998396d13e5a239e8ac59ef4e561...         49   \n",
              "18786  0xf24361a5b7ab9d8dc5080994eb966109d234487d341b...        114   \n",
              "18787  0x2ead45ff26e34a00cf758b4b975f828dfb16f2a4e1b4...         33   \n",
              "18788  0xfe428c84d84e4cb0fc167b1017dfc62df3d138fd4c5e...         43   \n",
              "\n",
              "       transaction_index  price (STETH/ETH)  \\\n",
              "0                    187           0.970542   \n",
              "1                    166           0.970481   \n",
              "2                     81           0.970453   \n",
              "3                     59           0.970469   \n",
              "4                     27           0.970474   \n",
              "...                  ...                ...   \n",
              "18784                 21           0.983756   \n",
              "18785                 28           0.983755   \n",
              "18786                 78           0.983755   \n",
              "18787                  5           0.983754   \n",
              "18788                  3           0.983764   \n",
              "\n",
              "                                            buyer  sold_id  \\\n",
              "0      0xB85425D1988A2b8008863Fe24167847d0350981a        1   \n",
              "1      0xb24FcDBa4A76c0F0Ae39F505c163CAb5CD89fd29        1   \n",
              "2      0x5C3097E7Fd3B97d9fdeEC6D378884c892Ff0545F        1   \n",
              "3      0x27239549DD40E1D60F5B80B0C4196923745B1FD2        0   \n",
              "4      0x22F9dCF4647084d6C31b2765F6910cd85C178C18        0   \n",
              "...                                           ...      ...   \n",
              "18784  0x28F7c0614ebbFD1b83fB6803E0CA61453D3E32B9        1   \n",
              "18785  0x58B03f7Cbf54293a426A8FF4E94d9891AFDE7b69        1   \n",
              "18786  0x22F9dCF4647084d6C31b2765F6910cd85C178C18        1   \n",
              "18787  0x53222470CdcfB8081C0E3a50fd106f0D69e63F20        1   \n",
              "18788  0x53222470CdcfB8081C0E3a50fd106f0D69e63F20        0   \n",
              "\n",
              "                 tokens_sold  bought_id          tokens_bought  \n",
              "0      212843572202833648204          0  206491123822738232084  \n",
              "1      179653406409401106541          0  174280479304408951778  \n",
              "2         300000000000000000          0     291019365930629512  \n",
              "3       23830302373300670863          1   24545642959902663203  \n",
              "4        8533932129863802820          1    8790057152954446617  \n",
              "...                      ...        ...                    ...  \n",
              "18784    1000000000000000000          0     983362439515918813  \n",
              "18785    3194958453078403806          0    3141800578587178741  \n",
              "18786    1580911535521578482          0    1554607356879844910  \n",
              "18787     792157363535029691          0     778976739065007532  \n",
              "18788   60500000000000016384          1   61473909754848475368  \n",
              "\n",
              "[18789 rows x 14 columns]"
            ]
          },
          "execution_count": 32,
          "metadata": {},
          "output_type": "execute_result"
        }
      ],
      "source": [
        "query_swaps"
      ]
    },
    {
      "cell_type": "code",
      "execution_count": 33,
      "id": "d175028b",
      "metadata": {
        "id": "d175028b",
        "outputId": "744a518b-52d4-47f9-8e91-c6223b467eb1"
      },
      "outputs": [
        {
          "data": {
            "text/html": [
              "<div>\n",
              "<style scoped>\n",
              "    .dataframe tbody tr th:only-of-type {\n",
              "        vertical-align: middle;\n",
              "    }\n",
              "\n",
              "    .dataframe tbody tr th {\n",
              "        vertical-align: top;\n",
              "    }\n",
              "\n",
              "    .dataframe thead th {\n",
              "        text-align: right;\n",
              "    }\n",
              "</style>\n",
              "<table border=\"1\" class=\"dataframe\">\n",
              "  <thead>\n",
              "    <tr style=\"text-align: right;\">\n",
              "      <th></th>\n",
              "      <th>event_name</th>\n",
              "      <th>contract_address</th>\n",
              "      <th>event_arguments</th>\n",
              "      <th>transaction_hash</th>\n",
              "      <th>block_number</th>\n",
              "      <th>block_hash</th>\n",
              "      <th>log_index</th>\n",
              "      <th>transaction_index</th>\n",
              "      <th>price (STETH/ETH)</th>\n",
              "      <th>buyer</th>\n",
              "      <th>sold_id</th>\n",
              "      <th>tokens_sold</th>\n",
              "      <th>bought_id</th>\n",
              "      <th>tokens_bought</th>\n",
              "    </tr>\n",
              "  </thead>\n",
              "  <tbody>\n",
              "  </tbody>\n",
              "</table>\n",
              "</div>"
            ],
            "text/plain": [
              "Empty DataFrame\n",
              "Columns: [event_name, contract_address, event_arguments, transaction_hash, block_number, block_hash, log_index, transaction_index, price (STETH/ETH), buyer, sold_id, tokens_sold, bought_id, tokens_bought]\n",
              "Index: []"
            ]
          },
          "execution_count": 33,
          "metadata": {},
          "output_type": "execute_result"
        }
      ],
      "source": [
        "# now, check swaps where price spikes up to 1 between blocks 15132100 and 15132400\n",
        "query_swaps[(query_swaps['block_number'] > 15132100) & (query_swaps['block_number'] < 15132400)]"
      ]
    },
    {
      "cell_type": "code",
      "execution_count": 34,
      "id": "e4b90a3c",
      "metadata": {
        "id": "e4b90a3c"
      },
      "outputs": [],
      "source": [
        "# ahh, ok :) .. someones selling 1 wei into the pool (see e.g. block 15132225)\n",
        "# which is causing rounding issues for price calc"
      ]
    },
    {
      "cell_type": "code",
      "execution_count": 35,
      "id": "20aa3340",
      "metadata": {
        "id": "20aa3340",
        "outputId": "ed9d6d9b-552f-4b76-c450-6492c3a8f975"
      },
      "outputs": [
        {
          "data": {
            "text/plain": [
              "<AxesSubplot:xlabel='block_number'>"
            ]
          },
          "execution_count": 35,
          "metadata": {},
          "output_type": "execute_result"
        },
        {
          "data": {
            "image/png": "[encoded data removed]",
            "text/plain": [
              "<Figure size 432x288 with 1 Axes>"
            ]
          },
          "metadata": {
            "needs_background": "light"
          },
          "output_type": "display_data"
        }
      ],
      "source": [
        "# are the dusting rounding issues also causing those spikes down to zero?\n",
        "# look at first spike down to 0\n",
        "query_swaps[(query_swaps['block_number'] > 14824600) & (query_swaps['block_number'] < 14825000)].plot(x='block_number', y='price (STETH/ETH)')"
      ]
    },
    {
      "cell_type": "code",
      "execution_count": 36,
      "id": "fb6fb625",
      "metadata": {
        "id": "fb6fb625",
        "outputId": "a18a8e86-6598-4d99-cada-5a74a56108b3"
      },
      "outputs": [
        {
          "data": {
            "text/html": [
              "<div>\n",
              "<style scoped>\n",
              "    .dataframe tbody tr th:only-of-type {\n",
              "        vertical-align: middle;\n",
              "    }\n",
              "\n",
              "    .dataframe tbody tr th {\n",
              "        vertical-align: top;\n",
              "    }\n",
              "\n",
              "    .dataframe thead th {\n",
              "        text-align: right;\n",
              "    }\n",
              "</style>\n",
              "<table border=\"1\" class=\"dataframe\">\n",
              "  <thead>\n",
              "    <tr style=\"text-align: right;\">\n",
              "      <th></th>\n",
              "      <th>event_name</th>\n",
              "      <th>contract_address</th>\n",
              "      <th>event_arguments</th>\n",
              "      <th>transaction_hash</th>\n",
              "      <th>block_number</th>\n",
              "      <th>block_hash</th>\n",
              "      <th>log_index</th>\n",
              "      <th>transaction_index</th>\n",
              "      <th>price (STETH/ETH)</th>\n",
              "      <th>buyer</th>\n",
              "      <th>sold_id</th>\n",
              "      <th>tokens_sold</th>\n",
              "      <th>bought_id</th>\n",
              "      <th>tokens_bought</th>\n",
              "    </tr>\n",
              "  </thead>\n",
              "  <tbody>\n",
              "  </tbody>\n",
              "</table>\n",
              "</div>"
            ],
            "text/plain": [
              "Empty DataFrame\n",
              "Columns: [event_name, contract_address, event_arguments, transaction_hash, block_number, block_hash, log_index, transaction_index, price (STETH/ETH), buyer, sold_id, tokens_sold, bought_id, tokens_bought]\n",
              "Index: []"
            ]
          },
          "execution_count": 36,
          "metadata": {},
          "output_type": "execute_result"
        }
      ],
      "source": [
        "# looks like it (see swap at block 14824840); similar rounding issues except rounded down to zero here\n",
        "query_swaps[(query_swaps['block_number'] > 14824600) & (query_swaps['block_number'] < 14825000)]"
      ]
    },
    {
      "cell_type": "code",
      "execution_count": 37,
      "id": "3bdb0eef",
      "metadata": {
        "id": "3bdb0eef"
      },
      "outputs": [],
      "source": [
        "# apply min size to swaps we care about to ignore the dustings\n",
        "min_bought = 0.0001 * 1e18  # trade size must be > 0.0001 ETH \n",
        "query_swaps = query_swaps[query_swaps['tokens_bought'] > min_bought]"
      ]
    },
    {
      "cell_type": "code",
      "execution_count": 38,
      "id": "2103c9da",
      "metadata": {
        "id": "2103c9da",
        "outputId": "c1f8b6bd-5c14-4d22-af0e-dd372d8fd429"
      },
      "outputs": [
        {
          "data": {
            "text/plain": [
              "<AxesSubplot:xlabel='block_number'>"
            ]
          },
          "execution_count": 38,
          "metadata": {},
          "output_type": "execute_result"
        },
        {
          "data": {
            "image/png": "[encoded data removed]",
            "text/plain": [
              "<Figure size 432x288 with 1 Axes>"
            ]
          },
          "metadata": {
            "needs_background": "light"
          },
          "output_type": "display_data"
        }
      ],
      "source": [
        "# nice! way better\n",
        "query_swaps.plot(x='block_number', y='price (STETH/ETH)')"
      ]
    },
    {
      "cell_type": "code",
      "execution_count": 39,
      "id": "b7e9c553",
      "metadata": {
        "id": "b7e9c553"
      },
      "outputs": [],
      "source": [
        "# should smooth the price data out so not so jittery by averaging over 1h for hourly candles.\n",
        "# keep the volumes numbers as well, so make some slight changes to the (tokens_bought, tokens_sold)\n",
        "# columns to instead track (volume_coin0, volume_coin1) at each swap"
      ]
    },
    {
      "cell_type": "code",
      "execution_count": 40,
      "id": "1e4b633a",
      "metadata": {
        "id": "1e4b633a"
      },
      "outputs": [],
      "source": [
        "# write a function that returns volume on coin indices for a swap (normalized by 1e18 for decimals)\n",
        "def get_volume(coin_index: int, x: pd.Series) -> (float, float):\n",
        "    volume = x['tokens_sold'] if x['sold_id'] == coin_index else x['tokens_bought']\n",
        "    volume = volume / 1e18\n",
        "    return volume"
      ]
    },
    {
      "cell_type": "code",
      "execution_count": 41,
      "id": "22a96898",
      "metadata": {
        "id": "22a96898"
      },
      "outputs": [],
      "source": [
        "%%capture\n",
        "for coin_index in range(2):\n",
        "    key = f'volume_coin{coin_index}'\n",
        "    query_swaps[key] = query_swaps.apply(lambda x: get_volume(coin_index, x), axis=1)"
      ]
    },
    {
      "cell_type": "code",
      "execution_count": 42,
      "id": "7420b5bb",
      "metadata": {
        "id": "7420b5bb",
        "outputId": "44b34021-0521-47f1-ad35-b410848ad3c1"
      },
      "outputs": [
        {
          "data": {
            "text/html": [
              "<div>\n",
              "<style scoped>\n",
              "    .dataframe tbody tr th:only-of-type {\n",
              "        vertical-align: middle;\n",
              "    }\n",
              "\n",
              "    .dataframe tbody tr th {\n",
              "        vertical-align: top;\n",
              "    }\n",
              "\n",
              "    .dataframe thead th {\n",
              "        text-align: right;\n",
              "    }\n",
              "</style>\n",
              "<table border=\"1\" class=\"dataframe\">\n",
              "  <thead>\n",
              "    <tr style=\"text-align: right;\">\n",
              "      <th></th>\n",
              "      <th>event_name</th>\n",
              "      <th>contract_address</th>\n",
              "      <th>event_arguments</th>\n",
              "      <th>transaction_hash</th>\n",
              "      <th>block_number</th>\n",
              "      <th>block_hash</th>\n",
              "      <th>log_index</th>\n",
              "      <th>transaction_index</th>\n",
              "      <th>price (STETH/ETH)</th>\n",
              "      <th>buyer</th>\n",
              "      <th>sold_id</th>\n",
              "      <th>tokens_sold</th>\n",
              "      <th>bought_id</th>\n",
              "      <th>tokens_bought</th>\n",
              "      <th>volume_coin0</th>\n",
              "      <th>volume_coin1</th>\n",
              "    </tr>\n",
              "  </thead>\n",
              "  <tbody>\n",
              "    <tr>\n",
              "      <th>0</th>\n",
              "      <td>TokenExchange</td>\n",
              "      <td>0xDC24316b9AE028F1497c275EB9192a3Ea0f67022</td>\n",
              "      <td>{'buyer': '0xB85425D1988A2b8008863Fe24167847d0...</td>\n",
              "      <td>0x6c7ef16f00952810ff4682da863f1c78145a2e20a9c2...</td>\n",
              "      <td>15416798</td>\n",
              "      <td>0x1eec4f4ba55dc3423069c01ff051375161e6671c9137...</td>\n",
              "      <td>241</td>\n",
              "      <td>187</td>\n",
              "      <td>0.970542</td>\n",
              "      <td>0xB85425D1988A2b8008863Fe24167847d0350981a</td>\n",
              "      <td>1</td>\n",
              "      <td>212843572202833648204</td>\n",
              "      <td>0</td>\n",
              "      <td>206491123822738232084</td>\n",
              "      <td>206.491124</td>\n",
              "      <td>212.843572</td>\n",
              "    </tr>\n",
              "    <tr>\n",
              "      <th>1</th>\n",
              "      <td>TokenExchange</td>\n",
              "      <td>0xDC24316b9AE028F1497c275EB9192a3Ea0f67022</td>\n",
              "      <td>{'buyer': '0xb24FcDBa4A76c0F0Ae39F505c163CAb5C...</td>\n",
              "      <td>0x446da40ee0fa8db2d9822a4ef9ff54f89962431d0e58...</td>\n",
              "      <td>15416806</td>\n",
              "      <td>0xa510b0ef3d7cd329805cf2bb18481e834f604ee1f345...</td>\n",
              "      <td>445</td>\n",
              "      <td>166</td>\n",
              "      <td>0.970481</td>\n",
              "      <td>0xb24FcDBa4A76c0F0Ae39F505c163CAb5CD89fd29</td>\n",
              "      <td>1</td>\n",
              "      <td>179653406409401106541</td>\n",
              "      <td>0</td>\n",
              "      <td>174280479304408951778</td>\n",
              "      <td>174.280479</td>\n",
              "      <td>179.653406</td>\n",
              "    </tr>\n",
              "    <tr>\n",
              "      <th>2</th>\n",
              "      <td>TokenExchange</td>\n",
              "      <td>0xDC24316b9AE028F1497c275EB9192a3Ea0f67022</td>\n",
              "      <td>{'buyer': '0x5C3097E7Fd3B97d9fdeEC6D378884c892...</td>\n",
              "      <td>0x656a22262da7f7d1d06987d130e7b04f38aba3525fe2...</td>\n",
              "      <td>15416814</td>\n",
              "      <td>0x4eb315b5c04fb7d2ba0bae25da6ebe986a92cbd28fa5...</td>\n",
              "      <td>211</td>\n",
              "      <td>81</td>\n",
              "      <td>0.970453</td>\n",
              "      <td>0x5C3097E7Fd3B97d9fdeEC6D378884c892Ff0545F</td>\n",
              "      <td>1</td>\n",
              "      <td>300000000000000000</td>\n",
              "      <td>0</td>\n",
              "      <td>291019365930629512</td>\n",
              "      <td>0.291019</td>\n",
              "      <td>0.300000</td>\n",
              "    </tr>\n",
              "    <tr>\n",
              "      <th>3</th>\n",
              "      <td>TokenExchange</td>\n",
              "      <td>0xDC24316b9AE028F1497c275EB9192a3Ea0f67022</td>\n",
              "      <td>{'buyer': '0x27239549DD40E1D60F5B80B0C41969237...</td>\n",
              "      <td>0xe7b75976cbebd86ec038fffbccd2798c7d098dec02df...</td>\n",
              "      <td>15416846</td>\n",
              "      <td>0xfcf402dbfb254901785f6852bed5e5cad5291a2db65d...</td>\n",
              "      <td>74</td>\n",
              "      <td>59</td>\n",
              "      <td>0.970469</td>\n",
              "      <td>0x27239549DD40E1D60F5B80B0C4196923745B1FD2</td>\n",
              "      <td>0</td>\n",
              "      <td>23830302373300670863</td>\n",
              "      <td>1</td>\n",
              "      <td>24545642959902663203</td>\n",
              "      <td>23.830302</td>\n",
              "      <td>24.545643</td>\n",
              "    </tr>\n",
              "    <tr>\n",
              "      <th>4</th>\n",
              "      <td>TokenExchange</td>\n",
              "      <td>0xDC24316b9AE028F1497c275EB9192a3Ea0f67022</td>\n",
              "      <td>{'buyer': '0x22F9dCF4647084d6C31b2765F6910cd85...</td>\n",
              "      <td>0x6ff798e136f984d88906335794234790c84d24762c42...</td>\n",
              "      <td>15416879</td>\n",
              "      <td>0x80cccc4c4d8872381dc4ae456f78ad7a3e70f2650494...</td>\n",
              "      <td>108</td>\n",
              "      <td>27</td>\n",
              "      <td>0.970474</td>\n",
              "      <td>0x22F9dCF4647084d6C31b2765F6910cd85C178C18</td>\n",
              "      <td>0</td>\n",
              "      <td>8533932129863802820</td>\n",
              "      <td>1</td>\n",
              "      <td>8790057152954446617</td>\n",
              "      <td>8.533932</td>\n",
              "      <td>8.790057</td>\n",
              "    </tr>\n",
              "    <tr>\n",
              "      <th>...</th>\n",
              "      <td>...</td>\n",
              "      <td>...</td>\n",
              "      <td>...</td>\n",
              "      <td>...</td>\n",
              "      <td>...</td>\n",
              "      <td>...</td>\n",
              "      <td>...</td>\n",
              "      <td>...</td>\n",
              "      <td>...</td>\n",
              "      <td>...</td>\n",
              "      <td>...</td>\n",
              "      <td>...</td>\n",
              "      <td>...</td>\n",
              "      <td>...</td>\n",
              "      <td>...</td>\n",
              "      <td>...</td>\n",
              "    </tr>\n",
              "    <tr>\n",
              "      <th>18784</th>\n",
              "      <td>TokenExchange</td>\n",
              "      <td>0xDC24316b9AE028F1497c275EB9192a3Ea0f67022</td>\n",
              "      <td>{'buyer': '0x28F7c0614ebbFD1b83fB6803E0CA61453...</td>\n",
              "      <td>0x31263a9bdb491cf684b9d39ede747c2fceb46b145564...</td>\n",
              "      <td>16063985</td>\n",
              "      <td>0x343921860019d638ba4fc3a7f02299f727fba2580ab8...</td>\n",
              "      <td>35</td>\n",
              "      <td>21</td>\n",
              "      <td>0.983756</td>\n",
              "      <td>0x28F7c0614ebbFD1b83fB6803E0CA61453D3E32B9</td>\n",
              "      <td>1</td>\n",
              "      <td>1000000000000000000</td>\n",
              "      <td>0</td>\n",
              "      <td>983362439515918813</td>\n",
              "      <td>0.983362</td>\n",
              "      <td>1.000000</td>\n",
              "    </tr>\n",
              "    <tr>\n",
              "      <th>18785</th>\n",
              "      <td>TokenExchange</td>\n",
              "      <td>0xDC24316b9AE028F1497c275EB9192a3Ea0f67022</td>\n",
              "      <td>{'buyer': '0x58B03f7Cbf54293a426A8FF4E94d9891A...</td>\n",
              "      <td>0xaaf6ff779abe49415b2061d096cdf16dc6fce85829e0...</td>\n",
              "      <td>16064399</td>\n",
              "      <td>0x842c78b3ec1dddba998396d13e5a239e8ac59ef4e561...</td>\n",
              "      <td>49</td>\n",
              "      <td>28</td>\n",
              "      <td>0.983755</td>\n",
              "      <td>0x58B03f7Cbf54293a426A8FF4E94d9891AFDE7b69</td>\n",
              "      <td>1</td>\n",
              "      <td>3194958453078403806</td>\n",
              "      <td>0</td>\n",
              "      <td>3141800578587178741</td>\n",
              "      <td>3.141801</td>\n",
              "      <td>3.194958</td>\n",
              "    </tr>\n",
              "    <tr>\n",
              "      <th>18786</th>\n",
              "      <td>TokenExchange</td>\n",
              "      <td>0xDC24316b9AE028F1497c275EB9192a3Ea0f67022</td>\n",
              "      <td>{'buyer': '0x22F9dCF4647084d6C31b2765F6910cd85...</td>\n",
              "      <td>0x24dd7efdcb582fbcad8c5bad4358083374d7ba123031...</td>\n",
              "      <td>16064430</td>\n",
              "      <td>0xf24361a5b7ab9d8dc5080994eb966109d234487d341b...</td>\n",
              "      <td>114</td>\n",
              "      <td>78</td>\n",
              "      <td>0.983755</td>\n",
              "      <td>0x22F9dCF4647084d6C31b2765F6910cd85C178C18</td>\n",
              "      <td>1</td>\n",
              "      <td>1580911535521578482</td>\n",
              "      <td>0</td>\n",
              "      <td>1554607356879844910</td>\n",
              "      <td>1.554607</td>\n",
              "      <td>1.580912</td>\n",
              "    </tr>\n",
              "    <tr>\n",
              "      <th>18787</th>\n",
              "      <td>TokenExchange</td>\n",
              "      <td>0xDC24316b9AE028F1497c275EB9192a3Ea0f67022</td>\n",
              "      <td>{'buyer': '0x53222470CdcfB8081C0E3a50fd106f0D6...</td>\n",
              "      <td>0xa6abc2bde5849f43f83b935357319df1f85e05155e5f...</td>\n",
              "      <td>16064435</td>\n",
              "      <td>0x2ead45ff26e34a00cf758b4b975f828dfb16f2a4e1b4...</td>\n",
              "      <td>33</td>\n",
              "      <td>5</td>\n",
              "      <td>0.983754</td>\n",
              "      <td>0x53222470CdcfB8081C0E3a50fd106f0D69e63F20</td>\n",
              "      <td>1</td>\n",
              "      <td>792157363535029691</td>\n",
              "      <td>0</td>\n",
              "      <td>778976739065007532</td>\n",
              "      <td>0.778977</td>\n",
              "      <td>0.792157</td>\n",
              "    </tr>\n",
              "    <tr>\n",
              "      <th>18788</th>\n",
              "      <td>TokenExchange</td>\n",
              "      <td>0xDC24316b9AE028F1497c275EB9192a3Ea0f67022</td>\n",
              "      <td>{'buyer': '0x53222470CdcfB8081C0E3a50fd106f0D6...</td>\n",
              "      <td>0xcf7c96b2fe04fd9570d9a2e735defd405ae1782e7c18...</td>\n",
              "      <td>16064614</td>\n",
              "      <td>0xfe428c84d84e4cb0fc167b1017dfc62df3d138fd4c5e...</td>\n",
              "      <td>43</td>\n",
              "      <td>3</td>\n",
              "      <td>0.983764</td>\n",
              "      <td>0x53222470CdcfB8081C0E3a50fd106f0D69e63F20</td>\n",
              "      <td>0</td>\n",
              "      <td>60500000000000016384</td>\n",
              "      <td>1</td>\n",
              "      <td>61473909754848475368</td>\n",
              "      <td>60.500000</td>\n",
              "      <td>61.473910</td>\n",
              "    </tr>\n",
              "  </tbody>\n",
              "</table>\n",
              "<p>18677 rows × 16 columns</p>\n",
              "</div>"
            ],
            "text/plain": [
              "          event_name                            contract_address  \\\n",
              "0      TokenExchange  0xDC24316b9AE028F1497c275EB9192a3Ea0f67022   \n",
              "1      TokenExchange  0xDC24316b9AE028F1497c275EB9192a3Ea0f67022   \n",
              "2      TokenExchange  0xDC24316b9AE028F1497c275EB9192a3Ea0f67022   \n",
              "3      TokenExchange  0xDC24316b9AE028F1497c275EB9192a3Ea0f67022   \n",
              "4      TokenExchange  0xDC24316b9AE028F1497c275EB9192a3Ea0f67022   \n",
              "...              ...                                         ...   \n",
              "18784  TokenExchange  0xDC24316b9AE028F1497c275EB9192a3Ea0f67022   \n",
              "18785  TokenExchange  0xDC24316b9AE028F1497c275EB9192a3Ea0f67022   \n",
              "18786  TokenExchange  0xDC24316b9AE028F1497c275EB9192a3Ea0f67022   \n",
              "18787  TokenExchange  0xDC24316b9AE028F1497c275EB9192a3Ea0f67022   \n",
              "18788  TokenExchange  0xDC24316b9AE028F1497c275EB9192a3Ea0f67022   \n",
              "\n",
              "                                         event_arguments  \\\n",
              "0      {'buyer': '0xB85425D1988A2b8008863Fe24167847d0...   \n",
              "1      {'buyer': '0xb24FcDBa4A76c0F0Ae39F505c163CAb5C...   \n",
              "2      {'buyer': '0x5C3097E7Fd3B97d9fdeEC6D378884c892...   \n",
              "3      {'buyer': '0x27239549DD40E1D60F5B80B0C41969237...   \n",
              "4      {'buyer': '0x22F9dCF4647084d6C31b2765F6910cd85...   \n",
              "...                                                  ...   \n",
              "18784  {'buyer': '0x28F7c0614ebbFD1b83fB6803E0CA61453...   \n",
              "18785  {'buyer': '0x58B03f7Cbf54293a426A8FF4E94d9891A...   \n",
              "18786  {'buyer': '0x22F9dCF4647084d6C31b2765F6910cd85...   \n",
              "18787  {'buyer': '0x53222470CdcfB8081C0E3a50fd106f0D6...   \n",
              "18788  {'buyer': '0x53222470CdcfB8081C0E3a50fd106f0D6...   \n",
              "\n",
              "                                        transaction_hash  block_number  \\\n",
              "0      0x6c7ef16f00952810ff4682da863f1c78145a2e20a9c2...      15416798   \n",
              "1      0x446da40ee0fa8db2d9822a4ef9ff54f89962431d0e58...      15416806   \n",
              "2      0x656a22262da7f7d1d06987d130e7b04f38aba3525fe2...      15416814   \n",
              "3      0xe7b75976cbebd86ec038fffbccd2798c7d098dec02df...      15416846   \n",
              "4      0x6ff798e136f984d88906335794234790c84d24762c42...      15416879   \n",
              "...                                                  ...           ...   \n",
              "18784  0x31263a9bdb491cf684b9d39ede747c2fceb46b145564...      16063985   \n",
              "18785  0xaaf6ff779abe49415b2061d096cdf16dc6fce85829e0...      16064399   \n",
              "18786  0x24dd7efdcb582fbcad8c5bad4358083374d7ba123031...      16064430   \n",
              "18787  0xa6abc2bde5849f43f83b935357319df1f85e05155e5f...      16064435   \n",
              "18788  0xcf7c96b2fe04fd9570d9a2e735defd405ae1782e7c18...      16064614   \n",
              "\n",
              "                                              block_hash  log_index  \\\n",
              "0      0x1eec4f4ba55dc3423069c01ff051375161e6671c9137...        241   \n",
              "1      0xa510b0ef3d7cd329805cf2bb18481e834f604ee1f345...        445   \n",
              "2      0x4eb315b5c04fb7d2ba0bae25da6ebe986a92cbd28fa5...        211   \n",
              "3      0xfcf402dbfb254901785f6852bed5e5cad5291a2db65d...         74   \n",
              "4      0x80cccc4c4d8872381dc4ae456f78ad7a3e70f2650494...        108   \n",
              "...                                                  ...        ...   \n",
              "18784  0x343921860019d638ba4fc3a7f02299f727fba2580ab8...         35   \n",
              "18785  0x842c78b3ec1dddba998396d13e5a239e8ac59ef4e561...         49   \n",
              "18786  0xf24361a5b7ab9d8dc5080994eb966109d234487d341b...        114   \n",
              "18787  0x2ead45ff26e34a00cf758b4b975f828dfb16f2a4e1b4...         33   \n",
              "18788  0xfe428c84d84e4cb0fc167b1017dfc62df3d138fd4c5e...         43   \n",
              "\n",
              "       transaction_index  price (STETH/ETH)  \\\n",
              "0                    187           0.970542   \n",
              "1                    166           0.970481   \n",
              "2                     81           0.970453   \n",
              "3                     59           0.970469   \n",
              "4                     27           0.970474   \n",
              "...                  ...                ...   \n",
              "18784                 21           0.983756   \n",
              "18785                 28           0.983755   \n",
              "18786                 78           0.983755   \n",
              "18787                  5           0.983754   \n",
              "18788                  3           0.983764   \n",
              "\n",
              "                                            buyer  sold_id  \\\n",
              "0      0xB85425D1988A2b8008863Fe24167847d0350981a        1   \n",
              "1      0xb24FcDBa4A76c0F0Ae39F505c163CAb5CD89fd29        1   \n",
              "2      0x5C3097E7Fd3B97d9fdeEC6D378884c892Ff0545F        1   \n",
              "3      0x27239549DD40E1D60F5B80B0C4196923745B1FD2        0   \n",
              "4      0x22F9dCF4647084d6C31b2765F6910cd85C178C18        0   \n",
              "...                                           ...      ...   \n",
              "18784  0x28F7c0614ebbFD1b83fB6803E0CA61453D3E32B9        1   \n",
              "18785  0x58B03f7Cbf54293a426A8FF4E94d9891AFDE7b69        1   \n",
              "18786  0x22F9dCF4647084d6C31b2765F6910cd85C178C18        1   \n",
              "18787  0x53222470CdcfB8081C0E3a50fd106f0D69e63F20        1   \n",
              "18788  0x53222470CdcfB8081C0E3a50fd106f0D69e63F20        0   \n",
              "\n",
              "                 tokens_sold  bought_id          tokens_bought  volume_coin0  \\\n",
              "0      212843572202833648204          0  206491123822738232084    206.491124   \n",
              "1      179653406409401106541          0  174280479304408951778    174.280479   \n",
              "2         300000000000000000          0     291019365930629512      0.291019   \n",
              "3       23830302373300670863          1   24545642959902663203     23.830302   \n",
              "4        8533932129863802820          1    8790057152954446617      8.533932   \n",
              "...                      ...        ...                    ...           ...   \n",
              "18784    1000000000000000000          0     983362439515918813      0.983362   \n",
              "18785    3194958453078403806          0    3141800578587178741      3.141801   \n",
              "18786    1580911535521578482          0    1554607356879844910      1.554607   \n",
              "18787     792157363535029691          0     778976739065007532      0.778977   \n",
              "18788   60500000000000016384          1   61473909754848475368     60.500000   \n",
              "\n",
              "       volume_coin1  \n",
              "0        212.843572  \n",
              "1        179.653406  \n",
              "2          0.300000  \n",
              "3         24.545643  \n",
              "4          8.790057  \n",
              "...             ...  \n",
              "18784      1.000000  \n",
              "18785      3.194958  \n",
              "18786      1.580912  \n",
              "18787      0.792157  \n",
              "18788     61.473910  \n",
              "\n",
              "[18677 rows x 16 columns]"
            ]
          },
          "execution_count": 42,
          "metadata": {},
          "output_type": "execute_result"
        }
      ],
      "source": [
        "query_swaps"
      ]
    },
    {
      "cell_type": "code",
      "execution_count": 43,
      "id": "8d21ac2c",
      "metadata": {
        "id": "8d21ac2c"
      },
      "outputs": [],
      "source": [
        "# prep for smoothing by setting index to block number (choose last swap in block to represent price at block)\n",
        "query_swaps_filtered = query_swaps.filter(['block_number', 'price (STETH/ETH)', 'volume_coin0', 'volume_coin1']).drop_duplicates('block_number', keep='last')\n",
        "query_swaps_filtered = query_swaps_filtered.set_index('block_number')"
      ]
    },
    {
      "cell_type": "code",
      "execution_count": 44,
      "id": "09a61518",
      "metadata": {
        "id": "09a61518"
      },
      "outputs": [],
      "source": [
        "# reindex by block number (1 block steps) and ffill price values \n",
        "new_index = range(query_swaps_filtered.index.min(), query_swaps_filtered.index.max()+1)\n",
        "query_swaps_filtered = query_swaps_filtered.reindex(new_index).ffill()"
      ]
    },
    {
      "cell_type": "code",
      "execution_count": 45,
      "id": "f175d460",
      "metadata": {
        "id": "f175d460"
      },
      "outputs": [],
      "source": [
        "# separate data into windows of 260 blocks (~ 1h)\n",
        "# remove first (last_block - first_block) % window rows so even candle windows\n",
        "window = 260\n",
        "first_index = (query_swaps_filtered.index[-1] - query_swaps_filtered.index[0]) % window\n",
        "query_swaps_filtered = query_swaps_filtered[first_index:]"
      ]
    },
    {
      "cell_type": "code",
      "execution_count": 46,
      "id": "60225e2c",
      "metadata": {
        "id": "60225e2c",
        "outputId": "1b4f918d-03ce-439d-9b16-eb666e71e303"
      },
      "outputs": [
        {
          "data": {
            "text/html": [
              "<div>\n",
              "<style scoped>\n",
              "    .dataframe tbody tr th:only-of-type {\n",
              "        vertical-align: middle;\n",
              "    }\n",
              "\n",
              "    .dataframe tbody tr th {\n",
              "        vertical-align: top;\n",
              "    }\n",
              "\n",
              "    .dataframe thead tr th {\n",
              "        text-align: left;\n",
              "    }\n",
              "\n",
              "    .dataframe thead tr:last-of-type th {\n",
              "        text-align: right;\n",
              "    }\n",
              "</style>\n",
              "<table border=\"1\" class=\"dataframe\">\n",
              "  <thead>\n",
              "    <tr>\n",
              "      <th></th>\n",
              "      <th colspan=\"5\" halign=\"left\">price (STETH/ETH)</th>\n",
              "      <th>volume_coin0</th>\n",
              "      <th>volume_coin1</th>\n",
              "    </tr>\n",
              "    <tr>\n",
              "      <th></th>\n",
              "      <th>first</th>\n",
              "      <th>max</th>\n",
              "      <th>min</th>\n",
              "      <th>last</th>\n",
              "      <th>mean</th>\n",
              "      <th>sum</th>\n",
              "      <th>sum</th>\n",
              "    </tr>\n",
              "    <tr>\n",
              "      <th>block_number</th>\n",
              "      <th></th>\n",
              "      <th></th>\n",
              "      <th></th>\n",
              "      <th></th>\n",
              "      <th></th>\n",
              "      <th></th>\n",
              "      <th></th>\n",
              "    </tr>\n",
              "  </thead>\n",
              "  <tbody>\n",
              "    <tr>\n",
              "      <th>15416954</th>\n",
              "      <td>0.970474</td>\n",
              "      <td>0.970474</td>\n",
              "      <td>0.970474</td>\n",
              "      <td>0.970474</td>\n",
              "      <td>0.970474</td>\n",
              "      <td>5.471286</td>\n",
              "      <td>5.640000</td>\n",
              "    </tr>\n",
              "    <tr>\n",
              "      <th>15417214</th>\n",
              "      <td>0.970474</td>\n",
              "      <td>0.970560</td>\n",
              "      <td>0.970474</td>\n",
              "      <td>0.970560</td>\n",
              "      <td>0.970511</td>\n",
              "      <td>3824.591525</td>\n",
              "      <td>3939.235397</td>\n",
              "    </tr>\n",
              "    <tr>\n",
              "      <th>15417474</th>\n",
              "      <td>0.970560</td>\n",
              "      <td>0.970565</td>\n",
              "      <td>0.970482</td>\n",
              "      <td>0.970482</td>\n",
              "      <td>0.970541</td>\n",
              "      <td>5741.830617</td>\n",
              "      <td>5918.040179</td>\n",
              "    </tr>\n",
              "    <tr>\n",
              "      <th>15417734</th>\n",
              "      <td>0.970482</td>\n",
              "      <td>0.970482</td>\n",
              "      <td>0.970482</td>\n",
              "      <td>0.970482</td>\n",
              "      <td>0.970482</td>\n",
              "      <td>203.718975</td>\n",
              "      <td>209.888565</td>\n",
              "    </tr>\n",
              "    <tr>\n",
              "      <th>15417994</th>\n",
              "      <td>0.970482</td>\n",
              "      <td>0.970483</td>\n",
              "      <td>0.970440</td>\n",
              "      <td>0.970449</td>\n",
              "      <td>0.970465</td>\n",
              "      <td>5643.080701</td>\n",
              "      <td>5813.911443</td>\n",
              "    </tr>\n",
              "    <tr>\n",
              "      <th>...</th>\n",
              "      <td>...</td>\n",
              "      <td>...</td>\n",
              "      <td>...</td>\n",
              "      <td>...</td>\n",
              "      <td>...</td>\n",
              "      <td>...</td>\n",
              "      <td>...</td>\n",
              "    </tr>\n",
              "    <tr>\n",
              "      <th>16063574</th>\n",
              "      <td>0.983610</td>\n",
              "      <td>0.983611</td>\n",
              "      <td>0.983610</td>\n",
              "      <td>0.983611</td>\n",
              "      <td>0.983610</td>\n",
              "      <td>145.161982</td>\n",
              "      <td>147.555331</td>\n",
              "    </tr>\n",
              "    <tr>\n",
              "      <th>16063834</th>\n",
              "      <td>0.983611</td>\n",
              "      <td>0.983759</td>\n",
              "      <td>0.983611</td>\n",
              "      <td>0.983758</td>\n",
              "      <td>0.983733</td>\n",
              "      <td>36398.597003</td>\n",
              "      <td>36987.950404</td>\n",
              "    </tr>\n",
              "    <tr>\n",
              "      <th>16064094</th>\n",
              "      <td>0.983758</td>\n",
              "      <td>0.983758</td>\n",
              "      <td>0.983749</td>\n",
              "      <td>0.983756</td>\n",
              "      <td>0.983755</td>\n",
              "      <td>347.816886</td>\n",
              "      <td>353.575013</td>\n",
              "    </tr>\n",
              "    <tr>\n",
              "      <th>16064354</th>\n",
              "      <td>0.983756</td>\n",
              "      <td>0.983756</td>\n",
              "      <td>0.983756</td>\n",
              "      <td>0.983756</td>\n",
              "      <td>0.983756</td>\n",
              "      <td>255.674234</td>\n",
              "      <td>260.000000</td>\n",
              "    </tr>\n",
              "    <tr>\n",
              "      <th>16064614</th>\n",
              "      <td>0.983756</td>\n",
              "      <td>0.983764</td>\n",
              "      <td>0.983754</td>\n",
              "      <td>0.983764</td>\n",
              "      <td>0.983755</td>\n",
              "      <td>343.456826</td>\n",
              "      <td>349.218348</td>\n",
              "    </tr>\n",
              "  </tbody>\n",
              "</table>\n",
              "<p>2492 rows × 7 columns</p>\n",
              "</div>"
            ],
            "text/plain": [
              "             price (STETH/ETH)                                          \\\n",
              "                         first       max       min      last      mean   \n",
              "block_number                                                             \n",
              "15416954              0.970474  0.970474  0.970474  0.970474  0.970474   \n",
              "15417214              0.970474  0.970560  0.970474  0.970560  0.970511   \n",
              "15417474              0.970560  0.970565  0.970482  0.970482  0.970541   \n",
              "15417734              0.970482  0.970482  0.970482  0.970482  0.970482   \n",
              "15417994              0.970482  0.970483  0.970440  0.970449  0.970465   \n",
              "...                        ...       ...       ...       ...       ...   \n",
              "16063574              0.983610  0.983611  0.983610  0.983611  0.983610   \n",
              "16063834              0.983611  0.983759  0.983611  0.983758  0.983733   \n",
              "16064094              0.983758  0.983758  0.983749  0.983756  0.983755   \n",
              "16064354              0.983756  0.983756  0.983756  0.983756  0.983756   \n",
              "16064614              0.983756  0.983764  0.983754  0.983764  0.983755   \n",
              "\n",
              "              volume_coin0  volume_coin1  \n",
              "                       sum           sum  \n",
              "block_number                              \n",
              "15416954          5.471286      5.640000  \n",
              "15417214       3824.591525   3939.235397  \n",
              "15417474       5741.830617   5918.040179  \n",
              "15417734        203.718975    209.888565  \n",
              "15417994       5643.080701   5813.911443  \n",
              "...                    ...           ...  \n",
              "16063574        145.161982    147.555331  \n",
              "16063834      36398.597003  36987.950404  \n",
              "16064094        347.816886    353.575013  \n",
              "16064354        255.674234    260.000000  \n",
              "16064614        343.456826    349.218348  \n",
              "\n",
              "[2492 rows x 7 columns]"
            ]
          },
          "execution_count": 46,
          "metadata": {},
          "output_type": "execute_result"
        }
      ],
      "source": [
        "# smooth data using mean over 260 blocks for ~ 1h candles\n",
        "s = (query_swaps_filtered.index.to_series() / window).astype(int)\n",
        "query_swaps_candled = query_swaps_filtered.groupby(s).agg({'price (STETH/ETH)': ['first', 'max', 'min', 'last', 'mean'], 'volume_coin0': 'sum', 'volume_coin1': 'sum'}).set_index(s.index[::window])\n",
        "query_swaps_candled"
      ]
    },
    {
      "cell_type": "code",
      "execution_count": 47,
      "id": "4d2cba1d",
      "metadata": {
        "id": "4d2cba1d",
        "outputId": "4494b923-699f-47b3-9db0-0b49290b5109"
      },
      "outputs": [
        {
          "data": {
            "text/plain": [
              "<AxesSubplot:xlabel='block_number'>"
            ]
          },
          "execution_count": 47,
          "metadata": {},
          "output_type": "execute_result"
        },
        {
          "data": {
            "image/png": "[encoded data removed]",
            "text/plain": [
              "<Figure size 432x288 with 2 Axes>"
            ]
          },
          "metadata": {
            "needs_background": "light"
          },
          "output_type": "display_data"
        }
      ],
      "source": [
        "# make some fancy plots w subplots ...\n",
        "fig, ax = plt.subplots(2, 1)\n",
        "query_swaps.plot(x='block_number', y='price (STETH/ETH)', ax=ax[0])\n",
        "query_swaps_candled['price (STETH/ETH)'].plot(y='mean', ax=ax[0], label='price (STETH/ETH) - 1H mean')\n",
        "query_swaps_candled['volume_coin0'].plot(y='sum', color='g', ax=ax[1], label='volume (ETH)')"
      ]
    },
    {
      "cell_type": "code",
      "execution_count": 48,
      "id": "13db0817",
      "metadata": {
        "id": "13db0817"
      },
      "outputs": [],
      "source": [
        "# plot the candles since that's dope :o"
      ]
    },
    {
      "cell_type": "code",
      "execution_count": 49,
      "id": "e0e2664d",
      "metadata": {
        "id": "e0e2664d"
      },
      "outputs": [],
      "source": [
        "# get the timestamps every 24 candles (~ 24h) and interpolate the rest (SEE banteg gist again)\n",
        "# NOTE: include last block in index for interp to work properly\n",
        "T = 24\n",
        "blocks = query_swaps_candled.index[::24].to_list() + [query_swaps_candled.index[-1]]"
      ]
    },
    {
      "cell_type": "code",
      "execution_count": 50,
      "id": "1fd0e66e",
      "metadata": {
        "id": "1fd0e66e",
        "outputId": "d3c8546f-847e-41c2-9543-5657bb955af3"
      },
      "outputs": [
        {
          "name": "stdout",
          "output_type": "stream",
          "text": [
            "CPU times: total: 391 ms\n",
            "Wall time: 5.43 s\n"
          ]
        }
      ],
      "source": [
        "%time timestamps = [ chain.blocks[i].timestamp for i in blocks ]"
      ]
    },
    {
      "cell_type": "code",
      "execution_count": 51,
      "id": "002a577e",
      "metadata": {
        "id": "002a577e",
        "outputId": "71de742f-29cd-4d15-f2f8-699ba22cfff4"
      },
      "outputs": [
        {
          "data": {
            "text/html": [
              "<div>\n",
              "<style scoped>\n",
              "    .dataframe tbody tr th:only-of-type {\n",
              "        vertical-align: middle;\n",
              "    }\n",
              "\n",
              "    .dataframe tbody tr th {\n",
              "        vertical-align: top;\n",
              "    }\n",
              "\n",
              "    .dataframe thead tr th {\n",
              "        text-align: left;\n",
              "    }\n",
              "\n",
              "    .dataframe thead tr:last-of-type th {\n",
              "        text-align: right;\n",
              "    }\n",
              "</style>\n",
              "<table border=\"1\" class=\"dataframe\">\n",
              "  <thead>\n",
              "    <tr>\n",
              "      <th></th>\n",
              "      <th colspan=\"5\" halign=\"left\">price (STETH/ETH)</th>\n",
              "      <th>volume_coin0</th>\n",
              "      <th>volume_coin1</th>\n",
              "      <th>timestamp</th>\n",
              "    </tr>\n",
              "    <tr>\n",
              "      <th></th>\n",
              "      <th>first</th>\n",
              "      <th>max</th>\n",
              "      <th>min</th>\n",
              "      <th>last</th>\n",
              "      <th>mean</th>\n",
              "      <th>sum</th>\n",
              "      <th>sum</th>\n",
              "      <th></th>\n",
              "    </tr>\n",
              "    <tr>\n",
              "      <th>block_number</th>\n",
              "      <th></th>\n",
              "      <th></th>\n",
              "      <th></th>\n",
              "      <th></th>\n",
              "      <th></th>\n",
              "      <th></th>\n",
              "      <th></th>\n",
              "      <th></th>\n",
              "    </tr>\n",
              "  </thead>\n",
              "  <tbody>\n",
              "    <tr>\n",
              "      <th>15416954</th>\n",
              "      <td>0.970474</td>\n",
              "      <td>0.970474</td>\n",
              "      <td>0.970474</td>\n",
              "      <td>0.970474</td>\n",
              "      <td>0.970474</td>\n",
              "      <td>5.471286</td>\n",
              "      <td>5.640000</td>\n",
              "      <td>2022-08-26 18:36:16.000000000</td>\n",
              "    </tr>\n",
              "    <tr>\n",
              "      <th>15417214</th>\n",
              "      <td>0.970474</td>\n",
              "      <td>0.970560</td>\n",
              "      <td>0.970474</td>\n",
              "      <td>0.970560</td>\n",
              "      <td>0.970511</td>\n",
              "      <td>3824.591525</td>\n",
              "      <td>3939.235397</td>\n",
              "      <td>2022-08-26 19:36:01.958333184</td>\n",
              "    </tr>\n",
              "    <tr>\n",
              "      <th>15417474</th>\n",
              "      <td>0.970560</td>\n",
              "      <td>0.970565</td>\n",
              "      <td>0.970482</td>\n",
              "      <td>0.970482</td>\n",
              "      <td>0.970541</td>\n",
              "      <td>5741.830617</td>\n",
              "      <td>5918.040179</td>\n",
              "      <td>2022-08-26 20:35:47.916666624</td>\n",
              "    </tr>\n",
              "    <tr>\n",
              "      <th>15417734</th>\n",
              "      <td>0.970482</td>\n",
              "      <td>0.970482</td>\n",
              "      <td>0.970482</td>\n",
              "      <td>0.970482</td>\n",
              "      <td>0.970482</td>\n",
              "      <td>203.718975</td>\n",
              "      <td>209.888565</td>\n",
              "      <td>2022-08-26 21:35:33.875000064</td>\n",
              "    </tr>\n",
              "    <tr>\n",
              "      <th>15417994</th>\n",
              "      <td>0.970482</td>\n",
              "      <td>0.970483</td>\n",
              "      <td>0.970440</td>\n",
              "      <td>0.970449</td>\n",
              "      <td>0.970465</td>\n",
              "      <td>5643.080701</td>\n",
              "      <td>5813.911443</td>\n",
              "      <td>2022-08-26 22:35:19.833333248</td>\n",
              "    </tr>\n",
              "    <tr>\n",
              "      <th>...</th>\n",
              "      <td>...</td>\n",
              "      <td>...</td>\n",
              "      <td>...</td>\n",
              "      <td>...</td>\n",
              "      <td>...</td>\n",
              "      <td>...</td>\n",
              "      <td>...</td>\n",
              "      <td>...</td>\n",
              "    </tr>\n",
              "    <tr>\n",
              "      <th>16063574</th>\n",
              "      <td>0.983610</td>\n",
              "      <td>0.983611</td>\n",
              "      <td>0.983610</td>\n",
              "      <td>0.983611</td>\n",
              "      <td>0.983610</td>\n",
              "      <td>145.161982</td>\n",
              "      <td>147.555331</td>\n",
              "      <td>2022-11-27 20:02:14.157894912</td>\n",
              "    </tr>\n",
              "    <tr>\n",
              "      <th>16063834</th>\n",
              "      <td>0.983611</td>\n",
              "      <td>0.983759</td>\n",
              "      <td>0.983611</td>\n",
              "      <td>0.983758</td>\n",
              "      <td>0.983733</td>\n",
              "      <td>36398.597003</td>\n",
              "      <td>36987.950404</td>\n",
              "      <td>2022-11-27 20:54:34.368421120</td>\n",
              "    </tr>\n",
              "    <tr>\n",
              "      <th>16064094</th>\n",
              "      <td>0.983758</td>\n",
              "      <td>0.983758</td>\n",
              "      <td>0.983749</td>\n",
              "      <td>0.983756</td>\n",
              "      <td>0.983755</td>\n",
              "      <td>347.816886</td>\n",
              "      <td>353.575013</td>\n",
              "      <td>2022-11-27 21:46:54.578947328</td>\n",
              "    </tr>\n",
              "    <tr>\n",
              "      <th>16064354</th>\n",
              "      <td>0.983756</td>\n",
              "      <td>0.983756</td>\n",
              "      <td>0.983756</td>\n",
              "      <td>0.983756</td>\n",
              "      <td>0.983756</td>\n",
              "      <td>255.674234</td>\n",
              "      <td>260.000000</td>\n",
              "      <td>2022-11-27 22:39:14.789473792</td>\n",
              "    </tr>\n",
              "    <tr>\n",
              "      <th>16064614</th>\n",
              "      <td>0.983756</td>\n",
              "      <td>0.983764</td>\n",
              "      <td>0.983754</td>\n",
              "      <td>0.983764</td>\n",
              "      <td>0.983755</td>\n",
              "      <td>343.456826</td>\n",
              "      <td>349.218348</td>\n",
              "      <td>2022-11-27 23:31:35.000000000</td>\n",
              "    </tr>\n",
              "  </tbody>\n",
              "</table>\n",
              "<p>2492 rows × 8 columns</p>\n",
              "</div>"
            ],
            "text/plain": [
              "             price (STETH/ETH)                                          \\\n",
              "                         first       max       min      last      mean   \n",
              "block_number                                                             \n",
              "15416954              0.970474  0.970474  0.970474  0.970474  0.970474   \n",
              "15417214              0.970474  0.970560  0.970474  0.970560  0.970511   \n",
              "15417474              0.970560  0.970565  0.970482  0.970482  0.970541   \n",
              "15417734              0.970482  0.970482  0.970482  0.970482  0.970482   \n",
              "15417994              0.970482  0.970483  0.970440  0.970449  0.970465   \n",
              "...                        ...       ...       ...       ...       ...   \n",
              "16063574              0.983610  0.983611  0.983610  0.983611  0.983610   \n",
              "16063834              0.983611  0.983759  0.983611  0.983758  0.983733   \n",
              "16064094              0.983758  0.983758  0.983749  0.983756  0.983755   \n",
              "16064354              0.983756  0.983756  0.983756  0.983756  0.983756   \n",
              "16064614              0.983756  0.983764  0.983754  0.983764  0.983755   \n",
              "\n",
              "              volume_coin0  volume_coin1                     timestamp  \n",
              "                       sum           sum                                \n",
              "block_number                                                            \n",
              "15416954          5.471286      5.640000 2022-08-26 18:36:16.000000000  \n",
              "15417214       3824.591525   3939.235397 2022-08-26 19:36:01.958333184  \n",
              "15417474       5741.830617   5918.040179 2022-08-26 20:35:47.916666624  \n",
              "15417734        203.718975    209.888565 2022-08-26 21:35:33.875000064  \n",
              "15417994       5643.080701   5813.911443 2022-08-26 22:35:19.833333248  \n",
              "...                    ...           ...                           ...  \n",
              "16063574        145.161982    147.555331 2022-11-27 20:02:14.157894912  \n",
              "16063834      36398.597003  36987.950404 2022-11-27 20:54:34.368421120  \n",
              "16064094        347.816886    353.575013 2022-11-27 21:46:54.578947328  \n",
              "16064354        255.674234    260.000000 2022-11-27 22:39:14.789473792  \n",
              "16064614        343.456826    349.218348 2022-11-27 23:31:35.000000000  \n",
              "\n",
              "[2492 rows x 8 columns]"
            ]
          },
          "execution_count": 51,
          "metadata": {},
          "output_type": "execute_result"
        }
      ],
      "source": [
        "query_swaps_candled['timestamp'] = pd.to_datetime(np.interp(query_swaps_candled.index, blocks, timestamps) * 1e9)\n",
        "query_swaps_candled"
      ]
    },
    {
      "cell_type": "code",
      "execution_count": 52,
      "id": "48b85378",
      "metadata": {
        "id": "48b85378",
        "outputId": "ad0a638a-4be3-4b8d-c88e-85a572eacdc9"
      },
      "outputs": [
        {
          "data": {
            "text/html": [
              "<div>\n",
              "<style scoped>\n",
              "    .dataframe tbody tr th:only-of-type {\n",
              "        vertical-align: middle;\n",
              "    }\n",
              "\n",
              "    .dataframe tbody tr th {\n",
              "        vertical-align: top;\n",
              "    }\n",
              "\n",
              "    .dataframe thead th {\n",
              "        text-align: right;\n",
              "    }\n",
              "</style>\n",
              "<table border=\"1\" class=\"dataframe\">\n",
              "  <thead>\n",
              "    <tr style=\"text-align: right;\">\n",
              "      <th></th>\n",
              "      <th>Open</th>\n",
              "      <th>High</th>\n",
              "      <th>Low</th>\n",
              "      <th>Close</th>\n",
              "      <th>Volume</th>\n",
              "    </tr>\n",
              "    <tr>\n",
              "      <th>Date</th>\n",
              "      <th></th>\n",
              "      <th></th>\n",
              "      <th></th>\n",
              "      <th></th>\n",
              "      <th></th>\n",
              "    </tr>\n",
              "  </thead>\n",
              "  <tbody>\n",
              "    <tr>\n",
              "      <th>2022-08-26 18:36:16.000000000</th>\n",
              "      <td>0.970474</td>\n",
              "      <td>0.970474</td>\n",
              "      <td>0.970474</td>\n",
              "      <td>0.970474</td>\n",
              "      <td>5.471286</td>\n",
              "    </tr>\n",
              "    <tr>\n",
              "      <th>2022-08-26 19:36:01.958333184</th>\n",
              "      <td>0.970474</td>\n",
              "      <td>0.970560</td>\n",
              "      <td>0.970474</td>\n",
              "      <td>0.970560</td>\n",
              "      <td>3824.591525</td>\n",
              "    </tr>\n",
              "    <tr>\n",
              "      <th>2022-08-26 20:35:47.916666624</th>\n",
              "      <td>0.970560</td>\n",
              "      <td>0.970565</td>\n",
              "      <td>0.970482</td>\n",
              "      <td>0.970482</td>\n",
              "      <td>5741.830617</td>\n",
              "    </tr>\n",
              "    <tr>\n",
              "      <th>2022-08-26 21:35:33.875000064</th>\n",
              "      <td>0.970482</td>\n",
              "      <td>0.970482</td>\n",
              "      <td>0.970482</td>\n",
              "      <td>0.970482</td>\n",
              "      <td>203.718975</td>\n",
              "    </tr>\n",
              "    <tr>\n",
              "      <th>2022-08-26 22:35:19.833333248</th>\n",
              "      <td>0.970482</td>\n",
              "      <td>0.970483</td>\n",
              "      <td>0.970440</td>\n",
              "      <td>0.970449</td>\n",
              "      <td>5643.080701</td>\n",
              "    </tr>\n",
              "    <tr>\n",
              "      <th>...</th>\n",
              "      <td>...</td>\n",
              "      <td>...</td>\n",
              "      <td>...</td>\n",
              "      <td>...</td>\n",
              "      <td>...</td>\n",
              "    </tr>\n",
              "    <tr>\n",
              "      <th>2022-11-27 20:02:14.157894912</th>\n",
              "      <td>0.983610</td>\n",
              "      <td>0.983611</td>\n",
              "      <td>0.983610</td>\n",
              "      <td>0.983611</td>\n",
              "      <td>145.161982</td>\n",
              "    </tr>\n",
              "    <tr>\n",
              "      <th>2022-11-27 20:54:34.368421120</th>\n",
              "      <td>0.983611</td>\n",
              "      <td>0.983759</td>\n",
              "      <td>0.983611</td>\n",
              "      <td>0.983758</td>\n",
              "      <td>36398.597003</td>\n",
              "    </tr>\n",
              "    <tr>\n",
              "      <th>2022-11-27 21:46:54.578947328</th>\n",
              "      <td>0.983758</td>\n",
              "      <td>0.983758</td>\n",
              "      <td>0.983749</td>\n",
              "      <td>0.983756</td>\n",
              "      <td>347.816886</td>\n",
              "    </tr>\n",
              "    <tr>\n",
              "      <th>2022-11-27 22:39:14.789473792</th>\n",
              "      <td>0.983756</td>\n",
              "      <td>0.983756</td>\n",
              "      <td>0.983756</td>\n",
              "      <td>0.983756</td>\n",
              "      <td>255.674234</td>\n",
              "    </tr>\n",
              "    <tr>\n",
              "      <th>2022-11-27 23:31:35.000000000</th>\n",
              "      <td>0.983756</td>\n",
              "      <td>0.983764</td>\n",
              "      <td>0.983754</td>\n",
              "      <td>0.983764</td>\n",
              "      <td>343.456826</td>\n",
              "    </tr>\n",
              "  </tbody>\n",
              "</table>\n",
              "<p>2492 rows × 5 columns</p>\n",
              "</div>"
            ],
            "text/plain": [
              "                                   Open      High       Low     Close  \\\n",
              "Date                                                                    \n",
              "2022-08-26 18:36:16.000000000  0.970474  0.970474  0.970474  0.970474   \n",
              "2022-08-26 19:36:01.958333184  0.970474  0.970560  0.970474  0.970560   \n",
              "2022-08-26 20:35:47.916666624  0.970560  0.970565  0.970482  0.970482   \n",
              "2022-08-26 21:35:33.875000064  0.970482  0.970482  0.970482  0.970482   \n",
              "2022-08-26 22:35:19.833333248  0.970482  0.970483  0.970440  0.970449   \n",
              "...                                 ...       ...       ...       ...   \n",
              "2022-11-27 20:02:14.157894912  0.983610  0.983611  0.983610  0.983611   \n",
              "2022-11-27 20:54:34.368421120  0.983611  0.983759  0.983611  0.983758   \n",
              "2022-11-27 21:46:54.578947328  0.983758  0.983758  0.983749  0.983756   \n",
              "2022-11-27 22:39:14.789473792  0.983756  0.983756  0.983756  0.983756   \n",
              "2022-11-27 23:31:35.000000000  0.983756  0.983764  0.983754  0.983764   \n",
              "\n",
              "                                     Volume  \n",
              "Date                                         \n",
              "2022-08-26 18:36:16.000000000      5.471286  \n",
              "2022-08-26 19:36:01.958333184   3824.591525  \n",
              "2022-08-26 20:35:47.916666624   5741.830617  \n",
              "2022-08-26 21:35:33.875000064    203.718975  \n",
              "2022-08-26 22:35:19.833333248   5643.080701  \n",
              "...                                     ...  \n",
              "2022-11-27 20:02:14.157894912    145.161982  \n",
              "2022-11-27 20:54:34.368421120  36398.597003  \n",
              "2022-11-27 21:46:54.578947328    347.816886  \n",
              "2022-11-27 22:39:14.789473792    255.674234  \n",
              "2022-11-27 23:31:35.000000000    343.456826  \n",
              "\n",
              "[2492 rows x 5 columns]"
            ]
          },
          "execution_count": 52,
          "metadata": {},
          "output_type": "execute_result"
        }
      ],
      "source": [
        "# put data into new df for ohlcv with 1h candles\n",
        "query_swaps_ohlcv = pd.DataFrame({\n",
        "    'Open': query_swaps_candled['price (STETH/ETH)']['first'],\n",
        "    'High': query_swaps_candled['price (STETH/ETH)']['max'],\n",
        "    'Low': query_swaps_candled['price (STETH/ETH)']['min'],\n",
        "    'Close': query_swaps_candled['price (STETH/ETH)']['last'],\n",
        "    'Volume': query_swaps_candled['volume_coin0']['sum'],\n",
        "    'Date': query_swaps_candled['timestamp']\n",
        "})\n",
        "query_swaps_ohlcv = query_swaps_ohlcv.set_index('Date')\n",
        "query_swaps_ohlcv"
      ]
    },
    {
      "cell_type": "code",
      "execution_count": 53,
      "id": "9e2027a5",
      "metadata": {
        "id": "9e2027a5",
        "outputId": "359efe65-c77f-4c41-bcc6-fd623ce28550"
      },
      "outputs": [
        {
          "data": {
            "image/png": "[encoded data removed]",
            "text/plain": [
              "<Figure size 800x575 with 4 Axes>"
            ]
          },
          "metadata": {},
          "output_type": "display_data"
        }
      ],
      "source": [
        "# oooooo fancy :)\n",
        "def fancy_plot(\n",
        "    data,\n",
        "    mav=(10, 50),\n",
        "    plt_type='candle',\n",
        "    volume=True,\n",
        "    datetime_format='%b%d',\n",
        "    xrotation=0,\n",
        "    tight_layout=True,\n",
        "    style='mike', # mpf.available_styles() to pick your fav\n",
        "    **kwargs\n",
        "):\n",
        "    mpf.plot(\n",
        "        data,\n",
        "        warn_too_much_data=2500,\n",
        "        mav=mav,\n",
        "        type=plt_type,\n",
        "        volume=volume,\n",
        "        datetime_format=datetime_format,\n",
        "        xrotation=xrotation,\n",
        "        tight_layout=tight_layout,\n",
        "        style=style,\n",
        "        **kwargs\n",
        "    )\n",
        "\n",
        "title=\"STETH/ETH\"\n",
        "fancy_plot(query_swaps_ohlcv, mav=(10, 50, 200), title=title)\n"
      ]
    },
    {
      "cell_type": "code",
      "execution_count": 54,
      "id": "2235e778",
      "metadata": {},
      "outputs": [
        {
          "data": {
            "image/png": "[encoded data removed]",
            "text/plain": [
              "<Figure size 800x575 with 4 Axes>"
            ]
          },
          "metadata": {},
          "output_type": "display_data"
        },
        {
          "data": {
            "image/png": "[encoded data removed]",
            "text/plain": [
              "<Figure size 800x575 with 4 Axes>"
            ]
          },
          "metadata": {},
          "output_type": "display_data"
        }
      ],
      "source": [
        "def plot_last_n_days(data, num_days_back=100, **kwargs):\n",
        "    endPeriod = query_swaps_ohlcv.index[-1]\n",
        "    startPeriod = endPeriod - pd.Timedelta(days=num_days_back)\n",
        "    dataToPlot = data.loc[(data.index > startPeriod) & (data.index < endPeriod),:]\n",
        "    title=f\"STETH/ETH last {num_days_back} days\"\n",
        "    title+=f\"({startPeriod:%b%d}-{endPeriod:%b%d})\" if startPeriod.month != endPeriod.month else f\"({startPeriod:%b%d}-{endPeriod:%d})\"\n",
        "    mav = [10]\n",
        "    if num_days_back > 3:\n",
        "        mav.append(50)\n",
        "    if num_days_back > 10:\n",
        "        mav.append(100)\n",
        "    fancy_plot(dataToPlot, mav=mav, title=title)\n",
        "\n",
        "plot_last_n_days(query_swaps_ohlcv, num_days_back=8)\n",
        "plot_last_n_days(query_swaps_ohlcv, num_days_back=3)\n"
      ]
    },
    {
      "cell_type": "code",
      "execution_count": null,
      "id": "9b7c73ef",
      "metadata": {
        "id": "9b7c73ef"
      },
      "outputs": [],
      "source": []
    }
  ],
  "metadata": {
    "colab": {
      "provenance": []
    },
    "kernelspec": {
      "display_name": "Python 3.10.6 64-bit",
      "language": "python",
      "name": "python3"
    },
    "language_info": {
      "codemirror_mode": {
        "name": "ipython",
        "version": 3
      },
      "file_extension": ".py",
      "mimetype": "text/x-python",
      "name": "python",
      "nbconvert_exporter": "python",
      "pygments_lexer": "ipython3",
      "version": "3.10.6"
    },
    "vscode": {
      "interpreter": {
        "hash": "369f2c481f4da34e4445cda3fffd2e751bd1c4d706f27375911949ba6bb62e1c"
      }
    }
  },
  "nbformat": 4,
  "nbformat_minor": 5
}
